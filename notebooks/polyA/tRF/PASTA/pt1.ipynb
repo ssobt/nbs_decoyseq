{
 "cells": [
  {
   "cell_type": "code",
   "execution_count": null,
   "metadata": {},
   "outputs": [],
   "source": [
    "## Notebook env: polyApipe (polyApipe kernel)\n",
    "## this notebook runs the initial python part of the pipeline"
   ]
  },
  {
   "cell_type": "code",
   "execution_count": null,
   "metadata": {},
   "outputs": [],
   "source": [
    "## point to the directory containing the bam files\n",
    "polyApipe/polyApipe.py -i demo/ -o demo\n",
    "\n",
    "## or point to bam file directly\n",
    "polyApipe/polyApipe.py -i demo/SRR5259422_demo.bam -o SRR5259422_demo"
   ]
  },
  {
   "cell_type": "code",
   "execution_count": null,
   "metadata": {},
   "outputs": [],
   "source": []
  }
 ],
 "metadata": {
  "language_info": {
   "name": "python"
  }
 },
 "nbformat": 4,
 "nbformat_minor": 2
}
