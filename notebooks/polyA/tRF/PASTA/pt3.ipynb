{
 "cells": [
  {
   "cell_type": "code",
   "execution_count": null,
   "metadata": {},
   "outputs": [],
   "source": [
    "## Notebook env: polyApipe (R kernel)\n",
    "## this notebook runs the final R analysis using inputs from pt1 and pt2 using this guide: https://satijalab.org/seurat/articles/pasta_vignette.html"
   ]
  },
  {
   "cell_type": "code",
   "execution_count": null,
   "metadata": {},
   "outputs": [],
   "source": [
    "## add lib path for local R pkgs\n",
    ".libPaths('/home/ssobti/projects/mir_tud/packages/polyApipe_R_pkgs')"
   ]
  },
  {
   "cell_type": "code",
   "execution_count": null,
   "metadata": {},
   "outputs": [],
   "source": []
  }
 ],
 "metadata": {
  "language_info": {
   "name": "python"
  }
 },
 "nbformat": 4,
 "nbformat_minor": 2
}
