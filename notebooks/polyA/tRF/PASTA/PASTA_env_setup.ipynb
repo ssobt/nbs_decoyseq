{
 "cells": [
  {
   "cell_type": "code",
   "execution_count": null,
   "metadata": {
    "vscode": {
     "languageId": "r"
    }
   },
   "outputs": [],
   "source": [
    "## Notebook env: polyApipe (R kernel)\n",
    "## this installs the required packages for PASTA into a local location"
   ]
  },
  {
   "cell_type": "code",
   "execution_count": null,
   "metadata": {
    "vscode": {
     "languageId": "r"
    }
   },
   "outputs": [],
   "source": [
    "## add lib path for local R pkgs\n",
    ".libPaths('/home/ssobti/projects/mir_tud/packages/polyApipe_R_pkgs')"
   ]
  },
  {
   "cell_type": "code",
   "execution_count": null,
   "metadata": {
    "vscode": {
     "languageId": "r"
    }
   },
   "outputs": [],
   "source": [
    "library(remotes)\n",
    "library(withr)\n",
    "options(timeout = 2000)"
   ]
  },
  {
   "cell_type": "code",
   "execution_count": null,
   "metadata": {
    "vscode": {
     "languageId": "r"
    }
   },
   "outputs": [],
   "source": [
    "BiocManager::install(\"pfh/weitrix\", lib = \"/home/ssobti/projects/mir_tud/packages/polyApipe_R_pkgs\")"
   ]
  },
  {
   "cell_type": "code",
   "execution_count": null,
   "metadata": {
    "vscode": {
     "languageId": "r"
    }
   },
   "outputs": [],
   "source": [
    "BiocManager::install(\"MonashBioinformaticsPlatform/polyApipe/polyApiper\", lib = \"/home/ssobti/projects/mir_tud/packages/polyApipe_R_pkgs\")"
   ]
  },
  {
   "cell_type": "code",
   "execution_count": null,
   "metadata": {
    "vscode": {
     "languageId": "r"
    }
   },
   "outputs": [],
   "source": [
    "BiocManager::install(\"BSgenome.Hsapiens.UCSC.hg38\", lib = \"/home/ssobti/projects/mir_tud/packages/polyApipe_R_pkgs\")"
   ]
  },
  {
   "cell_type": "code",
   "execution_count": null,
   "metadata": {
    "vscode": {
     "languageId": "r"
    }
   },
   "outputs": [],
   "source": [
    "BiocManager::install(\"EnsDb.Hsapiens.v86\", lib = \"/home/ssobti/projects/mir_tud/packages/polyApipe_R_pkgs\")"
   ]
  },
  {
   "cell_type": "code",
   "execution_count": null,
   "metadata": {
    "vscode": {
     "languageId": "r"
    }
   },
   "outputs": [],
   "source": [
    "with_libpaths(new = \"/home/ssobti/projects/mir_tud/packages/polyApipe_R_pkgs\", install_github('satijalab/PASTA'))"
   ]
  },
  {
   "cell_type": "code",
   "execution_count": null,
   "metadata": {
    "vscode": {
     "languageId": "r"
    }
   },
   "outputs": [],
   "source": [
    "with_libpaths(new = '/home/ssobti/projects/mir_tud/packages/polyApipe_R_pkgs', install_github('satijalab/azimuth', ref = 'master'))"
   ]
  },
  {
   "cell_type": "code",
   "execution_count": null,
   "metadata": {
    "vscode": {
     "languageId": "r"
    }
   },
   "outputs": [],
   "source": []
  }
 ],
 "metadata": {
  "kernelspec": {
   "display_name": "R",
   "language": "R",
   "name": "ir"
  },
  "language_info": {
   "name": "R"
  }
 },
 "nbformat": 4,
 "nbformat_minor": 2
}
