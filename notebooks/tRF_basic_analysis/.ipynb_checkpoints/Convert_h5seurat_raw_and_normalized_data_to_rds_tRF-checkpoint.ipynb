{
 "cells": [
  {
   "cell_type": "code",
   "execution_count": null,
   "id": "cc8927aa",
   "metadata": {},
   "outputs": [],
   "source": [
    "## Notebook env: seuratdisk (R kernel)\n",
    "## this notebook converts the data output in .h5seurat from preprocessing to .rds"
   ]
  },
  {
   "cell_type": "code",
   "execution_count": 1,
   "id": "eb05d601",
   "metadata": {},
   "outputs": [
    {
     "name": "stderr",
     "output_type": "stream",
     "text": [
      "Registered S3 method overwritten by 'SeuratDisk':\n",
      "  method            from  \n",
      "  as.sparse.H5Group Seurat\n",
      "\n"
     ]
    }
   ],
   "source": [
    "library(SeuratDisk)"
   ]
  },
  {
   "cell_type": "code",
   "execution_count": null,
   "id": "759f3440",
   "metadata": {},
   "outputs": [],
   "source": [
    "tRF_normalized_seurat <- LoadH5Seurat('~/projects/mir_tud/010523_filtered_data/tRF.integrated.qc_norm_scaled.dimred.clustered.gex.guide_assigned.h5seurat')"
   ]
  },
  {
   "cell_type": "code",
   "execution_count": null,
   "id": "354e0170",
   "metadata": {},
   "outputs": [],
   "source": [
    "saveRDS(tRF_normalized_seurat, '~/projects/mir_tud/010523_filtered_data/tRF_normalized_integrated_seurat.rds')"
   ]
  },
  {
   "cell_type": "code",
   "execution_count": null,
   "id": "d2bb4880",
   "metadata": {},
   "outputs": [],
   "source": [
    "rm(tRF_normalized_seurat)"
   ]
  },
  {
   "cell_type": "code",
   "execution_count": null,
   "id": "1057c570",
   "metadata": {},
   "outputs": [],
   "source": [
    "tRF_raw_seurat <- LoadH5Seurat('~/projects/mir_tud/010523_filtered_data/tRF.concat.raw.adata_gex.guide_assigned.h5seurat')"
   ]
  },
  {
   "cell_type": "code",
   "execution_count": null,
   "id": "bd7626c4",
   "metadata": {},
   "outputs": [],
   "source": [
    "saveRDS(tRF_raw_seurat, '~/projects/mir_tud/010523_filtered_data/tRF_raw_seurat.rds')"
   ]
  },
  {
   "cell_type": "code",
   "execution_count": null,
   "id": "7817b0e9",
   "metadata": {},
   "outputs": [],
   "source": []
  }
 ],
 "metadata": {
  "kernelspec": {
   "display_name": "R",
   "language": "R",
   "name": "ir"
  },
  "language_info": {
   "codemirror_mode": "r",
   "file_extension": ".r",
   "mimetype": "text/x-r-source",
   "name": "R",
   "pygments_lexer": "r",
   "version": "4.0.5"
  }
 },
 "nbformat": 4,
 "nbformat_minor": 5
}
