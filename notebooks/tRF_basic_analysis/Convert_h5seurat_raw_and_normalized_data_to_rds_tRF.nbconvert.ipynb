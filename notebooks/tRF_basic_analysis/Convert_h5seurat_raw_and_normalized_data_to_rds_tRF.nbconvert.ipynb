{
 "cells": [
  {
   "cell_type": "code",
   "execution_count": 1,
   "id": "bf29757a",
   "metadata": {
    "execution": {
     "iopub.execute_input": "2024-02-01T19:28:21.455165Z",
     "iopub.status.busy": "2024-02-01T19:28:21.446342Z",
     "iopub.status.idle": "2024-02-01T19:28:21.513895Z",
     "shell.execute_reply": "2024-02-01T19:28:21.510058Z"
    },
    "vscode": {
     "languageId": "r"
    }
   },
   "outputs": [],
   "source": [
    "## Notebook env: seuratdisk (R kernel)\n",
    "## this notebook converts the data output in .h5seurat from preprocessing to .rds"
   ]
  },
  {
   "cell_type": "code",
   "execution_count": 2,
   "id": "08487940",
   "metadata": {
    "execution": {
     "iopub.execute_input": "2024-02-01T19:28:21.597165Z",
     "iopub.status.busy": "2024-02-01T19:28:21.522181Z",
     "iopub.status.idle": "2024-02-01T19:28:29.878473Z",
     "shell.execute_reply": "2024-02-01T19:28:29.874565Z"
    },
    "vscode": {
     "languageId": "r"
    }
   },
   "outputs": [
    {
     "name": "stderr",
     "output_type": "stream",
     "text": [
      "Registered S3 method overwritten by 'SeuratDisk':\n",
      "  method            from  \n",
      "  as.sparse.H5Group Seurat\n",
      "\n"
     ]
    }
   ],
   "source": [
    "library(SeuratDisk)"
   ]
  },
  {
   "cell_type": "markdown",
   "id": "fe56608e",
   "metadata": {},
   "source": [
    "## For old data from 01.05.23"
   ]
  },
  {
   "cell_type": "code",
   "execution_count": 3,
   "id": "dcdb92df",
   "metadata": {
    "execution": {
     "iopub.execute_input": "2024-02-01T19:28:29.890108Z",
     "iopub.status.busy": "2024-02-01T19:28:29.885428Z",
     "iopub.status.idle": "2024-02-01T19:28:29.902023Z",
     "shell.execute_reply": "2024-02-01T19:28:29.900447Z"
    },
    "vscode": {
     "languageId": "r"
    }
   },
   "outputs": [],
   "source": [
    "# tRF_normalized_seurat <- LoadH5Seurat('~/projects/mir_tud/010523_filtered_data/tRF.integrated.qc_norm_scaled.dimred.clustered.gex.guide_assigned.h5seurat')"
   ]
  },
  {
   "cell_type": "code",
   "execution_count": 4,
   "id": "e1ec538d",
   "metadata": {
    "execution": {
     "iopub.execute_input": "2024-02-01T19:28:29.906734Z",
     "iopub.status.busy": "2024-02-01T19:28:29.905523Z",
     "iopub.status.idle": "2024-02-01T19:28:29.916335Z",
     "shell.execute_reply": "2024-02-01T19:28:29.914747Z"
    },
    "vscode": {
     "languageId": "r"
    }
   },
   "outputs": [],
   "source": [
    "# saveRDS(tRF_normalized_seurat, '~/projects/mir_tud/010523_filtered_data/tRF_normalized_integrated_seurat.rds')"
   ]
  },
  {
   "cell_type": "code",
   "execution_count": 5,
   "id": "4fb135a4",
   "metadata": {
    "execution": {
     "iopub.execute_input": "2024-02-01T19:28:29.921137Z",
     "iopub.status.busy": "2024-02-01T19:28:29.919964Z",
     "iopub.status.idle": "2024-02-01T19:28:29.930750Z",
     "shell.execute_reply": "2024-02-01T19:28:29.929156Z"
    },
    "vscode": {
     "languageId": "r"
    }
   },
   "outputs": [],
   "source": [
    "# rm(tRF_normalized_seurat)"
   ]
  },
  {
   "cell_type": "code",
   "execution_count": 6,
   "id": "52c7aeb8",
   "metadata": {
    "execution": {
     "iopub.execute_input": "2024-02-01T19:28:29.935574Z",
     "iopub.status.busy": "2024-02-01T19:28:29.934395Z",
     "iopub.status.idle": "2024-02-01T19:28:29.945162Z",
     "shell.execute_reply": "2024-02-01T19:28:29.943574Z"
    },
    "vscode": {
     "languageId": "r"
    }
   },
   "outputs": [],
   "source": [
    "# tRF_raw_seurat <- LoadH5Seurat('~/projects/mir_tud/010523_filtered_data/tRF.concat.raw.adata_gex.guide_assigned.h5seurat')"
   ]
  },
  {
   "cell_type": "code",
   "execution_count": 7,
   "id": "443795b5",
   "metadata": {
    "execution": {
     "iopub.execute_input": "2024-02-01T19:28:29.953287Z",
     "iopub.status.busy": "2024-02-01T19:28:29.950432Z",
     "iopub.status.idle": "2024-02-01T19:28:29.973063Z",
     "shell.execute_reply": "2024-02-01T19:28:29.969578Z"
    },
    "vscode": {
     "languageId": "r"
    }
   },
   "outputs": [],
   "source": [
    "# saveRDS(tRF_raw_seurat, '~/projects/mir_tud/010523_filtered_data/tRF_raw_seurat.rds')"
   ]
  },
  {
   "cell_type": "markdown",
   "id": "b1172eef",
   "metadata": {},
   "source": [
    "## For new data from 10.14.23"
   ]
  },
  {
   "cell_type": "code",
   "execution_count": 8,
   "id": "67f00a78",
   "metadata": {
    "execution": {
     "iopub.execute_input": "2024-02-01T19:28:29.983261Z",
     "iopub.status.busy": "2024-02-01T19:28:29.980480Z",
     "iopub.status.idle": "2024-02-01T19:31:43.197911Z",
     "shell.execute_reply": "2024-02-01T19:31:43.194211Z"
    },
    "vscode": {
     "languageId": "r"
    }
   },
   "outputs": [
    {
     "name": "stderr",
     "output_type": "stream",
     "text": [
      "Validating h5Seurat file\n",
      "\n",
      "Initializing RNA with data\n",
      "\n",
      "Adding counts for RNA\n",
      "\n",
      "Adding miscellaneous information for RNA\n",
      "\n",
      "Initializing integrated with data\n",
      "\n",
      "Adding scale.data for integrated\n",
      "\n",
      "Adding variable feature information for integrated\n",
      "\n",
      "Adding reduction pca\n",
      "\n",
      "Adding cell embeddings for pca\n",
      "\n",
      "Adding feature loadings for pca\n",
      "\n",
      "Adding miscellaneous information for pca\n",
      "\n",
      "Adding reduction umap\n",
      "\n",
      "Adding cell embeddings for umap\n",
      "\n",
      "Adding miscellaneous information for umap\n",
      "\n",
      "Adding graph integrated_nn\n",
      "\n",
      "Adding graph integrated_snn\n",
      "\n",
      "Adding command information\n",
      "\n",
      "Adding cell-level metadata\n",
      "\n",
      "Adding miscellaneous information\n",
      "\n",
      "Adding tool-specific results\n",
      "\n",
      "Adding data that was not associated with an assay\n",
      "\n",
      "Warning message:\n",
      "“Adding a command log without an assay associated with it”\n"
     ]
    }
   ],
   "source": [
    "tRF_normalized_seurat <- LoadH5Seurat('/home/ssobti/projects/mir_tud/101423_filtered_data/tRF.integrated.qc_norm_scaled.dimred.clustered.gex.guide_assigned.h5seurat')"
   ]
  },
  {
   "cell_type": "code",
   "execution_count": 9,
   "id": "d467884c",
   "metadata": {
    "execution": {
     "iopub.execute_input": "2024-02-01T19:31:43.246324Z",
     "iopub.status.busy": "2024-02-01T19:31:43.243210Z",
     "iopub.status.idle": "2024-02-01T19:38:12.990285Z",
     "shell.execute_reply": "2024-02-01T19:38:12.983718Z"
    },
    "vscode": {
     "languageId": "r"
    }
   },
   "outputs": [],
   "source": [
    "saveRDS(tRF_normalized_seurat, '/home/ssobti/projects/mir_tud/101423_filtered_data/tRF_normalized_integrated_seurat.rds')"
   ]
  },
  {
   "cell_type": "code",
   "execution_count": 10,
   "id": "eaa25f95",
   "metadata": {
    "execution": {
     "iopub.execute_input": "2024-02-01T19:38:13.093041Z",
     "iopub.status.busy": "2024-02-01T19:38:13.089352Z",
     "iopub.status.idle": "2024-02-01T19:38:13.121294Z",
     "shell.execute_reply": "2024-02-01T19:38:13.117449Z"
    },
    "vscode": {
     "languageId": "r"
    }
   },
   "outputs": [],
   "source": [
    "rm(tRF_normalized_seurat)"
   ]
  },
  {
   "cell_type": "code",
   "execution_count": 11,
   "id": "2eee01b7",
   "metadata": {
    "execution": {
     "iopub.execute_input": "2024-02-01T19:38:13.134116Z",
     "iopub.status.busy": "2024-02-01T19:38:13.129904Z",
     "iopub.status.idle": "2024-02-01T19:38:13.155458Z",
     "shell.execute_reply": "2024-02-01T19:38:13.151716Z"
    },
    "vscode": {
     "languageId": "r"
    }
   },
   "outputs": [],
   "source": [
    "# tRF_raw_seurat <- LoadH5Seurat('/home/ssobti/projects/mir_tud/101423_filtered_data/tRF.concat.raw.adata_gex.guide_assigned.h5seurat')"
   ]
  },
  {
   "cell_type": "code",
   "execution_count": 12,
   "id": "22311de8",
   "metadata": {
    "execution": {
     "iopub.execute_input": "2024-02-01T19:38:13.166776Z",
     "iopub.status.busy": "2024-02-01T19:38:13.162601Z",
     "iopub.status.idle": "2024-02-01T19:38:13.187197Z",
     "shell.execute_reply": "2024-02-01T19:38:13.183435Z"
    },
    "vscode": {
     "languageId": "r"
    }
   },
   "outputs": [],
   "source": [
    "# saveRDS(tRF_raw_seurat, '/home/ssobti/projects/mir_tud/101423_filtered_data/tRF_raw_seurat.rds')"
   ]
  },
  {
   "cell_type": "code",
   "execution_count": null,
   "id": "d0b3e318",
   "metadata": {
    "vscode": {
     "languageId": "r"
    }
   },
   "outputs": [],
   "source": []
  },
  {
   "cell_type": "code",
   "execution_count": null,
   "id": "237fc105",
   "metadata": {
    "vscode": {
     "languageId": "r"
    }
   },
   "outputs": [],
   "source": []
  }
 ],
 "metadata": {
  "kernelspec": {
   "display_name": "R",
   "language": "R",
   "name": "ir"
  },
  "language_info": {
   "codemirror_mode": "r",
   "file_extension": ".r",
   "mimetype": "text/x-r-source",
   "name": "R",
   "pygments_lexer": "r",
   "version": "4.0.5"
  }
 },
 "nbformat": 4,
 "nbformat_minor": 5
}
