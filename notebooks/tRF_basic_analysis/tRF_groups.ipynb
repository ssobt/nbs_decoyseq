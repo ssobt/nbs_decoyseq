{
 "cells": [
  {
   "cell_type": "code",
   "execution_count": null,
   "metadata": {
    "vscode": {
     "languageId": "r"
    }
   },
   "outputs": [],
   "source": [
    "## Notebook env: mirtud_env (R kernel)"
   ]
  },
  {
   "cell_type": "code",
   "execution_count": 8,
   "metadata": {
    "vscode": {
     "languageId": "r"
    }
   },
   "outputs": [],
   "source": [
    "suppressMessages(suppressWarnings(library(Biostrings)))\n",
    "suppressMessages(suppressWarnings(library(ggplot2)))\n",
    "suppressMessages(suppressWarnings(library(ggpubr)))\n",
    "suppressMessages(suppressWarnings(library(tidyverse)))"
   ]
  },
  {
   "cell_type": "markdown",
   "metadata": {
    "vscode": {
     "languageId": "r"
    }
   },
   "source": [
    "## Prepare data to submit to tDRnamer ##"
   ]
  },
  {
   "cell_type": "code",
   "execution_count": 46,
   "metadata": {
    "vscode": {
     "languageId": "r"
    }
   },
   "outputs": [],
   "source": [
    "tRF_TuD = readDNAStringSet(\"/home/ssobti/projects/mir_tud/uploaded_data/tRF_groups/tRF_TuD.fa\")\n",
    "edited_names_for_tDRnamer = stringr::str_replace_all(names(tRF_TuD), \"\\\\(\", \"_\")\n",
    "edited_names_for_tDRnamer = stringr::str_replace_all(edited_names_for_tDRnamer, \"\\\\)\", \"_\")\n",
    "edited_names_for_tDRnamer = stringr::str_replace_all(edited_names_for_tDRnamer, \"\\\\.\", \"_\")\n",
    "tRF_TuD_edited = tRF_TuD\n",
    "names(tRF_TuD_edited) = edited_names_for_tDRnamer"
   ]
  },
  {
   "cell_type": "code",
   "execution_count": null,
   "metadata": {
    "vscode": {
     "languageId": "r"
    }
   },
   "outputs": [],
   "source": [
    "writeXStringSet(tRF_TuD_edited, '/home/ssobti/projects/mir_tud/uploaded_data/tRF_groups/tRF_TuD_edited_names_for_tDRnamer.fa')"
   ]
  },
  {
   "cell_type": "markdown",
   "metadata": {
    "vscode": {
     "languageId": "r"
    }
   },
   "source": [
    "## Analyze tDRnamer output ##"
   ]
  },
  {
   "cell_type": "code",
   "execution_count": 2,
   "metadata": {
    "vscode": {
     "languageId": "r"
    }
   },
   "outputs": [
    {
     "name": "stderr",
     "output_type": "stream",
     "text": [
      "Warning message in .Call2(\"fasta_index\", filexp_list, nrec, skip, seek.first.rec, :\n",
      "“reading FASTA file /home/ssobti/projects/mir_tud/uploaded_data/tRF_groups/tDRnamer_tDR_sequences_output.fa: ignored 2909 invalid one-letter sequence codes”\n"
     ]
    }
   ],
   "source": [
    "tDRnamer_tDR_sequences_output = readDNAStringSet(\"/home/ssobti/projects/mir_tud/uploaded_data/tRF_groups/tDRnamer_tDR_sequences_output.fa\")"
   ]
  },
  {
   "cell_type": "markdown",
   "metadata": {
    "vscode": {
     "languageId": "r"
    }
   },
   "source": [
    "### Build a key of groupings of tRFs based on unique sets of Sprinzl alignment positions to respective tRNAs ###"
   ]
  },
  {
   "cell_type": "code",
   "execution_count": 18,
   "metadata": {
    "vscode": {
     "languageId": "r"
    }
   },
   "outputs": [
    {
     "data": {
      "image/png": "[encoded data removed]",
      "text/plain": [
       "plot without title"
      ]
     },
     "metadata": {
      "image/png": {
       "height": 300,
       "width": 600
      }
     },
     "output_type": "display_data"
    }
   ],
   "source": [
    "sprinzl_positions = sapply(stringr::str_split(names(tDRnamer_tDR_sequences_output), ' '), '[[', 3)\n",
    "sprinzl_positions_counts = as.data.frame(table(sprinzl_positions))\n",
    "sprinzl_positions_counts$sprinzl_positions = factor(sprinzl_positions_counts$sprinzl_positions, levels = sprinzl_positions_counts$sprinzl_positions)\n",
    "\n",
    "saveRDS(sprinzl_positions_counts, '/home/ssobti/projects/mir_tud/fig_output/data/fig1/sprinzl_positions_counts.rds')\n",
    "options(repr.plot.width=10, repr.plot.height=5)\n",
    "sprinzl_positions_counts %>% \n",
    "    ggplot(aes(x = sprinzl_positions, y = Freq)) + geom_bar(stat = \"identity\") + theme_pubr() + \n",
    "    theme(axis.text.x = element_text(angle = 45, vjust = 1, hjust = 1)) + xlab('Sprinzl Position') + ylab('Count')"
   ]
  },
  {
   "cell_type": "code",
   "execution_count": null,
   "metadata": {
    "vscode": {
     "languageId": "r"
    }
   },
   "outputs": [
    {
     "data": {
      "text/html": [
       "<style>\n",
       ".list-inline {list-style: none; margin:0; padding: 0}\n",
       ".list-inline>li {display: inline-block}\n",
       ".list-inline>li:not(:last-child)::after {content: \"\\00b7\"; padding: 0 .5ex}\n",
       "</style>\n",
       "<ol class=list-inline><li>'51..73'</li><li>'38..73'</li><li>'1..37'</li><li>'20..55'</li><li>'1..24'</li><li>'50..73'</li><li>'37..73'</li><li>'1..23'</li><li>'1..36'</li><li>'19..54'</li><li>'20..54'</li><li>'1..22'</li><li>'19..55'</li><li>'48..73'</li><li>'41..73'</li><li>'20b..52'</li><li>'1..40'</li><li>'42..73'</li><li>'1..25'</li><li>'1..41'</li><li>'21..52'</li><li>'53..73'</li><li>'40..73'</li><li>'1..39'</li><li>'21..57'</li><li>'20a..52'</li></ol>\n"
      ],
      "text/latex": [
       "\\begin{enumerate*}\n",
       "\\item '51..73'\n",
       "\\item '38..73'\n",
       "\\item '1..37'\n",
       "\\item '20..55'\n",
       "\\item '1..24'\n",
       "\\item '50..73'\n",
       "\\item '37..73'\n",
       "\\item '1..23'\n",
       "\\item '1..36'\n",
       "\\item '19..54'\n",
       "\\item '20..54'\n",
       "\\item '1..22'\n",
       "\\item '19..55'\n",
       "\\item '48..73'\n",
       "\\item '41..73'\n",
       "\\item '20b..52'\n",
       "\\item '1..40'\n",
       "\\item '42..73'\n",
       "\\item '1..25'\n",
       "\\item '1..41'\n",
       "\\item '21..52'\n",
       "\\item '53..73'\n",
       "\\item '40..73'\n",
       "\\item '1..39'\n",
       "\\item '21..57'\n",
       "\\item '20a..52'\n",
       "\\end{enumerate*}\n"
      ],
      "text/markdown": [
       "1. '51..73'\n",
       "2. '38..73'\n",
       "3. '1..37'\n",
       "4. '20..55'\n",
       "5. '1..24'\n",
       "6. '50..73'\n",
       "7. '37..73'\n",
       "8. '1..23'\n",
       "9. '1..36'\n",
       "10. '19..54'\n",
       "11. '20..54'\n",
       "12. '1..22'\n",
       "13. '19..55'\n",
       "14. '48..73'\n",
       "15. '41..73'\n",
       "16. '20b..52'\n",
       "17. '1..40'\n",
       "18. '42..73'\n",
       "19. '1..25'\n",
       "20. '1..41'\n",
       "21. '21..52'\n",
       "22. '53..73'\n",
       "23. '40..73'\n",
       "24. '1..39'\n",
       "25. '21..57'\n",
       "26. '20a..52'\n",
       "\n",
       "\n"
      ],
      "text/plain": [
       " [1] \"51..73\"  \"38..73\"  \"1..37\"   \"20..55\"  \"1..24\"   \"50..73\"  \"37..73\" \n",
       " [8] \"1..23\"   \"1..36\"   \"19..54\"  \"20..54\"  \"1..22\"   \"19..55\"  \"48..73\" \n",
       "[15] \"41..73\"  \"20b..52\" \"1..40\"   \"42..73\"  \"1..25\"   \"1..41\"   \"21..52\" \n",
       "[22] \"53..73\"  \"40..73\"  \"1..39\"   \"21..57\"  \"20a..52\""
      ]
     },
     "metadata": {},
     "output_type": "display_data"
    }
   ],
   "source": [
    "sets_of_tRFs = unique(sprinzl_positions)\n",
    "sets_of_tRFs ## 26 total sets"
   ]
  },
  {
   "cell_type": "code",
   "execution_count": null,
   "metadata": {
    "vscode": {
     "languageId": "r"
    }
   },
   "outputs": [
    {
     "data": {
      "text/html": [
       "<style>\n",
       ".list-inline {list-style: none; margin:0; padding: 0}\n",
       ".list-inline>li {display: inline-block}\n",
       ".list-inline>li:not(:last-child)::after {content: \"\\00b7\"; padding: 0 .5ex}\n",
       "</style>\n",
       "<ol class=list-inline><li>'1..37'</li><li>'1..24'</li><li>'1..23'</li><li>'1..36'</li><li>'1..22'</li><li>'1..40'</li><li>'1..25'</li><li>'1..41'</li><li>'1..39'</li></ol>\n"
      ],
      "text/latex": [
       "\\begin{enumerate*}\n",
       "\\item '1..37'\n",
       "\\item '1..24'\n",
       "\\item '1..23'\n",
       "\\item '1..36'\n",
       "\\item '1..22'\n",
       "\\item '1..40'\n",
       "\\item '1..25'\n",
       "\\item '1..41'\n",
       "\\item '1..39'\n",
       "\\end{enumerate*}\n"
      ],
      "text/markdown": [
       "1. '1..37'\n",
       "2. '1..24'\n",
       "3. '1..23'\n",
       "4. '1..36'\n",
       "5. '1..22'\n",
       "6. '1..40'\n",
       "7. '1..25'\n",
       "8. '1..41'\n",
       "9. '1..39'\n",
       "\n",
       "\n"
      ],
      "text/plain": [
       "[1] \"1..37\" \"1..24\" \"1..23\" \"1..36\" \"1..22\" \"1..40\" \"1..25\" \"1..41\" \"1..39\""
      ]
     },
     "metadata": {},
     "output_type": "display_data"
    }
   ],
   "source": [
    "five_end_position_sets = sets_of_tRFs[sapply(stringr::str_split(sets_of_tRFs, '\\\\.\\\\.'), '[[', 1) == 1] \n",
    "five_end_position_sets ## 9 sets\n",
    "five_end_groups = c(3, 1, 1, 3, 1, 3, 1, 3, 3)"
   ]
  },
  {
   "cell_type": "code",
   "execution_count": null,
   "metadata": {
    "vscode": {
     "languageId": "r"
    }
   },
   "outputs": [
    {
     "data": {
      "text/html": [
       "<style>\n",
       ".list-inline {list-style: none; margin:0; padding: 0}\n",
       ".list-inline>li {display: inline-block}\n",
       ".list-inline>li:not(:last-child)::after {content: \"\\00b7\"; padding: 0 .5ex}\n",
       "</style>\n",
       "<ol class=list-inline><li>'51..73'</li><li>'38..73'</li><li>'50..73'</li><li>'37..73'</li><li>'48..73'</li><li>'41..73'</li><li>'42..73'</li><li>'53..73'</li><li>'40..73'</li></ol>\n"
      ],
      "text/latex": [
       "\\begin{enumerate*}\n",
       "\\item '51..73'\n",
       "\\item '38..73'\n",
       "\\item '50..73'\n",
       "\\item '37..73'\n",
       "\\item '48..73'\n",
       "\\item '41..73'\n",
       "\\item '42..73'\n",
       "\\item '53..73'\n",
       "\\item '40..73'\n",
       "\\end{enumerate*}\n"
      ],
      "text/markdown": [
       "1. '51..73'\n",
       "2. '38..73'\n",
       "3. '50..73'\n",
       "4. '37..73'\n",
       "5. '48..73'\n",
       "6. '41..73'\n",
       "7. '42..73'\n",
       "8. '53..73'\n",
       "9. '40..73'\n",
       "\n",
       "\n"
      ],
      "text/plain": [
       "[1] \"51..73\" \"38..73\" \"50..73\" \"37..73\" \"48..73\" \"41..73\" \"42..73\" \"53..73\"\n",
       "[9] \"40..73\""
      ]
     },
     "metadata": {},
     "output_type": "display_data"
    }
   ],
   "source": [
    "three_end_position_sets = sets_of_tRFs[sapply(stringr::str_split(sets_of_tRFs, '\\\\.\\\\.'), '[[', 2) == 73] \n",
    "three_end_position_sets ## 9 sets\n",
    "three_end_groups = c(2, 4, 2, 4, 2, 4, 4, 2, 4)"
   ]
  },
  {
   "cell_type": "code",
   "execution_count": null,
   "metadata": {
    "vscode": {
     "languageId": "r"
    }
   },
   "outputs": [
    {
     "data": {
      "text/html": [
       "<style>\n",
       ".list-inline {list-style: none; margin:0; padding: 0}\n",
       ".list-inline>li {display: inline-block}\n",
       ".list-inline>li:not(:last-child)::after {content: \"\\00b7\"; padding: 0 .5ex}\n",
       "</style>\n",
       "<ol class=list-inline><li>'20..55'</li><li>'19..54'</li><li>'20..54'</li><li>'19..55'</li><li>'20b..52'</li><li>'21..52'</li><li>'21..57'</li><li>'20a..52'</li></ol>\n"
      ],
      "text/latex": [
       "\\begin{enumerate*}\n",
       "\\item '20..55'\n",
       "\\item '19..54'\n",
       "\\item '20..54'\n",
       "\\item '19..55'\n",
       "\\item '20b..52'\n",
       "\\item '21..52'\n",
       "\\item '21..57'\n",
       "\\item '20a..52'\n",
       "\\end{enumerate*}\n"
      ],
      "text/markdown": [
       "1. '20..55'\n",
       "2. '19..54'\n",
       "3. '20..54'\n",
       "4. '19..55'\n",
       "5. '20b..52'\n",
       "6. '21..52'\n",
       "7. '21..57'\n",
       "8. '20a..52'\n",
       "\n",
       "\n"
      ],
      "text/plain": [
       "[1] \"20..55\"  \"19..54\"  \"20..54\"  \"19..55\"  \"20b..52\" \"21..52\"  \"21..57\" \n",
       "[8] \"20a..52\""
      ]
     },
     "metadata": {},
     "output_type": "display_data"
    }
   ],
   "source": [
    "internal_position_sets = sets_of_tRFs[-sort(c(which(sapply(stringr::str_split(sets_of_tRFs, '\\\\.\\\\.'), '[[', 1) == 1), which(sapply(stringr::str_split(sets_of_tRFs, '\\\\.\\\\.'), '[[', 2) == 73)))] \n",
    "internal_position_sets ## 8 sets\n",
    "internal_groups = c(6, 6, 6, 6, 6, 6, 6, 6)"
   ]
  },
  {
   "cell_type": "code",
   "execution_count": 39,
   "metadata": {
    "vscode": {
     "languageId": "r"
    }
   },
   "outputs": [
    {
     "data": {
      "text/html": [
       "<table class=\"dataframe\">\n",
       "<caption>A data.frame: 6 × 2</caption>\n",
       "<thead>\n",
       "\t<tr><th></th><th scope=col>position</th><th scope=col>group</th></tr>\n",
       "\t<tr><th></th><th scope=col>&lt;chr&gt;</th><th scope=col>&lt;dbl&gt;</th></tr>\n",
       "</thead>\n",
       "<tbody>\n",
       "\t<tr><th scope=row>1</th><td>1..37</td><td>3</td></tr>\n",
       "\t<tr><th scope=row>2</th><td>1..24</td><td>1</td></tr>\n",
       "\t<tr><th scope=row>3</th><td>1..23</td><td>1</td></tr>\n",
       "\t<tr><th scope=row>4</th><td>1..36</td><td>3</td></tr>\n",
       "\t<tr><th scope=row>5</th><td>1..22</td><td>1</td></tr>\n",
       "\t<tr><th scope=row>6</th><td>1..40</td><td>3</td></tr>\n",
       "</tbody>\n",
       "</table>\n"
      ],
      "text/latex": [
       "A data.frame: 6 × 2\n",
       "\\begin{tabular}{r|ll}\n",
       "  & position & group\\\\\n",
       "  & <chr> & <dbl>\\\\\n",
       "\\hline\n",
       "\t1 & 1..37 & 3\\\\\n",
       "\t2 & 1..24 & 1\\\\\n",
       "\t3 & 1..23 & 1\\\\\n",
       "\t4 & 1..36 & 3\\\\\n",
       "\t5 & 1..22 & 1\\\\\n",
       "\t6 & 1..40 & 3\\\\\n",
       "\\end{tabular}\n"
      ],
      "text/markdown": [
       "\n",
       "A data.frame: 6 × 2\n",
       "\n",
       "| <!--/--> | position &lt;chr&gt; | group &lt;dbl&gt; |\n",
       "|---|---|---|\n",
       "| 1 | 1..37 | 3 |\n",
       "| 2 | 1..24 | 1 |\n",
       "| 3 | 1..23 | 1 |\n",
       "| 4 | 1..36 | 3 |\n",
       "| 5 | 1..22 | 1 |\n",
       "| 6 | 1..40 | 3 |\n",
       "\n"
      ],
      "text/plain": [
       "  position group\n",
       "1 1..37    3    \n",
       "2 1..24    1    \n",
       "3 1..23    1    \n",
       "4 1..36    3    \n",
       "5 1..22    1    \n",
       "6 1..40    3    "
      ]
     },
     "metadata": {},
     "output_type": "display_data"
    }
   ],
   "source": [
    "key = data.frame(position = c(five_end_position_sets, internal_position_sets, three_end_position_sets), group = c(five_end_groups, internal_groups, three_end_groups))\n",
    "head(key)"
   ]
  },
  {
   "cell_type": "markdown",
   "metadata": {
    "vscode": {
     "languageId": "r"
    }
   },
   "source": [
    "### Assign groups to individual tRFs based on key ###"
   ]
  },
  {
   "cell_type": "code",
   "execution_count": 58,
   "metadata": {
    "vscode": {
     "languageId": "r"
    }
   },
   "outputs": [
    {
     "data": {
      "text/plain": [
       "\n",
       " 1  2  3  4  6 \n",
       "78 78 78 78 78 "
      ]
     },
     "metadata": {},
     "output_type": "display_data"
    },
    {
     "data": {
      "text/html": [
       "<table class=\"dataframe\">\n",
       "<caption>A data.frame: 6 × 18</caption>\n",
       "<thead>\n",
       "\t<tr><th></th><th scope=col>seq_name</th><th scope=col>source_type</th><th scope=col>tDR_name</th><th scope=col>synonyms</th><th scope=col>source_tRNAs</th><th scope=col>length</th><th scope=col>position</th><th scope=col>anticodon</th><th scope=col>isotype</th><th scope=col>mismatches</th><th scope=col>indels</th><th scope=col>mismatch_locations</th><th scope=col>tRNA_domains</th><th scope=col>group_ID</th><th scope=col>other_tDRs_in_group</th><th scope=col>sequence</th><th scope=col>group</th><th scope=col>name</th></tr>\n",
       "\t<tr><th></th><th scope=col>&lt;chr&gt;</th><th scope=col>&lt;chr&gt;</th><th scope=col>&lt;chr&gt;</th><th scope=col>&lt;chr&gt;</th><th scope=col>&lt;chr&gt;</th><th scope=col>&lt;int&gt;</th><th scope=col>&lt;chr&gt;</th><th scope=col>&lt;chr&gt;</th><th scope=col>&lt;chr&gt;</th><th scope=col>&lt;int&gt;</th><th scope=col>&lt;int&gt;</th><th scope=col>&lt;chr&gt;</th><th scope=col>&lt;chr&gt;</th><th scope=col>&lt;int&gt;</th><th scope=col>&lt;int&gt;</th><th scope=col>&lt;chr&gt;</th><th scope=col>&lt;chr&gt;</th><th scope=col>&lt;chr&gt;</th></tr>\n",
       "</thead>\n",
       "<tbody>\n",
       "\t<tr><th scope=row>1</th><td>tRNA-Ala-AGC-1-1_3t</td><td>mature tRNA</td><td>tDR-51:73-Ala-AGC-1   </td><td>None                                       </td><td>tRNA-Ala-AGC-1                              </td><td>23</td><td>51..73</td><td>AGC    </td><td>Ala    </td><td>0</td><td>0</td><td>None</td><td>TSLE_Z        </td><td>28</td><td>3</td><td>GGGUUCGAUCCCCAGUACCUCCA             </td><td>2</td><td>tRNA-Ala-AGC-1-1.3t</td></tr>\n",
       "\t<tr><th scope=row>2</th><td>tRNA-Ala-AGC-1-1_rh</td><td>mature tRNA</td><td>tDR-38:73-Ala-AGC-1   </td><td>None                                       </td><td>tRNA-Ala-AGC-1                              </td><td>36</td><td>38..73</td><td>AGC    </td><td>Ala    </td><td>0</td><td>0</td><td>None</td><td>CE_V_TSLE_Z   </td><td>28</td><td>3</td><td>UGCACGAGGUCCUGGGUUCGAUCCCCAGUACCUCCA</td><td>4</td><td>tRNA-Ala-AGC-1-1.rh</td></tr>\n",
       "\t<tr><th scope=row>3</th><td>tRNA-Ala-AGC-1-1_lh</td><td>mature tRNA</td><td>tDR-1:37-Ala-AGC-1    </td><td>None                                       </td><td>tRNA-Ala-AGC-1                              </td><td>36</td><td>1..37 </td><td>AGC    </td><td>Ala    </td><td>0</td><td>0</td><td>None</td><td>A_DSLE_CSL    </td><td>28</td><td>3</td><td>GGGGGUAUAGCUCAGUGGUAGAGCGCGUGCUUAGCA</td><td>3</td><td>tRNA-Ala-AGC-1-1.lh</td></tr>\n",
       "\t<tr><th scope=row>4</th><td>tRNA-Ala-AGC-1-1_2t</td><td>mature tRNA</td><td>tDR-20:55-Ala-AGC-1-M2</td><td>tDR-20:55-Ala-AGC-6-M2                     </td><td>tRNA-Ala-AGC-1,tRNA-Ala-AGC-6               </td><td>36</td><td>20..55</td><td>AGC    </td><td>Ala    </td><td>0</td><td>0</td><td>None</td><td>DLE_CSLE_V_TSL</td><td>28</td><td>3</td><td>UAGAGCGCGUGCUUAGCAUGCACGAGGUCCUGGGUU</td><td>6</td><td>tRNA-Ala-AGC-1-1.2t</td></tr>\n",
       "\t<tr><th scope=row>5</th><td>tRNA-Ala-AGC-1-1_1t</td><td>mature tRNA</td><td>tDR-1:24-Ala-AGC-1-M3 </td><td>tDR-1:24-Cys-GCA-2-M3,tDR-1:24-Cys-GCA-4-M3</td><td>tRNA-Ala-AGC-1,tRNA-Cys-GCA-2,tRNA-Cys-GCA-4</td><td>23</td><td>1..24 </td><td>GCA,AGC</td><td>Cys,Ala</td><td>0</td><td>0</td><td>None</td><td>A_DSLE        </td><td> 2</td><td>8</td><td>GGGGGUAUAGCUCAGUGGUAGAG             </td><td>1</td><td>tRNA-Ala-AGC-1-1.1t</td></tr>\n",
       "\t<tr><th scope=row>6</th><td>tRNA-Cys-GCA-4-1_1t</td><td>mature tRNA</td><td>tDR-1:24-Ala-AGC-1-M3 </td><td>tDR-1:24-Cys-GCA-2-M3,tDR-1:24-Cys-GCA-4-M3</td><td>tRNA-Ala-AGC-1,tRNA-Cys-GCA-2,tRNA-Cys-GCA-4</td><td>23</td><td>1..24 </td><td>GCA,AGC</td><td>Cys,Ala</td><td>0</td><td>0</td><td>None</td><td>A_DSLE        </td><td> 2</td><td>8</td><td>GGGGGUAUAGCUCAGUGGUAGAG             </td><td>1</td><td>tRNA-Cys-GCA-4-1.1t</td></tr>\n",
       "</tbody>\n",
       "</table>\n"
      ],
      "text/latex": [
       "A data.frame: 6 × 18\n",
       "\\begin{tabular}{r|llllllllllllllllll}\n",
       "  & seq\\_name & source\\_type & tDR\\_name & synonyms & source\\_tRNAs & length & position & anticodon & isotype & mismatches & indels & mismatch\\_locations & tRNA\\_domains & group\\_ID & other\\_tDRs\\_in\\_group & sequence & group & name\\\\\n",
       "  & <chr> & <chr> & <chr> & <chr> & <chr> & <int> & <chr> & <chr> & <chr> & <int> & <int> & <chr> & <chr> & <int> & <int> & <chr> & <chr> & <chr>\\\\\n",
       "\\hline\n",
       "\t1 & tRNA-Ala-AGC-1-1\\_3t & mature tRNA & tDR-51:73-Ala-AGC-1    & None                                        & tRNA-Ala-AGC-1                               & 23 & 51..73 & AGC     & Ala     & 0 & 0 & None & TSLE\\_Z         & 28 & 3 & GGGUUCGAUCCCCAGUACCUCCA              & 2 & tRNA-Ala-AGC-1-1.3t\\\\\n",
       "\t2 & tRNA-Ala-AGC-1-1\\_rh & mature tRNA & tDR-38:73-Ala-AGC-1    & None                                        & tRNA-Ala-AGC-1                               & 36 & 38..73 & AGC     & Ala     & 0 & 0 & None & CE\\_V\\_TSLE\\_Z    & 28 & 3 & UGCACGAGGUCCUGGGUUCGAUCCCCAGUACCUCCA & 4 & tRNA-Ala-AGC-1-1.rh\\\\\n",
       "\t3 & tRNA-Ala-AGC-1-1\\_lh & mature tRNA & tDR-1:37-Ala-AGC-1     & None                                        & tRNA-Ala-AGC-1                               & 36 & 1..37  & AGC     & Ala     & 0 & 0 & None & A\\_DSLE\\_CSL     & 28 & 3 & GGGGGUAUAGCUCAGUGGUAGAGCGCGUGCUUAGCA & 3 & tRNA-Ala-AGC-1-1.lh\\\\\n",
       "\t4 & tRNA-Ala-AGC-1-1\\_2t & mature tRNA & tDR-20:55-Ala-AGC-1-M2 & tDR-20:55-Ala-AGC-6-M2                      & tRNA-Ala-AGC-1,tRNA-Ala-AGC-6                & 36 & 20..55 & AGC     & Ala     & 0 & 0 & None & DLE\\_CSLE\\_V\\_TSL & 28 & 3 & UAGAGCGCGUGCUUAGCAUGCACGAGGUCCUGGGUU & 6 & tRNA-Ala-AGC-1-1.2t\\\\\n",
       "\t5 & tRNA-Ala-AGC-1-1\\_1t & mature tRNA & tDR-1:24-Ala-AGC-1-M3  & tDR-1:24-Cys-GCA-2-M3,tDR-1:24-Cys-GCA-4-M3 & tRNA-Ala-AGC-1,tRNA-Cys-GCA-2,tRNA-Cys-GCA-4 & 23 & 1..24  & GCA,AGC & Cys,Ala & 0 & 0 & None & A\\_DSLE         &  2 & 8 & GGGGGUAUAGCUCAGUGGUAGAG              & 1 & tRNA-Ala-AGC-1-1.1t\\\\\n",
       "\t6 & tRNA-Cys-GCA-4-1\\_1t & mature tRNA & tDR-1:24-Ala-AGC-1-M3  & tDR-1:24-Cys-GCA-2-M3,tDR-1:24-Cys-GCA-4-M3 & tRNA-Ala-AGC-1,tRNA-Cys-GCA-2,tRNA-Cys-GCA-4 & 23 & 1..24  & GCA,AGC & Cys,Ala & 0 & 0 & None & A\\_DSLE         &  2 & 8 & GGGGGUAUAGCUCAGUGGUAGAG              & 1 & tRNA-Cys-GCA-4-1.1t\\\\\n",
       "\\end{tabular}\n"
      ],
      "text/markdown": [
       "\n",
       "A data.frame: 6 × 18\n",
       "\n",
       "| <!--/--> | seq_name &lt;chr&gt; | source_type &lt;chr&gt; | tDR_name &lt;chr&gt; | synonyms &lt;chr&gt; | source_tRNAs &lt;chr&gt; | length &lt;int&gt; | position &lt;chr&gt; | anticodon &lt;chr&gt; | isotype &lt;chr&gt; | mismatches &lt;int&gt; | indels &lt;int&gt; | mismatch_locations &lt;chr&gt; | tRNA_domains &lt;chr&gt; | group_ID &lt;int&gt; | other_tDRs_in_group &lt;int&gt; | sequence &lt;chr&gt; | group &lt;chr&gt; | name &lt;chr&gt; |\n",
       "|---|---|---|---|---|---|---|---|---|---|---|---|---|---|---|---|---|---|---|\n",
       "| 1 | tRNA-Ala-AGC-1-1_3t | mature tRNA | tDR-51:73-Ala-AGC-1    | None                                        | tRNA-Ala-AGC-1                               | 23 | 51..73 | AGC     | Ala     | 0 | 0 | None | TSLE_Z         | 28 | 3 | GGGUUCGAUCCCCAGUACCUCCA              | 2 | tRNA-Ala-AGC-1-1.3t |\n",
       "| 2 | tRNA-Ala-AGC-1-1_rh | mature tRNA | tDR-38:73-Ala-AGC-1    | None                                        | tRNA-Ala-AGC-1                               | 36 | 38..73 | AGC     | Ala     | 0 | 0 | None | CE_V_TSLE_Z    | 28 | 3 | UGCACGAGGUCCUGGGUUCGAUCCCCAGUACCUCCA | 4 | tRNA-Ala-AGC-1-1.rh |\n",
       "| 3 | tRNA-Ala-AGC-1-1_lh | mature tRNA | tDR-1:37-Ala-AGC-1     | None                                        | tRNA-Ala-AGC-1                               | 36 | 1..37  | AGC     | Ala     | 0 | 0 | None | A_DSLE_CSL     | 28 | 3 | GGGGGUAUAGCUCAGUGGUAGAGCGCGUGCUUAGCA | 3 | tRNA-Ala-AGC-1-1.lh |\n",
       "| 4 | tRNA-Ala-AGC-1-1_2t | mature tRNA | tDR-20:55-Ala-AGC-1-M2 | tDR-20:55-Ala-AGC-6-M2                      | tRNA-Ala-AGC-1,tRNA-Ala-AGC-6                | 36 | 20..55 | AGC     | Ala     | 0 | 0 | None | DLE_CSLE_V_TSL | 28 | 3 | UAGAGCGCGUGCUUAGCAUGCACGAGGUCCUGGGUU | 6 | tRNA-Ala-AGC-1-1.2t |\n",
       "| 5 | tRNA-Ala-AGC-1-1_1t | mature tRNA | tDR-1:24-Ala-AGC-1-M3  | tDR-1:24-Cys-GCA-2-M3,tDR-1:24-Cys-GCA-4-M3 | tRNA-Ala-AGC-1,tRNA-Cys-GCA-2,tRNA-Cys-GCA-4 | 23 | 1..24  | GCA,AGC | Cys,Ala | 0 | 0 | None | A_DSLE         |  2 | 8 | GGGGGUAUAGCUCAGUGGUAGAG              | 1 | tRNA-Ala-AGC-1-1.1t |\n",
       "| 6 | tRNA-Cys-GCA-4-1_1t | mature tRNA | tDR-1:24-Ala-AGC-1-M3  | tDR-1:24-Cys-GCA-2-M3,tDR-1:24-Cys-GCA-4-M3 | tRNA-Ala-AGC-1,tRNA-Cys-GCA-2,tRNA-Cys-GCA-4 | 23 | 1..24  | GCA,AGC | Cys,Ala | 0 | 0 | None | A_DSLE         |  2 | 8 | GGGGGUAUAGCUCAGUGGUAGAG              | 1 | tRNA-Cys-GCA-4-1.1t |\n",
       "\n"
      ],
      "text/plain": [
       "  seq_name            source_type tDR_name              \n",
       "1 tRNA-Ala-AGC-1-1_3t mature tRNA tDR-51:73-Ala-AGC-1   \n",
       "2 tRNA-Ala-AGC-1-1_rh mature tRNA tDR-38:73-Ala-AGC-1   \n",
       "3 tRNA-Ala-AGC-1-1_lh mature tRNA tDR-1:37-Ala-AGC-1    \n",
       "4 tRNA-Ala-AGC-1-1_2t mature tRNA tDR-20:55-Ala-AGC-1-M2\n",
       "5 tRNA-Ala-AGC-1-1_1t mature tRNA tDR-1:24-Ala-AGC-1-M3 \n",
       "6 tRNA-Cys-GCA-4-1_1t mature tRNA tDR-1:24-Ala-AGC-1-M3 \n",
       "  synonyms                                   \n",
       "1 None                                       \n",
       "2 None                                       \n",
       "3 None                                       \n",
       "4 tDR-20:55-Ala-AGC-6-M2                     \n",
       "5 tDR-1:24-Cys-GCA-2-M3,tDR-1:24-Cys-GCA-4-M3\n",
       "6 tDR-1:24-Cys-GCA-2-M3,tDR-1:24-Cys-GCA-4-M3\n",
       "  source_tRNAs                                 length position anticodon\n",
       "1 tRNA-Ala-AGC-1                               23     51..73   AGC      \n",
       "2 tRNA-Ala-AGC-1                               36     38..73   AGC      \n",
       "3 tRNA-Ala-AGC-1                               36     1..37    AGC      \n",
       "4 tRNA-Ala-AGC-1,tRNA-Ala-AGC-6                36     20..55   AGC      \n",
       "5 tRNA-Ala-AGC-1,tRNA-Cys-GCA-2,tRNA-Cys-GCA-4 23     1..24    GCA,AGC  \n",
       "6 tRNA-Ala-AGC-1,tRNA-Cys-GCA-2,tRNA-Cys-GCA-4 23     1..24    GCA,AGC  \n",
       "  isotype mismatches indels mismatch_locations tRNA_domains   group_ID\n",
       "1 Ala     0          0      None               TSLE_Z         28      \n",
       "2 Ala     0          0      None               CE_V_TSLE_Z    28      \n",
       "3 Ala     0          0      None               A_DSLE_CSL     28      \n",
       "4 Ala     0          0      None               DLE_CSLE_V_TSL 28      \n",
       "5 Cys,Ala 0          0      None               A_DSLE          2      \n",
       "6 Cys,Ala 0          0      None               A_DSLE          2      \n",
       "  other_tDRs_in_group sequence                             group\n",
       "1 3                   GGGUUCGAUCCCCAGUACCUCCA              2    \n",
       "2 3                   UGCACGAGGUCCUGGGUUCGAUCCCCAGUACCUCCA 4    \n",
       "3 3                   GGGGGUAUAGCUCAGUGGUAGAGCGCGUGCUUAGCA 3    \n",
       "4 3                   UAGAGCGCGUGCUUAGCAUGCACGAGGUCCUGGGUU 6    \n",
       "5 8                   GGGGGUAUAGCUCAGUGGUAGAG              1    \n",
       "6 8                   GGGGGUAUAGCUCAGUGGUAGAG              1    \n",
       "  name               \n",
       "1 tRNA-Ala-AGC-1-1.3t\n",
       "2 tRNA-Ala-AGC-1-1.rh\n",
       "3 tRNA-Ala-AGC-1-1.lh\n",
       "4 tRNA-Ala-AGC-1-1.2t\n",
       "5 tRNA-Ala-AGC-1-1.1t\n",
       "6 tRNA-Cys-GCA-4-1.1t"
      ]
     },
     "metadata": {},
     "output_type": "display_data"
    }
   ],
   "source": [
    "tDRnamer_tDR_info_output = read.csv('/home/ssobti/projects/mir_tud/uploaded_data/tRF_groups/tDRnamer_tDR_info_output.txt', sep = '\\t', header = TRUE)\n",
    "tDRnamer_tDR_info_output$group = plyr::mapvalues(tDRnamer_tDR_info_output$position, from = key$position, to = key$group)\n",
    "tDRnamer_tDR_info_output$name = plyr::mapvalues(tDRnamer_tDR_info_output$seq_name, from = names(tRF_TuD_edited), to = names(tRF_TuD))\n",
    "table(tDRnamer_tDR_info_output$group)  ## evenly divided in # of tRFs in each group --> all 5 groups have 78 tRFs\n",
    "head(tDRnamer_tDR_info_output)"
   ]
  },
  {
   "cell_type": "code",
   "execution_count": 69,
   "metadata": {
    "vscode": {
     "languageId": "r"
    }
   },
   "outputs": [
    {
     "data": {
      "text/html": [
       "<table class=\"dataframe\">\n",
       "<caption>A data.frame: 6 × 6</caption>\n",
       "<thead>\n",
       "\t<tr><th></th><th scope=col>tRF</th><th scope=col>tDRnamer_name</th><th scope=col>group</th><th scope=col>length</th><th scope=col>Sprinzl_alignment_position</th><th scope=col>sequence</th></tr>\n",
       "\t<tr><th></th><th scope=col>&lt;chr&gt;</th><th scope=col>&lt;chr&gt;</th><th scope=col>&lt;chr&gt;</th><th scope=col>&lt;int&gt;</th><th scope=col>&lt;chr&gt;</th><th scope=col>&lt;chr&gt;</th></tr>\n",
       "</thead>\n",
       "<tbody>\n",
       "\t<tr><th scope=row>1</th><td>tRNA-Ala-AGC-1-1.3t</td><td>tDR-51:73-Ala-AGC-1   </td><td>2</td><td>23</td><td>51..73</td><td>GGGUUCGAUCCCCAGUACCUCCA             </td></tr>\n",
       "\t<tr><th scope=row>2</th><td>tRNA-Ala-AGC-1-1.rh</td><td>tDR-38:73-Ala-AGC-1   </td><td>4</td><td>36</td><td>38..73</td><td>UGCACGAGGUCCUGGGUUCGAUCCCCAGUACCUCCA</td></tr>\n",
       "\t<tr><th scope=row>3</th><td>tRNA-Ala-AGC-1-1.lh</td><td>tDR-1:37-Ala-AGC-1    </td><td>3</td><td>36</td><td>1..37 </td><td>GGGGGUAUAGCUCAGUGGUAGAGCGCGUGCUUAGCA</td></tr>\n",
       "\t<tr><th scope=row>4</th><td>tRNA-Ala-AGC-1-1.2t</td><td>tDR-20:55-Ala-AGC-1-M2</td><td>6</td><td>36</td><td>20..55</td><td>UAGAGCGCGUGCUUAGCAUGCACGAGGUCCUGGGUU</td></tr>\n",
       "\t<tr><th scope=row>5</th><td>tRNA-Ala-AGC-1-1.1t</td><td>tDR-1:24-Ala-AGC-1-M3 </td><td>1</td><td>23</td><td>1..24 </td><td>GGGGGUAUAGCUCAGUGGUAGAG             </td></tr>\n",
       "\t<tr><th scope=row>6</th><td>tRNA-Cys-GCA-4-1.1t</td><td>tDR-1:24-Ala-AGC-1-M3 </td><td>1</td><td>23</td><td>1..24 </td><td>GGGGGUAUAGCUCAGUGGUAGAG             </td></tr>\n",
       "</tbody>\n",
       "</table>\n"
      ],
      "text/latex": [
       "A data.frame: 6 × 6\n",
       "\\begin{tabular}{r|llllll}\n",
       "  & tRF & tDRnamer\\_name & group & length & Sprinzl\\_alignment\\_position & sequence\\\\\n",
       "  & <chr> & <chr> & <chr> & <int> & <chr> & <chr>\\\\\n",
       "\\hline\n",
       "\t1 & tRNA-Ala-AGC-1-1.3t & tDR-51:73-Ala-AGC-1    & 2 & 23 & 51..73 & GGGUUCGAUCCCCAGUACCUCCA             \\\\\n",
       "\t2 & tRNA-Ala-AGC-1-1.rh & tDR-38:73-Ala-AGC-1    & 4 & 36 & 38..73 & UGCACGAGGUCCUGGGUUCGAUCCCCAGUACCUCCA\\\\\n",
       "\t3 & tRNA-Ala-AGC-1-1.lh & tDR-1:37-Ala-AGC-1     & 3 & 36 & 1..37  & GGGGGUAUAGCUCAGUGGUAGAGCGCGUGCUUAGCA\\\\\n",
       "\t4 & tRNA-Ala-AGC-1-1.2t & tDR-20:55-Ala-AGC-1-M2 & 6 & 36 & 20..55 & UAGAGCGCGUGCUUAGCAUGCACGAGGUCCUGGGUU\\\\\n",
       "\t5 & tRNA-Ala-AGC-1-1.1t & tDR-1:24-Ala-AGC-1-M3  & 1 & 23 & 1..24  & GGGGGUAUAGCUCAGUGGUAGAG             \\\\\n",
       "\t6 & tRNA-Cys-GCA-4-1.1t & tDR-1:24-Ala-AGC-1-M3  & 1 & 23 & 1..24  & GGGGGUAUAGCUCAGUGGUAGAG             \\\\\n",
       "\\end{tabular}\n"
      ],
      "text/markdown": [
       "\n",
       "A data.frame: 6 × 6\n",
       "\n",
       "| <!--/--> | tRF &lt;chr&gt; | tDRnamer_name &lt;chr&gt; | group &lt;chr&gt; | length &lt;int&gt; | Sprinzl_alignment_position &lt;chr&gt; | sequence &lt;chr&gt; |\n",
       "|---|---|---|---|---|---|---|\n",
       "| 1 | tRNA-Ala-AGC-1-1.3t | tDR-51:73-Ala-AGC-1    | 2 | 23 | 51..73 | GGGUUCGAUCCCCAGUACCUCCA              |\n",
       "| 2 | tRNA-Ala-AGC-1-1.rh | tDR-38:73-Ala-AGC-1    | 4 | 36 | 38..73 | UGCACGAGGUCCUGGGUUCGAUCCCCAGUACCUCCA |\n",
       "| 3 | tRNA-Ala-AGC-1-1.lh | tDR-1:37-Ala-AGC-1     | 3 | 36 | 1..37  | GGGGGUAUAGCUCAGUGGUAGAGCGCGUGCUUAGCA |\n",
       "| 4 | tRNA-Ala-AGC-1-1.2t | tDR-20:55-Ala-AGC-1-M2 | 6 | 36 | 20..55 | UAGAGCGCGUGCUUAGCAUGCACGAGGUCCUGGGUU |\n",
       "| 5 | tRNA-Ala-AGC-1-1.1t | tDR-1:24-Ala-AGC-1-M3  | 1 | 23 | 1..24  | GGGGGUAUAGCUCAGUGGUAGAG              |\n",
       "| 6 | tRNA-Cys-GCA-4-1.1t | tDR-1:24-Ala-AGC-1-M3  | 1 | 23 | 1..24  | GGGGGUAUAGCUCAGUGGUAGAG              |\n",
       "\n"
      ],
      "text/plain": [
       "  tRF                 tDRnamer_name          group length\n",
       "1 tRNA-Ala-AGC-1-1.3t tDR-51:73-Ala-AGC-1    2     23    \n",
       "2 tRNA-Ala-AGC-1-1.rh tDR-38:73-Ala-AGC-1    4     36    \n",
       "3 tRNA-Ala-AGC-1-1.lh tDR-1:37-Ala-AGC-1     3     36    \n",
       "4 tRNA-Ala-AGC-1-1.2t tDR-20:55-Ala-AGC-1-M2 6     36    \n",
       "5 tRNA-Ala-AGC-1-1.1t tDR-1:24-Ala-AGC-1-M3  1     23    \n",
       "6 tRNA-Cys-GCA-4-1.1t tDR-1:24-Ala-AGC-1-M3  1     23    \n",
       "  Sprinzl_alignment_position sequence                            \n",
       "1 51..73                     GGGUUCGAUCCCCAGUACCUCCA             \n",
       "2 38..73                     UGCACGAGGUCCUGGGUUCGAUCCCCAGUACCUCCA\n",
       "3 1..37                      GGGGGUAUAGCUCAGUGGUAGAGCGCGUGCUUAGCA\n",
       "4 20..55                     UAGAGCGCGUGCUUAGCAUGCACGAGGUCCUGGGUU\n",
       "5 1..24                      GGGGGUAUAGCUCAGUGGUAGAG             \n",
       "6 1..24                      GGGGGUAUAGCUCAGUGGUAGAG             "
      ]
     },
     "metadata": {},
     "output_type": "display_data"
    }
   ],
   "source": [
    "tRF_groups = tDRnamer_tDR_info_output[, c('name', 'tDR_name', 'group', 'length', 'position', 'sequence')]\n",
    "colnames(tRF_groups) = c('tRF', 'tDRnamer_name', 'group', 'length', 'Sprinzl_alignment_position', 'sequence')\n",
    "write.csv(tRF_groups, '/home/ssobti/projects/mir_tud/output_data/tRF_groups.csv', row.names = FALSE)\n",
    "head(tRF_groups)"
   ]
  },
  {
   "cell_type": "code",
   "execution_count": null,
   "metadata": {
    "vscode": {
     "languageId": "r"
    }
   },
   "outputs": [],
   "source": []
  },
  {
   "cell_type": "code",
   "execution_count": null,
   "metadata": {
    "vscode": {
     "languageId": "r"
    }
   },
   "outputs": [],
   "source": []
  }
 ],
 "metadata": {
  "kernelspec": {
   "display_name": "R",
   "language": "R",
   "name": "ir"
  },
  "language_info": {
   "codemirror_mode": "r",
   "file_extension": ".r",
   "mimetype": "text/x-r-source",
   "name": "R",
   "pygments_lexer": "r",
   "version": "4.3.3"
  }
 },
 "nbformat": 4,
 "nbformat_minor": 2
}
