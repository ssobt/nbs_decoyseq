{
 "cells": [
  {
   "cell_type": "code",
   "execution_count": 3,
   "id": "6faa4b6d",
   "metadata": {},
   "outputs": [],
   "source": [
    "import shelve\n",
    "import pandas as pd\n",
    "import numpy as np\n",
    "import pickle"
   ]
  },
  {
   "cell_type": "code",
   "execution_count": 25,
   "id": "54d956e9",
   "metadata": {},
   "outputs": [],
   "source": [
    "#### LOADING\n",
    "### load in objects from MAVE_trial_pt1\n",
    "import shelve\n",
    "filenm = '/home/ssobti/projects/mir_tud/output_data/rand.out'\n",
    "my_shelf = shelve.open(filenm)\n",
    "for key in my_shelf:\n",
    "    globals()[key]=my_shelf[key]\n",
    "my_shelf.close()\n",
    "\n"
   ]
  },
  {
   "cell_type": "code",
   "execution_count": 4,
   "id": "ed32d91d",
   "metadata": {},
   "outputs": [
    {
     "name": "stdout",
     "output_type": "stream",
     "text": [
      "ERROR shelving: vae\n"
     ]
    }
   ],
   "source": [
    "#### SAVING \n",
    "## how to save things\n",
    "import pickle\n",
    "import shelve\n",
    "filenm = '/home/ssobti/projects/mir_tud/output_data/mave_output/filenamehere.out'\n",
    "my_shelf = shelve.open(filenm,'n') # 'n' for new\n",
    "vec = ['vae'] ## put objects you want to save in quotes separated by commas\n",
    "for key in vec:\n",
    "    try:\n",
    "        my_shelf[key] = globals()[key]\n",
    "    except TypeError:\n",
    "        #\n",
    "        # __builtins__, my_shelf, and imported modules can not be shelved.\n",
    "        #\n",
    "        print('ERROR shelving: {0}'.format(key))\n",
    "    except pickle.PicklingError:\n",
    "        print('ERROR shelving: {0}'.format(key))\n",
    "    except KeyError:\n",
    "        print('ERROR shelving: {0}'.format(key))\n",
    "my_shelf.close()"
   ]
  }
 ],
 "metadata": {
  "kernelspec": {
   "display_name": "mave",
   "language": "python",
   "name": "mave"
  },
  "language_info": {
   "codemirror_mode": {
    "name": "ipython",
    "version": 3
   },
   "file_extension": ".py",
   "mimetype": "text/x-python",
   "name": "python",
   "nbconvert_exporter": "python",
   "pygments_lexer": "ipython3",
   "version": "3.10.8"
  }
 },
 "nbformat": 4,
 "nbformat_minor": 5
}
