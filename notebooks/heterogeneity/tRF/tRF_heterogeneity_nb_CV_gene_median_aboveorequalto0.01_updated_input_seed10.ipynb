{
 "cells": [
  {
   "cell_type": "code",
   "execution_count": 1,
   "id": "93472839-7c45-4eb2-bdac-c8930418f8a1",
   "metadata": {
    "execution": {
     "iopub.execute_input": "2023-09-04T20:31:27.432571Z",
     "iopub.status.busy": "2023-09-04T20:31:27.428499Z",
     "iopub.status.idle": "2023-09-04T20:31:27.475856Z",
     "shell.execute_reply": "2023-09-04T20:31:27.473392Z"
    },
    "vscode": {
     "languageId": "r"
    }
   },
   "outputs": [],
   "source": [
    "## Notebook env: brian_script_env (R kernel)\n",
    "\n",
    "## Run Finding_variable_genes_ipynb before running this script\n",
    "### This script measures if a given guide's cells see increased or decreased\n",
    "### gene expression heterogeneity compared to control cells)\n",
    "\n",
    "### Coefficient of Variation (CV) or Mutant-Allele Tumor Heterogeneity (MATH)\n",
    "### are used to quantify heterogeneity depending on the analysis variant used"
   ]
  },
  {
   "cell_type": "code",
   "execution_count": 2,
   "id": "afe84f26-3760-4e53-84ad-f452a0913e33",
   "metadata": {
    "execution": {
     "iopub.execute_input": "2023-09-04T20:31:27.641488Z",
     "iopub.status.busy": "2023-09-04T20:31:27.538138Z",
     "iopub.status.idle": "2023-09-04T20:31:27.650302Z",
     "shell.execute_reply": "2023-09-04T20:31:27.648905Z"
    },
    "vscode": {
     "languageId": "r"
    }
   },
   "outputs": [],
   "source": [
    "## things to shift:\n",
    "## increase fixed number of cells used"
   ]
  },
  {
   "cell_type": "code",
   "execution_count": 3,
   "id": "d8633b82-7448-42ba-8108-83f7351f9fec",
   "metadata": {
    "execution": {
     "iopub.execute_input": "2023-09-04T20:31:27.654628Z",
     "iopub.status.busy": "2023-09-04T20:31:27.653323Z",
     "iopub.status.idle": "2023-09-04T20:31:27.663715Z",
     "shell.execute_reply": "2023-09-04T20:31:27.662121Z"
    },
    "vscode": {
     "languageId": "r"
    }
   },
   "outputs": [],
   "source": [
    "## things to adjust:\n",
    "## stringency of initial gene filter (lower it?) \n",
    "## expand gene analysis to beyond top 2000 var genes \n",
    "## remove random_TuD_NC from z-score calculations\n",
    "## use less stringent method to calculate q-values or some other analagous method that is less stringent on p-value correction (this will lead to more genes being usable for analysis)\n",
    "## use MATH to calculate variation shift instead of CV\n",
    "## # of cells per guide"
   ]
  },
  {
   "cell_type": "code",
   "execution_count": 4,
   "id": "5f3d71fa-5b2c-4c44-a27e-42516da8e258",
   "metadata": {
    "execution": {
     "iopub.execute_input": "2023-09-04T20:31:27.668824Z",
     "iopub.status.busy": "2023-09-04T20:31:27.667244Z",
     "iopub.status.idle": "2023-09-04T20:31:27.680965Z",
     "shell.execute_reply": "2023-09-04T20:31:27.679233Z"
    },
    "vscode": {
     "languageId": "r"
    }
   },
   "outputs": [],
   "source": [
    "## This is modified version of Brian's q25 and q75 script: 'Analysis_heterogeneity_BRCA_TCGA_FPKM_approach_q25_q75.Rmd'\n",
    "#### EDIT THIS CELL TO ANNOTATE EACH NOTEBOOK VARIANT ####\n",
    "## This nb variant uses CV to quantify gene heterogeneity and only among genes with median exp > 1\n",
    "\n",
    "variant = 'CV_gene_median_aboveorequalto1_seed10_'"
   ]
  },
  {
   "cell_type": "code",
   "execution_count": 5,
   "id": "106f5209-83ff-4bb0-80a3-2666eb6de715",
   "metadata": {
    "execution": {
     "iopub.execute_input": "2023-09-04T20:31:27.685975Z",
     "iopub.status.busy": "2023-09-04T20:31:27.684430Z",
     "iopub.status.idle": "2023-09-04T20:31:32.608886Z",
     "shell.execute_reply": "2023-09-04T20:31:32.607110Z"
    },
    "vscode": {
     "languageId": "r"
    }
   },
   "outputs": [
    {
     "name": "stderr",
     "output_type": "stream",
     "text": [
      "\n",
      "Attaching package: ‘gplots’\n",
      "\n",
      "\n",
      "The following object is masked from ‘package:stats’:\n",
      "\n",
      "    lowess\n",
      "\n",
      "\n"
     ]
    }
   ],
   "source": [
    "library(ggplot2)\n",
    "library(stringr)\n",
    "library(scales)\n",
    "library(parallel)\n",
    "library(cvequality)\n",
    "library(readxl)\n",
    "library(tibble)\n",
    "library(pbapply)\n",
    "library(qvalue)\n",
    "library(gplots)\n",
    "library(stats)\n",
    "library(reshape2)\n",
    "library(gridExtra)\n",
    "library(Seurat)\n",
    "library(Matrix)\n",
    "library(sparseMatrixStats)\n",
    "\n",
    "seeds = c(123, 456, 789, 101112, 131415, 161718, 192021, 222324, 252627, 282930)\n",
    "seed = seeds[10]"
   ]
  },
  {
   "cell_type": "code",
   "execution_count": 6,
   "id": "27839889-16a9-4bc5-9396-ee2194801396",
   "metadata": {
    "execution": {
     "iopub.execute_input": "2023-09-04T20:31:32.615072Z",
     "iopub.status.busy": "2023-09-04T20:31:32.613452Z",
     "iopub.status.idle": "2023-09-04T20:31:33.239548Z",
     "shell.execute_reply": "2023-09-04T20:31:33.237800Z"
    },
    "vscode": {
     "languageId": "r"
    }
   },
   "outputs": [
    {
     "data": {
      "text/html": [
       "<table class=\"dataframe\">\n",
       "<caption>A data.frame: 6 × 21</caption>\n",
       "<thead>\n",
       "\t<tr><th></th><th scope=col>X</th><th scope=col>nCount_RNA</th><th scope=col>nFeature_RNA</th><th scope=col>orig.ident</th><th scope=col>sample</th><th scope=col>barcode</th><th scope=col>guide</th><th scope=col>lor</th><th scope=col>pvalue</th><th scope=col>adj_pvalue</th><th scope=col>⋯</th><th scope=col>n_umi</th><th scope=col>m_umi</th><th scope=col>v_umi</th><th scope=col>log_max_umi</th><th scope=col>log_n_umi</th><th scope=col>log_m_umi</th><th scope=col>percent.mt</th><th scope=col>integrated_snn_res.0.5</th><th scope=col>seurat_clusters</th><th scope=col>guide_group</th></tr>\n",
       "\t<tr><th></th><th scope=col>&lt;fct&gt;</th><th scope=col>&lt;int&gt;</th><th scope=col>&lt;int&gt;</th><th scope=col>&lt;fct&gt;</th><th scope=col>&lt;fct&gt;</th><th scope=col>&lt;fct&gt;</th><th scope=col>&lt;chr&gt;</th><th scope=col>&lt;dbl&gt;</th><th scope=col>&lt;dbl&gt;</th><th scope=col>&lt;dbl&gt;</th><th scope=col>⋯</th><th scope=col>&lt;int&gt;</th><th scope=col>&lt;dbl&gt;</th><th scope=col>&lt;dbl&gt;</th><th scope=col>&lt;dbl&gt;</th><th scope=col>&lt;dbl&gt;</th><th scope=col>&lt;dbl&gt;</th><th scope=col>&lt;dbl&gt;</th><th scope=col>&lt;int&gt;</th><th scope=col>&lt;fct&gt;</th><th scope=col>&lt;fct&gt;</th></tr>\n",
       "</thead>\n",
       "<tbody>\n",
       "\t<tr><th scope=row>tRF_1:AAACCCAAGGCCTTGC-1</th><td>tRF_1:AAACCCAAGGCCTTGC-1</td><td>20239</td><td>5372</td><td>tRF</td><td>tRF_1</td><td>AAACCCAAGGCCTTGC</td><td>TuD_NC       </td><td>2.144148</td><td> 1.652448e-15</td><td> 8.377661e-09</td><td>⋯</td><td> 33</td><td>0.1506849</td><td>  2.458841</td><td>1.361728</td><td>1.518514</td><td>-0.82193017</td><td>6.363951</td><td>3</td><td>control</td><td>control</td></tr>\n",
       "\t<tr><th scope=row>tRF_1:AAACCCACATATACCG-1</th><td>tRF_1:AAACCCACATATACCG-1</td><td>35201</td><td>7086</td><td>tRF</td><td>tRF_1</td><td>AAACCCACATATACCG</td><td>tRF_Arg_ACG_2</td><td>7.473168</td><td>2.865581e-322</td><td>1.452806e-315</td><td>⋯</td><td>214</td><td>0.9771689</td><td>151.260944</td><td>2.260071</td><td>2.330414</td><td>-0.01003034</td><td>6.295276</td><td>4</td><td>T4     </td><td>target </td></tr>\n",
       "\t<tr><th scope=row>tRF_1:AAACCCACATGACAGG-1</th><td>tRF_1:AAACCCACATGACAGG-1</td><td>32207</td><td>6695</td><td>tRF</td><td>tRF_1</td><td>AAACCCACATGACAGG</td><td>TuD_NC       </td><td>2.336330</td><td> 3.615579e-22</td><td> 1.833044e-15</td><td>⋯</td><td> 53</td><td>0.2420091</td><td>  5.973273</td><td>1.556303</td><td>1.724276</td><td>-0.61616825</td><td>6.237774</td><td>1</td><td>control</td><td>control</td></tr>\n",
       "\t<tr><th scope=row>tRF_1:AAACCCACATGACGGA-1</th><td>tRF_1:AAACCCACATGACGGA-1</td><td>38017</td><td>7151</td><td>tRF</td><td>tRF_1</td><td>AAACCCACATGACGGA</td><td>tRF_Arg_ACG_2</td><td>1.160519</td><td>2.865581e-322</td><td>1.452806e-315</td><td>⋯</td><td>372</td><td>1.6986301</td><td>237.780319</td><td>2.330414</td><td>2.570543</td><td> 0.23009883</td><td>6.831154</td><td>4</td><td>T4     </td><td>target </td></tr>\n",
       "\t<tr><th scope=row>tRF_1:AAACCCAGTCAACCAT-1</th><td>tRF_1:AAACCCAGTCAACCAT-1</td><td>28633</td><td>6505</td><td>tRF</td><td>tRF_1</td><td>AAACCCAGTCAACCAT</td><td>TuD_NC       </td><td>3.011825</td><td> 9.624496e-26</td><td> 4.879475e-19</td><td>⋯</td><td> 51</td><td>0.2328767</td><td>  6.638180</td><td>1.579784</td><td>1.707570</td><td>-0.63287394</td><td>8.619425</td><td>3</td><td>control</td><td>control</td></tr>\n",
       "\t<tr><th scope=row>tRF_1:AAACCCAGTTATCTTC-1</th><td>tRF_1:AAACCCAGTTATCTTC-1</td><td>28000</td><td>6688</td><td>tRF</td><td>tRF_1</td><td>AAACCCAGTTATCTTC</td><td>tRF_Glu_CTC_2</td><td>4.656560</td><td>7.086097e-135</td><td>3.592545e-128</td><td>⋯</td><td> 88</td><td>0.4018265</td><td> 21.984584</td><td>1.838849</td><td>1.944483</td><td>-0.39596144</td><td>6.617857</td><td>2</td><td>T2     </td><td>target </td></tr>\n",
       "</tbody>\n",
       "</table>\n"
      ],
      "text/latex": [
       "A data.frame: 6 × 21\n",
       "\\begin{tabular}{r|lllllllllllllllllllll}\n",
       "  & X & nCount\\_RNA & nFeature\\_RNA & orig.ident & sample & barcode & guide & lor & pvalue & adj\\_pvalue & ⋯ & n\\_umi & m\\_umi & v\\_umi & log\\_max\\_umi & log\\_n\\_umi & log\\_m\\_umi & percent.mt & integrated\\_snn\\_res.0.5 & seurat\\_clusters & guide\\_group\\\\\n",
       "  & <fct> & <int> & <int> & <fct> & <fct> & <fct> & <chr> & <dbl> & <dbl> & <dbl> & ⋯ & <int> & <dbl> & <dbl> & <dbl> & <dbl> & <dbl> & <dbl> & <int> & <fct> & <fct>\\\\\n",
       "\\hline\n",
       "\ttRF\\_1:AAACCCAAGGCCTTGC-1 & tRF\\_1:AAACCCAAGGCCTTGC-1 & 20239 & 5372 & tRF & tRF\\_1 & AAACCCAAGGCCTTGC & TuD\\_NC        & 2.144148 &  1.652448e-15 &  8.377661e-09 & ⋯ &  33 & 0.1506849 &   2.458841 & 1.361728 & 1.518514 & -0.82193017 & 6.363951 & 3 & control & control\\\\\n",
       "\ttRF\\_1:AAACCCACATATACCG-1 & tRF\\_1:AAACCCACATATACCG-1 & 35201 & 7086 & tRF & tRF\\_1 & AAACCCACATATACCG & tRF\\_Arg\\_ACG\\_2 & 7.473168 & 2.865581e-322 & 1.452806e-315 & ⋯ & 214 & 0.9771689 & 151.260944 & 2.260071 & 2.330414 & -0.01003034 & 6.295276 & 4 & T4      & target \\\\\n",
       "\ttRF\\_1:AAACCCACATGACAGG-1 & tRF\\_1:AAACCCACATGACAGG-1 & 32207 & 6695 & tRF & tRF\\_1 & AAACCCACATGACAGG & TuD\\_NC        & 2.336330 &  3.615579e-22 &  1.833044e-15 & ⋯ &  53 & 0.2420091 &   5.973273 & 1.556303 & 1.724276 & -0.61616825 & 6.237774 & 1 & control & control\\\\\n",
       "\ttRF\\_1:AAACCCACATGACGGA-1 & tRF\\_1:AAACCCACATGACGGA-1 & 38017 & 7151 & tRF & tRF\\_1 & AAACCCACATGACGGA & tRF\\_Arg\\_ACG\\_2 & 1.160519 & 2.865581e-322 & 1.452806e-315 & ⋯ & 372 & 1.6986301 & 237.780319 & 2.330414 & 2.570543 &  0.23009883 & 6.831154 & 4 & T4      & target \\\\\n",
       "\ttRF\\_1:AAACCCAGTCAACCAT-1 & tRF\\_1:AAACCCAGTCAACCAT-1 & 28633 & 6505 & tRF & tRF\\_1 & AAACCCAGTCAACCAT & TuD\\_NC        & 3.011825 &  9.624496e-26 &  4.879475e-19 & ⋯ &  51 & 0.2328767 &   6.638180 & 1.579784 & 1.707570 & -0.63287394 & 8.619425 & 3 & control & control\\\\\n",
       "\ttRF\\_1:AAACCCAGTTATCTTC-1 & tRF\\_1:AAACCCAGTTATCTTC-1 & 28000 & 6688 & tRF & tRF\\_1 & AAACCCAGTTATCTTC & tRF\\_Glu\\_CTC\\_2 & 4.656560 & 7.086097e-135 & 3.592545e-128 & ⋯ &  88 & 0.4018265 &  21.984584 & 1.838849 & 1.944483 & -0.39596144 & 6.617857 & 2 & T2      & target \\\\\n",
       "\\end{tabular}\n"
      ],
      "text/markdown": [
       "\n",
       "A data.frame: 6 × 21\n",
       "\n",
       "| <!--/--> | X &lt;fct&gt; | nCount_RNA &lt;int&gt; | nFeature_RNA &lt;int&gt; | orig.ident &lt;fct&gt; | sample &lt;fct&gt; | barcode &lt;fct&gt; | guide &lt;chr&gt; | lor &lt;dbl&gt; | pvalue &lt;dbl&gt; | adj_pvalue &lt;dbl&gt; | ⋯ ⋯ | n_umi &lt;int&gt; | m_umi &lt;dbl&gt; | v_umi &lt;dbl&gt; | log_max_umi &lt;dbl&gt; | log_n_umi &lt;dbl&gt; | log_m_umi &lt;dbl&gt; | percent.mt &lt;dbl&gt; | integrated_snn_res.0.5 &lt;int&gt; | seurat_clusters &lt;fct&gt; | guide_group &lt;fct&gt; |\n",
       "|---|---|---|---|---|---|---|---|---|---|---|---|---|---|---|---|---|---|---|---|---|---|\n",
       "| tRF_1:AAACCCAAGGCCTTGC-1 | tRF_1:AAACCCAAGGCCTTGC-1 | 20239 | 5372 | tRF | tRF_1 | AAACCCAAGGCCTTGC | TuD_NC        | 2.144148 |  1.652448e-15 |  8.377661e-09 | ⋯ |  33 | 0.1506849 |   2.458841 | 1.361728 | 1.518514 | -0.82193017 | 6.363951 | 3 | control | control |\n",
       "| tRF_1:AAACCCACATATACCG-1 | tRF_1:AAACCCACATATACCG-1 | 35201 | 7086 | tRF | tRF_1 | AAACCCACATATACCG | tRF_Arg_ACG_2 | 7.473168 | 2.865581e-322 | 1.452806e-315 | ⋯ | 214 | 0.9771689 | 151.260944 | 2.260071 | 2.330414 | -0.01003034 | 6.295276 | 4 | T4      | target  |\n",
       "| tRF_1:AAACCCACATGACAGG-1 | tRF_1:AAACCCACATGACAGG-1 | 32207 | 6695 | tRF | tRF_1 | AAACCCACATGACAGG | TuD_NC        | 2.336330 |  3.615579e-22 |  1.833044e-15 | ⋯ |  53 | 0.2420091 |   5.973273 | 1.556303 | 1.724276 | -0.61616825 | 6.237774 | 1 | control | control |\n",
       "| tRF_1:AAACCCACATGACGGA-1 | tRF_1:AAACCCACATGACGGA-1 | 38017 | 7151 | tRF | tRF_1 | AAACCCACATGACGGA | tRF_Arg_ACG_2 | 1.160519 | 2.865581e-322 | 1.452806e-315 | ⋯ | 372 | 1.6986301 | 237.780319 | 2.330414 | 2.570543 |  0.23009883 | 6.831154 | 4 | T4      | target  |\n",
       "| tRF_1:AAACCCAGTCAACCAT-1 | tRF_1:AAACCCAGTCAACCAT-1 | 28633 | 6505 | tRF | tRF_1 | AAACCCAGTCAACCAT | TuD_NC        | 3.011825 |  9.624496e-26 |  4.879475e-19 | ⋯ |  51 | 0.2328767 |   6.638180 | 1.579784 | 1.707570 | -0.63287394 | 8.619425 | 3 | control | control |\n",
       "| tRF_1:AAACCCAGTTATCTTC-1 | tRF_1:AAACCCAGTTATCTTC-1 | 28000 | 6688 | tRF | tRF_1 | AAACCCAGTTATCTTC | tRF_Glu_CTC_2 | 4.656560 | 7.086097e-135 | 3.592545e-128 | ⋯ |  88 | 0.4018265 |  21.984584 | 1.838849 | 1.944483 | -0.39596144 | 6.617857 | 2 | T2      | target  |\n",
       "\n"
      ],
      "text/plain": [
       "                         X                        nCount_RNA nFeature_RNA\n",
       "tRF_1:AAACCCAAGGCCTTGC-1 tRF_1:AAACCCAAGGCCTTGC-1 20239      5372        \n",
       "tRF_1:AAACCCACATATACCG-1 tRF_1:AAACCCACATATACCG-1 35201      7086        \n",
       "tRF_1:AAACCCACATGACAGG-1 tRF_1:AAACCCACATGACAGG-1 32207      6695        \n",
       "tRF_1:AAACCCACATGACGGA-1 tRF_1:AAACCCACATGACGGA-1 38017      7151        \n",
       "tRF_1:AAACCCAGTCAACCAT-1 tRF_1:AAACCCAGTCAACCAT-1 28633      6505        \n",
       "tRF_1:AAACCCAGTTATCTTC-1 tRF_1:AAACCCAGTTATCTTC-1 28000      6688        \n",
       "                         orig.ident sample barcode          guide        \n",
       "tRF_1:AAACCCAAGGCCTTGC-1 tRF        tRF_1  AAACCCAAGGCCTTGC TuD_NC       \n",
       "tRF_1:AAACCCACATATACCG-1 tRF        tRF_1  AAACCCACATATACCG tRF_Arg_ACG_2\n",
       "tRF_1:AAACCCACATGACAGG-1 tRF        tRF_1  AAACCCACATGACAGG TuD_NC       \n",
       "tRF_1:AAACCCACATGACGGA-1 tRF        tRF_1  AAACCCACATGACGGA tRF_Arg_ACG_2\n",
       "tRF_1:AAACCCAGTCAACCAT-1 tRF        tRF_1  AAACCCAGTCAACCAT TuD_NC       \n",
       "tRF_1:AAACCCAGTTATCTTC-1 tRF        tRF_1  AAACCCAGTTATCTTC tRF_Glu_CTC_2\n",
       "                         lor      pvalue        adj_pvalue    ⋯ n_umi m_umi    \n",
       "tRF_1:AAACCCAAGGCCTTGC-1 2.144148  1.652448e-15  8.377661e-09 ⋯  33   0.1506849\n",
       "tRF_1:AAACCCACATATACCG-1 7.473168 2.865581e-322 1.452806e-315 ⋯ 214   0.9771689\n",
       "tRF_1:AAACCCACATGACAGG-1 2.336330  3.615579e-22  1.833044e-15 ⋯  53   0.2420091\n",
       "tRF_1:AAACCCACATGACGGA-1 1.160519 2.865581e-322 1.452806e-315 ⋯ 372   1.6986301\n",
       "tRF_1:AAACCCAGTCAACCAT-1 3.011825  9.624496e-26  4.879475e-19 ⋯  51   0.2328767\n",
       "tRF_1:AAACCCAGTTATCTTC-1 4.656560 7.086097e-135 3.592545e-128 ⋯  88   0.4018265\n",
       "                         v_umi      log_max_umi log_n_umi log_m_umi  \n",
       "tRF_1:AAACCCAAGGCCTTGC-1   2.458841 1.361728    1.518514  -0.82193017\n",
       "tRF_1:AAACCCACATATACCG-1 151.260944 2.260071    2.330414  -0.01003034\n",
       "tRF_1:AAACCCACATGACAGG-1   5.973273 1.556303    1.724276  -0.61616825\n",
       "tRF_1:AAACCCACATGACGGA-1 237.780319 2.330414    2.570543   0.23009883\n",
       "tRF_1:AAACCCAGTCAACCAT-1   6.638180 1.579784    1.707570  -0.63287394\n",
       "tRF_1:AAACCCAGTTATCTTC-1  21.984584 1.838849    1.944483  -0.39596144\n",
       "                         percent.mt integrated_snn_res.0.5 seurat_clusters\n",
       "tRF_1:AAACCCAAGGCCTTGC-1 6.363951   3                      control        \n",
       "tRF_1:AAACCCACATATACCG-1 6.295276   4                      T4             \n",
       "tRF_1:AAACCCACATGACAGG-1 6.237774   1                      control        \n",
       "tRF_1:AAACCCACATGACGGA-1 6.831154   4                      T4             \n",
       "tRF_1:AAACCCAGTCAACCAT-1 8.619425   3                      control        \n",
       "tRF_1:AAACCCAGTTATCTTC-1 6.617857   2                      T2             \n",
       "                         guide_group\n",
       "tRF_1:AAACCCAAGGCCTTGC-1 control    \n",
       "tRF_1:AAACCCACATATACCG-1 target     \n",
       "tRF_1:AAACCCACATGACAGG-1 control    \n",
       "tRF_1:AAACCCACATGACGGA-1 target     \n",
       "tRF_1:AAACCCAGTCAACCAT-1 control    \n",
       "tRF_1:AAACCCAGTTATCTTC-1 target     "
      ]
     },
     "metadata": {},
     "output_type": "display_data"
    }
   ],
   "source": [
    "filtered_meta_data <- read.csv('/home/ssobti/projects/mir_tud/010523_filtered_data/tRF_meta.csv', header = TRUE)\n",
    "rownames(filtered_meta_data) <- filtered_meta_data$X\n",
    "filtered_meta_data$guide <- as.character(filtered_meta_data$guide)\n",
    "\n",
    "head(filtered_meta_data)\n",
    "raw_genes <- read.csv('/home/ssobti/projects/mir_tud/010523_filtered_data/tRF_gene_names.csv', header = FALSE)\n",
    "raw_genes <- raw_genes$V2[-1]\n",
    "raw_genes <- as.character(raw_genes)"
   ]
  },
  {
   "cell_type": "code",
   "execution_count": 7,
   "id": "0229a820-4591-4e65-a9af-acfdce203f0d",
   "metadata": {
    "execution": {
     "iopub.execute_input": "2023-09-04T20:31:33.251844Z",
     "iopub.status.busy": "2023-09-04T20:31:33.250558Z",
     "iopub.status.idle": "2023-09-04T20:36:14.210963Z",
     "shell.execute_reply": "2023-09-04T20:36:14.207500Z"
    },
    "vscode": {
     "languageId": "r"
    }
   },
   "outputs": [],
   "source": [
    "filtered_raw_mtx <- readMM('/home/ssobti/projects/mir_tud/010523_filtered_data/tRF_normalized_data.mtx')\n",
    "filtered_raw_mtx = as(filtered_raw_mtx, 'dgCMatrix')\n",
    "rownames(filtered_raw_mtx) = raw_genes\n",
    "colnames(filtered_raw_mtx) = rownames(filtered_meta_data)"
   ]
  },
  {
   "cell_type": "code",
   "execution_count": 8,
   "id": "924114ad-3891-4d4a-885b-e28b15dbbc29",
   "metadata": {
    "execution": {
     "iopub.execute_input": "2023-09-04T20:36:14.265371Z",
     "iopub.status.busy": "2023-09-04T20:36:14.262845Z",
     "iopub.status.idle": "2023-09-04T20:36:14.320714Z",
     "shell.execute_reply": "2023-09-04T20:36:14.317809Z"
    },
    "vscode": {
     "languageId": "r"
    }
   },
   "outputs": [
    {
     "data": {
      "text/html": [
       "<style>\n",
       ".list-inline {list-style: none; margin:0; padding: 0}\n",
       ".list-inline>li {display: inline-block}\n",
       ".list-inline>li:not(:last-child)::after {content: \"\\00b7\"; padding: 0 .5ex}\n",
       "</style>\n",
       "<ol class=list-inline><li>'IFIT2'</li><li>'IFIT3'</li><li>'IFIT1'</li><li>'ZC3HAV1'</li><li>'OASL'</li><li>'SAA1'</li></ol>\n"
      ],
      "text/latex": [
       "\\begin{enumerate*}\n",
       "\\item 'IFIT2'\n",
       "\\item 'IFIT3'\n",
       "\\item 'IFIT1'\n",
       "\\item 'ZC3HAV1'\n",
       "\\item 'OASL'\n",
       "\\item 'SAA1'\n",
       "\\end{enumerate*}\n"
      ],
      "text/markdown": [
       "1. 'IFIT2'\n",
       "2. 'IFIT3'\n",
       "3. 'IFIT1'\n",
       "4. 'ZC3HAV1'\n",
       "5. 'OASL'\n",
       "6. 'SAA1'\n",
       "\n",
       "\n"
      ],
      "text/plain": [
       "[1] \"IFIT2\"   \"IFIT3\"   \"IFIT1\"   \"ZC3HAV1\" \"OASL\"    \"SAA1\"   "
      ]
     },
     "metadata": {},
     "output_type": "display_data"
    }
   ],
   "source": [
    "variable_genes_df = read.csv('/home/ssobti/projects/mir_tud/output_data/heterogeneity/updated_input_data/tRFs/top_var_genes_tRF.csv')\n",
    "top_variable_genes = as.character(variable_genes_df$x)\n",
    "head(top_variable_genes)"
   ]
  },
  {
   "cell_type": "code",
   "execution_count": 9,
   "id": "fa71f3a0-4391-44a3-b580-e2b9835886b8",
   "metadata": {
    "execution": {
     "iopub.execute_input": "2023-09-04T20:36:14.329802Z",
     "iopub.status.busy": "2023-09-04T20:36:14.327277Z",
     "iopub.status.idle": "2023-09-04T20:36:42.351969Z",
     "shell.execute_reply": "2023-09-04T20:36:42.348532Z"
    },
    "vscode": {
     "languageId": "r"
    }
   },
   "outputs": [],
   "source": [
    "medians = sparseMatrixStats::rowMedians(filtered_raw_mtx)\n",
    "median_df = data.frame(gene_medians = medians)"
   ]
  },
  {
   "cell_type": "code",
   "execution_count": 10,
   "id": "873759e3-92ae-4eb2-8b3d-e045d48b69cc",
   "metadata": {
    "execution": {
     "iopub.execute_input": "2023-09-04T20:36:42.364145Z",
     "iopub.status.busy": "2023-09-04T20:36:42.361693Z",
     "iopub.status.idle": "2023-09-04T20:37:48.728543Z",
     "shell.execute_reply": "2023-09-04T20:37:48.727376Z"
    },
    "vscode": {
     "languageId": "r"
    }
   },
   "outputs": [
    {
     "data": {
      "image/png": "[encoded data removed]",
      "text/plain": [
       "plot without title"
      ]
     },
     "metadata": {
      "image/png": {
       "height": 420,
       "width": 420
      }
     },
     "output_type": "display_data"
    }
   ],
   "source": [
    "ggplot(median_df, aes(x=gene_medians)) + \n",
    "  geom_histogram(color=\"black\", fill=\"white\", bins = 50000) +\n",
    "  geom_vline(xintercept = 10, color = 'blue') + coord_cartesian(xlim = c(0,200)) +\n",
    "  theme_bw()"
   ]
  },
  {
   "cell_type": "code",
   "execution_count": 11,
   "id": "01163361-4494-4656-89c5-4c3ea1df2659",
   "metadata": {
    "execution": {
     "iopub.execute_input": "2023-09-04T20:37:48.735446Z",
     "iopub.status.busy": "2023-09-04T20:37:48.734463Z",
     "iopub.status.idle": "2023-09-04T20:37:48.753134Z",
     "shell.execute_reply": "2023-09-04T20:37:48.750556Z"
    },
    "vscode": {
     "languageId": "r"
    }
   },
   "outputs": [
    {
     "data": {
      "text/html": [
       "23.4527175620484"
      ],
      "text/latex": [
       "23.4527175620484"
      ],
      "text/markdown": [
       "23.4527175620484"
      ],
      "text/plain": [
       "[1] 23.45272"
      ]
     },
     "metadata": {},
     "output_type": "display_data"
    }
   ],
   "source": [
    "pct_genes_left = function(median_expression, cutoff){\n",
    "  pct = 100*length(which(median_expression >= cutoff))/length(median_expression)\n",
    "  return(pct)\n",
    "}\n",
    "\n",
    "pct_genes_left(medians, 0.01)"
   ]
  },
  {
   "cell_type": "code",
   "execution_count": 12,
   "id": "77bc5f0e-c384-4dc7-93d7-ff8bb6e7879c",
   "metadata": {
    "execution": {
     "iopub.execute_input": "2023-09-04T20:37:48.761035Z",
     "iopub.status.busy": "2023-09-04T20:37:48.758672Z",
     "iopub.status.idle": "2023-09-04T20:37:48.776450Z",
     "shell.execute_reply": "2023-09-04T20:37:48.773887Z"
    },
    "vscode": {
     "languageId": "r"
    }
   },
   "outputs": [],
   "source": [
    "## removing any genes that are not in top 2000 most variable\n",
    "## filtered_raw_mtx <- filtered_raw_mtx[top_variable_genes,]\n",
    "##filtered_raw_mtx <- filtered_raw_mtx[top_variable_genes,]\n",
    "##filtered_meta_data <- filtered_meta_data[colnames(filtered_raw_mtx),]"
   ]
  },
  {
   "cell_type": "code",
   "execution_count": 13,
   "id": "8c97e4d3-3fa7-420f-926d-84f3c071ed51",
   "metadata": {
    "execution": {
     "iopub.execute_input": "2023-09-04T20:37:48.784395Z",
     "iopub.status.busy": "2023-09-04T20:37:48.782067Z",
     "iopub.status.idle": "2023-09-04T20:37:55.140770Z",
     "shell.execute_reply": "2023-09-04T20:37:55.137101Z"
    },
    "vscode": {
     "languageId": "r"
    }
   },
   "outputs": [],
   "source": [
    "### removing genes with medians < 1 keeps 22% of genes -- low expressing genes have noisy expression and confound results ###\n",
    "genes_to_keep = as.numeric(medians) >= 0.01\n",
    "filtered_raw_mtx <- filtered_raw_mtx[genes_to_keep,]\n",
    "filtered_meta_data <- filtered_meta_data[colnames(filtered_raw_mtx),]"
   ]
  },
  {
   "cell_type": "raw",
   "id": "82abe42a-1401-48d0-b02a-9aed1298f526",
   "metadata": {},
   "source": [
    "## unused cell\n",
    "\n",
    "gene_means = apply(RNA_Seq_expression_raw_data[, -c(1,2)], 1, mean)\n",
    "gene_CVs = apply(RNA_Seq_expression_raw_data[, -c(1,2)], 1, function(x){sd(x)/mean(x)})\n",
    "\n",
    "gene_var = apply(RNA_Seq_expression_raw_data[, -c(1,2)], 1, var)\n",
    "\n",
    "raw_counts = as.matrix(RNA_Seq_expression_raw_data[, -c(1,2)])\n",
    "rownames(raw_counts) <- RNA_Seq_expression_raw_data$Hugo_Symbol\n",
    "na_idx <- is.na(rownames(raw_counts))\n",
    "rownames(raw_counts)[na_idx] <- 'Unknown'\n",
    "\n",
    "\n",
    "gene_level_df = data.frame(Gene_name = RNA_Seq_expression_raw_data$Hugo_Symbol, Mean = gene_means, CV = gene_CVs)\n",
    "\n",
    "ggplot(gene_level_df, aes(Mean, CV)) + geom_point() + scale_x_log10(breaks = log_breaks(5))\n"
   ]
  },
  {
   "cell_type": "code",
   "execution_count": 14,
   "id": "8b4ea258-d3ab-49df-beb2-4ad8b59a2685",
   "metadata": {
    "execution": {
     "iopub.execute_input": "2023-09-04T20:37:55.150388Z",
     "iopub.status.busy": "2023-09-04T20:37:55.147613Z",
     "iopub.status.idle": "2023-09-04T20:37:55.278221Z",
     "shell.execute_reply": "2023-09-04T20:37:55.274884Z"
    },
    "vscode": {
     "languageId": "r"
    }
   },
   "outputs": [],
   "source": [
    "## cells per guide count\n",
    "guides = unique(filtered_meta_data$guide)\n",
    "\n",
    "cells_per_guide = vector()\n",
    "for (i in 1:length(guides)){\n",
    "    cells_per_guide[i] = length(which(filtered_meta_data$guide == guides[i]))\n",
    "}\n",
    "\n",
    "cell_gd_count = data.frame(guide_name = guides, cell_count = cells_per_guide)\n",
    "\n"
   ]
  },
  {
   "cell_type": "code",
   "execution_count": 15,
   "id": "fe5f301a-8ab7-418a-a694-ccca2a14a774",
   "metadata": {
    "execution": {
     "iopub.execute_input": "2023-09-04T20:37:55.290057Z",
     "iopub.status.busy": "2023-09-04T20:37:55.285507Z",
     "iopub.status.idle": "2023-09-04T20:37:55.867728Z",
     "shell.execute_reply": "2023-09-04T20:37:55.862950Z"
    },
    "vscode": {
     "languageId": "r"
    }
   },
   "outputs": [
    {
     "name": "stderr",
     "output_type": "stream",
     "text": [
      "Warning message:\n",
      "“Removed 24 rows containing non-finite values (stat_bin).”\n",
      "Warning message:\n",
      "“Removed 2 rows containing missing values (geom_bar).”\n"
     ]
    },
    {
     "data": {
      "image/png": "[encoded data removed]",
      "text/plain": [
       "plot without title"
      ]
     },
     "metadata": {
      "image/png": {
       "height": 420,
       "width": 420
      }
     },
     "output_type": "display_data"
    }
   ],
   "source": [
    "### show distribution of cells per guide\n",
    "\n",
    "ggplot(cell_gd_count, aes(x=cell_count)) +\n",
    "geom_histogram(position=\"identity\", alpha=0.5, bins = 1000) + xlim(c(0,200)) +\n",
    "theme_classic()\n"
   ]
  },
  {
   "cell_type": "code",
   "execution_count": 16,
   "id": "b05bc558-be72-41ec-a3ca-0314327fdc5b",
   "metadata": {
    "execution": {
     "iopub.execute_input": "2023-09-04T20:37:55.879749Z",
     "iopub.status.busy": "2023-09-04T20:37:55.875407Z",
     "iopub.status.idle": "2023-09-04T20:38:55.854754Z",
     "shell.execute_reply": "2023-09-04T20:38:55.851207Z"
    },
    "vscode": {
     "languageId": "r"
    }
   },
   "outputs": [],
   "source": [
    "### divide expression mtx into a list of mtxs subsetted by guide\n",
    "\n",
    "mtx_subsetter = function(guide_nm, matrix, meta_data){\n",
    "    return(matrix[, meta_data$guide == guide_nm])}\n",
    "\n",
    "guide_subsetted_data = pblapply(X = guides, FUN = mtx_subsetter, \n",
    "                                matrix = filtered_raw_mtx, meta_data = filtered_meta_data)\n",
    "\n",
    "names(guide_subsetted_data) = guides"
   ]
  },
  {
   "cell_type": "code",
   "execution_count": 17,
   "id": "1acfb4cb-4df1-442d-ab74-3f57aa6df03c",
   "metadata": {
    "execution": {
     "iopub.execute_input": "2023-09-04T20:38:55.871819Z",
     "iopub.status.busy": "2023-09-04T20:38:55.869147Z",
     "iopub.status.idle": "2023-09-04T20:38:56.654593Z",
     "shell.execute_reply": "2023-09-04T20:38:56.651149Z"
    },
    "vscode": {
     "languageId": "r"
    }
   },
   "outputs": [],
   "source": [
    "## control number of cells per guide to be equivalent\n",
    "## throw out guides with < 30 cells and for the remaining guides sample 30 cells without replacement\n",
    "fixed_cell_count = 30\n",
    "guide_subsetted_data = guide_subsetted_data[cells_per_guide >= fixed_cell_count]\n",
    "cells_to_discard = list()\n",
    "\n",
    "## set.seed(22) ## ignore since seed already set above\n",
    "\n",
    "for (i in 1:length(guide_subsetted_data)){\n",
    "    idx_to_keep = sample(1:ncol(guide_subsetted_data[[i]]), fixed_cell_count, replace = FALSE)\n",
    "    idx_to_discard = setdiff(1:ncol(guide_subsetted_data[[i]]), idx_to_keep)\n",
    "    cells_to_discard[[i]] = colnames(guide_subsetted_data[[i]])[idx_to_discard]\n",
    "    guide_subsetted_data[[i]] = guide_subsetted_data[[i]][,idx_to_keep]\n",
    "}\n",
    "\n",
    "cells_to_discard = unlist(cells_to_discard)"
   ]
  },
  {
   "cell_type": "code",
   "execution_count": 18,
   "id": "02b73731-ff0f-4c36-b3b0-e6ed3d74a24b",
   "metadata": {
    "execution": {
     "iopub.execute_input": "2023-09-04T20:38:56.665606Z",
     "iopub.status.busy": "2023-09-04T20:38:56.661535Z",
     "iopub.status.idle": "2023-09-04T20:39:00.778044Z",
     "shell.execute_reply": "2023-09-04T20:39:00.776503Z"
    },
    "vscode": {
     "languageId": "r"
    }
   },
   "outputs": [],
   "source": [
    "idx_to_discard = which(is.na(match(filtered_meta_data$guide, guides[which(cells_per_guide >= fixed_cell_count)])))\n",
    "filtered_raw_mtx = filtered_raw_mtx[, -idx_to_discard]\n",
    "filtered_meta_data = filtered_meta_data[-idx_to_discard,]\n",
    "guides = guides[cells_per_guide >= fixed_cell_count]\n",
    "cells_per_guide = cells_per_guide[cells_per_guide >= fixed_cell_count]"
   ]
  },
  {
   "cell_type": "code",
   "execution_count": 19,
   "id": "6429a567-e4e1-4e13-9931-b32fc35141dc",
   "metadata": {
    "execution": {
     "iopub.execute_input": "2023-09-04T20:39:00.783513Z",
     "iopub.status.busy": "2023-09-04T20:39:00.782387Z",
     "iopub.status.idle": "2023-09-04T20:39:01.139619Z",
     "shell.execute_reply": "2023-09-04T20:39:01.138057Z"
    },
    "vscode": {
     "languageId": "r"
    }
   },
   "outputs": [],
   "source": [
    "discard_matched = match(cells_to_discard, colnames(filtered_raw_mtx))\n",
    "filtered_raw_mtx = filtered_raw_mtx[,-discard_matched]\n",
    "filtered_meta_data = filtered_meta_data[-discard_matched,]\n",
    "cells_per_guide = rep(fixed_cell_count, length(cells_per_guide))"
   ]
  },
  {
   "cell_type": "code",
   "execution_count": 20,
   "id": "8ed6ca1a-74d1-46a0-aa1d-1aadda7f1b11",
   "metadata": {
    "execution": {
     "iopub.execute_input": "2023-09-04T20:39:01.145376Z",
     "iopub.status.busy": "2023-09-04T20:39:01.144177Z",
     "iopub.status.idle": "2023-09-04T20:39:07.271617Z",
     "shell.execute_reply": "2023-09-04T20:39:07.268319Z"
    },
    "vscode": {
     "languageId": "r"
    }
   },
   "outputs": [],
   "source": [
    "## add bkg distribution of guide subsetted mtxs to list\n",
    "## this is just mtxs where the cells are randomly assigned to each guide\n",
    "## the bkg distribution of mtxs is made to subtract out number of genes that are expected to have increased or decreased CV when cells assigned randomly to each guide\n",
    "## Note: the number of cells assigned to each guide is kept the same\n",
    "\n",
    "set.seed(seed)\n",
    "randomized_cell_order = sample(colnames(filtered_raw_mtx), ncol(filtered_raw_mtx), replace = FALSE)\n",
    "randomized_filtered_raw_mtx = filtered_raw_mtx[,randomized_cell_order]\n",
    "\n",
    "designation_vector = mapply(rep, guides, fixed_cell_count, SIMPLIFY = TRUE)\n",
    "designation_vector = unlist(designation_vector)\n",
    "designation_vector = as.character(designation_vector)\n",
    "split_barcodes = split(randomized_cell_order, designation_vector)\n",
    "mtx_random_splitter = function(barcodes, mtx){return(mtx[,barcodes])}\n",
    "\n",
    "guide_random_subsetted_data = pblapply(X = split_barcodes, FUN = mtx_random_splitter, mtx = randomized_filtered_raw_mtx)\n",
    "names(guide_random_subsetted_data) = paste('random', guides, sep = '_')"
   ]
  },
  {
   "cell_type": "code",
   "execution_count": 21,
   "id": "88d366fe-9b4b-4063-a123-dd60af1f1ae1",
   "metadata": {
    "execution": {
     "iopub.execute_input": "2023-09-04T20:39:07.282262Z",
     "iopub.status.busy": "2023-09-04T20:39:07.278379Z",
     "iopub.status.idle": "2023-09-04T20:39:07.304681Z",
     "shell.execute_reply": "2023-09-04T20:39:07.300682Z"
    },
    "vscode": {
     "languageId": "r"
    }
   },
   "outputs": [],
   "source": [
    "guide_subsetted_data = c(guide_subsetted_data, guide_random_subsetted_data)"
   ]
  },
  {
   "cell_type": "code",
   "execution_count": 22,
   "id": "b80f6a8b-48cd-4fca-8702-cb6380f0c50d",
   "metadata": {
    "execution": {
     "iopub.execute_input": "2023-09-04T20:39:07.314735Z",
     "iopub.status.busy": "2023-09-04T20:39:07.310934Z",
     "iopub.status.idle": "2023-09-04T20:39:11.963220Z",
     "shell.execute_reply": "2023-09-04T20:39:11.959776Z"
    },
    "vscode": {
     "languageId": "r"
    }
   },
   "outputs": [],
   "source": [
    "## compare each of the guide subsetted data to the control subsetted data and\n",
    "## create the following table for each guide:\n",
    "## gene | CV1 (ctrl) | CV2 (gd) | CV2/CV1 | Increasing or Decreasing CV (ie CV2/CV1 > 1 or CV2/CV1 < 1) | asymptotic test p-value | q-value \n",
    "\n",
    "\n",
    "## CV calculator\n",
    "CV_calculator = function(x){return((sparseMatrixStats::rowSds(x))/(sparseMatrixStats::rowMeans2(x)))}\n",
    "CVs = pblapply(X = guide_subsetted_data, FUN = CV_calculator)\n",
    "names(CVs) = names(guide_subsetted_data)"
   ]
  },
  {
   "cell_type": "code",
   "execution_count": 23,
   "id": "d0bd4543-2237-4212-a302-460351266fbd",
   "metadata": {
    "execution": {
     "iopub.execute_input": "2023-09-04T20:39:11.971896Z",
     "iopub.status.busy": "2023-09-04T20:39:11.969364Z",
     "iopub.status.idle": "2023-09-04T20:39:27.973231Z",
     "shell.execute_reply": "2023-09-04T20:39:27.971514Z"
    },
    "vscode": {
     "languageId": "r"
    }
   },
   "outputs": [],
   "source": [
    "### creating first 4 columns of the table annotated above\n",
    "gene_means = lapply(guide_subsetted_data, sparseMatrixStats::rowMeans2)\n",
    "gene_sds = lapply(guide_subsetted_data, sparseMatrixStats::rowSds)\n",
    "names(gene_means) = names(guide_subsetted_data)\n",
    "names(gene_sds) = names(guide_subsetted_data)\n",
    "\n",
    "\n",
    "master_df_list = list()\n",
    "for (i in 1:length(guide_subsetted_data)){\n",
    "    if (!startsWith(names(guide_subsetted_data)[i], 'random')){\n",
    "        master_df_list[[i]] = data.frame(gene = rownames(filtered_raw_mtx), CV_ctrl = CVs[['TuD_NC']], \n",
    "                                         CV_gd = CVs[[i]], CV_gdCV_ctrlratio = CVs[[i]]/CVs[['TuD_NC']])\n",
    "        names(master_df_list)[i] <- names(guide_subsetted_data)[i]\n",
    "    }\n",
    "    if (startsWith(names(guide_subsetted_data)[i], 'random')){\n",
    "        master_df_list[[i]] = data.frame(gene = rownames(filtered_raw_mtx), CV_ctrl = CVs[['TuD_NC']], \n",
    "                                         CV_gd = CVs[[i]], CV_gdCV_ctrlratio = CVs[[i]]/CVs[['TuD_NC']])\n",
    "        names(master_df_list)[i] <- names(guide_subsetted_data)[i]\n",
    "    }\n",
    "}\n",
    "\n"
   ]
  },
  {
   "cell_type": "code",
   "execution_count": 24,
   "id": "388fc600-7854-42b5-a4c7-9276dd3d668b",
   "metadata": {
    "execution": {
     "iopub.execute_input": "2023-09-04T20:39:27.977270Z",
     "iopub.status.busy": "2023-09-04T20:39:27.976273Z",
     "iopub.status.idle": "2023-09-04T20:39:28.173534Z",
     "shell.execute_reply": "2023-09-04T20:39:28.170275Z"
    },
    "vscode": {
     "languageId": "r"
    }
   },
   "outputs": [],
   "source": [
    "### creating column 5 of the table annotated above\n",
    "for (i in 1:length(master_df_list)){\n",
    "    master_df_list[[i]]$gene_status = 'NA'\n",
    "    master_df_list[[i]]$gene_status[master_df_list[[i]]$CV_gdCV_ctrlratio == 1] = 'No Change'\n",
    "    master_df_list[[i]]$gene_status[master_df_list[[i]]$CV_gdCV_ctrlratio > 1] = 'Increasing'\n",
    "    master_df_list[[i]]$gene_status[master_df_list[[i]]$CV_gdCV_ctrlratio < 1] = 'Decreasing'               \n",
    "}\n"
   ]
  },
  {
   "cell_type": "code",
   "execution_count": 25,
   "id": "32783fba-cc06-4e8a-b597-a6fbf1ad03fd",
   "metadata": {
    "execution": {
     "iopub.execute_input": "2023-09-04T20:39:28.181648Z",
     "iopub.status.busy": "2023-09-04T20:39:28.179292Z",
     "iopub.status.idle": "2023-09-04T20:42:37.859974Z",
     "shell.execute_reply": "2023-09-04T20:42:37.855770Z"
    },
    "vscode": {
     "languageId": "r"
    }
   },
   "outputs": [],
   "source": [
    "## performing CV equality aysmptotic test and adding its pval to master_df_list\n",
    "cells_per_guide = rep(cells_per_guide, 2)\n",
    "names(cells_per_guide) = names(guide_subsetted_data)\n",
    "asymp_test_p_vals = as.data.frame(matrix(0, nrow = nrow(filtered_raw_mtx), ncol = length(master_df_list)))\n",
    "\n",
    "\n",
    "for (i in 1:length(master_df_list)){\n",
    "    if (!startsWith(names(guide_subsetted_data)[i], 'random')){\n",
    "        for (j in 1:nrow(filtered_raw_mtx)){\n",
    "            test = asymptotic_test2(k = 2, n = c(cells_per_guide['TuD_NC'], cells_per_guide[i]), s = c(gene_sds[['TuD_NC']][j], gene_sds[[i]][j]), \n",
    "                                    x = c(gene_means[['TuD_NC']][j], gene_means[[i]][j]))\n",
    "            asymp_test_p_vals[j,i] = test$p_value\n",
    "        }\n",
    "    }\n",
    "    if (startsWith(names(guide_subsetted_data)[i], 'random')){\n",
    "        for (j in 1:nrow(filtered_raw_mtx)){\n",
    "            test = asymptotic_test2(k = 2, n = c(cells_per_guide['TuD_NC'], cells_per_guide[i]), s = c(gene_sds[['TuD_NC']][j], gene_sds[[i]][j]), \n",
    "                                    x = c(gene_means[['TuD_NC']][j], gene_means[[i]][j]))\n",
    "            asymp_test_p_vals[j,i] = test$p_value\n",
    "        }    \n",
    "    }\n",
    "    master_df_list[[i]]$p_val = asymp_test_p_vals[,i]\n",
    "}"
   ]
  },
  {
   "cell_type": "code",
   "execution_count": 26,
   "id": "f3919dca-8690-453c-aac3-51398c85e33f",
   "metadata": {
    "execution": {
     "iopub.execute_input": "2023-09-04T20:42:37.905663Z",
     "iopub.status.busy": "2023-09-04T20:42:37.903135Z",
     "iopub.status.idle": "2023-09-04T20:42:41.714078Z",
     "shell.execute_reply": "2023-09-04T20:42:41.711198Z"
    },
    "vscode": {
     "languageId": "r"
    }
   },
   "outputs": [],
   "source": [
    "## Converting p-values to q-values and adding to master_df_list\n",
    "\n",
    "for (i in 1:length(master_df_list)){\n",
    "    q_vals = qvalue(master_df_list[[i]]$p_val, fdr.level = 0.05)\n",
    "    master_df_list[[i]]$q_val = q_vals$qvalues\n",
    "}\n",
    "\n",
    "master_df_list[c('TuD_NC', 'random_TuD_NC')] <- NULL\n",
    "guide_subsetted_data[c('TuD_NC', 'random_TuD_NC')] <- NULL"
   ]
  },
  {
   "cell_type": "code",
   "execution_count": 27,
   "id": "bc99e8cd-204b-4bf8-ab58-ba728b37e463",
   "metadata": {
    "execution": {
     "iopub.execute_input": "2023-09-04T20:42:41.722466Z",
     "iopub.status.busy": "2023-09-04T20:42:41.720264Z",
     "iopub.status.idle": "2023-09-04T20:42:42.272554Z",
     "shell.execute_reply": "2023-09-04T20:42:42.267122Z"
    },
    "vscode": {
     "languageId": "r"
    }
   },
   "outputs": [],
   "source": [
    "## Count number of CV_gdCV_ctrlratio genes > 1 (ie gene_status 'Increasing') with q-val < 0.05\n",
    "## Count number of CV_gdCV_ctrlratio genes < 1 (ie gene_status 'Decreasing') with q-val < 0.05\n",
    "filtered_master_df_list = lapply(master_df_list, dplyr::filter, q_val < 0.05)\n",
    "gene_status_list = lapply(filtered_master_df_list, '[[', 'gene_status')\n",
    "\n",
    "count_increasing = function(x){length(which(x == 'Increasing'))}\n",
    "count_decreasing = function(x){length(which(x == 'Decreasing'))}\n",
    "\n",
    "number_of_increasing_CV_genes = sapply(gene_status_list, count_increasing)\n",
    "number_of_decreasing_CV_genes = sapply(gene_status_list, count_decreasing)\n",
    "\n",
    "metric_change_df = data.frame(guide = names(master_df_list), increasing_CV_genes = number_of_increasing_CV_genes, decreasing_CV_genes = number_of_decreasing_CV_genes)"
   ]
  },
  {
   "cell_type": "code",
   "execution_count": 28,
   "id": "a4dedbc2-b988-4aa9-b2e7-a63329a18aef",
   "metadata": {
    "execution": {
     "iopub.execute_input": "2023-09-04T20:42:42.296364Z",
     "iopub.status.busy": "2023-09-04T20:42:42.287486Z",
     "iopub.status.idle": "2023-09-04T20:42:42.331574Z",
     "shell.execute_reply": "2023-09-04T20:42:42.328166Z"
    },
    "vscode": {
     "languageId": "r"
    }
   },
   "outputs": [],
   "source": [
    "## z-score each guide by the following formula:\n",
    "## (# of genes increased CV in guide - mean(# of genes increased CV bkg))/sd(# of genes increased CV bkg)\n",
    "## (# of genes decreased CV in guide - mean(# of genes decreased CV bkg))/sd(# of genes decreased CV bkg)\n",
    "\n",
    "increasing_random_vals = metric_change_df$increasing_CV_genes[startsWith(rownames(metric_change_df), 'random')]\n",
    "metric_change_df$z_score_increasing_genes = (metric_change_df$increasing_CV_genes - mean(increasing_random_vals)) / sd(increasing_random_vals)\n",
    "\n",
    "decreasing_random_vals = metric_change_df$decreasing_CV_genes[startsWith(rownames(metric_change_df), 'random')]\n",
    "metric_change_df$z_score_decreasing_genes = (metric_change_df$decreasing_CV_genes - mean(decreasing_random_vals)) / sd(decreasing_random_vals)"
   ]
  },
  {
   "cell_type": "code",
   "execution_count": 29,
   "id": "18fa305f-4fbb-44d3-995b-39f707b357de",
   "metadata": {
    "execution": {
     "iopub.execute_input": "2023-09-04T20:42:42.340304Z",
     "iopub.status.busy": "2023-09-04T20:42:42.336881Z",
     "iopub.status.idle": "2023-09-04T20:42:42.365522Z",
     "shell.execute_reply": "2023-09-04T20:42:42.362112Z"
    },
    "vscode": {
     "languageId": "r"
    }
   },
   "outputs": [],
   "source": [
    "path = paste0('~/projects/mir_tud/output_data/heterogeneity/updated_input_data/tRFs/', variant, 'metric_change_df.csv')\n",
    "write.csv(metric_change_df, file = path)"
   ]
  },
  {
   "cell_type": "code",
   "execution_count": null,
   "id": "53089cb8",
   "metadata": {
    "vscode": {
     "languageId": "r"
    }
   },
   "outputs": [],
   "source": []
  },
  {
   "cell_type": "code",
   "execution_count": 31,
   "id": "864159f2-ae56-4957-b58d-cc8f62da6fab",
   "metadata": {
    "execution": {
     "iopub.execute_input": "2023-09-04T20:42:47.543364Z",
     "iopub.status.busy": "2023-09-04T20:42:47.536997Z",
     "iopub.status.idle": "2023-09-04T20:42:47.561048Z",
     "shell.execute_reply": "2023-09-04T20:42:47.558679Z"
    },
    "vscode": {
     "languageId": "r"
    }
   },
   "outputs": [],
   "source": [
    "## most importantly see which guides have high z-scores in first graph and low in second \n",
    "## also which guides have low z-scores in first graph and high in second "
   ]
  },
  {
   "cell_type": "code",
   "execution_count": 32,
   "id": "c77bf1ca-5200-4c98-8dce-49d92924b6f3",
   "metadata": {
    "execution": {
     "iopub.execute_input": "2023-09-04T20:42:47.569269Z",
     "iopub.status.busy": "2023-09-04T20:42:47.566871Z",
     "iopub.status.idle": "2023-09-04T20:42:47.592852Z",
     "shell.execute_reply": "2023-09-04T20:42:47.590108Z"
    },
    "vscode": {
     "languageId": "r"
    }
   },
   "outputs": [],
   "source": [
    "### the next step could be a comparison between control cells\n",
    "## and each guide vs comparison between control cells and guides grouped by seed sequence\n",
    "## analagous to comparing magnitude of CV influence from q25/q75 analysis to q10/q90"
   ]
  }
 ],
 "metadata": {
  "kernelspec": {
   "display_name": "R",
   "language": "R",
   "name": "ir"
  },
  "language_info": {
   "codemirror_mode": "r",
   "file_extension": ".r",
   "mimetype": "text/x-r-source",
   "name": "R",
   "pygments_lexer": "r",
   "version": "3.6.3"
  }
 },
 "nbformat": 4,
 "nbformat_minor": 5
}
