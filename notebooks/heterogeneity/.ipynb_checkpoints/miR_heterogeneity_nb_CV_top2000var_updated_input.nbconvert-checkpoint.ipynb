{
 "cells": [
  {
   "cell_type": "code",
   "execution_count": 1,
   "id": "93472839-7c45-4eb2-bdac-c8930418f8a1",
   "metadata": {
    "execution": {
     "iopub.execute_input": "2023-02-20T01:49:31.423711Z",
     "iopub.status.busy": "2023-02-20T01:49:31.420386Z",
     "iopub.status.idle": "2023-02-20T01:49:31.451965Z",
     "shell.execute_reply": "2023-02-20T01:49:31.450137Z"
    }
   },
   "outputs": [],
   "source": [
    "## Notebook env: brian_script_env (R kernel)\n",
    "\n",
    "## Run Finding_variable_genes_ipynb before running this script\n",
    "### This script measures if a given guide's cells see increased or decreased\n",
    "### gene expression heterogeneity compared to control cells)\n",
    "\n",
    "### Coefficient of Variation (CV) or Mutant-Allele Tumor Heterogeneity (MATH)\n",
    "### are used to quantify heterogeneity depending on the analysis variant used"
   ]
  },
  {
   "cell_type": "code",
   "execution_count": 2,
   "id": "f464157a-e6a6-4313-8249-96e5d593c80c",
   "metadata": {
    "execution": {
     "iopub.execute_input": "2023-02-20T01:49:31.622580Z",
     "iopub.status.busy": "2023-02-20T01:49:31.508066Z",
     "iopub.status.idle": "2023-02-20T01:49:31.632344Z",
     "shell.execute_reply": "2023-02-20T01:49:31.630823Z"
    }
   },
   "outputs": [],
   "source": [
    "## things to shift:\n",
    "## increase fixed number of cells used"
   ]
  },
  {
   "cell_type": "code",
   "execution_count": 3,
   "id": "d8633b82-7448-42ba-8108-83f7351f9fec",
   "metadata": {
    "execution": {
     "iopub.execute_input": "2023-02-20T01:49:31.637119Z",
     "iopub.status.busy": "2023-02-20T01:49:31.636047Z",
     "iopub.status.idle": "2023-02-20T01:49:31.644844Z",
     "shell.execute_reply": "2023-02-20T01:49:31.643370Z"
    }
   },
   "outputs": [],
   "source": [
    "## things to adjust:\n",
    "## stringency of initial gene filter (lower it?) DONE\n",
    "## expand gene analysis to beyond top 2000 var genes DONE\n",
    "## remove random_TuD_NC from z-score calculations (should be fixed after making sure all guides use 30 cells)\n",
    "## use less stringent method to calculate q-values or some other analagous method that is less stringent on p-value correction (this will lead to more genes being usable for analysis)\n",
    "## use MATH to calculate variation shift instead of CV\n",
    "## # of cells per guide"
   ]
  },
  {
   "cell_type": "code",
   "execution_count": 4,
   "id": "5f3d71fa-5b2c-4c44-a27e-42516da8e258",
   "metadata": {
    "execution": {
     "iopub.execute_input": "2023-02-20T01:49:31.650088Z",
     "iopub.status.busy": "2023-02-20T01:49:31.648768Z",
     "iopub.status.idle": "2023-02-20T01:49:31.663170Z",
     "shell.execute_reply": "2023-02-20T01:49:31.661430Z"
    }
   },
   "outputs": [],
   "source": [
    "## This is modified version of Brian's q25 and q75 script: 'Analysis_heterogeneity_BRCA_TCGA_FPKM_approach_q25_q75.Rmd'\n",
    "#### EDIT THIS CELL TO ANNOTATE EACH NOTEBOOK VARIANT ####\n",
    "## This nb variant uses CV to quantify gene heterogeneity of all genes\n",
    "\n",
    "variant = 'CV_top2000var_'"
   ]
  },
  {
   "cell_type": "code",
   "execution_count": 5,
   "id": "106f5209-83ff-4bb0-80a3-2666eb6de715",
   "metadata": {
    "execution": {
     "iopub.execute_input": "2023-02-20T01:49:31.668201Z",
     "iopub.status.busy": "2023-02-20T01:49:31.666960Z",
     "iopub.status.idle": "2023-02-20T01:49:35.955489Z",
     "shell.execute_reply": "2023-02-20T01:49:35.953840Z"
    }
   },
   "outputs": [
    {
     "name": "stderr",
     "output_type": "stream",
     "text": [
      "\n",
      "Attaching package: ‘gplots’\n",
      "\n",
      "\n",
      "The following object is masked from ‘package:stats’:\n",
      "\n",
      "    lowess\n",
      "\n",
      "\n"
     ]
    }
   ],
   "source": [
    "library(ggplot2)\n",
    "library(stringr)\n",
    "library(scales)\n",
    "library(parallel)\n",
    "library(cvequality)\n",
    "library(readxl)\n",
    "library(tibble)\n",
    "library(pbapply)\n",
    "library(qvalue)\n",
    "library(gplots)\n",
    "library(stats)\n",
    "library(reshape2)\n",
    "library(gridExtra)\n",
    "library(Seurat)\n",
    "library(Matrix)\n",
    "library(sparseMatrixStats)"
   ]
  },
  {
   "cell_type": "code",
   "execution_count": 6,
   "id": "27839889-16a9-4bc5-9396-ee2194801396",
   "metadata": {
    "execution": {
     "iopub.execute_input": "2023-02-20T01:49:35.964402Z",
     "iopub.status.busy": "2023-02-20T01:49:35.960968Z",
     "iopub.status.idle": "2023-02-20T01:49:37.345924Z",
     "shell.execute_reply": "2023-02-20T01:49:37.343801Z"
    }
   },
   "outputs": [
    {
     "data": {
      "text/html": [
       "<table class=\"dataframe\">\n",
       "<caption>A data.frame: 6 × 22</caption>\n",
       "<thead>\n",
       "\t<tr><th></th><th scope=col>X</th><th scope=col>nCount_RNA</th><th scope=col>nFeature_RNA</th><th scope=col>orig.ident</th><th scope=col>sample</th><th scope=col>barcode</th><th scope=col>guide</th><th scope=col>lor</th><th scope=col>pvalue</th><th scope=col>adj_pvalue</th><th scope=col>⋯</th><th scope=col>m_umi</th><th scope=col>v_umi</th><th scope=col>log_max_umi</th><th scope=col>log_n_umi</th><th scope=col>log_m_umi</th><th scope=col>percent.mt</th><th scope=col>integrated_snn_res.0.5</th><th scope=col>seurat_clusters</th><th scope=col>guide_group</th><th scope=col>miR.family</th></tr>\n",
       "\t<tr><th></th><th scope=col>&lt;fct&gt;</th><th scope=col>&lt;int&gt;</th><th scope=col>&lt;int&gt;</th><th scope=col>&lt;fct&gt;</th><th scope=col>&lt;fct&gt;</th><th scope=col>&lt;fct&gt;</th><th scope=col>&lt;chr&gt;</th><th scope=col>&lt;dbl&gt;</th><th scope=col>&lt;dbl&gt;</th><th scope=col>&lt;dbl&gt;</th><th scope=col>⋯</th><th scope=col>&lt;dbl&gt;</th><th scope=col>&lt;dbl&gt;</th><th scope=col>&lt;dbl&gt;</th><th scope=col>&lt;dbl&gt;</th><th scope=col>&lt;dbl&gt;</th><th scope=col>&lt;dbl&gt;</th><th scope=col>&lt;int&gt;</th><th scope=col>&lt;fct&gt;</th><th scope=col>&lt;fct&gt;</th><th scope=col>&lt;fct&gt;</th></tr>\n",
       "</thead>\n",
       "<tbody>\n",
       "\t<tr><th scope=row>miR_1:AAACCCAAGGAGAGGC-1</th><td>miR_1:AAACCCAAGGAGAGGC-1</td><td>33954</td><td>5998</td><td>miR</td><td>miR_1</td><td>AAACCCAAGGAGAGGC</td><td>miR-203a-3p.1           </td><td>5.453121</td><td>2.983000e-159</td><td>3.010603e-152</td><td>⋯</td><td>0.1964736</td><td>11.324937</td><td>1.826075</td><td>1.892095</td><td>-0.7066959</td><td> 8.576309</td><td>2</td><td>T2     </td><td>target </td><td>miR-203a-3p.1           </td></tr>\n",
       "\t<tr><th scope=row>miR_1:AAACCCAAGGTAAACT-1</th><td>miR_1:AAACCCAAGGTAAACT-1</td><td>31928</td><td>6868</td><td>miR</td><td>miR_1</td><td>AAACCCAAGGTAAACT</td><td>miR-93-3p               </td><td>6.012001</td><td>3.907611e-225</td><td>3.943769e-218</td><td>⋯</td><td>0.2720403</td><td>23.713686</td><td>1.986772</td><td>2.033424</td><td>-0.5653668</td><td> 6.549110</td><td>0</td><td>T0     </td><td>target </td><td>miR-93-3p               </td></tr>\n",
       "\t<tr><th scope=row>miR_1:AAACCCACAACGATCT-1</th><td>miR_1:AAACCCACAACGATCT-1</td><td>42785</td><td>7447</td><td>miR</td><td>miR_1</td><td>AAACCCACAACGATCT</td><td>miR-130-3p/301-3p/454-3p</td><td>5.864701</td><td>3.299362e-202</td><td>3.329893e-195</td><td>⋯</td><td>0.2846348</td><td>19.981910</td><td>1.949390</td><td>2.053078</td><td>-0.5457121</td><td> 8.844221</td><td>0</td><td>T0     </td><td>target </td><td>miR-130-3p/301-3p/454-3p</td></tr>\n",
       "\t<tr><th scope=row>miR_1:AAACCCACACGATTCA-1</th><td>miR_1:AAACCCACACGATTCA-1</td><td>58537</td><td>8039</td><td>miR</td><td>miR_1</td><td>AAACCCACACGATTCA</td><td>TuD_NC                  </td><td>5.859895</td><td>2.574602e-201</td><td>2.598426e-194</td><td>⋯</td><td>0.2871537</td><td>23.235516</td><td>1.982271</td><td>2.056905</td><td>-0.5418857</td><td>10.072262</td><td>1</td><td>control</td><td>control</td><td>NA                      </td></tr>\n",
       "\t<tr><th scope=row>miR_1:AAACCCACAGTCAACT-1</th><td>miR_1:AAACCCACAGTCAACT-1</td><td>31579</td><td>6580</td><td>miR</td><td>miR_1</td><td>AAACCCACAGTCAACT</td><td>miR-147b                </td><td>5.632808</td><td>3.564463e-178</td><td>3.597446e-171</td><td>⋯</td><td>0.2166247</td><td>12.725683</td><td>1.851258</td><td>1.934498</td><td>-0.6642921</td><td> 7.698154</td><td>8</td><td>T8     </td><td>target </td><td>miR-147b                </td></tr>\n",
       "\t<tr><th scope=row>miR_1:AAACCCACATCTCATT-1</th><td>miR_1:AAACCCACATCTCATT-1</td><td>20694</td><td>5353</td><td>miR</td><td>miR_1</td><td>AAACCCACATCTCATT</td><td>miR-501-5p              </td><td>5.261722</td><td>7.493882e-143</td><td>7.563226e-136</td><td>⋯</td><td>0.1612091</td><td> 8.484047</td><td>1.763428</td><td>1.806180</td><td>-0.7926105</td><td> 5.533005</td><td>7</td><td>T7     </td><td>target </td><td>miR-501-5p              </td></tr>\n",
       "</tbody>\n",
       "</table>\n"
      ],
      "text/latex": [
       "A data.frame: 6 × 22\n",
       "\\begin{tabular}{r|lllllllllllllllllllll}\n",
       "  & X & nCount\\_RNA & nFeature\\_RNA & orig.ident & sample & barcode & guide & lor & pvalue & adj\\_pvalue & ⋯ & m\\_umi & v\\_umi & log\\_max\\_umi & log\\_n\\_umi & log\\_m\\_umi & percent.mt & integrated\\_snn\\_res.0.5 & seurat\\_clusters & guide\\_group & miR.family\\\\\n",
       "  & <fct> & <int> & <int> & <fct> & <fct> & <fct> & <chr> & <dbl> & <dbl> & <dbl> & ⋯ & <dbl> & <dbl> & <dbl> & <dbl> & <dbl> & <dbl> & <int> & <fct> & <fct> & <fct>\\\\\n",
       "\\hline\n",
       "\tmiR\\_1:AAACCCAAGGAGAGGC-1 & miR\\_1:AAACCCAAGGAGAGGC-1 & 33954 & 5998 & miR & miR\\_1 & AAACCCAAGGAGAGGC & miR-203a-3p.1            & 5.453121 & 2.983000e-159 & 3.010603e-152 & ⋯ & 0.1964736 & 11.324937 & 1.826075 & 1.892095 & -0.7066959 &  8.576309 & 2 & T2      & target  & miR-203a-3p.1           \\\\\n",
       "\tmiR\\_1:AAACCCAAGGTAAACT-1 & miR\\_1:AAACCCAAGGTAAACT-1 & 31928 & 6868 & miR & miR\\_1 & AAACCCAAGGTAAACT & miR-93-3p                & 6.012001 & 3.907611e-225 & 3.943769e-218 & ⋯ & 0.2720403 & 23.713686 & 1.986772 & 2.033424 & -0.5653668 &  6.549110 & 0 & T0      & target  & miR-93-3p               \\\\\n",
       "\tmiR\\_1:AAACCCACAACGATCT-1 & miR\\_1:AAACCCACAACGATCT-1 & 42785 & 7447 & miR & miR\\_1 & AAACCCACAACGATCT & miR-130-3p/301-3p/454-3p & 5.864701 & 3.299362e-202 & 3.329893e-195 & ⋯ & 0.2846348 & 19.981910 & 1.949390 & 2.053078 & -0.5457121 &  8.844221 & 0 & T0      & target  & miR-130-3p/301-3p/454-3p\\\\\n",
       "\tmiR\\_1:AAACCCACACGATTCA-1 & miR\\_1:AAACCCACACGATTCA-1 & 58537 & 8039 & miR & miR\\_1 & AAACCCACACGATTCA & TuD\\_NC                   & 5.859895 & 2.574602e-201 & 2.598426e-194 & ⋯ & 0.2871537 & 23.235516 & 1.982271 & 2.056905 & -0.5418857 & 10.072262 & 1 & control & control & NA                      \\\\\n",
       "\tmiR\\_1:AAACCCACAGTCAACT-1 & miR\\_1:AAACCCACAGTCAACT-1 & 31579 & 6580 & miR & miR\\_1 & AAACCCACAGTCAACT & miR-147b                 & 5.632808 & 3.564463e-178 & 3.597446e-171 & ⋯ & 0.2166247 & 12.725683 & 1.851258 & 1.934498 & -0.6642921 &  7.698154 & 8 & T8      & target  & miR-147b                \\\\\n",
       "\tmiR\\_1:AAACCCACATCTCATT-1 & miR\\_1:AAACCCACATCTCATT-1 & 20694 & 5353 & miR & miR\\_1 & AAACCCACATCTCATT & miR-501-5p               & 5.261722 & 7.493882e-143 & 7.563226e-136 & ⋯ & 0.1612091 &  8.484047 & 1.763428 & 1.806180 & -0.7926105 &  5.533005 & 7 & T7      & target  & miR-501-5p              \\\\\n",
       "\\end{tabular}\n"
      ],
      "text/markdown": [
       "\n",
       "A data.frame: 6 × 22\n",
       "\n",
       "| <!--/--> | X &lt;fct&gt; | nCount_RNA &lt;int&gt; | nFeature_RNA &lt;int&gt; | orig.ident &lt;fct&gt; | sample &lt;fct&gt; | barcode &lt;fct&gt; | guide &lt;chr&gt; | lor &lt;dbl&gt; | pvalue &lt;dbl&gt; | adj_pvalue &lt;dbl&gt; | ⋯ ⋯ | m_umi &lt;dbl&gt; | v_umi &lt;dbl&gt; | log_max_umi &lt;dbl&gt; | log_n_umi &lt;dbl&gt; | log_m_umi &lt;dbl&gt; | percent.mt &lt;dbl&gt; | integrated_snn_res.0.5 &lt;int&gt; | seurat_clusters &lt;fct&gt; | guide_group &lt;fct&gt; | miR.family &lt;fct&gt; |\n",
       "|---|---|---|---|---|---|---|---|---|---|---|---|---|---|---|---|---|---|---|---|---|---|\n",
       "| miR_1:AAACCCAAGGAGAGGC-1 | miR_1:AAACCCAAGGAGAGGC-1 | 33954 | 5998 | miR | miR_1 | AAACCCAAGGAGAGGC | miR-203a-3p.1            | 5.453121 | 2.983000e-159 | 3.010603e-152 | ⋯ | 0.1964736 | 11.324937 | 1.826075 | 1.892095 | -0.7066959 |  8.576309 | 2 | T2      | target  | miR-203a-3p.1            |\n",
       "| miR_1:AAACCCAAGGTAAACT-1 | miR_1:AAACCCAAGGTAAACT-1 | 31928 | 6868 | miR | miR_1 | AAACCCAAGGTAAACT | miR-93-3p                | 6.012001 | 3.907611e-225 | 3.943769e-218 | ⋯ | 0.2720403 | 23.713686 | 1.986772 | 2.033424 | -0.5653668 |  6.549110 | 0 | T0      | target  | miR-93-3p                |\n",
       "| miR_1:AAACCCACAACGATCT-1 | miR_1:AAACCCACAACGATCT-1 | 42785 | 7447 | miR | miR_1 | AAACCCACAACGATCT | miR-130-3p/301-3p/454-3p | 5.864701 | 3.299362e-202 | 3.329893e-195 | ⋯ | 0.2846348 | 19.981910 | 1.949390 | 2.053078 | -0.5457121 |  8.844221 | 0 | T0      | target  | miR-130-3p/301-3p/454-3p |\n",
       "| miR_1:AAACCCACACGATTCA-1 | miR_1:AAACCCACACGATTCA-1 | 58537 | 8039 | miR | miR_1 | AAACCCACACGATTCA | TuD_NC                   | 5.859895 | 2.574602e-201 | 2.598426e-194 | ⋯ | 0.2871537 | 23.235516 | 1.982271 | 2.056905 | -0.5418857 | 10.072262 | 1 | control | control | NA                       |\n",
       "| miR_1:AAACCCACAGTCAACT-1 | miR_1:AAACCCACAGTCAACT-1 | 31579 | 6580 | miR | miR_1 | AAACCCACAGTCAACT | miR-147b                 | 5.632808 | 3.564463e-178 | 3.597446e-171 | ⋯ | 0.2166247 | 12.725683 | 1.851258 | 1.934498 | -0.6642921 |  7.698154 | 8 | T8      | target  | miR-147b                 |\n",
       "| miR_1:AAACCCACATCTCATT-1 | miR_1:AAACCCACATCTCATT-1 | 20694 | 5353 | miR | miR_1 | AAACCCACATCTCATT | miR-501-5p               | 5.261722 | 7.493882e-143 | 7.563226e-136 | ⋯ | 0.1612091 |  8.484047 | 1.763428 | 1.806180 | -0.7926105 |  5.533005 | 7 | T7      | target  | miR-501-5p               |\n",
       "\n"
      ],
      "text/plain": [
       "                         X                        nCount_RNA nFeature_RNA\n",
       "miR_1:AAACCCAAGGAGAGGC-1 miR_1:AAACCCAAGGAGAGGC-1 33954      5998        \n",
       "miR_1:AAACCCAAGGTAAACT-1 miR_1:AAACCCAAGGTAAACT-1 31928      6868        \n",
       "miR_1:AAACCCACAACGATCT-1 miR_1:AAACCCACAACGATCT-1 42785      7447        \n",
       "miR_1:AAACCCACACGATTCA-1 miR_1:AAACCCACACGATTCA-1 58537      8039        \n",
       "miR_1:AAACCCACAGTCAACT-1 miR_1:AAACCCACAGTCAACT-1 31579      6580        \n",
       "miR_1:AAACCCACATCTCATT-1 miR_1:AAACCCACATCTCATT-1 20694      5353        \n",
       "                         orig.ident sample barcode         \n",
       "miR_1:AAACCCAAGGAGAGGC-1 miR        miR_1  AAACCCAAGGAGAGGC\n",
       "miR_1:AAACCCAAGGTAAACT-1 miR        miR_1  AAACCCAAGGTAAACT\n",
       "miR_1:AAACCCACAACGATCT-1 miR        miR_1  AAACCCACAACGATCT\n",
       "miR_1:AAACCCACACGATTCA-1 miR        miR_1  AAACCCACACGATTCA\n",
       "miR_1:AAACCCACAGTCAACT-1 miR        miR_1  AAACCCACAGTCAACT\n",
       "miR_1:AAACCCACATCTCATT-1 miR        miR_1  AAACCCACATCTCATT\n",
       "                         guide                    lor      pvalue       \n",
       "miR_1:AAACCCAAGGAGAGGC-1 miR-203a-3p.1            5.453121 2.983000e-159\n",
       "miR_1:AAACCCAAGGTAAACT-1 miR-93-3p                6.012001 3.907611e-225\n",
       "miR_1:AAACCCACAACGATCT-1 miR-130-3p/301-3p/454-3p 5.864701 3.299362e-202\n",
       "miR_1:AAACCCACACGATTCA-1 TuD_NC                   5.859895 2.574602e-201\n",
       "miR_1:AAACCCACAGTCAACT-1 miR-147b                 5.632808 3.564463e-178\n",
       "miR_1:AAACCCACATCTCATT-1 miR-501-5p               5.261722 7.493882e-143\n",
       "                         adj_pvalue    ⋯ m_umi     v_umi     log_max_umi\n",
       "miR_1:AAACCCAAGGAGAGGC-1 3.010603e-152 ⋯ 0.1964736 11.324937 1.826075   \n",
       "miR_1:AAACCCAAGGTAAACT-1 3.943769e-218 ⋯ 0.2720403 23.713686 1.986772   \n",
       "miR_1:AAACCCACAACGATCT-1 3.329893e-195 ⋯ 0.2846348 19.981910 1.949390   \n",
       "miR_1:AAACCCACACGATTCA-1 2.598426e-194 ⋯ 0.2871537 23.235516 1.982271   \n",
       "miR_1:AAACCCACAGTCAACT-1 3.597446e-171 ⋯ 0.2166247 12.725683 1.851258   \n",
       "miR_1:AAACCCACATCTCATT-1 7.563226e-136 ⋯ 0.1612091  8.484047 1.763428   \n",
       "                         log_n_umi log_m_umi  percent.mt integrated_snn_res.0.5\n",
       "miR_1:AAACCCAAGGAGAGGC-1 1.892095  -0.7066959  8.576309  2                     \n",
       "miR_1:AAACCCAAGGTAAACT-1 2.033424  -0.5653668  6.549110  0                     \n",
       "miR_1:AAACCCACAACGATCT-1 2.053078  -0.5457121  8.844221  0                     \n",
       "miR_1:AAACCCACACGATTCA-1 2.056905  -0.5418857 10.072262  1                     \n",
       "miR_1:AAACCCACAGTCAACT-1 1.934498  -0.6642921  7.698154  8                     \n",
       "miR_1:AAACCCACATCTCATT-1 1.806180  -0.7926105  5.533005  7                     \n",
       "                         seurat_clusters guide_group miR.family              \n",
       "miR_1:AAACCCAAGGAGAGGC-1 T2              target      miR-203a-3p.1           \n",
       "miR_1:AAACCCAAGGTAAACT-1 T0              target      miR-93-3p               \n",
       "miR_1:AAACCCACAACGATCT-1 T0              target      miR-130-3p/301-3p/454-3p\n",
       "miR_1:AAACCCACACGATTCA-1 control         control     NA                      \n",
       "miR_1:AAACCCACAGTCAACT-1 T8              target      miR-147b                \n",
       "miR_1:AAACCCACATCTCATT-1 T7              target      miR-501-5p              "
      ]
     },
     "metadata": {},
     "output_type": "display_data"
    }
   ],
   "source": [
    "filtered_meta_data <- read.csv('/home/ssobti/projects/mir_tud/010523_filtered_data/miR_meta.csv', header = TRUE)\n",
    "rownames(filtered_meta_data) <- filtered_meta_data$X\n",
    "filtered_meta_data$guide <- as.character(filtered_meta_data$guide)\n",
    "\n",
    "head(filtered_meta_data)\n",
    "raw_genes <- read.csv('/home/ssobti/projects/mir_tud/010523_filtered_data/miR_gene_names.csv', header = FALSE)\n",
    "raw_genes <- raw_genes$V2[-1]\n",
    "raw_genes <- as.character(raw_genes)"
   ]
  },
  {
   "cell_type": "code",
   "execution_count": 7,
   "id": "0229a820-4591-4e65-a9af-acfdce203f0d",
   "metadata": {
    "execution": {
     "iopub.execute_input": "2023-02-20T01:49:37.351164Z",
     "iopub.status.busy": "2023-02-20T01:49:37.349593Z",
     "iopub.status.idle": "2023-02-20T01:53:04.633668Z",
     "shell.execute_reply": "2023-02-20T01:53:04.631225Z"
    }
   },
   "outputs": [],
   "source": [
    "filtered_raw_mtx <- readMM('/home/ssobti/projects/mir_tud/010523_filtered_data/miR_normalized_data.mtx')\n",
    "filtered_raw_mtx = as(filtered_raw_mtx, 'dgCMatrix')\n",
    "rownames(filtered_raw_mtx) = raw_genes\n",
    "colnames(filtered_raw_mtx) = rownames(filtered_meta_data)"
   ]
  },
  {
   "cell_type": "code",
   "execution_count": 8,
   "id": "924114ad-3891-4d4a-885b-e28b15dbbc29",
   "metadata": {
    "execution": {
     "iopub.execute_input": "2023-02-20T01:53:04.653517Z",
     "iopub.status.busy": "2023-02-20T01:53:04.652194Z",
     "iopub.status.idle": "2023-02-20T01:53:04.680728Z",
     "shell.execute_reply": "2023-02-20T01:53:04.679366Z"
    }
   },
   "outputs": [
    {
     "data": {
      "text/html": [
       "<style>\n",
       ".list-inline {list-style: none; margin:0; padding: 0}\n",
       ".list-inline>li {display: inline-block}\n",
       ".list-inline>li:not(:last-child)::after {content: \"\\00b7\"; padding: 0 .5ex}\n",
       "</style>\n",
       "<ol class=list-inline><li>'GPX4'</li><li>'TENM3'</li><li>'PBX3'</li><li>'SNTB1'</li><li>'SCD'</li><li>'NDUFS8'</li></ol>\n"
      ],
      "text/latex": [
       "\\begin{enumerate*}\n",
       "\\item 'GPX4'\n",
       "\\item 'TENM3'\n",
       "\\item 'PBX3'\n",
       "\\item 'SNTB1'\n",
       "\\item 'SCD'\n",
       "\\item 'NDUFS8'\n",
       "\\end{enumerate*}\n"
      ],
      "text/markdown": [
       "1. 'GPX4'\n",
       "2. 'TENM3'\n",
       "3. 'PBX3'\n",
       "4. 'SNTB1'\n",
       "5. 'SCD'\n",
       "6. 'NDUFS8'\n",
       "\n",
       "\n"
      ],
      "text/plain": [
       "[1] \"GPX4\"   \"TENM3\"  \"PBX3\"   \"SNTB1\"  \"SCD\"    \"NDUFS8\""
      ]
     },
     "metadata": {},
     "output_type": "display_data"
    }
   ],
   "source": [
    "variable_genes_df = read.csv('/home/ssobti/projects/mir_tud/output_data/heterogeneity/updated_input_data/top_var_genes.csv')\n",
    "top_variable_genes = as.character(variable_genes_df$x)\n",
    "head(top_variable_genes)"
   ]
  },
  {
   "cell_type": "code",
   "execution_count": 9,
   "id": "fa71f3a0-4391-44a3-b580-e2b9835886b8",
   "metadata": {
    "execution": {
     "iopub.execute_input": "2023-02-20T01:53:04.685949Z",
     "iopub.status.busy": "2023-02-20T01:53:04.684679Z",
     "iopub.status.idle": "2023-02-20T01:53:35.941204Z",
     "shell.execute_reply": "2023-02-20T01:53:35.938527Z"
    }
   },
   "outputs": [],
   "source": [
    "medians = sparseMatrixStats::rowMedians(filtered_raw_mtx)\n",
    "median_df = data.frame(gene_medians = medians)"
   ]
  },
  {
   "cell_type": "code",
   "execution_count": 10,
   "id": "873759e3-92ae-4eb2-8b3d-e045d48b69cc",
   "metadata": {
    "execution": {
     "iopub.execute_input": "2023-02-20T01:53:35.948818Z",
     "iopub.status.busy": "2023-02-20T01:53:35.947474Z",
     "iopub.status.idle": "2023-02-20T01:54:13.697348Z",
     "shell.execute_reply": "2023-02-20T01:54:13.695917Z"
    }
   },
   "outputs": [
    {
     "data": {
      "image/png": "[encoded data removed]",
      "text/plain": [
       "plot without title"
      ]
     },
     "metadata": {
      "image/png": {
       "height": 420,
       "width": 420
      }
     },
     "output_type": "display_data"
    }
   ],
   "source": [
    "ggplot(median_df, aes(x=gene_medians)) + \n",
    "  geom_histogram(color=\"black\", fill=\"white\", bins = 50000) +\n",
    "  geom_vline(xintercept = 10, color = 'blue') + coord_cartesian(xlim = c(0,200)) +\n",
    "  theme_bw()"
   ]
  },
  {
   "cell_type": "code",
   "execution_count": 11,
   "id": "01163361-4494-4656-89c5-4c3ea1df2659",
   "metadata": {
    "execution": {
     "iopub.execute_input": "2023-02-20T01:54:13.703437Z",
     "iopub.status.busy": "2023-02-20T01:54:13.702223Z",
     "iopub.status.idle": "2023-02-20T01:54:13.721031Z",
     "shell.execute_reply": "2023-02-20T01:54:13.718350Z"
    }
   },
   "outputs": [
    {
     "data": {
      "text/html": [
       "2.95026375282592"
      ],
      "text/latex": [
       "2.95026375282592"
      ],
      "text/markdown": [
       "2.95026375282592"
      ],
      "text/plain": [
       "[1] 2.950264"
      ]
     },
     "metadata": {},
     "output_type": "display_data"
    }
   ],
   "source": [
    "pct_genes_left = function(median_expression, cutoff){\n",
    "  pct = 100*length(which(median_expression >= cutoff))/length(median_expression)\n",
    "  return(pct)\n",
    "}\n",
    "\n",
    "pct_genes_left(medians, 1)"
   ]
  },
  {
   "cell_type": "code",
   "execution_count": 12,
   "id": "77bc5f0e-c384-4dc7-93d7-ff8bb6e7879c",
   "metadata": {
    "execution": {
     "iopub.execute_input": "2023-02-20T01:54:13.732873Z",
     "iopub.status.busy": "2023-02-20T01:54:13.730339Z",
     "iopub.status.idle": "2023-02-20T01:54:19.257297Z",
     "shell.execute_reply": "2023-02-20T01:54:19.254346Z"
    }
   },
   "outputs": [],
   "source": [
    "## removing any genes that are not in top 2000 most variable\n",
    "filtered_raw_mtx <- filtered_raw_mtx[top_variable_genes,]\n",
    "filtered_raw_mtx <- filtered_raw_mtx[top_variable_genes,]\n",
    "filtered_meta_data <- filtered_meta_data[colnames(filtered_raw_mtx),]"
   ]
  },
  {
   "cell_type": "code",
   "execution_count": 13,
   "id": "8c97e4d3-3fa7-420f-926d-84f3c071ed51",
   "metadata": {
    "execution": {
     "iopub.execute_input": "2023-02-20T01:54:19.262458Z",
     "iopub.status.busy": "2023-02-20T01:54:19.261094Z",
     "iopub.status.idle": "2023-02-20T01:54:19.274268Z",
     "shell.execute_reply": "2023-02-20T01:54:19.272520Z"
    }
   },
   "outputs": [],
   "source": [
    "### removing genes with medians < 1 keeps 22% of genes -- low expressing genes have noisy expression and confound results ###\n",
    "##genes_to_keep = as.numeric(medians) >= 1\n",
    "##filtered_raw_mtx <- filtered_raw_mtx[genes_to_keep,]\n",
    "##filtered_meta_data <- filtered_meta_data[colnames(filtered_raw_mtx),]"
   ]
  },
  {
   "cell_type": "raw",
   "id": "82abe42a-1401-48d0-b02a-9aed1298f526",
   "metadata": {},
   "source": [
    "## unused cell\n",
    "\n",
    "gene_means = apply(RNA_Seq_expression_raw_data[, -c(1,2)], 1, mean)\n",
    "gene_CVs = apply(RNA_Seq_expression_raw_data[, -c(1,2)], 1, function(x){sd(x)/mean(x)})\n",
    "\n",
    "gene_var = apply(RNA_Seq_expression_raw_data[, -c(1,2)], 1, var)\n",
    "\n",
    "raw_counts = as.matrix(RNA_Seq_expression_raw_data[, -c(1,2)])\n",
    "rownames(raw_counts) <- RNA_Seq_expression_raw_data$Hugo_Symbol\n",
    "na_idx <- is.na(rownames(raw_counts))\n",
    "rownames(raw_counts)[na_idx] <- 'Unknown'\n",
    "\n",
    "\n",
    "gene_level_df = data.frame(Gene_name = RNA_Seq_expression_raw_data$Hugo_Symbol, Mean = gene_means, CV = gene_CVs)\n",
    "\n",
    "ggplot(gene_level_df, aes(Mean, CV)) + geom_point() + scale_x_log10(breaks = log_breaks(5))\n"
   ]
  },
  {
   "cell_type": "code",
   "execution_count": 14,
   "id": "8b4ea258-d3ab-49df-beb2-4ad8b59a2685",
   "metadata": {
    "execution": {
     "iopub.execute_input": "2023-02-20T01:54:19.280186Z",
     "iopub.status.busy": "2023-02-20T01:54:19.278670Z",
     "iopub.status.idle": "2023-02-20T01:54:19.391205Z",
     "shell.execute_reply": "2023-02-20T01:54:19.388678Z"
    }
   },
   "outputs": [],
   "source": [
    "## cells per guide count\n",
    "guides = unique(filtered_meta_data$guide)\n",
    "\n",
    "cells_per_guide = vector()\n",
    "for (i in 1:length(guides)){\n",
    "    cells_per_guide[i] = length(which(filtered_meta_data$guide == guides[i]))\n",
    "}\n",
    "\n",
    "cell_gd_count = data.frame(guide_name = guides, cell_count = cells_per_guide)\n",
    "\n"
   ]
  },
  {
   "cell_type": "code",
   "execution_count": 15,
   "id": "fe5f301a-8ab7-418a-a694-ccca2a14a774",
   "metadata": {
    "execution": {
     "iopub.execute_input": "2023-02-20T01:54:19.397126Z",
     "iopub.status.busy": "2023-02-20T01:54:19.395499Z",
     "iopub.status.idle": "2023-02-20T01:54:19.687713Z",
     "shell.execute_reply": "2023-02-20T01:54:19.686178Z"
    }
   },
   "outputs": [
    {
     "name": "stderr",
     "output_type": "stream",
     "text": [
      "Warning message:\n",
      "“Removed 3 rows containing non-finite values (stat_bin).”\n",
      "Warning message:\n",
      "“Removed 2 rows containing missing values (geom_bar).”\n"
     ]
    },
    {
     "data": {
      "image/png": "[encoded data removed]",
      "text/plain": [
       "plot without title"
      ]
     },
     "metadata": {
      "image/png": {
       "height": 420,
       "width": 420
      }
     },
     "output_type": "display_data"
    }
   ],
   "source": [
    "### show distribution of cells per guide\n",
    "\n",
    "ggplot(cell_gd_count, aes(x=cell_count)) +\n",
    "geom_histogram(position=\"identity\", alpha=0.5, bins = 1000) + xlim(c(0,200)) +\n",
    "theme_classic()\n"
   ]
  },
  {
   "cell_type": "code",
   "execution_count": 16,
   "id": "b05bc558-be72-41ec-a3ca-0314327fdc5b",
   "metadata": {
    "execution": {
     "iopub.execute_input": "2023-02-20T01:54:19.692490Z",
     "iopub.status.busy": "2023-02-20T01:54:19.691170Z",
     "iopub.status.idle": "2023-02-20T01:54:30.763406Z",
     "shell.execute_reply": "2023-02-20T01:54:30.760846Z"
    }
   },
   "outputs": [],
   "source": [
    "### divide expression mtx into a list of mtxs subsetted by guide\n",
    "\n",
    "mtx_subsetter = function(guide_nm, matrix, meta_data){\n",
    "    return(matrix[, meta_data$guide == guide_nm])}\n",
    "\n",
    "guide_subsetted_data = pblapply(X = guides, FUN = mtx_subsetter, \n",
    "                                matrix = filtered_raw_mtx, meta_data = filtered_meta_data)\n",
    "\n",
    "names(guide_subsetted_data) = guides"
   ]
  },
  {
   "cell_type": "code",
   "execution_count": 17,
   "id": "1acfb4cb-4df1-442d-ab74-3f57aa6df03c",
   "metadata": {
    "execution": {
     "iopub.execute_input": "2023-02-20T01:54:30.840839Z",
     "iopub.status.busy": "2023-02-20T01:54:30.839440Z",
     "iopub.status.idle": "2023-02-20T01:54:31.056128Z",
     "shell.execute_reply": "2023-02-20T01:54:31.054398Z"
    }
   },
   "outputs": [],
   "source": [
    "## control number of cells per guide to be equivalent\n",
    "## throw out guides with < 30 cells and for the remaining guides sample 30 cells without replacement\n",
    "fixed_cell_count = 30\n",
    "guide_subsetted_data = guide_subsetted_data[cells_per_guide >= fixed_cell_count]\n",
    "cells_to_discard = list()\n",
    "\n",
    "set.seed(22)\n",
    "for (i in 1:length(guide_subsetted_data)){\n",
    "    idx_to_keep = sample(1:ncol(guide_subsetted_data[[i]]), fixed_cell_count, replace = FALSE)\n",
    "    idx_to_discard = setdiff(1:ncol(guide_subsetted_data[[i]]), idx_to_keep)\n",
    "    cells_to_discard[[i]] = colnames(guide_subsetted_data[[i]])[idx_to_discard]\n",
    "    guide_subsetted_data[[i]] = guide_subsetted_data[[i]][,idx_to_keep]\n",
    "}\n",
    "\n",
    "cells_to_discard = unlist(cells_to_discard)"
   ]
  },
  {
   "cell_type": "code",
   "execution_count": 18,
   "id": "02b73731-ff0f-4c36-b3b0-e6ed3d74a24b",
   "metadata": {
    "execution": {
     "iopub.execute_input": "2023-02-20T01:54:31.060690Z",
     "iopub.status.busy": "2023-02-20T01:54:31.059491Z",
     "iopub.status.idle": "2023-02-20T01:54:31.488375Z",
     "shell.execute_reply": "2023-02-20T01:54:31.486694Z"
    }
   },
   "outputs": [],
   "source": [
    "idx_to_discard = which(is.na(match(filtered_meta_data$guide, guides[which(cells_per_guide >= fixed_cell_count)])))\n",
    "filtered_raw_mtx = filtered_raw_mtx[, -idx_to_discard]\n",
    "filtered_meta_data = filtered_meta_data[-idx_to_discard,]\n",
    "guides = guides[cells_per_guide >= fixed_cell_count]\n",
    "cells_per_guide = cells_per_guide[cells_per_guide >= fixed_cell_count]"
   ]
  },
  {
   "cell_type": "code",
   "execution_count": 19,
   "id": "6429a567-e4e1-4e13-9931-b32fc35141dc",
   "metadata": {
    "execution": {
     "iopub.execute_input": "2023-02-20T01:54:31.493831Z",
     "iopub.status.busy": "2023-02-20T01:54:31.492351Z",
     "iopub.status.idle": "2023-02-20T01:54:31.671380Z",
     "shell.execute_reply": "2023-02-20T01:54:31.668875Z"
    }
   },
   "outputs": [],
   "source": [
    "discard_matched = match(cells_to_discard, colnames(filtered_raw_mtx))\n",
    "filtered_raw_mtx = filtered_raw_mtx[,-discard_matched]\n",
    "filtered_meta_data = filtered_meta_data[-discard_matched,]\n",
    "cells_per_guide = rep(fixed_cell_count, length(cells_per_guide))"
   ]
  },
  {
   "cell_type": "code",
   "execution_count": 20,
   "id": "8ed6ca1a-74d1-46a0-aa1d-1aadda7f1b11",
   "metadata": {
    "execution": {
     "iopub.execute_input": "2023-02-20T01:54:31.676949Z",
     "iopub.status.busy": "2023-02-20T01:54:31.675475Z",
     "iopub.status.idle": "2023-02-20T01:54:36.014570Z",
     "shell.execute_reply": "2023-02-20T01:54:36.012917Z"
    }
   },
   "outputs": [],
   "source": [
    "## add bkg distribution of guide subsetted mtxs to list\n",
    "## this is just mtxs where the cells are randomly assigned to each guide\n",
    "## the bkg distribution of mtxs is made to subtract out number of genes that are expected to have increased or decreased CV when cells assigned randomly to each guide\n",
    "## Note: the number of cells assigned to each guide is kept the same\n",
    "set.seed(44)\n",
    "randomized_cell_order = sample(colnames(filtered_raw_mtx), ncol(filtered_raw_mtx), replace = FALSE)\n",
    "randomized_filtered_raw_mtx = filtered_raw_mtx[,randomized_cell_order]\n",
    "\n",
    "designation_vector = mapply(rep, guides, fixed_cell_count, SIMPLIFY = TRUE)\n",
    "designation_vector = unlist(designation_vector)\n",
    "designation_vector = as.character(designation_vector)\n",
    "split_barcodes = split(randomized_cell_order, designation_vector)\n",
    "mtx_random_splitter = function(barcodes, mtx){return(mtx[,barcodes])}\n",
    "\n",
    "guide_random_subsetted_data = pblapply(X = split_barcodes, FUN = mtx_random_splitter, mtx = randomized_filtered_raw_mtx)\n",
    "names(guide_random_subsetted_data) = paste('random', guides, sep = '_')"
   ]
  },
  {
   "cell_type": "code",
   "execution_count": 21,
   "id": "88d366fe-9b4b-4063-a123-dd60af1f1ae1",
   "metadata": {
    "execution": {
     "iopub.execute_input": "2023-02-20T01:54:36.020524Z",
     "iopub.status.busy": "2023-02-20T01:54:36.018850Z",
     "iopub.status.idle": "2023-02-20T01:54:36.033774Z",
     "shell.execute_reply": "2023-02-20T01:54:36.032094Z"
    }
   },
   "outputs": [],
   "source": [
    "guide_subsetted_data = c(guide_subsetted_data, guide_random_subsetted_data)"
   ]
  },
  {
   "cell_type": "code",
   "execution_count": 22,
   "id": "b80f6a8b-48cd-4fca-8702-cb6380f0c50d",
   "metadata": {
    "execution": {
     "iopub.execute_input": "2023-02-20T01:54:36.039275Z",
     "iopub.status.busy": "2023-02-20T01:54:36.037785Z",
     "iopub.status.idle": "2023-02-20T01:54:38.006714Z",
     "shell.execute_reply": "2023-02-20T01:54:38.004774Z"
    }
   },
   "outputs": [],
   "source": [
    "## compare each of the guide subsetted data to the control subsetted data and\n",
    "## create the following table for each guide:\n",
    "## gene | CV1 (ctrl) | CV2 (gd) | CV2/CV1 | Increasing or Decreasing CV (ie CV2/CV1 > 1 or CV2/CV1 < 1) | asymptotic test p-value | q-value \n",
    "\n",
    "\n",
    "## CV calculator\n",
    "CV_calculator = function(x){return((sparseMatrixStats::rowSds(x))/(sparseMatrixStats::rowMeans2(x)))}\n",
    "CVs = pblapply(X = guide_subsetted_data, FUN = CV_calculator)\n",
    "names(CVs) = names(guide_subsetted_data)"
   ]
  },
  {
   "cell_type": "code",
   "execution_count": 23,
   "id": "d0bd4543-2237-4212-a302-460351266fbd",
   "metadata": {
    "execution": {
     "iopub.execute_input": "2023-02-20T01:54:38.012784Z",
     "iopub.status.busy": "2023-02-20T01:54:38.011428Z",
     "iopub.status.idle": "2023-02-20T01:54:44.545356Z",
     "shell.execute_reply": "2023-02-20T01:54:44.542728Z"
    }
   },
   "outputs": [],
   "source": [
    "### creating first 4 columns of the table annotated above\n",
    "gene_means = lapply(guide_subsetted_data, sparseMatrixStats::rowMeans2)\n",
    "gene_sds = lapply(guide_subsetted_data, sparseMatrixStats::rowSds)\n",
    "names(gene_means) = names(guide_subsetted_data)\n",
    "names(gene_sds) = names(guide_subsetted_data)\n",
    "\n",
    "\n",
    "master_df_list = list()\n",
    "for (i in 1:length(guide_subsetted_data)){\n",
    "    if (!startsWith(names(guide_subsetted_data)[i], 'random')){\n",
    "        master_df_list[[i]] = data.frame(gene = rownames(filtered_raw_mtx), CV_ctrl = CVs[['TuD_NC']], \n",
    "                                         CV_gd = CVs[[i]], CV_gdCV_ctrlratio = CVs[[i]]/CVs[['TuD_NC']])\n",
    "        names(master_df_list)[i] <- names(guide_subsetted_data)[i]\n",
    "    }\n",
    "    if (startsWith(names(guide_subsetted_data)[i], 'random')){\n",
    "        master_df_list[[i]] = data.frame(gene = rownames(filtered_raw_mtx), CV_ctrl = CVs[['TuD_NC']], \n",
    "                                         CV_gd = CVs[[i]], CV_gdCV_ctrlratio = CVs[[i]]/CVs[['TuD_NC']])\n",
    "        names(master_df_list)[i] <- names(guide_subsetted_data)[i]\n",
    "    }\n",
    "}\n",
    "\n"
   ]
  },
  {
   "cell_type": "code",
   "execution_count": 24,
   "id": "388fc600-7854-42b5-a4c7-9276dd3d668b",
   "metadata": {
    "execution": {
     "iopub.execute_input": "2023-02-20T01:54:44.554166Z",
     "iopub.status.busy": "2023-02-20T01:54:44.551072Z",
     "iopub.status.idle": "2023-02-20T01:54:44.765062Z",
     "shell.execute_reply": "2023-02-20T01:54:44.762477Z"
    }
   },
   "outputs": [],
   "source": [
    "### creating column 5 of the table annotated above\n",
    "for (i in 1:length(master_df_list)){\n",
    "    master_df_list[[i]]$gene_status = 'NA'\n",
    "    master_df_list[[i]]$gene_status[master_df_list[[i]]$CV_gdCV_ctrlratio == 1] = 'No Change'\n",
    "    master_df_list[[i]]$gene_status[master_df_list[[i]]$CV_gdCV_ctrlratio > 1] = 'Increasing'\n",
    "    master_df_list[[i]]$gene_status[master_df_list[[i]]$CV_gdCV_ctrlratio < 1] = 'Decreasing'               \n",
    "}\n"
   ]
  },
  {
   "cell_type": "code",
   "execution_count": 25,
   "id": "32783fba-cc06-4e8a-b597-a6fbf1ad03fd",
   "metadata": {
    "execution": {
     "iopub.execute_input": "2023-02-20T01:54:44.772514Z",
     "iopub.status.busy": "2023-02-20T01:54:44.770574Z",
     "iopub.status.idle": "2023-02-20T01:56:58.123354Z",
     "shell.execute_reply": "2023-02-20T01:56:58.119760Z"
    }
   },
   "outputs": [],
   "source": [
    "## performing CV equality aysmptotic test and adding its pval to master_df_list\n",
    "cells_per_guide = rep(cells_per_guide, 2)\n",
    "names(cells_per_guide) = names(guide_subsetted_data)\n",
    "asymp_test_p_vals = as.data.frame(matrix(0, nrow = nrow(filtered_raw_mtx), ncol = length(master_df_list)))\n",
    "\n",
    "\n",
    "for (i in 1:length(master_df_list)){\n",
    "    if (!startsWith(names(guide_subsetted_data)[i], 'random')){\n",
    "        for (j in 1:nrow(filtered_raw_mtx)){\n",
    "            test = asymptotic_test2(k = 2, n = c(cells_per_guide['TuD_NC'], cells_per_guide[i]), s = c(gene_sds[['TuD_NC']][j], gene_sds[[i]][j]), \n",
    "                                    x = c(gene_means[['TuD_NC']][j], gene_means[[i]][j]))\n",
    "            asymp_test_p_vals[j,i] = test$p_value\n",
    "        }\n",
    "    }\n",
    "    if (startsWith(names(guide_subsetted_data)[i], 'random')){\n",
    "        for (j in 1:nrow(filtered_raw_mtx)){\n",
    "            test = asymptotic_test2(k = 2, n = c(cells_per_guide['TuD_NC'], cells_per_guide[i]), s = c(gene_sds[['TuD_NC']][j], gene_sds[[i]][j]), \n",
    "                                    x = c(gene_means[['TuD_NC']][j], gene_means[[i]][j]))\n",
    "            asymp_test_p_vals[j,i] = test$p_value\n",
    "        }    \n",
    "    }\n",
    "    master_df_list[[i]]$p_val = asymp_test_p_vals[,i]\n",
    "}"
   ]
  },
  {
   "cell_type": "code",
   "execution_count": 26,
   "id": "f3919dca-8690-453c-aac3-51398c85e33f",
   "metadata": {
    "execution": {
     "iopub.execute_input": "2023-02-20T01:56:58.137785Z",
     "iopub.status.busy": "2023-02-20T01:56:58.136440Z",
     "iopub.status.idle": "2023-02-20T01:57:02.264546Z",
     "shell.execute_reply": "2023-02-20T01:57:02.262148Z"
    }
   },
   "outputs": [],
   "source": [
    "## Converting p-values to q-values and adding to master_df_list\n",
    "\n",
    "for (i in 1:length(master_df_list)){\n",
    "    q_vals = qvalue(master_df_list[[i]]$p_val, fdr.level = 0.05)\n",
    "    master_df_list[[i]]$q_val = q_vals$qvalues\n",
    "}\n",
    "\n",
    "master_df_list[c('TuD_NC', 'random_TuD_NC')] <- NULL\n",
    "guide_subsetted_data[c('TuD_NC', 'random_TuD_NC')] <- NULL"
   ]
  },
  {
   "cell_type": "code",
   "execution_count": 27,
   "id": "bc99e8cd-204b-4bf8-ab58-ba728b37e463",
   "metadata": {
    "execution": {
     "iopub.execute_input": "2023-02-20T01:57:02.270512Z",
     "iopub.status.busy": "2023-02-20T01:57:02.269258Z",
     "iopub.status.idle": "2023-02-20T01:57:03.282597Z",
     "shell.execute_reply": "2023-02-20T01:57:03.280855Z"
    }
   },
   "outputs": [],
   "source": [
    "## Count number of CV_gdCV_ctrlratio genes > 1 (ie gene_status 'Increasing') with q-val < 0.05\n",
    "## Count number of CV_gdCV_ctrlratio genes < 1 (ie gene_status 'Decreasing') with q-val < 0.05\n",
    "filtered_master_df_list = lapply(master_df_list, dplyr::filter, q_val < 0.05)\n",
    "gene_status_list = lapply(filtered_master_df_list, '[[', 'gene_status')\n",
    "\n",
    "count_increasing = function(x){length(which(x == 'Increasing'))}\n",
    "count_decreasing = function(x){length(which(x == 'Decreasing'))}\n",
    "\n",
    "number_of_increasing_CV_genes = sapply(gene_status_list, count_increasing)\n",
    "number_of_decreasing_CV_genes = sapply(gene_status_list, count_decreasing)\n",
    "\n",
    "metric_change_df = data.frame(guide = names(master_df_list), increasing_CV_genes = number_of_increasing_CV_genes, decreasing_CV_genes = number_of_decreasing_CV_genes)"
   ]
  },
  {
   "cell_type": "code",
   "execution_count": 28,
   "id": "a4dedbc2-b988-4aa9-b2e7-a63329a18aef",
   "metadata": {
    "execution": {
     "iopub.execute_input": "2023-02-20T01:57:03.289278Z",
     "iopub.status.busy": "2023-02-20T01:57:03.287481Z",
     "iopub.status.idle": "2023-02-20T01:57:03.309535Z",
     "shell.execute_reply": "2023-02-20T01:57:03.308104Z"
    }
   },
   "outputs": [],
   "source": [
    "## z-score each guide by the following formula:\n",
    "## (# of genes increased CV in guide - mean(# of genes increased CV bkg))/sd(# of genes increased CV bkg)\n",
    "## (# of genes decreased CV in guide - mean(# of genes decreased CV bkg))/sd(# of genes decreased CV bkg)\n",
    "\n",
    "increasing_random_vals = metric_change_df$increasing_CV_genes[startsWith(rownames(metric_change_df), 'random')]\n",
    "metric_change_df$z_score_increasing_genes = (metric_change_df$increasing_CV_genes - mean(increasing_random_vals)) / sd(increasing_random_vals)\n",
    "\n",
    "decreasing_random_vals = metric_change_df$decreasing_CV_genes[startsWith(rownames(metric_change_df), 'random')]\n",
    "metric_change_df$z_score_decreasing_genes = (metric_change_df$decreasing_CV_genes - mean(decreasing_random_vals)) / sd(decreasing_random_vals)"
   ]
  },
  {
   "cell_type": "code",
   "execution_count": 29,
   "id": "18fa305f-4fbb-44d3-995b-39f707b357de",
   "metadata": {
    "execution": {
     "iopub.execute_input": "2023-02-20T01:57:03.314251Z",
     "iopub.status.busy": "2023-02-20T01:57:03.313133Z",
     "iopub.status.idle": "2023-02-20T01:57:03.329909Z",
     "shell.execute_reply": "2023-02-20T01:57:03.328262Z"
    }
   },
   "outputs": [],
   "source": [
    "path = paste0('/home/ssobti/projects/mir_tud/output_data/heterogeneity/updated_input_data/', variant, 'metric_change_df.csv')\n",
    "write.csv(metric_change_df, file = path)"
   ]
  },
  {
   "cell_type": "code",
   "execution_count": 30,
   "id": "d2b86cbe-d1bb-494b-b5c2-f5343f4ae697",
   "metadata": {
    "execution": {
     "iopub.execute_input": "2023-02-20T01:57:03.336204Z",
     "iopub.status.busy": "2023-02-20T01:57:03.334919Z",
     "iopub.status.idle": "2023-02-20T01:57:03.594185Z",
     "shell.execute_reply": "2023-02-20T01:57:03.592976Z"
    }
   },
   "outputs": [
    {
     "name": "stderr",
     "output_type": "stream",
     "text": [
      "Warning message:\n",
      "“Removed 658 rows containing non-finite values (stat_boxplot).”\n",
      "Warning message:\n",
      "“Removed 653 rows containing missing values (geom_text_repel).”\n",
      "ERROR while rich displaying an object: Error in if (d > 0) {: missing value where TRUE/FALSE needed\n",
      "\n",
      "Traceback:\n",
      "1. FUN(X[[i]], ...)\n",
      "2. tryCatch(withCallingHandlers({\n",
      " .     if (!mime %in% names(repr::mime2repr)) \n",
      " .         stop(\"No repr_* for mimetype \", mime, \" in repr::mime2repr\")\n",
      " .     rpr <- repr::mime2repr[[mime]](obj)\n",
      " .     if (is.null(rpr)) \n",
      " .         return(NULL)\n",
      " .     prepare_content(is.raw(rpr), rpr)\n",
      " . }, error = error_handler), error = outer_handler)\n",
      "3. tryCatchList(expr, classes, parentenv, handlers)\n",
      "4. tryCatchOne(expr, names, parentenv, handlers[[1L]])\n",
      "5. doTryCatch(return(expr), name, parentenv, handler)\n",
      "6. withCallingHandlers({\n",
      " .     if (!mime %in% names(repr::mime2repr)) \n",
      " .         stop(\"No repr_* for mimetype \", mime, \" in repr::mime2repr\")\n",
      " .     rpr <- repr::mime2repr[[mime]](obj)\n",
      " .     if (is.null(rpr)) \n",
      " .         return(NULL)\n",
      " .     prepare_content(is.raw(rpr), rpr)\n",
      " . }, error = error_handler)\n",
      "7. repr::mime2repr[[mime]](obj)\n",
      "8. repr_text.default(obj)\n",
      "9. paste(capture.output(print(obj)), collapse = \"\\n\")\n",
      "10. capture.output(print(obj))\n",
      "11. evalVis(expr)\n",
      "12. withVisible(eval(expr, pf))\n",
      "13. eval(expr, pf)\n",
      "14. eval(expr, pf)\n",
      "15. print(obj)\n",
      "16. print.ggplot(obj)\n",
      "17. grid.draw(gtable)\n",
      "18. grid.draw.gTree(gtable)\n",
      "19. recordGraphics(drawGTree(x), list(x = x), getNamespace(\"grid\"))\n",
      "20. drawGTree(x)\n",
      "21. grid.draw(x$children[[i]], recording = FALSE)\n",
      "22. grid.draw.gTree(x$children[[i]], recording = FALSE)\n",
      "23. recordGraphics(drawGTree(x), list(x = x), getNamespace(\"grid\"))\n",
      "24. drawGTree(x)\n",
      "25. grid.draw(x$children[[i]], recording = FALSE)\n",
      "26. grid.draw.gTree(x$children[[i]], recording = FALSE)\n",
      "27. recordGraphics(drawGTree(x), list(x = x), getNamespace(\"grid\"))\n",
      "28. drawGTree(x)\n",
      "29. makeContent(x)\n",
      "30. makeContent.textrepeltree(x)\n",
      "31. lapply(seq_along(valid_strings), function(i) {\n",
      "  .     if (!repel$too_many_overlaps[i]) {\n",
      "  .         row <- x$data[i, , drop = FALSE]\n",
      "  .         makeTextRepelGrobs(i, x$lab[i], x = unit(repel$x[i], \n",
      "  .             \"native\"), y = unit(repel$y[i], \"native\"), x.orig = row$x, \n",
      "  .             y.orig = row$y, box.width = boxes[[i]][\"x2\"] - boxes[[i]][\"x1\"], \n",
      "  .             box.height = boxes[[i]][\"y2\"] - boxes[[i]][\"y1\"], \n",
      "  .             rot = row$angle, box.padding = x$box.padding, point.size = point_size[i], \n",
      "  .             point.padding = x$point.padding, segment.curvature = row$segment.curvature, \n",
      "  .             segment.angle = row$segment.angle, segment.ncp = row$segment.ncp, \n",
      "  .             segment.shape = row$segment.shape, segment.square = row$segment.square, \n",
      "  .             segment.squareShape = row$segment.squareShape, segment.inflect = row$segment.inflect, \n",
      "  .             segment.debug = row$segment.debug, text.gp = gpar(col = scales::alpha(row$colour, \n",
      "  .                 row$alpha), fontsize = row$size * .pt, fontfamily = row$family, \n",
      "  .                 fontface = row$fontface, lineheight = row$lineheight), \n",
      "  .             segment.gp = gpar(col = scales::alpha(row$segment.colour %||% \n",
      "  .                 row$colour, row$segment.alpha %||% row$alpha), \n",
      "  .                 lwd = row$segment.size * .pt, lty = row$segment.linetype %||% \n",
      "  .                   1), arrow = x$arrow, min.segment.length = x$min.segment.length, \n",
      "  .             hjust = row$hjust, vjust = row$vjust, bg.colour = alpha(row$bg.colour, \n",
      "  .                 row$alpha), bg.r = row$bg.r)\n",
      "  .     }\n",
      "  . })\n",
      "32. FUN(X[[i]], ...)\n",
      "33. makeTextRepelGrobs(i, x$lab[i], x = unit(repel$x[i], \"native\"), \n",
      "  .     y = unit(repel$y[i], \"native\"), x.orig = row$x, y.orig = row$y, \n",
      "  .     box.width = boxes[[i]][\"x2\"] - boxes[[i]][\"x1\"], box.height = boxes[[i]][\"y2\"] - \n",
      "  .         boxes[[i]][\"y1\"], rot = row$angle, box.padding = x$box.padding, \n",
      "  .     point.size = point_size[i], point.padding = x$point.padding, \n",
      "  .     segment.curvature = row$segment.curvature, segment.angle = row$segment.angle, \n",
      "  .     segment.ncp = row$segment.ncp, segment.shape = row$segment.shape, \n",
      "  .     segment.square = row$segment.square, segment.squareShape = row$segment.squareShape, \n",
      "  .     segment.inflect = row$segment.inflect, segment.debug = row$segment.debug, \n",
      "  .     text.gp = gpar(col = scales::alpha(row$colour, row$alpha), \n",
      "  .         fontsize = row$size * .pt, fontfamily = row$family, fontface = row$fontface, \n",
      "  .         lineheight = row$lineheight), segment.gp = gpar(col = scales::alpha(row$segment.colour %||% \n",
      "  .         row$colour, row$segment.alpha %||% row$alpha), lwd = row$segment.size * \n",
      "  .         .pt, lty = row$segment.linetype %||% 1), arrow = x$arrow, \n",
      "  .     min.segment.length = x$min.segment.length, hjust = row$hjust, \n",
      "  .     vjust = row$vjust, bg.colour = alpha(row$bg.colour, row$alpha), \n",
      "  .     bg.r = row$bg.r)\n"
     ]
    },
    {
     "data": {
      "image/png": "[encoded data removed]",
      "text/plain": [
       "plot without title"
      ]
     },
     "metadata": {
      "image/png": {
       "height": 420,
       "width": 420
      }
     },
     "output_type": "display_data"
    }
   ],
   "source": [
    "## graph z-scores of increasing CV of each of the guides as boxplot, show top ones. Also show z-scores of decreasing CV\n",
    "\n",
    "graphing_z_score_df = metric_change_df[!startsWith(rownames(metric_change_df), 'random'),]\n",
    "graphing_z_score_df = tidyr::pivot_longer(graphing_z_score_df, cols = starts_with(\"z_score\"), names_to = \"type\", names_prefix = \"z_score_\", values_to = \"z_scores\")\n",
    "graphing_z_score_df = as.data.frame(graphing_z_score_df)\n",
    "path = paste0('/home/ssobti/projects/mir_tud/output_data/heterogeneity/updated_input_data/', variant, 'graphing_z_score_df.csv')\n",
    "write.csv(graphing_z_score_df, file = path)\n",
    "graphing_z_score_df = read.csv(path)\n",
    "\n",
    "library(ggplot2)\n",
    "library(ggrepel)\n",
    "\n",
    "ggplot(graphing_z_score_df, aes(x=type, y=z_scores)) + \n",
    "    geom_boxplot() + scale_fill_brewer(palette=\"Blues\") + geom_text_repel(aes(y = z_scores, x = type, label = guide), direction = \"y\") +\n",
    "    theme_classic() + ylim(min(graphing_z_score_df$z_scores) - 1, max(graphing_z_score_df$z_scores) + 1)"
   ]
  },
  {
   "cell_type": "code",
   "execution_count": 31,
   "id": "864159f2-ae56-4957-b58d-cc8f62da6fab",
   "metadata": {
    "execution": {
     "iopub.execute_input": "2023-02-20T01:57:03.598879Z",
     "iopub.status.busy": "2023-02-20T01:57:03.597779Z",
     "iopub.status.idle": "2023-02-20T01:57:03.607398Z",
     "shell.execute_reply": "2023-02-20T01:57:03.605744Z"
    }
   },
   "outputs": [],
   "source": [
    "## most importantly see which guides have high z-scores in first graph and low in second \n",
    "## also which guides have low z-scores in first graph and high in second "
   ]
  },
  {
   "cell_type": "code",
   "execution_count": 32,
   "id": "c77bf1ca-5200-4c98-8dce-49d92924b6f3",
   "metadata": {
    "execution": {
     "iopub.execute_input": "2023-02-20T01:57:03.613043Z",
     "iopub.status.busy": "2023-02-20T01:57:03.611805Z",
     "iopub.status.idle": "2023-02-20T01:57:03.620762Z",
     "shell.execute_reply": "2023-02-20T01:57:03.619643Z"
    }
   },
   "outputs": [],
   "source": [
    "### the next step could be a comparison between control cells\n",
    "## and each guide vs comparison between control cells and guides grouped by seed sequence\n",
    "## analagous to comparing magnitude of CV influence from q25/q75 analysis to q10/q90"
   ]
  },
  {
   "cell_type": "raw",
   "id": "094e3253-7305-4043-a72a-f047cfd8ac49",
   "metadata": {},
   "source": [
    "\n",
    "#' \n",
    "#' ###Comparing magnitude of CV influence from q25/q75 analysis to q10/q90\n",
    "#' \n",
    "#' Now, let's compare the analysis from using the bottom and top quartile to calculate CV,\n",
    "#' to using the bottom and top 10/90%, respectively. Why? We should see a dosage dependency in\n",
    "#' doing so. This means that there isn't any strict 'perfect expression level' that any factor\n",
    "#' has to be at in order to influence CV. \n",
    "#' \n",
    "#' Should have two graphs: \n",
    "#' \n",
    "#' First, should have a venn diagram showing overlap between the two analyses: is the analysis using the q25/q75 condition a subset of using the q10/q90? \n",
    "#' \n",
    "#' The other: is a boxplot of the z-score distribution between q25/q75 and \n",
    "#' q10/q90; the z-scores in the q10/q90 comparison should all be markedly higher. Do this only\n",
    "#' between the shared genes.\n",
    "#' \n",
    "## ---- checking q25/q75 to q10/q90----------------------------------------------\n",
    "#Data loading \n",
    "z_df_up_q75 <- read.csv(\"/home/ssobti/projects/heterogeneity_brian/output_data/z_df_up_q75_2000DEGs.txt\", stringsAsFactors=FALSE)\n",
    "\n",
    "z_df_up_q90 <- read.csv(\"/home/ssobti/projects/heterogeneity_brian/output_data/z_df_up_q90_2000DEGs.txt\", stringsAsFactors=FALSE)\n",
    "\n",
    "#Make an elementary venn diagram from using the two names\n",
    "venn_list_names_input <- list(\"Sig factors, from using q25 vs q75\" =\n",
    "                                z_df_up_q75$Chromatin.factor.name,\n",
    "                              \"Sig factors, from using q10 vs q90\" =\n",
    "                                z_df_up_q90$Chromatin.factor.name)\n",
    "\n",
    "\n",
    "pdf('/home/ssobti/projects/heterogeneity_brian/output_data/filtered_genes_venn_2000DEGs.pdf', height = 12, width = 12)\n",
    "venn(venn_list_names_input, intersections = TRUE)\n",
    "dev.off()\n",
    "\n",
    "#look at intersected factors, plot their corresponding z-score distribution\n",
    "\n",
    "intersected_names <- \n",
    "  intersect (z_df_up_q75$Chromatin.factor.name, z_df_up_q90$Chromatin.factor.name)\n",
    "\n",
    "z_df_up_q90_intersected <- \n",
    "  z_df_up_q90[z_df_up_q90$Chromatin.factor.name %in% intersected_names,]\n",
    "\n",
    "z_df_up_q90_intersected$quartile <- \"From analysis using bottom 10% vs top 90%\"\n",
    "\n",
    "z_df_up_q75_intersected <- \n",
    "  z_df_up_q75[z_df_up_q75$Chromatin.factor.name %in% intersected_names,]\n",
    "\n",
    "z_df_up_q75_intersected$quartile <- \"From analysis using bottom quartile vs top quartile\"\n",
    "\n",
    "z_comparison_melt <- rbind(z_df_up_q75_intersected, z_df_up_q90_intersected)\n",
    "\n",
    "\n",
    "#Plotting out the z-scores for both conditions: \n",
    "z_plot_comparison <- ggplot(z_comparison_melt, \n",
    "                            mapping = aes(x = quartile, y = Higher_expression_meant_higher_CV)) + \n",
    "  geom_boxplot() +\n",
    "  labs (title = 'Boxplots of z-scores for chromatin factors', \n",
    "        subtitle = 'Comparing factors resulting from using q25 vs q75, and q10 vs q90',\n",
    "        x = 'Group',\n",
    "        y = \"z-score value\") + \n",
    "  theme_bw(18) +\n",
    "  theme (legend.position = \"none\") +\n",
    "  theme(panel.background = element_rect(colour = \"black\"), panel.grid.minor = element_blank())\n",
    "\n",
    "pdf('/home/ssobti/projects/heterogeneity_brian/output_data/z_plot_comparison_filtered_genes_2000DEGs.pdf', height = 12, width = 12)\n",
    "z_plot_comparison\n",
    "dev.off()\n",
    "\n",
    "#' \n",
    "#' ###Expression validation for the top candidates identified previously\n",
    "#' \n",
    "#' Additionally, look at **expression** of these factors: does it differ between the two groupings (check q10/q90 first, as this arguably is a more extreme version of the q25/q75 grouping)? If so, then this could be influencing the CV of the genes in question: the two aren't as independent as it seems. \n",
    "#' \n",
    "#' Run a Mann-Whitney test for expression, two-sided between the two groups. Basically, re-run the analysis but instead of using the asymptotic test, use the MW test for difference of populations.\n",
    "## ------------------------------------------------------------------------------\n",
    "#Look at the previously defined intersected names vector, and get a corresponding vector\n",
    "#using the random groupings genes\n",
    "\n",
    "intersected_names\n",
    "\n",
    "names_of_random <- unlist(lapply(grouped_dataframes_list_with_CV_ratio_cleaned, \n",
    "                                 function (list) {if (list[[2]] == \"Y\") {\n",
    "                                   return (list [[1]])\n",
    "                                 }}\n",
    "))\n",
    "\n",
    "names_of_random\n",
    "\n",
    "#Test that the correct names were pulled out \n",
    "test_names <- unlist(lapply(grouped_dataframes_list_with_CV_ratio_cleaned[509:546],\n",
    "                            function (list) {list[[1]]}))\n",
    "\n",
    "identical(test_names, names_of_random) #TRUE\n",
    "\n",
    "#Now get the full corresponding data from the full dataset list\n",
    "\n",
    "full_names <- c(intersected_names, names_of_random)\n",
    "\n",
    "inter_logical_cond <- lapply(grouped_dataframes_list_with_CV_ratio_cleaned, function (list) { list[[1]] %in% full_names})\n",
    "\n",
    "inter_list <- grouped_dataframes_list_with_CV_ratio_cleaned[unlist(inter_logical_cond)]\n",
    "\n",
    "length(inter_list) == length(full_names) #TRUE\n",
    "\n",
    "#Let's now repeat the entire analysis for this smaller intersected list subset. Let's\n",
    "#apply a wilcoxon ranked sum test to the smaller list, instead of the asymptotic test for #CV used previously. Same workflow applies.\n",
    "\n",
    "#Now, let's define a function that will compute the wilcoxon ranked sign test for \n",
    "#intersected_list that we just subsetted. \n",
    "\n",
    "wilcox_q10_q90 <- function (row, q25_entry, q75_entry, list_of_df, \n",
    "                            omitted_indices) { \n",
    "  #getting the gene name, which is in the specified name entry column \n",
    "  #(generally first column)\n",
    "  gene_name <- list_of_df[[q25_entry]][row, 1]\n",
    "  #get rows of interest\n",
    "  q25_list <- t(list_of_df[[q25_entry]][row, omitted_indices]) \n",
    "  q75_list <- t(list_of_df[[q75_entry]][row, omitted_indices]) \n",
    "  #Need to take transpose to get this row into column format; corresponds to only numeric    indices\n",
    "  test <- wilcox.test(q25_list, q75_list)\n",
    "  return (list(gene_name, test$p.value))\n",
    "}\n",
    "\n",
    "df_intersect_p_vals <- pblapply(inter_list, asymp_test_applier, f = wilcox_q10_q90)\n",
    "\n",
    "\n",
    "\n",
    "#Repeat relevant analysis using the previous analytical logic from code chunk called\n",
    "#'q value calcs and z-score calculations'\n",
    "\n",
    "#Apply previously written function that will append adjusted qvals, etc to the list of p #value dataframes object from earlier\n",
    "\n",
    "appended_p_val_df_expression <- pblapply(seq_len(length((df_intersect_p_vals))), \n",
    "                                         append_cols_p_q, \n",
    "                                         df_intersect_p_vals, CV = FALSE)\n",
    "\n",
    "#Subsetting the appended_p_val_df_expression dataset: focusing on col_of_sign_q, this is\n",
    "#the number of genes that are actually significantly different between the two conditions\n",
    "#that we'd like to compare: the top hit candidates only, + the random groupings we used\n",
    "#originally. The difference here from the previous analysis using CV is that now there\n",
    "#is no need to look at genes grouped by CV positive/negative correlation. Just \n",
    "#simply count the number of genes that are significantly different between the two \n",
    "#expression groupings, for both random and true groups, and then derive z-scores this way\n",
    "\n",
    "list_genes_expression <-  \n",
    "  pblapply(seq_len(length(appended_p_val_df_expression)), count_sig_qvals, \n",
    "           data = appended_p_val_df_expression, CV = FALSE)\n",
    "\n",
    "#Get the random and grouped means and sds, using the random_designation tag. \n",
    "\n",
    "random_sig_genes <- unlist(lapply(list_genes_expression, function (list) \n",
    "{if (list[[2]] == \"Y\") {list[[3]]}}))\n",
    "\n",
    "random_sig_sd <- sd(random_sig_genes)\n",
    "random_sig_mean <- mean(random_sig_genes)\n",
    "\n",
    "#Return a 'logical list' of genes that are the top hits\n",
    "cond <- lapply(list_genes_expression, function (list) list[[2]] == \"N\")\n",
    "\n",
    "#Subsetting vector by atomic mask, unlisting it to place into vector format\n",
    "grouped_list <- list_genes_expression[unlist(cond)]\n",
    "\n",
    "\n",
    "#Returns a new list with converted z-scores: for each entry in the grouped list, subtracts\n",
    "#out the random mean scalar, and divides by the random sd\n",
    "grouped_list_z <- lapply(grouped_list, function (list) {\n",
    "  z_score <- (list[[3]] - random_sig_mean)/random_sig_sd\n",
    "  #reassign the list, and return it \n",
    "  list[[3]] = z_score\n",
    "  return (list)\n",
    "})\n",
    "\n",
    "#Make a dataframe out of this 'z-list': extract relevant elements from this new list &\n",
    "#return a dataframe in wide format\n",
    "grouped_z_name <- lapply(grouped_list_z, function (list) {\n",
    "  list[[1]]\n",
    "})\n",
    "\n",
    "grouped_z_z <- lapply(grouped_list_z, function (list) {\n",
    "  list[[3]]\n",
    "})\n",
    "\n",
    "#The data.frame call: make a 3-col dataframe with name, numeric z-score for cv-low cond,\n",
    "#and cv-hi condition\n",
    "\n",
    "z_df <- data.frame(unlist(grouped_z_name), unlist(grouped_z_z), 'Normalized Z-score' )\n",
    "\n",
    "colnames(z_df) <- c(\"Chromatin factor name\", \"Z\", 'Factor')\n",
    "\n",
    "write.csv(z_df, \"/home/ssobti/projects/heterogeneity_brian/output_data/z_df_expression_check_q10_q90_2000DEGs.txt\")\n",
    "\n",
    "\n",
    "\n",
    "#Plotting out the z-scores for both conditions: \n",
    "z_plot <- ggplot(z_df, mapping = aes(Factor, Z)) + \n",
    "  geom_dotplot(binaxis = \"y\", stackdir = 'center', binwidth = 1/50) +\n",
    "  labs (title = 'Boxplots of z-scores for sig chromatin factors expression comparison',\n",
    "        caption = 'z-score derived from subtracting out background \n",
    "      distribution via two-sided Mann-Whitney',\n",
    "        y = 'z-scores', \n",
    "        x = 'Intersected candidate top hits from CV analysis') + \n",
    "  theme (legend.position = \"none\",\n",
    "         axis.text.x=element_blank(),\n",
    "         axis.ticks.x=element_blank()) \n",
    "\n",
    "z_plot\n",
    "\n",
    "save(z_plot, file = \"/home/ssobti/projects/heterogeneity_brian/output_data/expression_plot_q25_q75_2000DEGs.RData\")\n",
    "\n"
   ]
  }
 ],
 "metadata": {
  "kernelspec": {
   "display_name": "R",
   "language": "R",
   "name": "ir"
  },
  "language_info": {
   "codemirror_mode": "r",
   "file_extension": ".r",
   "mimetype": "text/x-r-source",
   "name": "R",
   "pygments_lexer": "r",
   "version": "3.6.3"
  }
 },
 "nbformat": 4,
 "nbformat_minor": 5
}
