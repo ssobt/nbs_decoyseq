{
 "cells": [
  {
   "cell_type": "code",
   "execution_count": 1,
   "id": "902e239a-e22f-48c1-af8c-8cb0aaa6f730",
   "metadata": {
    "execution": {
     "iopub.execute_input": "2023-01-13T22:08:36.501480Z",
     "iopub.status.busy": "2023-01-13T22:08:36.499578Z",
     "iopub.status.idle": "2023-01-13T22:08:36.522679Z",
     "shell.execute_reply": "2023-01-13T22:08:36.521425Z"
    }
   },
   "outputs": [],
   "source": [
    "## Notebook env: brian_script_env (R kernel)\n",
    "## this notebook finds variable genes necessary for miR_heterogeneity_nb.ipynb and Data_prepping.ipynb"
   ]
  },
  {
   "cell_type": "code",
   "execution_count": 2,
   "id": "e7604f90-2760-445a-9fb5-b6e3f1a12d3d",
   "metadata": {
    "execution": {
     "iopub.execute_input": "2023-01-13T22:08:36.634871Z",
     "iopub.status.busy": "2023-01-13T22:08:36.567775Z",
     "iopub.status.idle": "2023-01-13T22:08:39.983543Z",
     "shell.execute_reply": "2023-01-13T22:08:39.982113Z"
    }
   },
   "outputs": [
    {
     "name": "stderr",
     "output_type": "stream",
     "text": [
      "Warning message:\n",
      "“package ‘SeuratDisk’ was built under R version 4.0.3”\n",
      "Registered S3 methods overwritten by 'SeuratObject':\n",
      "  method                     from  \n",
      "  $.JackStrawData            Seurat\n",
      "  $.Seurat                   Seurat\n",
      "  $.SeuratCommand            Seurat\n",
      "  $<-.Seurat                 Seurat\n",
      "  [.Assay                    Seurat\n",
      "  [.DimReduc                 Seurat\n",
      "  [.Seurat                   Seurat\n",
      "  [.SeuratCommand            Seurat\n",
      "  [.SpatialImage             Seurat\n",
      "  [[.Assay                   Seurat\n",
      "  [[.DimReduc                Seurat\n",
      "  [[.Seurat                  Seurat\n",
      "  levels<-.Seurat            Seurat\n",
      "  .DollarNames.JackStrawData Seurat\n",
      "  .DollarNames.Seurat        Seurat\n",
      "  .DollarNames.SeuratCommand Seurat\n",
      "  as.list.SeuratCommand      Seurat\n",
      "  as.logical.JackStrawData   Seurat\n",
      "  dim.Assay                  Seurat\n",
      "  dim.DimReduc               Seurat\n",
      "  dim.Neighbor               Seurat\n",
      "  dim.Seurat                 Seurat\n",
      "  dim.SpatialImage           Seurat\n",
      "  dimnames.Assay             Seurat\n",
      "  dimnames.DimReduc          Seurat\n",
      "  dimnames.Seurat            Seurat\n",
      "  droplevels.Seurat          Seurat\n",
      "  length.DimReduc            Seurat\n",
      "  levels.Seurat              Seurat\n",
      "  merge.Assay                Seurat\n",
      "  merge.Seurat               Seurat\n",
      "  names.DimReduc             Seurat\n",
      "  names.Seurat               Seurat\n",
      "  print.DimReduc             Seurat\n",
      "  subset.Assay               Seurat\n",
      "  subset.DimReduc            Seurat\n",
      "  subset.Seurat              Seurat\n",
      "  subset.SpatialImage        Seurat\n",
      "\n",
      "Registered S3 method overwritten by 'cli':\n",
      "  method     from    \n",
      "  print.boxx spatstat\n",
      "\n",
      "Registered S3 methods overwritten by 'SeuratDisk':\n",
      "  method            from  \n",
      "  as.Seurat.loom    Seurat\n",
      "  as.sparse.H5Group Seurat\n",
      "\n",
      "\n",
      "Attaching package: ‘SeuratDisk’\n",
      "\n",
      "\n",
      "The following object is masked from ‘package:Seurat’:\n",
      "\n",
      "    as.loom\n",
      "\n",
      "\n"
     ]
    }
   ],
   "source": [
    "library(Seurat)\n",
    "library(SeuratDisk)\n",
    "library(Matrix)\n",
    "library(ggplot2)"
   ]
  },
  {
   "cell_type": "code",
   "execution_count": 3,
   "id": "268b564a-bd4b-4f23-a4c3-3a3b7a3db527",
   "metadata": {
    "execution": {
     "iopub.execute_input": "2023-01-13T22:08:39.989427Z",
     "iopub.status.busy": "2023-01-13T22:08:39.988081Z",
     "iopub.status.idle": "2023-01-13T22:11:24.909843Z",
     "shell.execute_reply": "2023-01-13T22:11:24.907885Z"
    }
   },
   "outputs": [
    {
     "data": {
      "text/html": [
       "<table class=\"dataframe\">\n",
       "<caption>A data.frame: 6 × 14</caption>\n",
       "<thead>\n",
       "\t<tr><th></th><th scope=col>X</th><th scope=col>sample</th><th scope=col>barcode</th><th scope=col>guide</th><th scope=col>lor</th><th scope=col>pvalue</th><th scope=col>adj_pvalue</th><th scope=col>max_umi</th><th scope=col>n_umi</th><th scope=col>m_umi</th><th scope=col>v_umi</th><th scope=col>log_max_umi</th><th scope=col>log_n_umi</th><th scope=col>log_m_umi</th></tr>\n",
       "\t<tr><th></th><th scope=col>&lt;fct&gt;</th><th scope=col>&lt;fct&gt;</th><th scope=col>&lt;fct&gt;</th><th scope=col>&lt;fct&gt;</th><th scope=col>&lt;dbl&gt;</th><th scope=col>&lt;dbl&gt;</th><th scope=col>&lt;dbl&gt;</th><th scope=col>&lt;dbl&gt;</th><th scope=col>&lt;dbl&gt;</th><th scope=col>&lt;dbl&gt;</th><th scope=col>&lt;dbl&gt;</th><th scope=col>&lt;dbl&gt;</th><th scope=col>&lt;dbl&gt;</th><th scope=col>&lt;dbl&gt;</th></tr>\n",
       "</thead>\n",
       "<tbody>\n",
       "\t<tr><th scope=row>1</th><td>miR_1:AAACCCAAGGAGAGGC-1</td><td>miR_1</td><td>AAACCCAAGGAGAGGC</td><td>hsa-miR-203a-3p</td><td>5.453121</td><td>2.983000e-159</td><td>3.010603e-152</td><td>67</td><td> 78</td><td>0.1964736</td><td>11.324937</td><td>1.826075</td><td>1.892095</td><td>-0.7066959</td></tr>\n",
       "\t<tr><th scope=row>2</th><td>miR_1:AAACCCAAGGTAAACT-1</td><td>miR_1</td><td>AAACCCAAGGTAAACT</td><td>hsa-miR-93-3p  </td><td>6.012001</td><td>3.907611e-225</td><td>3.943769e-218</td><td>97</td><td>108</td><td>0.2720403</td><td>23.713686</td><td>1.986772</td><td>2.033424</td><td>-0.5653668</td></tr>\n",
       "\t<tr><th scope=row>3</th><td>miR_1:AAACCCACAACGATCT-1</td><td>miR_1</td><td>AAACCCACAACGATCT</td><td>hsa-miR-130b-3p</td><td>5.864701</td><td>3.299362e-202</td><td>3.329893e-195</td><td>89</td><td>113</td><td>0.2846348</td><td>19.981910</td><td>1.949390</td><td>2.053078</td><td>-0.5457121</td></tr>\n",
       "\t<tr><th scope=row>4</th><td>miR_1:AAACCCACACGATTCA-1</td><td>miR_1</td><td>AAACCCACACGATTCA</td><td>TuD_NC_18      </td><td>5.859895</td><td>2.574602e-201</td><td>2.598426e-194</td><td>96</td><td>114</td><td>0.2871537</td><td>23.235516</td><td>1.982271</td><td>2.056905</td><td>-0.5418857</td></tr>\n",
       "\t<tr><th scope=row>5</th><td>miR_1:AAACCCACAGTCAACT-1</td><td>miR_1</td><td>AAACCCACAGTCAACT</td><td>hsa-miR-147b-5p</td><td>5.632808</td><td>3.564463e-178</td><td>3.597446e-171</td><td>71</td><td> 86</td><td>0.2166247</td><td>12.725683</td><td>1.851258</td><td>1.934498</td><td>-0.6642921</td></tr>\n",
       "\t<tr><th scope=row>6</th><td>miR_1:AAACCCACATCTCATT-1</td><td>miR_1</td><td>AAACCCACATCTCATT</td><td>hsa-miR-501-5p </td><td>5.261722</td><td>7.493882e-143</td><td>7.563226e-136</td><td>58</td><td> 64</td><td>0.1612091</td><td> 8.484047</td><td>1.763428</td><td>1.806180</td><td>-0.7926105</td></tr>\n",
       "</tbody>\n",
       "</table>\n"
      ],
      "text/latex": [
       "A data.frame: 6 × 14\n",
       "\\begin{tabular}{r|llllllllllllll}\n",
       "  & X & sample & barcode & guide & lor & pvalue & adj\\_pvalue & max\\_umi & n\\_umi & m\\_umi & v\\_umi & log\\_max\\_umi & log\\_n\\_umi & log\\_m\\_umi\\\\\n",
       "  & <fct> & <fct> & <fct> & <fct> & <dbl> & <dbl> & <dbl> & <dbl> & <dbl> & <dbl> & <dbl> & <dbl> & <dbl> & <dbl>\\\\\n",
       "\\hline\n",
       "\t1 & miR\\_1:AAACCCAAGGAGAGGC-1 & miR\\_1 & AAACCCAAGGAGAGGC & hsa-miR-203a-3p & 5.453121 & 2.983000e-159 & 3.010603e-152 & 67 &  78 & 0.1964736 & 11.324937 & 1.826075 & 1.892095 & -0.7066959\\\\\n",
       "\t2 & miR\\_1:AAACCCAAGGTAAACT-1 & miR\\_1 & AAACCCAAGGTAAACT & hsa-miR-93-3p   & 6.012001 & 3.907611e-225 & 3.943769e-218 & 97 & 108 & 0.2720403 & 23.713686 & 1.986772 & 2.033424 & -0.5653668\\\\\n",
       "\t3 & miR\\_1:AAACCCACAACGATCT-1 & miR\\_1 & AAACCCACAACGATCT & hsa-miR-130b-3p & 5.864701 & 3.299362e-202 & 3.329893e-195 & 89 & 113 & 0.2846348 & 19.981910 & 1.949390 & 2.053078 & -0.5457121\\\\\n",
       "\t4 & miR\\_1:AAACCCACACGATTCA-1 & miR\\_1 & AAACCCACACGATTCA & TuD\\_NC\\_18       & 5.859895 & 2.574602e-201 & 2.598426e-194 & 96 & 114 & 0.2871537 & 23.235516 & 1.982271 & 2.056905 & -0.5418857\\\\\n",
       "\t5 & miR\\_1:AAACCCACAGTCAACT-1 & miR\\_1 & AAACCCACAGTCAACT & hsa-miR-147b-5p & 5.632808 & 3.564463e-178 & 3.597446e-171 & 71 &  86 & 0.2166247 & 12.725683 & 1.851258 & 1.934498 & -0.6642921\\\\\n",
       "\t6 & miR\\_1:AAACCCACATCTCATT-1 & miR\\_1 & AAACCCACATCTCATT & hsa-miR-501-5p  & 5.261722 & 7.493882e-143 & 7.563226e-136 & 58 &  64 & 0.1612091 &  8.484047 & 1.763428 & 1.806180 & -0.7926105\\\\\n",
       "\\end{tabular}\n"
      ],
      "text/markdown": [
       "\n",
       "A data.frame: 6 × 14\n",
       "\n",
       "| <!--/--> | X &lt;fct&gt; | sample &lt;fct&gt; | barcode &lt;fct&gt; | guide &lt;fct&gt; | lor &lt;dbl&gt; | pvalue &lt;dbl&gt; | adj_pvalue &lt;dbl&gt; | max_umi &lt;dbl&gt; | n_umi &lt;dbl&gt; | m_umi &lt;dbl&gt; | v_umi &lt;dbl&gt; | log_max_umi &lt;dbl&gt; | log_n_umi &lt;dbl&gt; | log_m_umi &lt;dbl&gt; |\n",
       "|---|---|---|---|---|---|---|---|---|---|---|---|---|---|---|\n",
       "| 1 | miR_1:AAACCCAAGGAGAGGC-1 | miR_1 | AAACCCAAGGAGAGGC | hsa-miR-203a-3p | 5.453121 | 2.983000e-159 | 3.010603e-152 | 67 |  78 | 0.1964736 | 11.324937 | 1.826075 | 1.892095 | -0.7066959 |\n",
       "| 2 | miR_1:AAACCCAAGGTAAACT-1 | miR_1 | AAACCCAAGGTAAACT | hsa-miR-93-3p   | 6.012001 | 3.907611e-225 | 3.943769e-218 | 97 | 108 | 0.2720403 | 23.713686 | 1.986772 | 2.033424 | -0.5653668 |\n",
       "| 3 | miR_1:AAACCCACAACGATCT-1 | miR_1 | AAACCCACAACGATCT | hsa-miR-130b-3p | 5.864701 | 3.299362e-202 | 3.329893e-195 | 89 | 113 | 0.2846348 | 19.981910 | 1.949390 | 2.053078 | -0.5457121 |\n",
       "| 4 | miR_1:AAACCCACACGATTCA-1 | miR_1 | AAACCCACACGATTCA | TuD_NC_18       | 5.859895 | 2.574602e-201 | 2.598426e-194 | 96 | 114 | 0.2871537 | 23.235516 | 1.982271 | 2.056905 | -0.5418857 |\n",
       "| 5 | miR_1:AAACCCACAGTCAACT-1 | miR_1 | AAACCCACAGTCAACT | hsa-miR-147b-5p | 5.632808 | 3.564463e-178 | 3.597446e-171 | 71 |  86 | 0.2166247 | 12.725683 | 1.851258 | 1.934498 | -0.6642921 |\n",
       "| 6 | miR_1:AAACCCACATCTCATT-1 | miR_1 | AAACCCACATCTCATT | hsa-miR-501-5p  | 5.261722 | 7.493882e-143 | 7.563226e-136 | 58 |  64 | 0.1612091 |  8.484047 | 1.763428 | 1.806180 | -0.7926105 |\n",
       "\n"
      ],
      "text/plain": [
       "  X                        sample barcode          guide           lor     \n",
       "1 miR_1:AAACCCAAGGAGAGGC-1 miR_1  AAACCCAAGGAGAGGC hsa-miR-203a-3p 5.453121\n",
       "2 miR_1:AAACCCAAGGTAAACT-1 miR_1  AAACCCAAGGTAAACT hsa-miR-93-3p   6.012001\n",
       "3 miR_1:AAACCCACAACGATCT-1 miR_1  AAACCCACAACGATCT hsa-miR-130b-3p 5.864701\n",
       "4 miR_1:AAACCCACACGATTCA-1 miR_1  AAACCCACACGATTCA TuD_NC_18       5.859895\n",
       "5 miR_1:AAACCCACAGTCAACT-1 miR_1  AAACCCACAGTCAACT hsa-miR-147b-5p 5.632808\n",
       "6 miR_1:AAACCCACATCTCATT-1 miR_1  AAACCCACATCTCATT hsa-miR-501-5p  5.261722\n",
       "  pvalue        adj_pvalue    max_umi n_umi m_umi     v_umi     log_max_umi\n",
       "1 2.983000e-159 3.010603e-152 67       78   0.1964736 11.324937 1.826075   \n",
       "2 3.907611e-225 3.943769e-218 97      108   0.2720403 23.713686 1.986772   \n",
       "3 3.299362e-202 3.329893e-195 89      113   0.2846348 19.981910 1.949390   \n",
       "4 2.574602e-201 2.598426e-194 96      114   0.2871537 23.235516 1.982271   \n",
       "5 3.564463e-178 3.597446e-171 71       86   0.2166247 12.725683 1.851258   \n",
       "6 7.493882e-143 7.563226e-136 58       64   0.1612091  8.484047 1.763428   \n",
       "  log_n_umi log_m_umi \n",
       "1 1.892095  -0.7066959\n",
       "2 2.033424  -0.5653668\n",
       "3 2.053078  -0.5457121\n",
       "4 2.056905  -0.5418857\n",
       "5 1.934498  -0.6642921\n",
       "6 1.806180  -0.7926105"
      ]
     },
     "metadata": {},
     "output_type": "display_data"
    },
    {
     "data": {
      "text/html": [
       "<style>\n",
       ".list-inline {list-style: none; margin:0; padding: 0}\n",
       ".list-inline>li {display: inline-block}\n",
       ".list-inline>li:not(:last-child)::after {content: \"\\00b7\"; padding: 0 .5ex}\n",
       "</style>\n",
       "<ol class=list-inline><li>30035</li><li>36601</li></ol>\n"
      ],
      "text/latex": [
       "\\begin{enumerate*}\n",
       "\\item 30035\n",
       "\\item 36601\n",
       "\\end{enumerate*}\n"
      ],
      "text/markdown": [
       "1. 30035\n",
       "2. 36601\n",
       "\n",
       "\n"
      ],
      "text/plain": [
       "[1] 30035 36601"
      ]
     },
     "metadata": {},
     "output_type": "display_data"
    }
   ],
   "source": [
    "raw_meta <- read.csv('/home/ssobti/projects/mir_tud/110222_filtered_data/miR_raw_meta.csv', header = TRUE)\n",
    "head(raw_meta)\n",
    "raw_genes <- read.csv('/home/ssobti/projects/mir_tud/110222_filtered_data/miR_raw_genes.csv', header = FALSE)\n",
    "raw_genes <- raw_genes$V1\n",
    "RNA_Seq_expression_raw_data <- readMM('/home/ssobti/projects/mir_tud/110222_filtered_data/miR_raw.mtx')\n",
    "dim(RNA_Seq_expression_raw_data)\n",
    "rownames(RNA_Seq_expression_raw_data) <- raw_meta$X\n",
    "colnames(RNA_Seq_expression_raw_data) <- raw_genes\n",
    "RNA_Seq_expression_raw_data <- Matrix::t(RNA_Seq_expression_raw_data)\n",
    "miR_seurat_data <- CreateSeuratObject(RNA_Seq_expression_raw_data, min.cells = 3, min.features = 200)"
   ]
  },
  {
   "cell_type": "code",
   "execution_count": 4,
   "id": "bdc210e4-3efa-4f13-a87d-76991de75a2a",
   "metadata": {
    "execution": {
     "iopub.execute_input": "2023-01-13T22:11:24.925823Z",
     "iopub.status.busy": "2023-01-13T22:11:24.924583Z",
     "iopub.status.idle": "2023-01-13T22:11:25.587367Z",
     "shell.execute_reply": "2023-01-13T22:11:25.585831Z"
    }
   },
   "outputs": [],
   "source": [
    "miR_seurat_data[[\"percent.mt\"]] <- PercentageFeatureSet(miR_seurat_data, pattern = \"^MT-\")"
   ]
  },
  {
   "cell_type": "code",
   "execution_count": 5,
   "id": "b702ee4c-1956-4c40-bc70-f67b672c46df",
   "metadata": {
    "execution": {
     "iopub.execute_input": "2023-01-13T22:11:25.593122Z",
     "iopub.status.busy": "2023-01-13T22:11:25.591934Z",
     "iopub.status.idle": "2023-01-13T22:11:40.439314Z",
     "shell.execute_reply": "2023-01-13T22:11:40.437909Z"
    }
   },
   "outputs": [],
   "source": [
    "miR_seurat_data <- subset(miR_seurat_data, subset = percent.mt < 12)"
   ]
  },
  {
   "cell_type": "code",
   "execution_count": 6,
   "id": "3fb20eef-33b0-4622-9b9b-94f008a29016",
   "metadata": {
    "execution": {
     "iopub.execute_input": "2023-01-13T22:11:40.444672Z",
     "iopub.status.busy": "2023-01-13T22:11:40.443702Z",
     "iopub.status.idle": "2023-01-13T22:11:49.241316Z",
     "shell.execute_reply": "2023-01-13T22:11:49.240030Z"
    }
   },
   "outputs": [],
   "source": [
    "miR_seurat_data <- NormalizeData(miR_seurat_data, normalization.method = \"LogNormalize\", scale.factor = 10000)"
   ]
  },
  {
   "cell_type": "code",
   "execution_count": 7,
   "id": "0558ab2f-f40d-4311-b730-d40cdf8cfc73",
   "metadata": {
    "execution": {
     "iopub.execute_input": "2023-01-13T22:11:49.246957Z",
     "iopub.status.busy": "2023-01-13T22:11:49.245928Z",
     "iopub.status.idle": "2023-01-13T22:12:30.706247Z",
     "shell.execute_reply": "2023-01-13T22:12:30.704057Z"
    }
   },
   "outputs": [],
   "source": [
    "miR_seurat_data <- FindVariableFeatures(miR_seurat_data, selection.method = \"vst\", nfeatures = 2000)"
   ]
  },
  {
   "cell_type": "code",
   "execution_count": 8,
   "id": "e5558116-d42e-46c8-88d6-03fa772be070",
   "metadata": {
    "execution": {
     "iopub.execute_input": "2023-01-13T22:12:30.713008Z",
     "iopub.status.busy": "2023-01-13T22:12:30.711795Z",
     "iopub.status.idle": "2023-01-13T22:12:30.725509Z",
     "shell.execute_reply": "2023-01-13T22:12:30.724169Z"
    }
   },
   "outputs": [],
   "source": [
    "top_variable_genes = VariableFeatures(miR_seurat_data)"
   ]
  },
  {
   "cell_type": "code",
   "execution_count": 9,
   "id": "a806c642-42f6-41ea-9510-79c7bf06fe13",
   "metadata": {
    "execution": {
     "iopub.execute_input": "2023-01-13T22:12:30.730890Z",
     "iopub.status.busy": "2023-01-13T22:12:30.729619Z",
     "iopub.status.idle": "2023-01-13T22:12:30.745163Z",
     "shell.execute_reply": "2023-01-13T22:12:30.743771Z"
    }
   },
   "outputs": [],
   "source": [
    "top_var_genes = data.frame(variable_genes = top_variable_genes)"
   ]
  },
  {
   "cell_type": "code",
   "execution_count": 10,
   "id": "ef4bb30c-0ec0-43fa-a1db-0d03d52736ec",
   "metadata": {
    "execution": {
     "iopub.execute_input": "2023-01-13T22:12:30.750283Z",
     "iopub.status.busy": "2023-01-13T22:12:30.749077Z",
     "iopub.status.idle": "2023-01-13T22:12:30.763390Z",
     "shell.execute_reply": "2023-01-13T22:12:30.761950Z"
    }
   },
   "outputs": [],
   "source": [
    "write.csv(top_var_genes, file = '/home/ssobti/projects/mir_tud/output_data/heterogeneity/top_var_genes.csv')"
   ]
  },
  {
   "cell_type": "code",
   "execution_count": 11,
   "id": "298e1641-ce6e-4b24-ab89-fc58eaa2463b",
   "metadata": {
    "execution": {
     "iopub.execute_input": "2023-01-13T22:12:30.768372Z",
     "iopub.status.busy": "2023-01-13T22:12:30.767126Z",
     "iopub.status.idle": "2023-01-13T22:12:55.955670Z",
     "shell.execute_reply": "2023-01-13T22:12:55.953952Z"
    }
   },
   "outputs": [],
   "source": [
    "RNA_Seq_expression_raw_data <- as(RNA_Seq_expression_raw_data, 'dgCMatrix')"
   ]
  },
  {
   "cell_type": "code",
   "execution_count": 12,
   "id": "847c70a3-81a2-4080-b20a-4d187c480e13",
   "metadata": {
    "execution": {
     "iopub.execute_input": "2023-01-13T22:12:55.961585Z",
     "iopub.status.busy": "2023-01-13T22:12:55.960145Z",
     "iopub.status.idle": "2023-01-13T22:13:14.451035Z",
     "shell.execute_reply": "2023-01-13T22:13:14.449579Z"
    }
   },
   "outputs": [],
   "source": [
    "medians = sparseMatrixStats::rowMedians(RNA_Seq_expression_raw_data)"
   ]
  },
  {
   "cell_type": "code",
   "execution_count": 13,
   "id": "602d3b05-e436-4f0b-a98a-a72cfc3d5290",
   "metadata": {
    "execution": {
     "iopub.execute_input": "2023-01-13T22:13:14.456413Z",
     "iopub.status.busy": "2023-01-13T22:13:14.455419Z",
     "iopub.status.idle": "2023-01-13T22:13:14.464830Z",
     "shell.execute_reply": "2023-01-13T22:13:14.463747Z"
    }
   },
   "outputs": [],
   "source": [
    "median_df = data.frame(gene_medians = medians)"
   ]
  },
  {
   "cell_type": "code",
   "execution_count": 14,
   "id": "2290c6cb-3b58-43ea-950c-753e94af1d16",
   "metadata": {
    "execution": {
     "iopub.execute_input": "2023-01-13T22:13:14.468694Z",
     "iopub.status.busy": "2023-01-13T22:13:14.467769Z",
     "iopub.status.idle": "2023-01-13T22:13:44.306607Z",
     "shell.execute_reply": "2023-01-13T22:13:44.305322Z"
    }
   },
   "outputs": [
    {
     "data": {
      "image/png": "[encoded data removed]",
      "text/plain": [
       "plot without title"
      ]
     },
     "metadata": {
      "image/png": {
       "height": 420,
       "width": 420
      }
     },
     "output_type": "display_data"
    }
   ],
   "source": [
    "ggplot(median_df, aes(x=gene_medians)) + \n",
    "  geom_histogram(color=\"black\", fill=\"white\", bins = 50000) +\n",
    "  theme_bw()"
   ]
  },
  {
   "cell_type": "code",
   "execution_count": 15,
   "id": "ef41eff8-d460-4a47-969a-e75a711bfa7c",
   "metadata": {
    "execution": {
     "iopub.execute_input": "2023-01-13T22:13:44.313026Z",
     "iopub.status.busy": "2023-01-13T22:13:44.312043Z",
     "iopub.status.idle": "2023-01-13T22:14:11.113408Z",
     "shell.execute_reply": "2023-01-13T22:14:11.112130Z"
    }
   },
   "outputs": [
    {
     "data": {
      "image/png": "[encoded data removed]",
      "text/plain": [
       "plot without title"
      ]
     },
     "metadata": {
      "image/png": {
       "height": 420,
       "width": 420
      }
     },
     "output_type": "display_data"
    }
   ],
   "source": [
    "ggplot(median_df, aes(x=gene_medians)) + \n",
    "  geom_histogram(color=\"black\", fill=\"white\", bins = 50000) +\n",
    "  coord_cartesian(xlim = c(0,200)) +\n",
    "  theme_bw()"
   ]
  },
  {
   "cell_type": "code",
   "execution_count": 16,
   "id": "cd711336-c9b4-4beb-80db-6ca31662103e",
   "metadata": {
    "execution": {
     "iopub.execute_input": "2023-01-13T22:14:11.119950Z",
     "iopub.status.busy": "2023-01-13T22:14:11.118849Z",
     "iopub.status.idle": "2023-01-13T22:14:38.188659Z",
     "shell.execute_reply": "2023-01-13T22:14:38.187433Z"
    }
   },
   "outputs": [
    {
     "data": {
      "image/png": "[encoded data removed]",
      "text/plain": [
       "plot without title"
      ]
     },
     "metadata": {
      "image/png": {
       "height": 420,
       "width": 420
      }
     },
     "output_type": "display_data"
    }
   ],
   "source": [
    "ggplot(median_df, aes(x=gene_medians)) + \n",
    "  geom_histogram(color=\"black\", fill=\"white\", bins = 50000) +\n",
    "  coord_cartesian(xlim = c(0,10)) +\n",
    "  theme_bw()"
   ]
  }
 ],
 "metadata": {
  "kernelspec": {
   "display_name": "R",
   "language": "R",
   "name": "ir"
  },
  "language_info": {
   "codemirror_mode": "r",
   "file_extension": ".r",
   "mimetype": "text/x-r-source",
   "name": "R",
   "pygments_lexer": "r",
   "version": "3.6.3"
  }
 },
 "nbformat": 4,
 "nbformat_minor": 5
}
