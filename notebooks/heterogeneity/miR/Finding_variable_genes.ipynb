{
 "cells": [
  {
   "cell_type": "code",
   "execution_count": null,
   "id": "902e239a-e22f-48c1-af8c-8cb0aaa6f730",
   "metadata": {},
   "outputs": [],
   "source": [
    "## Notebook env: brian_script_env (R kernel)\n",
    "## this notebook finds variable genes necessary for miR_heterogeneity_nb.ipynb and Data_prepping.ipynb"
   ]
  },
  {
   "cell_type": "code",
   "execution_count": 1,
   "id": "e7604f90-2760-445a-9fb5-b6e3f1a12d3d",
   "metadata": {},
   "outputs": [
    {
     "name": "stderr",
     "output_type": "stream",
     "text": [
      "Warning message:\n",
      "“package ‘SeuratDisk’ was built under R version 4.0.3”\n",
      "Registered S3 methods overwritten by 'SeuratObject':\n",
      "  method                     from  \n",
      "  $.JackStrawData            Seurat\n",
      "  $.Seurat                   Seurat\n",
      "  $.SeuratCommand            Seurat\n",
      "  $<-.Seurat                 Seurat\n",
      "  [.Assay                    Seurat\n",
      "  [.DimReduc                 Seurat\n",
      "  [.Seurat                   Seurat\n",
      "  [.SeuratCommand            Seurat\n",
      "  [.SpatialImage             Seurat\n",
      "  [[.Assay                   Seurat\n",
      "  [[.DimReduc                Seurat\n",
      "  [[.Seurat                  Seurat\n",
      "  levels<-.Seurat            Seurat\n",
      "  .DollarNames.JackStrawData Seurat\n",
      "  .DollarNames.Seurat        Seurat\n",
      "  .DollarNames.SeuratCommand Seurat\n",
      "  as.list.SeuratCommand      Seurat\n",
      "  as.logical.JackStrawData   Seurat\n",
      "  dim.Assay                  Seurat\n",
      "  dim.DimReduc               Seurat\n",
      "  dim.Neighbor               Seurat\n",
      "  dim.Seurat                 Seurat\n",
      "  dim.SpatialImage           Seurat\n",
      "  dimnames.Assay             Seurat\n",
      "  dimnames.DimReduc          Seurat\n",
      "  dimnames.Seurat            Seurat\n",
      "  droplevels.Seurat          Seurat\n",
      "  length.DimReduc            Seurat\n",
      "  levels.Seurat              Seurat\n",
      "  merge.Assay                Seurat\n",
      "  merge.Seurat               Seurat\n",
      "  names.DimReduc             Seurat\n",
      "  names.Seurat               Seurat\n",
      "  print.DimReduc             Seurat\n",
      "  subset.Assay               Seurat\n",
      "  subset.DimReduc            Seurat\n",
      "  subset.Seurat              Seurat\n",
      "  subset.SpatialImage        Seurat\n",
      "\n",
      "Registered S3 method overwritten by 'cli':\n",
      "  method     from    \n",
      "  print.boxx spatstat\n",
      "\n",
      "Registered S3 methods overwritten by 'SeuratDisk':\n",
      "  method            from  \n",
      "  as.Seurat.loom    Seurat\n",
      "  as.sparse.H5Group Seurat\n",
      "\n",
      "\n",
      "Attaching package: ‘SeuratDisk’\n",
      "\n",
      "\n",
      "The following object is masked from ‘package:Seurat’:\n",
      "\n",
      "    as.loom\n",
      "\n",
      "\n"
     ]
    }
   ],
   "source": [
    "library(Seurat)\n",
    "library(SeuratDisk)\n",
    "library(Matrix)\n",
    "library(ggplot2)"
   ]
  },
  {
   "cell_type": "code",
   "execution_count": null,
   "id": "268b564a-bd4b-4f23-a4c3-3a3b7a3db527",
   "metadata": {},
   "outputs": [],
   "source": [
    "raw_meta <- read.csv('/home/ssobti/projects/mir_tud/010523_filtered_data/miR_raw_meta.csv', header = TRUE)\n",
    "head(raw_meta)\n",
    "raw_genes <- read.csv('/home/ssobti/projects/mir_tud/010523_filtered_data/miR_raw_genes.csv', header = FALSE)\n",
    "raw_genes <- raw_genes$V1\n",
    "RNA_Seq_expression_raw_data <- readMM('/home/ssobti/projects/mir_tud/010523_filtered_data/miR_raw.mtx')\n",
    "dim(RNA_Seq_expression_raw_data)\n",
    "rownames(RNA_Seq_expression_raw_data) <- raw_meta$X\n",
    "colnames(RNA_Seq_expression_raw_data) <- raw_genes\n",
    "RNA_Seq_expression_raw_data <- Matrix::t(RNA_Seq_expression_raw_data)\n",
    "miR_seurat_data <- CreateSeuratObject(RNA_Seq_expression_raw_data, min.cells = 3, min.features = 200)"
   ]
  },
  {
   "cell_type": "code",
   "execution_count": null,
   "id": "bdc210e4-3efa-4f13-a87d-76991de75a2a",
   "metadata": {},
   "outputs": [],
   "source": [
    "miR_seurat_data[[\"percent.mt\"]] <- PercentageFeatureSet(miR_seurat_data, pattern = \"^MT-\")"
   ]
  },
  {
   "cell_type": "code",
   "execution_count": null,
   "id": "b702ee4c-1956-4c40-bc70-f67b672c46df",
   "metadata": {},
   "outputs": [],
   "source": [
    "miR_seurat_data <- subset(miR_seurat_data, subset = percent.mt < 12)"
   ]
  },
  {
   "cell_type": "code",
   "execution_count": null,
   "id": "3fb20eef-33b0-4622-9b9b-94f008a29016",
   "metadata": {},
   "outputs": [],
   "source": [
    "miR_seurat_data <- NormalizeData(miR_seurat_data, normalization.method = \"LogNormalize\", scale.factor = 10000)"
   ]
  },
  {
   "cell_type": "code",
   "execution_count": null,
   "id": "0558ab2f-f40d-4311-b730-d40cdf8cfc73",
   "metadata": {},
   "outputs": [],
   "source": [
    "miR_seurat_data <- FindVariableFeatures(miR_seurat_data, selection.method = \"vst\", nfeatures = 2000)"
   ]
  },
  {
   "cell_type": "code",
   "execution_count": null,
   "id": "0a89f824-ef44-4600-911d-ce4f79c338c1",
   "metadata": {},
   "outputs": [],
   "source": [
    "VariableFeaturePlot(miR_seurat_data) -> plot1\n",
    "top10 <- head(VariableFeatures(miR_seurat_data), 10)\n",
    "plot2 <- LabelPoints(plot = plot1, points = top10, repel = TRUE)\n",
    "plot2"
   ]
  },
  {
   "cell_type": "code",
   "execution_count": null,
   "id": "e5558116-d42e-46c8-88d6-03fa772be070",
   "metadata": {},
   "outputs": [],
   "source": [
    "top_variable_genes = VariableFeatures(miR_seurat_data)"
   ]
  },
  {
   "cell_type": "code",
   "execution_count": null,
   "id": "a806c642-42f6-41ea-9510-79c7bf06fe13",
   "metadata": {},
   "outputs": [],
   "source": [
    "top_var_genes = data.frame(variable_genes = top_variable_genes)"
   ]
  },
  {
   "cell_type": "code",
   "execution_count": null,
   "id": "ef4bb30c-0ec0-43fa-a1db-0d03d52736ec",
   "metadata": {},
   "outputs": [],
   "source": [
    "write.csv(top_var_genes, file = '/home/ssobti/projects/mir_tud/output_data/heterogeneity/top_var_genes.csv')"
   ]
  },
  {
   "cell_type": "code",
   "execution_count": null,
   "id": "298e1641-ce6e-4b24-ab89-fc58eaa2463b",
   "metadata": {},
   "outputs": [],
   "source": [
    "RNA_Seq_expression_raw_data <- as(RNA_Seq_expression_raw_data, 'dgCMatrix')"
   ]
  },
  {
   "cell_type": "code",
   "execution_count": null,
   "id": "847c70a3-81a2-4080-b20a-4d187c480e13",
   "metadata": {},
   "outputs": [],
   "source": [
    "medians = sparseMatrixStats::rowMedians(RNA_Seq_expression_raw_data)"
   ]
  },
  {
   "cell_type": "code",
   "execution_count": null,
   "id": "602d3b05-e436-4f0b-a98a-a72cfc3d5290",
   "metadata": {},
   "outputs": [],
   "source": [
    "median_df = data.frame(gene_medians = medians)"
   ]
  },
  {
   "cell_type": "code",
   "execution_count": null,
   "id": "2290c6cb-3b58-43ea-950c-753e94af1d16",
   "metadata": {},
   "outputs": [],
   "source": [
    "ggplot(median_df, aes(x=gene_medians)) + \n",
    "  geom_histogram(color=\"black\", fill=\"white\", bins = 50000) +\n",
    "  theme_bw()"
   ]
  },
  {
   "cell_type": "code",
   "execution_count": null,
   "id": "ef41eff8-d460-4a47-969a-e75a711bfa7c",
   "metadata": {},
   "outputs": [],
   "source": [
    "ggplot(median_df, aes(x=gene_medians)) + \n",
    "  geom_histogram(color=\"black\", fill=\"white\", bins = 50000) +\n",
    "  coord_cartesian(xlim = c(0,200)) +\n",
    "  theme_bw()"
   ]
  },
  {
   "cell_type": "code",
   "execution_count": null,
   "id": "cd711336-c9b4-4beb-80db-6ca31662103e",
   "metadata": {},
   "outputs": [],
   "source": [
    "ggplot(median_df, aes(x=gene_medians)) + \n",
    "  geom_histogram(color=\"black\", fill=\"white\", bins = 50000) +\n",
    "  coord_cartesian(xlim = c(0,10)) +\n",
    "  theme_bw()"
   ]
  }
 ],
 "metadata": {
  "kernelspec": {
   "display_name": "R",
   "language": "R",
   "name": "ir"
  },
  "language_info": {
   "codemirror_mode": "r",
   "file_extension": ".r",
   "mimetype": "text/x-r-source",
   "name": "R",
   "pygments_lexer": "r",
   "version": "3.6.3"
  }
 },
 "nbformat": 4,
 "nbformat_minor": 5
}
