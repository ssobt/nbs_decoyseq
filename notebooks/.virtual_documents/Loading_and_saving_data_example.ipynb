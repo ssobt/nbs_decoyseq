import shelve
import pandas as pd
import numpy as np
import pickle


#### LOADING
### load in objects from MAVE_trial_pt1
import shelve
filenm = '/home/ssobti/projects/mir_tud/output_data/rand.out'
my_shelf = shelve.open(filenm)
for key in my_shelf:
    globals()[key]=my_shelf[key]
my_shelf.close()




#### SAVING 
## how to save things
import pickle
import shelve
filenm = '/home/ssobti/projects/mir_tud/output_data/mave_output/filenamehere.out'
my_shelf = shelve.open(filenm,'n') # 'n' for new
vec = ['vae'] ## put objects you want to save in quotes separated by commas
for key in vec:
    try:
        my_shelf[key] = globals()[key]
    except TypeError:
        #
        # __builtins__, my_shelf, and imported modules can not be shelved.
        #
        print('ERROR shelving: {0}'.format(key))
    except pickle.PicklingError:
        print('ERROR shelving: {0}'.format(key))
    except KeyError:
        print('ERROR shelving: {0}'.format(key))
my_shelf.close()
