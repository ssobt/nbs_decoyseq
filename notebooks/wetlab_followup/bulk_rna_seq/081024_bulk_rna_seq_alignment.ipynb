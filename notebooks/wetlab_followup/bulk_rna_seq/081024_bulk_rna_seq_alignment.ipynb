{
 "cells": [
  {
   "cell_type": "code",
   "execution_count": null,
   "metadata": {},
   "outputs": [],
   "source": [
    "## Notebook env: alignment (alignment kernel)\n",
    "## This notebook aligns and quantifies the reads generated in bulk rna seq expt on 08/10/24"
   ]
  },
  {
   "cell_type": "code",
   "execution_count": 1,
   "metadata": {},
   "outputs": [
    {
     "name": "stdout",
     "output_type": "stream",
     "text": [
      "salmon 0.13.1\n"
     ]
    }
   ],
   "source": [
    "!salmon --version"
   ]
  },
  {
   "cell_type": "raw",
   "metadata": {
    "vscode": {
     "languageId": "raw"
    }
   },
   "source": [
    "%%bash \n",
    "#cd /home/ssobti/genomes\n",
    "#salmon index --gencode -t /home/ssobti/genomes/hg38/gencode.v33.transcripts.fa.gz -i /home/ssobti/genomes/hg38/gencode.v33.transcripts.salmon.index"
   ]
  },
  {
   "cell_type": "code",
   "execution_count": null,
   "metadata": {},
   "outputs": [],
   "source": [
    "%%bash\n",
    "cd /home/ssobti/projects/mir_tud/wetlab_followup_data/bulk_rna_seq/raw/BCHG33\n",
    "\n",
    "for f1 in *_L006_R1_001.fastq.gz; do\n",
    "f2=${f1/_L006_R1_001.fastq.gz/_L006_R2_001.fastq.gz};\n",
    "out=../salmon_out/${f1/_L006_R1_001.fastq.gz/_salmon};\n",
    "echo \"salmon quant --validateMappings -i /home/ssobti/genomes/hg38/gencode.v33.transcripts.salmon.index -l ISR -1 $f1 -2 $f2 -p 12 -o $out\"\n",
    "salmon quant --validateMappings -i /home/ssobti/genomes/hg38/gencode.v33.transcripts.salmon.index -l ISR -1 $f1 -2 $f2 -p 12 -o $out\n",
    "done"
   ]
  },
  {
   "cell_type": "code",
   "execution_count": null,
   "metadata": {},
   "outputs": [],
   "source": []
  }
 ],
 "metadata": {
  "kernelspec": {
   "display_name": "alignment",
   "language": "python",
   "name": "alignment"
  },
  "language_info": {
   "codemirror_mode": {
    "name": "ipython",
    "version": 3
   },
   "file_extension": ".py",
   "mimetype": "text/x-python",
   "name": "python",
   "nbconvert_exporter": "python",
   "pygments_lexer": "ipython3",
   "version": "3.12.3"
  }
 },
 "nbformat": 4,
 "nbformat_minor": 2
}
