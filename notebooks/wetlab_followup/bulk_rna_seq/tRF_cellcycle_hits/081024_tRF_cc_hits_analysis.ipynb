{
 "cells": [
  {
   "cell_type": "code",
   "execution_count": null,
   "metadata": {
    "vscode": {
     "languageId": "r"
    }
   },
   "outputs": [],
   "source": [
    "## Notebook env: mirtud_env (R kernel)"
   ]
  },
  {
   "cell_type": "code",
   "execution_count": 1,
   "metadata": {
    "vscode": {
     "languageId": "r"
    }
   },
   "outputs": [
    {
     "name": "stderr",
     "output_type": "stream",
     "text": [
      "── \u001b[1mAttaching core tidyverse packages\u001b[22m ──────────────────────── tidyverse 2.0.0 ──\n",
      "\u001b[32m✔\u001b[39m \u001b[34mdplyr    \u001b[39m 1.1.4     \u001b[32m✔\u001b[39m \u001b[34mpurrr    \u001b[39m 1.0.2\n",
      "\u001b[32m✔\u001b[39m \u001b[34mforcats  \u001b[39m 1.0.0     \u001b[32m✔\u001b[39m \u001b[34mstringr  \u001b[39m 1.5.1\n",
      "\u001b[32m✔\u001b[39m \u001b[34mggplot2  \u001b[39m 3.5.1     \u001b[32m✔\u001b[39m \u001b[34mtibble   \u001b[39m 3.2.1\n",
      "\u001b[32m✔\u001b[39m \u001b[34mlubridate\u001b[39m 1.9.3     \u001b[32m✔\u001b[39m \u001b[34mtidyr    \u001b[39m 1.3.1\n",
      "── \u001b[1mConflicts\u001b[22m ────────────────────────────────────────── tidyverse_conflicts() ──\n",
      "\u001b[31m✖\u001b[39m \u001b[34mdplyr\u001b[39m::\u001b[32mfilter()\u001b[39m masks \u001b[34mstats\u001b[39m::filter()\n",
      "\u001b[31m✖\u001b[39m \u001b[34mdplyr\u001b[39m::\u001b[32mlag()\u001b[39m    masks \u001b[34mstats\u001b[39m::lag()\n",
      "\u001b[36mℹ\u001b[39m Use the conflicted package (\u001b[3m\u001b[34m<http://conflicted.r-lib.org/>\u001b[39m\u001b[23m) to force all conflicts to become errors\n",
      "Loading required package: GenomicFeatures\n",
      "\n",
      "Loading required package: BiocGenerics\n",
      "\n",
      "\n",
      "Attaching package: ‘BiocGenerics’\n",
      "\n",
      "\n",
      "The following objects are masked from ‘package:lubridate’:\n",
      "\n",
      "    intersect, setdiff, union\n",
      "\n",
      "\n",
      "The following objects are masked from ‘package:dplyr’:\n",
      "\n",
      "    combine, intersect, setdiff, union\n",
      "\n",
      "\n",
      "The following objects are masked from ‘package:stats’:\n",
      "\n",
      "    IQR, mad, sd, var, xtabs\n",
      "\n",
      "\n",
      "The following objects are masked from ‘package:base’:\n",
      "\n",
      "    anyDuplicated, aperm, append, as.data.frame, basename, cbind,\n",
      "    colnames, dirname, do.call, duplicated, eval, evalq, Filter, Find,\n",
      "    get, grep, grepl, intersect, is.unsorted, lapply, Map, mapply,\n",
      "    match, mget, order, paste, pmax, pmax.int, pmin, pmin.int,\n",
      "    Position, rank, rbind, Reduce, rownames, sapply, setdiff, sort,\n",
      "    table, tapply, union, unique, unsplit, which.max, which.min\n",
      "\n",
      "\n",
      "Loading required package: S4Vectors\n",
      "\n",
      "Loading required package: stats4\n",
      "\n",
      "\n",
      "Attaching package: ‘S4Vectors’\n",
      "\n",
      "\n",
      "The following objects are masked from ‘package:lubridate’:\n",
      "\n",
      "    second, second<-\n",
      "\n",
      "\n",
      "The following objects are masked from ‘package:dplyr’:\n",
      "\n",
      "    first, rename\n",
      "\n",
      "\n",
      "The following object is masked from ‘package:tidyr’:\n",
      "\n",
      "    expand\n",
      "\n",
      "\n",
      "The following object is masked from ‘package:utils’:\n",
      "\n",
      "    findMatches\n",
      "\n",
      "\n",
      "The following objects are masked from ‘package:base’:\n",
      "\n",
      "    expand.grid, I, unname\n",
      "\n",
      "\n",
      "Loading required package: IRanges\n",
      "\n",
      "\n",
      "Attaching package: ‘IRanges’\n",
      "\n",
      "\n",
      "The following object is masked from ‘package:lubridate’:\n",
      "\n",
      "    %within%\n",
      "\n",
      "\n",
      "The following objects are masked from ‘package:dplyr’:\n",
      "\n",
      "    collapse, desc, slice\n",
      "\n",
      "\n",
      "The following object is masked from ‘package:purrr’:\n",
      "\n",
      "    reduce\n",
      "\n",
      "\n",
      "Loading required package: GenomeInfoDb\n",
      "\n",
      "Loading required package: GenomicRanges\n",
      "\n",
      "Loading required package: AnnotationDbi\n",
      "\n",
      "Loading required package: Biobase\n",
      "\n",
      "Welcome to Bioconductor\n",
      "\n",
      "    Vignettes contain introductory material; view with\n",
      "    'browseVignettes()'. To cite Bioconductor, see\n",
      "    'citation(\"Biobase\")', and for packages 'citation(\"pkgname\")'.\n",
      "\n",
      "\n",
      "\n",
      "Attaching package: ‘AnnotationDbi’\n",
      "\n",
      "\n",
      "The following object is masked from ‘package:dplyr’:\n",
      "\n",
      "    select\n",
      "\n",
      "\n",
      "Loading required package: SummarizedExperiment\n",
      "\n",
      "Loading required package: MatrixGenerics\n",
      "\n",
      "Loading required package: matrixStats\n",
      "\n",
      "\n",
      "Attaching package: ‘matrixStats’\n",
      "\n",
      "\n",
      "The following objects are masked from ‘package:Biobase’:\n",
      "\n",
      "    anyMissing, rowMedians\n",
      "\n",
      "\n",
      "The following object is masked from ‘package:dplyr’:\n",
      "\n",
      "    count\n",
      "\n",
      "\n",
      "\n",
      "Attaching package: ‘MatrixGenerics’\n",
      "\n",
      "\n",
      "The following objects are masked from ‘package:matrixStats’:\n",
      "\n",
      "    colAlls, colAnyNAs, colAnys, colAvgsPerRowSet, colCollapse,\n",
      "    colCounts, colCummaxs, colCummins, colCumprods, colCumsums,\n",
      "    colDiffs, colIQRDiffs, colIQRs, colLogSumExps, colMadDiffs,\n",
      "    colMads, colMaxs, colMeans2, colMedians, colMins, colOrderStats,\n",
      "    colProds, colQuantiles, colRanges, colRanks, colSdDiffs, colSds,\n",
      "    colSums2, colTabulates, colVarDiffs, colVars, colWeightedMads,\n",
      "    colWeightedMeans, colWeightedMedians, colWeightedSds,\n",
      "    colWeightedVars, rowAlls, rowAnyNAs, rowAnys, rowAvgsPerColSet,\n",
      "    rowCollapse, rowCounts, rowCummaxs, rowCummins, rowCumprods,\n",
      "    rowCumsums, rowDiffs, rowIQRDiffs, rowIQRs, rowLogSumExps,\n",
      "    rowMadDiffs, rowMads, rowMaxs, rowMeans2, rowMedians, rowMins,\n",
      "    rowOrderStats, rowProds, rowQuantiles, rowRanges, rowRanks,\n",
      "    rowSdDiffs, rowSds, rowSums2, rowTabulates, rowVarDiffs, rowVars,\n",
      "    rowWeightedMads, rowWeightedMeans, rowWeightedMedians,\n",
      "    rowWeightedSds, rowWeightedVars\n",
      "\n",
      "\n",
      "The following object is masked from ‘package:Biobase’:\n",
      "\n",
      "    rowMedians\n",
      "\n",
      "\n",
      "Loading required package: AnnotationFilter\n",
      "\n",
      "\n",
      "Attaching package: 'ensembldb'\n",
      "\n",
      "\n",
      "The following object is masked from 'package:dplyr':\n",
      "\n",
      "    filter\n",
      "\n",
      "\n",
      "The following object is masked from 'package:stats':\n",
      "\n",
      "    filter\n",
      "\n",
      "\n",
      "Loading required package: BiocFileCache\n",
      "\n",
      "Loading required package: dbplyr\n",
      "\n",
      "\n",
      "Attaching package: 'dbplyr'\n",
      "\n",
      "\n",
      "The following objects are masked from 'package:dplyr':\n",
      "\n",
      "    ident, sql\n",
      "\n",
      "\n",
      "\n",
      "Attaching package: 'AnnotationHub'\n",
      "\n",
      "\n",
      "The following object is masked from 'package:mygene':\n",
      "\n",
      "    query\n",
      "\n",
      "\n",
      "The following object is masked from 'package:Biobase':\n",
      "\n",
      "    cache\n",
      "\n",
      "\n",
      "\n",
      "\n",
      "Welcome to use genekitr! (Vignette: https://www.genekitr.fun)\n",
      "Citation for genekitr:\n",
      "Liu, Y., Li, G. Empowering biologists to decode omics data: the Genekitr R package and web server. BMC Bioinformatics 24, 214 (2023). https://doi.org/10.1186/s12859-023-05342-9\n",
      "\n"
     ]
    }
   ],
   "source": [
    "library(readr)\n",
    "library(readxl)\n",
    "library(tidyverse)\n",
    "library(ggplot2)\n",
    "library(ggrepel)\n",
    "library(tximport)\n",
    "library(mygene)\n",
    "library(DESeq2)\n",
    "library(GenomicFeatures)\n",
    "library(ensembldb)\n",
    "library(AnnotationHub)\n",
    "\n",
    "\n",
    "\n",
    "#BiocManager::install('clusterProfiler', lib = '/home/ssobti/projects/mir_tud/packages/gsea_R_pkgs')\n",
    "#install.packages('genekitr', lib = '/home/ssobti/projects/mir_tud/packages/gsea_R_pkgs')\n",
    ".libPaths('/home/ssobti/projects/mir_tud/packages/gsea_R_pkgs')\n",
    "library(genekitr)"
   ]
  },
  {
   "cell_type": "code",
   "execution_count": 2,
   "metadata": {
    "vscode": {
     "languageId": "r"
    }
   },
   "outputs": [
    {
     "name": "stderr",
     "output_type": "stream",
     "text": [
      "Import genomic features from the file as a GRanges object ... \n",
      "OK\n",
      "\n",
      "Prepare the 'metadata' data frame ... \n",
      "OK\n",
      "\n",
      "Make the TxDb object ... \n",
      "Warning message in .get_cds_IDX(mcols0$type, mcols0$phase):\n",
      "\"The \"phase\" metadata column contains non-NA values for features of type\n",
      "  stop_codon. This information was ignored.\"\n",
      "OK\n",
      "\n",
      "'select()' returned 1:1 mapping between keys and columns\n",
      "\n"
     ]
    }
   ],
   "source": [
    "## make gene annotations\n",
    "txdb <- makeTxDbFromGFF(file = '/home/ssobti/genomes/hg38/gencode.v33.annotation.gtf.gz', dataSource = 'Gencode', organism = 'Homo sapiens')\n",
    "k <- keys(txdb, keytype = \"TXNAME\")\n",
    "tx2gene <- select(txdb, k, \"GENEID\", \"TXNAME\")"
   ]
  },
  {
   "cell_type": "code",
   "execution_count": 3,
   "metadata": {
    "vscode": {
     "languageId": "r"
    }
   },
   "outputs": [
    {
     "name": "stderr",
     "output_type": "stream",
     "text": [
      "reading in files with read_tsv\n",
      "\n",
      "1 \n",
      "2 \n",
      "3 \n",
      "4 \n",
      "5 \n",
      "6 \n",
      "7 \n",
      "8 \n",
      "9 \n",
      "10 \n",
      "11 \n",
      "12 \n",
      "13 \n",
      "14 \n",
      "15 \n",
      "16 \n",
      "17 \n",
      "18 \n",
      "19 \n",
      "20 \n",
      "21 \n",
      "22 \n",
      "23 \n",
      "24 \n",
      "25 \n",
      "26 \n",
      "27 \n",
      "28 \n",
      "29 \n",
      "30 \n",
      "31 \n",
      "32 \n",
      "33 \n",
      "34 \n",
      "35 \n",
      "36 \n",
      "37 \n",
      "38 \n",
      "39 \n",
      "40 \n",
      "\n",
      "\n",
      "summarizing abundance\n",
      "\n",
      "summarizing counts\n",
      "\n",
      "summarizing length\n",
      "\n"
     ]
    }
   ],
   "source": [
    "## load in data ## \n",
    "files = list.files(path = '/home/ssobti/projects/mir_tud/wetlab_followup_data/bulk_rna_seq/raw/salmon_out/', pattern='quant.sf',full.names = TRUE, recursive = TRUE)\n",
    "files = gsub(pattern = '//', replacement = '/', files)\n",
    "file_sample_names = lapply(stringr::str_split(string = gsub(lapply(stringr::str_split(string = files, pattern = '/'), '[[', 10), pattern = '_salmon', replacement = ''), pattern = '_'), '[[', 1)\n",
    "names(files) = file_sample_names\n",
    "\n",
    "## since txOut is TRUE, transcript level informations (ie some genes have multiple unique transcripts and data is summarized at the transcript level)\n",
    "txi = tximport(files, type = \"salmon\", tx2gene = tx2gene, txOut = TRUE)\n",
    "txi.gene <- summarizeToGene(txi, tx2gene) ## this function summarizes the reads to gene level instead of transcript (so diff transcripts of same gene are consolidated) -- use this for analysis!!\n",
    "sample_meta = read.csv('/home/ssobti/projects/mir_tud/wetlab_followup_data/bulk_rna_seq/TuD_bulkRNAseq_samplesheet.csv')\n",
    "sample_meta = sample_meta %>% arrange(factor(Label, levels = colnames(txi.gene$counts)))\n",
    "sample_meta$samplefactor = factor(sapply(stringr::str_split(sample_meta$Sample, '_'), '[[', 1))\n",
    "colnames(txi.gene$counts) = colnames(txi.gene$abundance) = colnames(txi$abundance) = colnames(txi$counts) = sample_meta %>% pull(Sample) %>% as.character()"
   ]
  },
  {
   "cell_type": "code",
   "execution_count": 4,
   "metadata": {
    "vscode": {
     "languageId": "r"
    }
   },
   "outputs": [
    {
     "name": "stderr",
     "output_type": "stream",
     "text": [
      "loading from cache\n",
      "\n"
     ]
    }
   ],
   "source": [
    "## adding gene symbols to exp data ##\n",
    "## obtain gene symbol database v99 ensembl to match v33 gencode\n",
    "ah = AnnotationHub()\n",
    "ensembl99 = query(ah, \"EnsDb.Hsapiens.v99\")\n",
    "ensembl99 = ah[['AH78783']]\n",
    "\n",
    "## add gene symbols\n",
    "exp_data_counts = txi.gene$counts\n",
    "gene_ids = sapply(str_split(rownames(exp_data_counts), pattern = '\\\\.'), '[[', 1)\n",
    "geneIDs <- ensembldb::select(ensembl99, keys = gene_ids, keytype = \"GENEID\", columns = c(\"GENEID\", \"SYMBOL\"))\n",
    "exp_data_counts = cbind(geneIDs, exp_data_counts)\n",
    "\n",
    "exp_data_tpm = txi.gene$abundance\n",
    "gene_ids = sapply(str_split(rownames(exp_data_tpm), pattern = '\\\\.'), '[[', 1)\n",
    "geneIDs <- ensembldb::select(ensembl99, keys = gene_ids, keytype = \"GENEID\", columns = c(\"GENEID\", \"SYMBOL\"))\n",
    "exp_data_tpm = cbind(geneIDs, exp_data_tpm)\n",
    "\n",
    "## save the gene count data ##\n",
    "## save the abunance and count data ##\n",
    "path = '/home/ssobti/projects/mir_tud/wetlab_followup_data/bulk_rna_seq/annotated_expression/'\n",
    "\n",
    "write.csv(exp_data_tpm, paste0(path,\"gene_abundance_tpm_salmon.csv\"), quote=FALSE)\n",
    "write.csv(exp_data_counts, paste0(path,\"gene_read_count_salmon.csv\"), quote=FALSE)"
   ]
  },
  {
   "cell_type": "code",
   "execution_count": 5,
   "metadata": {
    "vscode": {
     "languageId": "r"
    }
   },
   "outputs": [
    {
     "name": "stderr",
     "output_type": "stream",
     "text": [
      "  Note: levels of factors in the design contain characters other than\n",
      "  letters, numbers, '_' and '.'. It is recommended (but not required) to use\n",
      "  only letters, numbers, and delimiters '_' or '.', as these are safe characters\n",
      "  for column names in R. [This is a message, not a warning or an error]\n",
      "\n",
      "using counts and average transcript lengths from tximport\n",
      "\n",
      "estimating size factors\n",
      "\n",
      "  Note: levels of factors in the design contain characters other than\n",
      "  letters, numbers, '_' and '.'. It is recommended (but not required) to use\n",
      "  only letters, numbers, and delimiters '_' or '.', as these are safe characters\n",
      "  for column names in R. [This is a message, not a warning or an error]\n",
      "\n",
      "using 'avgTxLength' from assays(dds), correcting for library size\n",
      "\n",
      "estimating dispersions\n",
      "\n",
      "gene-wise dispersion estimates\n",
      "\n",
      "mean-dispersion relationship\n",
      "\n",
      "  Note: levels of factors in the design contain characters other than\n",
      "  letters, numbers, '_' and '.'. It is recommended (but not required) to use\n",
      "  only letters, numbers, and delimiters '_' or '.', as these are safe characters\n",
      "  for column names in R. [This is a message, not a warning or an error]\n",
      "\n",
      "final dispersion estimates\n",
      "\n",
      "fitting model and testing\n",
      "\n",
      "found already estimated dispersions, replacing these\n",
      "\n",
      "gene-wise dispersion estimates\n",
      "\n",
      "mean-dispersion relationship\n",
      "\n",
      "  Note: levels of factors in the design contain characters other than\n",
      "  letters, numbers, '_' and '.'. It is recommended (but not required) to use\n",
      "  only letters, numbers, and delimiters '_' or '.', as these are safe characters\n",
      "  for column names in R. [This is a message, not a warning or an error]\n",
      "\n",
      "final dispersion estimates\n",
      "\n",
      "using ntop=500 top features by variance\n",
      "\n"
     ]
    }
   ],
   "source": [
    "## run DESeq2 ##\n",
    "dds <- DESeqDataSetFromTximport(txi.gene, colData = sample_meta, design = ~ samplefactor)\n",
    "dds <- DESeq(dds)\n",
    "cc_samples = c('tRNA.Arg.CCT.3.1.lh', 'tRNA.Arg.ACG..3.1.1.2t', 'tRNA.Gln.TTG..3.3.1.2t', 'tRNA.Gly.TCC..6.2.1.2t', 'tRNA.Cys.GCA.4.1.2t')\n",
    "control_samples = rep('NC1', length(cc_samples))\n",
    "\n",
    "## extract results for cell cycle hits ##\n",
    "res = list()\n",
    "for (i in 1:length(cc_samples)){\n",
    "  res[[i]] = results(dds, contrast = c('samplefactor', cc_samples[i], 'NC1')) %>% as.data.frame()\n",
    "  gene_ids = sapply(str_split(rownames(res[[i]]), pattern = '\\\\.'), '[[', 1)\n",
    "  gene_df = ensembldb::select(ensembl99, keys = gene_ids, keytype = \"GENEID\", columns = c(\"GENEID\", \"SYMBOL\"))\n",
    "  res[[i]]$symbol = gene_df$SYMBOL\n",
    "}\n",
    "names(res) = sample_meta %>% dplyr::filter(Class %in% 'Cell cycle/proliferation/apoptosis') %>% pull(samplefactor) %>% as.character() %>% unique()\n",
    "\n",
    "## extract results for pca of samples ##\n",
    "cds <- estimateDispersions(dds)\n",
    "vsd <- varianceStabilizingTransformation(cds)\n",
    "z <- plotPCA(vsd, intgroup=c(\"samplefactor\"), returnData = TRUE)"
   ]
  },
  {
   "cell_type": "code",
   "execution_count": 6,
   "metadata": {
    "vscode": {
     "languageId": "r"
    }
   },
   "outputs": [
    {
     "name": "stderr",
     "output_type": "stream",
     "text": [
      "Warning message:\n",
      "\"ggrepel: 26 unlabeled data points (too many overlaps). Consider increasing max.overlaps\"\n"
     ]
    },
    {
     "data": {
      "image/png": "[encoded data removed]",
      "text/plain": [
       "plot without title"
      ]
     },
     "metadata": {
      "image/png": {
       "height": 360,
       "width": 360
      }
     },
     "output_type": "display_data"
    }
   ],
   "source": [
    "options(repr.plot.width = 6, repr.plot.height = 6)\n",
    "percentVar <- round(100 * attr(z, \"percentVar\"))\n",
    "ggplot(z, aes(PC1, PC2, color = samplefactor, label = name)) +\n",
    "  geom_point(size=3, show.legend = F) +\n",
    "  xlab(paste0(\"PC1: \",percentVar[1],\"% variance\")) +\n",
    "  ylab(paste0(\"PC2: \",percentVar[2],\"% variance\")) +\n",
    "  geom_text_repel(position = 'nudge', show.legend = F, max.overlaps = 20) +\n",
    "  coord_fixed() + theme_bw(12) + ylim(-15,15) \n"
   ]
  },
  {
   "cell_type": "markdown",
   "metadata": {},
   "source": [
    "### Heatmap ###"
   ]
  },
  {
   "cell_type": "code",
   "execution_count": 7,
   "metadata": {
    "vscode": {
     "languageId": "r"
    }
   },
   "outputs": [],
   "source": [
    "## create curated gene sets ##\n",
    "## G1 genes from GSEA website: https://www.gsea-msigdb.org/gsea/msigdb/cards/G1_PHASE\n",
    "## S genes from GSEA website: https://www.gsea-msigdb.org/gsea/msigdb/human/geneset/S_PHASE\n",
    "## G2 genes from GSEA website: https://www.gsea-msigdb.org/gsea/msigdb/cards/REACTOME_G2_PHASE\n",
    "## Apoptosis genes from GSEA website: https://www.gsea-msigdb.org/gsea/msigdb/human/geneset/APOPTOTIC_PROGRAM\n",
    "\n",
    "g1_genes = 'CDC23,CDC25C,CDC6,CDK10,CDK2,CDK6,CDKN1C,E2F1,FOXO4,GFI1B,MAP3K11,PRUNE2,RB1,TAF1,TBRG4'\n",
    "s_genes = 'ABL1,APBB1,APBB2,CDC7,CDK2AP1,CHMP1A,DDX11,MYO16,POLA1,POLD1,PTPRC,RCC1,TIMELESS,TIPIN'\n",
    "g2_genes = 'E2F1,E2F3,CDK2,CCNA1,CCNA2'\n",
    "apoptosis_genes = 'ACIN1,AIFM1,AIFM3,APAF1,BAD,BAK1,BAX,BBC3,BCL2L1,BCL2L10,BID,BIK,BNIP3,CDIP1,CASP2,CASP3,CASP7,CASP8,CASP8AP2,CASP9,CDKN2A,CECR2,CIDEA,COL4A3,CYCS,DEDD2,DFFA,DFFB,DIABLO,DNM1L,F2,F2R,FOXL2,GPX1,GZMA,GZMB,HIP1,IFI6,IFNB1,IFT57,LCK,MCL1,MOAP1,MTCH1,NDUFA13,NLRC4,PDIA2,PMAIP1,PPT1,PSEN2,SFN,SMAD3,SOD1,STAT1,TNFSF15,TOP2A,TP53,TPD52L1,VCP,VDAC1'\n",
    "\n",
    "g1_genes = unlist(strsplit(g1_genes, \",\"))\n",
    "s_genes = unlist(strsplit(s_genes, \",\"))\n",
    "g2_genes = unlist(strsplit(g2_genes, \",\"))\n",
    "apoptosis_genes = unlist(strsplit(apoptosis_genes, \",\"))"
   ]
  },
  {
   "cell_type": "code",
   "execution_count": 8,
   "metadata": {
    "vscode": {
     "languageId": "r"
    }
   },
   "outputs": [],
   "source": [
    "filtered_res = lapply(res, function(x) x %>% dplyr::filter(symbol %in% g1_genes) %>% dplyr::select(symbol, log2FoldChange))\n",
    "names(filtered_res) = names(res)\n",
    "heatmap_data = as.data.frame(lapply(filtered_res, function(x) x$log2FoldChange))\n",
    "colnames(heatmap_data) = names(filtered_res)\n",
    "rownames(heatmap_data) = filtered_res[[1]]$symbol\n",
    "heatmap_data = heatmap_data[rownames(heatmap_data) %in% c('GFI1B', 'CDKN1C', 'FOXO4'),]\n",
    "heatmap_data = t(heatmap_data)\n",
    "saveRDS(heatmap_data, '/home/ssobti/projects/mir_tud/fig_output/data/fig3/cc_heatmap_data.rds')"
   ]
  },
  {
   "cell_type": "code",
   "execution_count": 192,
   "metadata": {
    "vscode": {
     "languageId": "r"
    }
   },
   "outputs": [
    {
     "name": "stderr",
     "output_type": "stream",
     "text": [
      "'magick' package is suggested to install to give better rasterization.\n",
      "\n",
      "Set `ht_opt$message = FALSE` to turn off this message.\n",
      "\n",
      "'magick' package is suggested to install to give better rasterization.\n",
      "\n",
      "Set `ht_opt$message = FALSE` to turn off this message.\n",
      "\n"
     ]
    },
    {
     "data": {
      "text/html": [
       "<strong>png:</strong> 2"
      ],
      "text/latex": [
       "\\textbf{png:} 2"
      ],
      "text/markdown": [
       "**png:** 2"
      ],
      "text/plain": [
       "png \n",
       "  2 "
      ]
     },
     "metadata": {},
     "output_type": "display_data"
    },
    {
     "data": {
      "image/png": "[encoded data removed]",
      "text/plain": [
       "plot without title"
      ]
     },
     "metadata": {
      "image/png": {
       "height": 216,
       "width": 294
      }
     },
     "output_type": "display_data"
    }
   ],
   "source": [
    "## tRF ##\n",
    "library(ComplexHeatmap)\n",
    "wfix = 4.9\n",
    "hfix = 3.6\n",
    "\n",
    "major_text_size = 8\n",
    "minor_text_size = 8\n",
    "lnwidth = 0.694\n",
    "\n",
    "options(repr.plot.width = wfix, repr.plot.height = hfix)\n",
    "## expected height in illustrator is 2.5\n",
    "scale_factor = hfix/2.5 ## always divide height by height -- much less likely to change to make figure look better\n",
    "heatmap_data = as.matrix(heatmap_data)\n",
    "avg = mean(heatmap_data)\n",
    "lower_bound = mean(heatmap_data) - 2*sd(heatmap_data)  ## tried 2 and 5 sd for different effects\n",
    "upper_bound = mean(heatmap_data) + 2*sd(heatmap_data)\n",
    "\n",
    "coloring_map <- circlize::colorRamp2(c(lower_bound, avg, upper_bound), c(\"blue\", \"white\", \"red\"))\n",
    "\n",
    "perturb_htmp <- function(matrix, title) {\n",
    "  draw(Heatmap(matrix, name = title, show_column_names = TRUE, show_row_names = TRUE, show_column_dend = FALSE,\n",
    "               col = coloring_map, show_row_dend = TRUE, use_raster = TRUE, row_title = 'Perturbations', \n",
    "               column_title = 'G1 genes', row_title_side = 'left', column_title_side = 'bottom', show_heatmap_legend = TRUE, column_names_side = \"top\", column_dend_side = \"bottom\",\n",
    "               column_names_gp = gpar(fontfamily = \"Helvetica\", fontsize = minor_text_size*scale_factor), row_names_gp = gpar(fontfamily = \"Helvetica\", fontsize = minor_text_size*scale_factor)))\n",
    "}\n",
    "\n",
    "perturb_htmp(heatmap_data, 'Log2FC')\n",
    "\n",
    "pdf('/home/ssobti/projects/mir_tud/notebooks/wetlab_followup/bulk_rna_seq/tRF_cellcycle_hits/G1.pdf', width = wfix, height = hfix)\n",
    "perturb_htmp(heatmap_data, 'Log2FC')\n",
    "dev.off()\n",
    "#ggsave('/home/ssobti/projects/mir_tud/notebooks/wetlab_followup/bulk_rna_seq/tRF_cellcycle_hits/G1.pdf', width = wfix, height = hfix)\n",
    "## our flow results show that G1/S transition is sped up -- depletion of cells in G1 phase ##\n",
    "## GFI1B promotes G1/S transition by inhibiting G1 arrest -- upregulated here, should deplete cells in G1 https://pubmed.ncbi.nlm.nih.gov/8887656/ ##\n",
    "## CDKN1C (https://www.ncbi.nlm.nih.gov/pmc/articles/PMC4389716/) and FOXO4 (https://www.ncbi.nlm.nih.gov/pmc/articles/PMC4063225/) arrest cells in G1 transition --  downregulated here, should deplete cells in G1 ##\n"
   ]
  },
  {
   "cell_type": "code",
   "execution_count": 194,
   "metadata": {
    "vscode": {
     "languageId": "r"
    }
   },
   "outputs": [],
   "source": [
    "filtered_res = lapply(res, function(x) x %>% dplyr::filter(symbol %in% s_genes) %>% dplyr::select(symbol, log2FoldChange))\n",
    "names(filtered_res) = names(res)\n",
    "heatmap_data = as.data.frame(lapply(filtered_res, function(x) x$log2FoldChange))\n",
    "colnames(heatmap_data) = names(filtered_res)\n",
    "rownames(heatmap_data) = filtered_res[[1]]$symbol\n",
    "heatmap_data = heatmap_data[rownames(heatmap_data) %in% c('POLD1', 'DDX11'),]\n",
    "heatmap_data = t(heatmap_data)"
   ]
  },
  {
   "cell_type": "code",
   "execution_count": 200,
   "metadata": {
    "vscode": {
     "languageId": "r"
    }
   },
   "outputs": [
    {
     "name": "stderr",
     "output_type": "stream",
     "text": [
      "'magick' package is suggested to install to give better rasterization.\n",
      "\n",
      "Set `ht_opt$message = FALSE` to turn off this message.\n",
      "\n",
      "'magick' package is suggested to install to give better rasterization.\n",
      "\n",
      "Set `ht_opt$message = FALSE` to turn off this message.\n",
      "\n"
     ]
    },
    {
     "data": {
      "text/html": [
       "<strong>png:</strong> 2"
      ],
      "text/latex": [
       "\\textbf{png:} 2"
      ],
      "text/markdown": [
       "**png:** 2"
      ],
      "text/plain": [
       "png \n",
       "  2 "
      ]
     },
     "metadata": {},
     "output_type": "display_data"
    },
    {
     "data": {
      "image/png": "[encoded data removed]",
      "text/plain": [
       "plot without title"
      ]
     },
     "metadata": {
      "image/png": {
       "height": 216,
       "width": 270
      }
     },
     "output_type": "display_data"
    }
   ],
   "source": [
    "## tRF ##\n",
    "library(ComplexHeatmap)\n",
    "wfix = 4.5\n",
    "hfix = 3.6\n",
    "\n",
    "major_text_size = 8\n",
    "minor_text_size = 8\n",
    "lnwidth = 0.694\n",
    "\n",
    "options(repr.plot.width = wfix, repr.plot.height = hfix)\n",
    "## expected height in illustrator is 2.5\n",
    "scale_factor = hfix/2.5 ## always divide height by height -- much less likely to change to make figure look better\n",
    "heatmap_data = as.matrix(heatmap_data)\n",
    "avg = 0\n",
    "lower_bound = 0 - 5*sd(heatmap_data)  ## tried 2 and 5 sd for different effects\n",
    "upper_bound = 0 + 5*sd(heatmap_data)\n",
    "\n",
    "coloring_map <- circlize::colorRamp2(c(lower_bound, avg, upper_bound), c(\"blue\", \"white\", \"red\"))\n",
    "\n",
    "perturb_htmp <- function(matrix, title) {\n",
    "  draw(Heatmap(matrix, name = title, show_column_names = TRUE, show_row_names = TRUE, show_column_dend = FALSE,\n",
    "               col = coloring_map, show_row_dend = TRUE, use_raster = TRUE, row_title = 'Perturbations', \n",
    "               column_title = 'G1/S genes', row_title_side = 'left', column_title_side = 'bottom', show_heatmap_legend = TRUE, column_names_side = \"top\", column_dend_side = \"bottom\",\n",
    "               column_names_gp = gpar(fontfamily = \"Helvetica\", fontsize = major_text_size*scale_factor), row_names_gp = gpar(fontfamily = \"Helvetica\", fontsize = major_text_size*scale_factor)))\n",
    "}\n",
    "\n",
    "perturb_htmp(heatmap_data, 'Log2FC')\n",
    "\n",
    "pdf('/home/ssobti/projects/mir_tud/notebooks/wetlab_followup/bulk_rna_seq/tRF_cellcycle_hits/S.pdf', width = wfix, height = hfix)\n",
    "perturb_htmp(heatmap_data, 'Log2FC')\n",
    "dev.off()\n",
    "\n",
    "## POLD1 and DDX11 upregulaiton facilitates G1/S transition https://www.nature.com/articles/s41467-023-38160-x, https://www.ncbi.nlm.nih.gov/pmc/articles/PMC6691710/\n"
   ]
  },
  {
   "cell_type": "code",
   "execution_count": null,
   "metadata": {
    "vscode": {
     "languageId": "r"
    }
   },
   "outputs": [],
   "source": []
  },
  {
   "cell_type": "code",
   "execution_count": null,
   "metadata": {
    "vscode": {
     "languageId": "r"
    }
   },
   "outputs": [],
   "source": []
  },
  {
   "cell_type": "code",
   "execution_count": null,
   "metadata": {
    "vscode": {
     "languageId": "r"
    }
   },
   "outputs": [],
   "source": []
  },
  {
   "cell_type": "code",
   "execution_count": null,
   "metadata": {
    "vscode": {
     "languageId": "r"
    }
   },
   "outputs": [],
   "source": []
  },
  {
   "cell_type": "markdown",
   "metadata": {
    "vscode": {
     "languageId": "r"
    }
   },
   "source": [
    "### GSEA ###"
   ]
  },
  {
   "cell_type": "code",
   "execution_count": null,
   "metadata": {
    "vscode": {
     "languageId": "r"
    }
   },
   "outputs": [
    {
     "data": {
      "text/html": [
       "<table class=\"dataframe\">\n",
       "<caption>A data.frame: 6 × 7</caption>\n",
       "<thead>\n",
       "\t<tr><th></th><th scope=col>baseMean</th><th scope=col>log2FoldChange</th><th scope=col>lfcSE</th><th scope=col>stat</th><th scope=col>pvalue</th><th scope=col>padj</th><th scope=col>symbol</th></tr>\n",
       "\t<tr><th></th><th scope=col>&lt;dbl&gt;</th><th scope=col>&lt;dbl&gt;</th><th scope=col>&lt;dbl&gt;</th><th scope=col>&lt;dbl&gt;</th><th scope=col>&lt;dbl&gt;</th><th scope=col>&lt;dbl&gt;</th><th scope=col>&lt;chr&gt;</th></tr>\n",
       "</thead>\n",
       "<tbody>\n",
       "\t<tr><th scope=row>ENSG00000142449.13</th><td> 4.713592</td><td>9.016136</td><td>9.245782</td><td>0.9751621</td><td>3.294799e-01</td><td>          NA</td><td>FBN3      </td></tr>\n",
       "\t<tr><th scope=row>ENSG00000273003.1</th><td>21.907830</td><td>8.363884</td><td>2.370598</td><td>3.5281744</td><td>4.184363e-04</td><td>0.0199157634</td><td>ARL2-SNX15</td></tr>\n",
       "\t<tr><th scope=row>ENSG00000241790.2</th><td>40.681239</td><td>8.255063</td><td>1.785077</td><td>4.6244847</td><td>3.755307e-06</td><td>0.0005480266</td><td>ENO1P4    </td></tr>\n",
       "\t<tr><th scope=row>ENSG00000176020.9</th><td>34.791343</td><td>8.148086</td><td>2.497733</td><td>3.2621921</td><td>1.105542e-03</td><td>0.0378905318</td><td>AMIGO3    </td></tr>\n",
       "\t<tr><th scope=row>ENSG00000263809.1</th><td> 9.674373</td><td>7.528223</td><td>3.175453</td><td>2.3707560</td><td>1.775175e-02</td><td>0.2071758904</td><td>AC135178.3</td></tr>\n",
       "\t<tr><th scope=row>ENSG00000268713.1</th><td>25.839982</td><td>7.512035</td><td>1.861923</td><td>4.0345581</td><td>5.470515e-05</td><td>0.0044929467</td><td>AC005261.4</td></tr>\n",
       "</tbody>\n",
       "</table>\n"
      ],
      "text/latex": [
       "A data.frame: 6 × 7\n",
       "\\begin{tabular}{r|lllllll}\n",
       "  & baseMean & log2FoldChange & lfcSE & stat & pvalue & padj & symbol\\\\\n",
       "  & <dbl> & <dbl> & <dbl> & <dbl> & <dbl> & <dbl> & <chr>\\\\\n",
       "\\hline\n",
       "\tENSG00000142449.13 &  4.713592 & 9.016136 & 9.245782 & 0.9751621 & 3.294799e-01 &           NA & FBN3      \\\\\n",
       "\tENSG00000273003.1 & 21.907830 & 8.363884 & 2.370598 & 3.5281744 & 4.184363e-04 & 0.0199157634 & ARL2-SNX15\\\\\n",
       "\tENSG00000241790.2 & 40.681239 & 8.255063 & 1.785077 & 4.6244847 & 3.755307e-06 & 0.0005480266 & ENO1P4    \\\\\n",
       "\tENSG00000176020.9 & 34.791343 & 8.148086 & 2.497733 & 3.2621921 & 1.105542e-03 & 0.0378905318 & AMIGO3    \\\\\n",
       "\tENSG00000263809.1 &  9.674373 & 7.528223 & 3.175453 & 2.3707560 & 1.775175e-02 & 0.2071758904 & AC135178.3\\\\\n",
       "\tENSG00000268713.1 & 25.839982 & 7.512035 & 1.861923 & 4.0345581 & 5.470515e-05 & 0.0044929467 & AC005261.4\\\\\n",
       "\\end{tabular}\n"
      ],
      "text/markdown": [
       "\n",
       "A data.frame: 6 × 7\n",
       "\n",
       "| <!--/--> | baseMean &lt;dbl&gt; | log2FoldChange &lt;dbl&gt; | lfcSE &lt;dbl&gt; | stat &lt;dbl&gt; | pvalue &lt;dbl&gt; | padj &lt;dbl&gt; | symbol &lt;chr&gt; |\n",
       "|---|---|---|---|---|---|---|---|\n",
       "| ENSG00000142449.13 |  4.713592 | 9.016136 | 9.245782 | 0.9751621 | 3.294799e-01 |           NA | FBN3       |\n",
       "| ENSG00000273003.1 | 21.907830 | 8.363884 | 2.370598 | 3.5281744 | 4.184363e-04 | 0.0199157634 | ARL2-SNX15 |\n",
       "| ENSG00000241790.2 | 40.681239 | 8.255063 | 1.785077 | 4.6244847 | 3.755307e-06 | 0.0005480266 | ENO1P4     |\n",
       "| ENSG00000176020.9 | 34.791343 | 8.148086 | 2.497733 | 3.2621921 | 1.105542e-03 | 0.0378905318 | AMIGO3     |\n",
       "| ENSG00000263809.1 |  9.674373 | 7.528223 | 3.175453 | 2.3707560 | 1.775175e-02 | 0.2071758904 | AC135178.3 |\n",
       "| ENSG00000268713.1 | 25.839982 | 7.512035 | 1.861923 | 4.0345581 | 5.470515e-05 | 0.0044929467 | AC005261.4 |\n",
       "\n"
      ],
      "text/plain": [
       "                   baseMean  log2FoldChange lfcSE    stat      pvalue      \n",
       "ENSG00000142449.13  4.713592 9.016136       9.245782 0.9751621 3.294799e-01\n",
       "ENSG00000273003.1  21.907830 8.363884       2.370598 3.5281744 4.184363e-04\n",
       "ENSG00000241790.2  40.681239 8.255063       1.785077 4.6244847 3.755307e-06\n",
       "ENSG00000176020.9  34.791343 8.148086       2.497733 3.2621921 1.105542e-03\n",
       "ENSG00000263809.1   9.674373 7.528223       3.175453 2.3707560 1.775175e-02\n",
       "ENSG00000268713.1  25.839982 7.512035       1.861923 4.0345581 5.470515e-05\n",
       "                   padj         symbol    \n",
       "ENSG00000142449.13           NA FBN3      \n",
       "ENSG00000273003.1  0.0199157634 ARL2-SNX15\n",
       "ENSG00000241790.2  0.0005480266 ENO1P4    \n",
       "ENSG00000176020.9  0.0378905318 AMIGO3    \n",
       "ENSG00000263809.1  0.2071758904 AC135178.3\n",
       "ENSG00000268713.1  0.0044929467 AC005261.4"
      ]
     },
     "metadata": {},
     "output_type": "display_data"
    }
   ],
   "source": [
    "res[[5]] %>% arrange(desc(log2FoldChange)) %>% head()"
   ]
  },
  {
   "cell_type": "code",
   "execution_count": null,
   "metadata": {
    "vscode": {
     "languageId": "r"
    }
   },
   "outputs": [],
   "source": [
    "ranked_genes_1 = res[[5]] %>% arrange(desc(log2FoldChange)) %>% pull(log2FoldChange)\n",
    "names(ranked_genes_1) = res[[5]] %>% arrange(desc(log2FoldChange)) %>% pull(symbol)\n",
    "ranked_genes_1 = ranked_genes_1[!is.na(ranked_genes_1)]"
   ]
  },
  {
   "cell_type": "code",
   "execution_count": null,
   "metadata": {
    "vscode": {
     "languageId": "r"
    }
   },
   "outputs": [],
   "source": [
    "gs = list()\n",
    "gs[['geneset']] = data.frame(mf = c(rep('G0:001', length(g1_genes)), rep('G0:002', length(s_genes)), rep('G0:003', length(g2_genes))), gene = c(g1_genes, s_genes, g2_genes))\n",
    "gs[['geneset_name']] = data.frame(id = c('G0:001', 'G0:002', 'G0:003'), name = c('G1_geneset', 'S_geneset', 'G2_geneset'))\n",
    "gs[['organism']] = 'hsapiens'\n",
    "gs[['type']] = 'mf'"
   ]
  },
  {
   "cell_type": "code",
   "execution_count": null,
   "metadata": {
    "vscode": {
     "languageId": "r"
    }
   },
   "outputs": [
    {
     "name": "stderr",
     "output_type": "stream",
     "text": [
      "no term enriched under specific pvalueCutoff...\n",
      "\n"
     ]
    },
    {
     "ename": "ERROR",
     "evalue": "Error in genGSEA(genelist = ranked_genes_1, geneset = gs): No terms enriched ...\n",
     "output_type": "error",
     "traceback": [
      "Error in genGSEA(genelist = ranked_genes_1, geneset = gs): No terms enriched ...\n",
      "Traceback:\n",
      "\n",
      "1. genGSEA(genelist = ranked_genes_1, geneset = gs)\n",
      "2. stop(\"No terms enriched ...\")"
     ]
    }
   ],
   "source": [
    "gse <- genGSEA(genelist = ranked_genes_1, geneset = gs)"
   ]
  },
  {
   "cell_type": "code",
   "execution_count": null,
   "metadata": {
    "vscode": {
     "languageId": "r"
    }
   },
   "outputs": [],
   "source": []
  }
 ],
 "metadata": {
  "kernelspec": {
   "display_name": "R",
   "language": "R",
   "name": "ir"
  },
  "language_info": {
   "codemirror_mode": "r",
   "file_extension": ".r",
   "mimetype": "text/x-r-source",
   "name": "R",
   "pygments_lexer": "r",
   "version": "4.3.3"
  }
 },
 "nbformat": 4,
 "nbformat_minor": 2
}
