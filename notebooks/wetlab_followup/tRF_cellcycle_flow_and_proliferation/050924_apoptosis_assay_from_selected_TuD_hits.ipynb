{
 "cells": [
  {
   "cell_type": "code",
   "execution_count": null,
   "metadata": {
    "vscode": {
     "languageId": "r"
    }
   },
   "outputs": [],
   "source": [
    "## Notebook env: mirtud_env (R kernel)"
   ]
  },
  {
   "cell_type": "code",
   "execution_count": 1,
   "metadata": {
    "vscode": {
     "languageId": "r"
    }
   },
   "outputs": [
    {
     "name": "stderr",
     "output_type": "stream",
     "text": [
      "\n",
      "Attaching package: ‘dplyr’\n",
      "\n",
      "\n",
      "The following objects are masked from ‘package:stats’:\n",
      "\n",
      "    filter, lag\n",
      "\n",
      "\n",
      "The following objects are masked from ‘package:base’:\n",
      "\n",
      "    intersect, setdiff, setequal, union\n",
      "\n",
      "\n"
     ]
    }
   ],
   "source": [
    "library(tidyr)\n",
    "library(dplyr)\n",
    "library(ggplot2)\n",
    "library(ggpubr)"
   ]
  },
  {
   "cell_type": "code",
   "execution_count": 2,
   "metadata": {
    "vscode": {
     "languageId": "r"
    }
   },
   "outputs": [
    {
     "name": "stderr",
     "output_type": "stream",
     "text": [
      "Warning message in read.table(file = file, header = header, sep = sep, quote = quote, :\n",
      "“incomplete final line found by readTableHeader on '/home/ssobti/projects/mir_tud/wetlab_followup_data/cellcycle/050924_apoptosis_rate.csv'”\n"
     ]
    },
    {
     "data": {
      "text/html": [
       "<table class=\"dataframe\">\n",
       "<caption>A tibble: 9 × 3</caption>\n",
       "<thead>\n",
       "\t<tr><th scope=col>sample</th><th scope=col>replicate</th><th scope=col>pct_cells</th></tr>\n",
       "\t<tr><th scope=col>&lt;chr&gt;</th><th scope=col>&lt;chr&gt;</th><th scope=col>&lt;dbl&gt;</th></tr>\n",
       "</thead>\n",
       "<tbody>\n",
       "\t<tr><td>Non-targeting TuD  </td><td>1</td><td>12.46</td></tr>\n",
       "\t<tr><td>Non-targeting TuD  </td><td>2</td><td>11.96</td></tr>\n",
       "\t<tr><td>Non-targeting TuD  </td><td>3</td><td>13.74</td></tr>\n",
       "\t<tr><td>tRNA-Arg-CCT-3-1.lh</td><td>1</td><td>11.01</td></tr>\n",
       "\t<tr><td>tRNA-Arg-CCT-3-1.lh</td><td>2</td><td>10.14</td></tr>\n",
       "\t<tr><td>tRNA-Arg-CCT-3-1.lh</td><td>3</td><td> 9.82</td></tr>\n",
       "\t<tr><td>tRNA-Cys-GCA-4-1.2t</td><td>1</td><td>19.78</td></tr>\n",
       "\t<tr><td>tRNA-Cys-GCA-4-1.2t</td><td>2</td><td>18.27</td></tr>\n",
       "\t<tr><td>tRNA-Cys-GCA-4-1.2t</td><td>3</td><td>15.22</td></tr>\n",
       "</tbody>\n",
       "</table>\n"
      ],
      "text/latex": [
       "A tibble: 9 × 3\n",
       "\\begin{tabular}{lll}\n",
       " sample & replicate & pct\\_cells\\\\\n",
       " <chr> & <chr> & <dbl>\\\\\n",
       "\\hline\n",
       "\t Non-targeting TuD   & 1 & 12.46\\\\\n",
       "\t Non-targeting TuD   & 2 & 11.96\\\\\n",
       "\t Non-targeting TuD   & 3 & 13.74\\\\\n",
       "\t tRNA-Arg-CCT-3-1.lh & 1 & 11.01\\\\\n",
       "\t tRNA-Arg-CCT-3-1.lh & 2 & 10.14\\\\\n",
       "\t tRNA-Arg-CCT-3-1.lh & 3 &  9.82\\\\\n",
       "\t tRNA-Cys-GCA-4-1.2t & 1 & 19.78\\\\\n",
       "\t tRNA-Cys-GCA-4-1.2t & 2 & 18.27\\\\\n",
       "\t tRNA-Cys-GCA-4-1.2t & 3 & 15.22\\\\\n",
       "\\end{tabular}\n"
      ],
      "text/markdown": [
       "\n",
       "A tibble: 9 × 3\n",
       "\n",
       "| sample &lt;chr&gt; | replicate &lt;chr&gt; | pct_cells &lt;dbl&gt; |\n",
       "|---|---|---|\n",
       "| Non-targeting TuD   | 1 | 12.46 |\n",
       "| Non-targeting TuD   | 2 | 11.96 |\n",
       "| Non-targeting TuD   | 3 | 13.74 |\n",
       "| tRNA-Arg-CCT-3-1.lh | 1 | 11.01 |\n",
       "| tRNA-Arg-CCT-3-1.lh | 2 | 10.14 |\n",
       "| tRNA-Arg-CCT-3-1.lh | 3 |  9.82 |\n",
       "| tRNA-Cys-GCA-4-1.2t | 1 | 19.78 |\n",
       "| tRNA-Cys-GCA-4-1.2t | 2 | 18.27 |\n",
       "| tRNA-Cys-GCA-4-1.2t | 3 | 15.22 |\n",
       "\n"
      ],
      "text/plain": [
       "  sample              replicate pct_cells\n",
       "1 Non-targeting TuD   1         12.46    \n",
       "2 Non-targeting TuD   2         11.96    \n",
       "3 Non-targeting TuD   3         13.74    \n",
       "4 tRNA-Arg-CCT-3-1.lh 1         11.01    \n",
       "5 tRNA-Arg-CCT-3-1.lh 2         10.14    \n",
       "6 tRNA-Arg-CCT-3-1.lh 3          9.82    \n",
       "7 tRNA-Cys-GCA-4-1.2t 1         19.78    \n",
       "8 tRNA-Cys-GCA-4-1.2t 2         18.27    \n",
       "9 tRNA-Cys-GCA-4-1.2t 3         15.22    "
      ]
     },
     "metadata": {},
     "output_type": "display_data"
    }
   ],
   "source": [
    "## load data\n",
    "apop_flow = read.csv('/home/ssobti/projects/mir_tud/wetlab_followup_data/cellcycle/050924_apoptosis_rate.csv', header = FALSE)\n",
    "colnames(apop_flow) = c('sample', 'rep_1', 'rep_2', 'rep_3')\n",
    "apop_flow = apop_flow %>% pivot_longer(cols = -sample, names_to = 'replicate', values_to = 'pct_cells') %>% separate_wider_delim(cols = 'replicate', delim = '_', names = c(NA, 'replicate'))\n",
    "apop_flow\n"
   ]
  },
  {
   "cell_type": "code",
   "execution_count": 3,
   "metadata": {
    "vscode": {
     "languageId": "r"
    }
   },
   "outputs": [
    {
     "name": "stderr",
     "output_type": "stream",
     "text": [
      "Warning message in geom_bar(stat = \"summary\", fun.y = \"mean\", show.legend = FALSE):\n",
      "“\u001b[1m\u001b[22mIgnoring unknown parameters: `fun.y`”\n"
     ]
    },
    {
     "name": "stderr",
     "output_type": "stream",
     "text": [
      "\u001b[1m\u001b[22mNo summary function supplied, defaulting to `mean_se()`\n"
     ]
    },
    {
     "data": {
      "image/png": "[encoded data removed]",
      "text/plain": [
       "plot without title"
      ]
     },
     "metadata": {
      "image/png": {
       "height": 420,
       "width": 210
      }
     },
     "output_type": "display_data"
    }
   ],
   "source": [
    "options(repr.plot.width = 3.5, repr.plot.height = 7)\n",
    "samples = apop_flow %>% pull(sample) %>% unique() %>% sort()\n",
    "my_comparisons = list(c(samples[1], samples[2]), c(samples[1], samples[3]))\n",
    "upper_lim = max(apop_flow %>% pull(pct_cells))*1.05\n",
    "\n",
    "apop_flow %>% ggplot(aes(sample, pct_cells, fill = sample)) + geom_bar(stat = 'summary', fun.y = 'mean', show.legend = FALSE) +\n",
    "geom_jitter(size = 3.5, show.legend = FALSE) + stat_compare_means(method = \"t.test\", comparisons = my_comparisons, label.y = upper_lim, step.increase = 0.15) + theme_pubr() + theme(axis.text.x = element_text(angle = 45, hjust = 1, vjust = 1)) + xlab('') + ylab('% cells in apoptosis') + scale_fill_brewer(palette = 'Paired', direction = -1) + scale_color_brewer(palette = 'Paired', direction = -1)"
   ]
  },
  {
   "cell_type": "code",
   "execution_count": 5,
   "metadata": {
    "vscode": {
     "languageId": "r"
    }
   },
   "outputs": [],
   "source": [
    "saveRDS(apop_flow, '/home/ssobti/projects/mir_tud/fig_output/data/fig3/tRF_apop_flow.rds')"
   ]
  },
  {
   "cell_type": "code",
   "execution_count": null,
   "metadata": {
    "vscode": {
     "languageId": "r"
    }
   },
   "outputs": [],
   "source": []
  }
 ],
 "metadata": {
  "kernelspec": {
   "display_name": "R",
   "language": "R",
   "name": "ir"
  },
  "language_info": {
   "codemirror_mode": "r",
   "file_extension": ".r",
   "mimetype": "text/x-r-source",
   "name": "R",
   "pygments_lexer": "r",
   "version": "4.2.3"
  }
 },
 "nbformat": 4,
 "nbformat_minor": 2
}
