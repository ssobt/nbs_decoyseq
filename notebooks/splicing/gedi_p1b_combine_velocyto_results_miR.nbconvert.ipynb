{
 "cells": [
  {
   "cell_type": "code",
   "execution_count": 1,
   "metadata": {
    "execution": {
     "iopub.execute_input": "2024-03-12T06:01:28.842644Z",
     "iopub.status.busy": "2024-03-12T06:01:28.842276Z",
     "iopub.status.idle": "2024-03-12T06:01:28.847460Z",
     "shell.execute_reply": "2024-03-12T06:01:28.846748Z"
    }
   },
   "outputs": [],
   "source": [
    "## Notebook env: gedi (gedi kernel)"
   ]
  },
  {
   "cell_type": "code",
   "execution_count": 2,
   "metadata": {
    "execution": {
     "iopub.execute_input": "2024-03-12T06:01:28.850302Z",
     "iopub.status.busy": "2024-03-12T06:01:28.850069Z",
     "iopub.status.idle": "2024-03-12T06:13:02.252702Z",
     "shell.execute_reply": "2024-03-12T06:13:02.251663Z"
    }
   },
   "outputs": [
    {
     "name": "stderr",
     "output_type": "stream",
     "text": [
      "/home/ssobti/miniconda3/envs/gedi/lib/python3.12/site-packages/numba/np/ufunc/parallel.py:371: NumbaWarning: The TBB threading layer requires TBB version 2021 update 6 or later i.e., TBB_INTERFACE_VERSION >= 12060. Found TBB_INTERFACE_VERSION = 12050. The TBB threading layer is disabled.\n",
      "  warnings.warn(problem)\n"
     ]
    },
    {
     "name": "stderr",
     "output_type": "stream",
     "text": [
      "WARNING:root:╭── 'batch_scan_layers' is deprecated. Use 'scan' instead\n"
     ]
    },
    {
     "name": "stderr",
     "output_type": "stream",
     "text": [
      "WARNING:root:╰──> at /home/ssobti/miniconda3/envs/gedi/lib/python3.12/site-packages/loompy/loompy.py, line 465\n"
     ]
    },
    {
     "name": "stderr",
     "output_type": "stream",
     "text": [
      "WARNING:root:╭── 'batch_scan_layers' is deprecated. Use 'scan' instead\n"
     ]
    },
    {
     "name": "stderr",
     "output_type": "stream",
     "text": [
      "WARNING:root:╰──> at /home/ssobti/miniconda3/envs/gedi/lib/python3.12/site-packages/loompy/loompy.py, line 465\n"
     ]
    }
   ],
   "source": [
    "## combine loom files\n",
    "\n",
    "import loompy as lpy\n",
    "\n",
    "path = '/home/ssobti/projects/mir_tud/output_data/splicing/velocyto/'\n",
    "miR_1 = path + 'miR_1/miR_1.loom'\n",
    "miR_2 = path + 'miR_2/miR_2.loom'\n",
    "miR_3 = path + 'miR_3/miR_3.loom'\n",
    "\n",
    "lpy.combine([miR_1, miR_2, miR_3], path + 'miR_combined.loom')"
   ]
  }
 ],
 "metadata": {
  "kernelspec": {
   "display_name": "gedi",
   "language": "python",
   "name": "gedi"
  },
  "language_info": {
   "codemirror_mode": {
    "name": "ipython",
    "version": 3
   },
   "file_extension": ".py",
   "mimetype": "text/x-python",
   "name": "python",
   "nbconvert_exporter": "python",
   "pygments_lexer": "ipython3",
   "version": "3.12.2"
  }
 },
 "nbformat": 4,
 "nbformat_minor": 2
}
