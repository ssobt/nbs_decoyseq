{
 "cells": [
  {
   "cell_type": "code",
   "execution_count": null,
   "metadata": {
    "vscode": {
     "languageId": "r"
    }
   },
   "outputs": [],
   "source": [
    "## Notebook env: mirtud_env (R kernel)\n",
    "## this notebook consolidates the results of the random sampled splicing analysis"
   ]
  },
  {
   "cell_type": "code",
   "execution_count": null,
   "metadata": {
    "vscode": {
     "languageId": "r"
    }
   },
   "outputs": [],
   "source": [
    "library(Matrix)\n",
    "library(Seurat)\n",
    "library(dplyr)\n",
    "library(tidyr)\n",
    "library(ggplot2)"
   ]
  },
  {
   "cell_type": "code",
   "execution_count": 11,
   "metadata": {
    "vscode": {
     "languageId": "r"
    }
   },
   "outputs": [],
   "source": [
    "## load in data\n",
    "files = list.files(path = '/home/ssobti/projects/mir_tud/output_data/splicing/miR/', pattern = \"miR_gedi_stability_values\", include.dirs = TRUE, full.names = TRUE)\n",
    "files = files[c(1,3,4,5,6,7,8,9,10,2)]\n",
    "RNA_stability_mtxs = lapply(files, readRDS)\n",
    "names(RNA_stability_mtxs) = paste('seed', 1:10, sep = \"_\")"
   ]
  },
  {
   "cell_type": "code",
   "execution_count": null,
   "metadata": {
    "vscode": {
     "languageId": "r"
    }
   },
   "outputs": [],
   "source": [
    "## should I run randomized cell identity controls too for above??"
   ]
  },
  {
   "cell_type": "code",
   "execution_count": null,
   "metadata": {
    "vscode": {
     "languageId": "r"
    }
   },
   "outputs": [],
   "source": [
    "## load in meta \n",
    "## assign cells guide identity\n",
    "miR_seurat = readRDS('/home/ssobti/projects/mir_tud/101423_filtered_data/miR.integrated.qc_norm_scaled.dimred.clustered.gex.guide_assigned.RDS')\n",
    "meta = miR_seurat@meta.data\n",
    "meta$cell_names = paste(meta$sample, meta$barcode, sep = ':')\n",
    "head(meta)"
   ]
  },
  {
   "cell_type": "code",
   "execution_count": null,
   "metadata": {
    "vscode": {
     "languageId": "r"
    }
   },
   "outputs": [],
   "source": [
    "## analyze genes in 50 hallmark genesets (make heatmap 50 x 300+ perturb heatmap)\n",
    "## how will miR of tRF knockdown magically lead to splicing changes in these genesets? even if you see it, how will you explain it in a paper?"
   ]
  },
  {
   "cell_type": "code",
   "execution_count": null,
   "metadata": {
    "vscode": {
     "languageId": "r"
    }
   },
   "outputs": [],
   "source": []
  }
 ],
 "metadata": {
  "kernelspec": {
   "display_name": "R",
   "language": "R",
   "name": "ir"
  },
  "language_info": {
   "codemirror_mode": "r",
   "file_extension": ".r",
   "mimetype": "text/x-r-source",
   "name": "R",
   "pygments_lexer": "r",
   "version": "4.2.3"
  }
 },
 "nbformat": 4,
 "nbformat_minor": 2
}
