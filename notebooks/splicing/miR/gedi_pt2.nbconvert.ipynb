{
 "cells": [
  {
   "cell_type": "code",
   "execution_count": 1,
   "metadata": {
    "execution": {
     "iopub.execute_input": "2024-03-17T01:33:37.132899Z",
     "iopub.status.busy": "2024-03-17T01:33:37.129753Z",
     "iopub.status.idle": "2024-03-17T01:33:37.159657Z",
     "shell.execute_reply": "2024-03-17T01:33:37.157956Z"
    },
    "vscode": {
     "languageId": "r"
    }
   },
   "outputs": [],
   "source": [
    "## Notebook env: gedi (R kernel)\n",
    "## GEDI pt.2 - runs GEDI to find spliced/unspliced ratio of genes across perturbations\n",
    "\n",
    "## get the unspliced and spliced counts mtxs for each of miR_1, miR_2, miR_3\n",
    "## combine all unspliced mtxs and alle spliced mtxs into two final mtxs (save with scanpy)\n",
    "## read into R the two mtxs with scrattch.io::read_loom_dgCMatrix, input into gedi\n",
    "\n",
    "## then take imputed psi values (spliced/unspliced counts -- RNA stability) from gedi model and make violin plots of them as drawn in RM2"
   ]
  },
  {
   "cell_type": "code",
   "execution_count": 2,
   "metadata": {
    "execution": {
     "iopub.execute_input": "2024-03-17T01:33:37.193642Z",
     "iopub.status.busy": "2024-03-17T01:33:37.163546Z",
     "iopub.status.idle": "2024-03-17T01:33:44.852083Z",
     "shell.execute_reply": "2024-03-17T01:33:44.850553Z"
    },
    "vscode": {
     "languageId": "r"
    }
   },
   "outputs": [
    {
     "name": "stderr",
     "output_type": "stream",
     "text": [
      "Loading required package: DelayedArray\n",
      "\n"
     ]
    },
    {
     "name": "stderr",
     "output_type": "stream",
     "text": [
      "Loading required package: stats4\n",
      "\n"
     ]
    },
    {
     "name": "stderr",
     "output_type": "stream",
     "text": [
      "Loading required package: Matrix\n",
      "\n"
     ]
    },
    {
     "name": "stderr",
     "output_type": "stream",
     "text": [
      "Loading required package: BiocGenerics\n",
      "\n"
     ]
    },
    {
     "name": "stderr",
     "output_type": "stream",
     "text": [
      "\n",
      "Attaching package: ‘BiocGenerics’\n",
      "\n",
      "\n"
     ]
    },
    {
     "name": "stderr",
     "output_type": "stream",
     "text": [
      "The following objects are masked from ‘package:stats’:\n",
      "\n",
      "    IQR, mad, sd, var, xtabs\n",
      "\n",
      "\n"
     ]
    },
    {
     "name": "stderr",
     "output_type": "stream",
     "text": [
      "The following objects are masked from ‘package:base’:\n",
      "\n",
      "    anyDuplicated, aperm, append, as.data.frame, basename, cbind,\n",
      "    colnames, dirname, do.call, duplicated, eval, evalq, Filter, Find,\n",
      "    get, grep, grepl, intersect, is.unsorted, lapply, Map, mapply,\n",
      "    match, mget, order, paste, pmax, pmax.int, pmin, pmin.int,\n",
      "    Position, rank, rbind, Reduce, rownames, sapply, setdiff, sort,\n",
      "    table, tapply, union, unique, unsplit, which.max, which.min\n",
      "\n",
      "\n"
     ]
    },
    {
     "name": "stderr",
     "output_type": "stream",
     "text": [
      "Loading required package: MatrixGenerics\n",
      "\n"
     ]
    },
    {
     "name": "stderr",
     "output_type": "stream",
     "text": [
      "Loading required package: matrixStats\n",
      "\n"
     ]
    },
    {
     "name": "stderr",
     "output_type": "stream",
     "text": [
      "\n",
      "Attaching package: ‘MatrixGenerics’\n",
      "\n",
      "\n"
     ]
    },
    {
     "name": "stderr",
     "output_type": "stream",
     "text": [
      "The following objects are masked from ‘package:matrixStats’:\n",
      "\n",
      "    colAlls, colAnyNAs, colAnys, colAvgsPerRowSet, colCollapse,\n",
      "    colCounts, colCummaxs, colCummins, colCumprods, colCumsums,\n",
      "    colDiffs, colIQRDiffs, colIQRs, colLogSumExps, colMadDiffs,\n",
      "    colMads, colMaxs, colMeans2, colMedians, colMins, colOrderStats,\n",
      "    colProds, colQuantiles, colRanges, colRanks, colSdDiffs, colSds,\n",
      "    colSums2, colTabulates, colVarDiffs, colVars, colWeightedMads,\n",
      "    colWeightedMeans, colWeightedMedians, colWeightedSds,\n",
      "    colWeightedVars, rowAlls, rowAnyNAs, rowAnys, rowAvgsPerColSet,\n",
      "    rowCollapse, rowCounts, rowCummaxs, rowCummins, rowCumprods,\n",
      "    rowCumsums, rowDiffs, rowIQRDiffs, rowIQRs, rowLogSumExps,\n",
      "    rowMadDiffs, rowMads, rowMaxs, rowMeans2, rowMedians, rowMins,\n",
      "    rowOrderStats, rowProds, rowQuantiles, rowRanges, rowRanks,\n",
      "    rowSdDiffs, rowSds, rowSums2, rowTabulates, rowVarDiffs, rowVars,\n",
      "    rowWeightedMads, rowWeightedMeans, rowWeightedMedians,\n",
      "    rowWeightedSds, rowWeightedVars\n",
      "\n",
      "\n"
     ]
    },
    {
     "name": "stderr",
     "output_type": "stream",
     "text": [
      "Loading required package: S4Vectors\n",
      "\n"
     ]
    },
    {
     "name": "stderr",
     "output_type": "stream",
     "text": [
      "\n",
      "Attaching package: ‘S4Vectors’\n",
      "\n",
      "\n"
     ]
    },
    {
     "name": "stderr",
     "output_type": "stream",
     "text": [
      "The following objects are masked from ‘package:Matrix’:\n",
      "\n",
      "    expand, unname\n",
      "\n",
      "\n"
     ]
    },
    {
     "name": "stderr",
     "output_type": "stream",
     "text": [
      "The following object is masked from ‘package:utils’:\n",
      "\n",
      "    findMatches\n",
      "\n",
      "\n"
     ]
    },
    {
     "name": "stderr",
     "output_type": "stream",
     "text": [
      "The following objects are masked from ‘package:base’:\n",
      "\n",
      "    expand.grid, I, unname\n",
      "\n",
      "\n"
     ]
    },
    {
     "name": "stderr",
     "output_type": "stream",
     "text": [
      "Loading required package: IRanges\n",
      "\n"
     ]
    },
    {
     "name": "stderr",
     "output_type": "stream",
     "text": [
      "Loading required package: S4Arrays\n",
      "\n"
     ]
    },
    {
     "name": "stderr",
     "output_type": "stream",
     "text": [
      "Loading required package: abind\n",
      "\n"
     ]
    },
    {
     "name": "stderr",
     "output_type": "stream",
     "text": [
      "\n",
      "Attaching package: ‘S4Arrays’\n",
      "\n",
      "\n"
     ]
    },
    {
     "name": "stderr",
     "output_type": "stream",
     "text": [
      "The following object is masked from ‘package:abind’:\n",
      "\n",
      "    abind\n",
      "\n",
      "\n"
     ]
    },
    {
     "name": "stderr",
     "output_type": "stream",
     "text": [
      "The following object is masked from ‘package:base’:\n",
      "\n",
      "    rowsum\n",
      "\n",
      "\n"
     ]
    },
    {
     "name": "stderr",
     "output_type": "stream",
     "text": [
      "Loading required package: SparseArray\n",
      "\n"
     ]
    },
    {
     "name": "stderr",
     "output_type": "stream",
     "text": [
      "\n",
      "Attaching package: ‘DelayedArray’\n",
      "\n",
      "\n"
     ]
    },
    {
     "name": "stderr",
     "output_type": "stream",
     "text": [
      "The following objects are masked from ‘package:base’:\n",
      "\n",
      "    apply, scale, sweep\n",
      "\n",
      "\n"
     ]
    },
    {
     "name": "stderr",
     "output_type": "stream",
     "text": [
      "Loading required package: rhdf5\n",
      "\n"
     ]
    },
    {
     "name": "stderr",
     "output_type": "stream",
     "text": [
      "\n",
      "Attaching package: ‘HDF5Array’\n",
      "\n",
      "\n"
     ]
    },
    {
     "name": "stderr",
     "output_type": "stream",
     "text": [
      "The following object is masked from ‘package:rhdf5’:\n",
      "\n",
      "    h5ls\n",
      "\n",
      "\n"
     ]
    }
   ],
   "source": [
    ".libPaths('/home/ssobti/projects/mir_tud/packages/gedi_R_pkgs')\n",
    "\n",
    "## install packages below into env if not already installed\n",
    "## remotes::install_github('csglab/GEDI', lib = '/home/ssobti/projects/mir_tud/packages/gedi_R_pkgs')\n",
    "\n",
    "library(HDF5Array)\n",
    "library(ggplot2)\n",
    "library(Matrix)\n",
    "library(RColorBrewer)\n",
    "library(uwot)\n",
    "library(GEDI)\n",
    "library(SeuratWrappers)\n",
    "set.seed(43)"
   ]
  },
  {
   "cell_type": "code",
   "execution_count": 3,
   "metadata": {
    "execution": {
     "iopub.execute_input": "2024-03-17T01:33:44.858169Z",
     "iopub.status.busy": "2024-03-17T01:33:44.856556Z",
     "iopub.status.idle": "2024-03-17T01:38:12.622732Z",
     "shell.execute_reply": "2024-03-17T01:38:12.621094Z"
    },
    "vscode": {
     "languageId": "r"
    }
   },
   "outputs": [],
   "source": [
    "## load loom files\n",
    "miR_1 = ReadVelocity(file = '/home/ssobti/projects/mir_tud/output_data/splicing/velocyto/miR_1/miR_1.loom')\n",
    "miR_2 = ReadVelocity(file = '/home/ssobti/projects/mir_tud/output_data/splicing/velocyto/miR_2/miR_2.loom')\n",
    "miR_3 = ReadVelocity(file = '/home/ssobti/projects/mir_tud/output_data/splicing/velocyto/miR_3/miR_3.loom')"
   ]
  },
  {
   "cell_type": "code",
   "execution_count": 4,
   "metadata": {
    "execution": {
     "iopub.execute_input": "2024-03-17T01:38:12.645996Z",
     "iopub.status.busy": "2024-03-17T01:38:12.644215Z",
     "iopub.status.idle": "2024-03-17T01:38:12.657780Z",
     "shell.execute_reply": "2024-03-17T01:38:12.656280Z"
    },
    "vscode": {
     "languageId": "r"
    }
   },
   "outputs": [],
   "source": [
    "spliced = list(miR_1[['spliced']], miR_2[['spliced']], miR_3[['spliced']])\n",
    "unspliced = list(miR_1[['unspliced']], miR_2[['unspliced']], miR_3[['unspliced']])"
   ]
  },
  {
   "cell_type": "code",
   "execution_count": 5,
   "metadata": {
    "execution": {
     "iopub.execute_input": "2024-03-17T01:38:12.663290Z",
     "iopub.status.busy": "2024-03-17T01:38:12.662018Z",
     "iopub.status.idle": "2024-03-17T01:41:53.026504Z",
     "shell.execute_reply": "2024-03-17T01:41:53.024454Z"
    },
    "vscode": {
     "languageId": "r"
    }
   },
   "outputs": [
    {
     "name": "stderr",
     "output_type": "stream",
     "text": [
      "'as(<dgTMatrix>, \"dgCMatrix\")' is deprecated.\n",
      "Use 'as(., \"CsparseMatrix\")' instead.\n",
      "See help(\"Deprecated\") and help(\"Matrix-deprecated\").\n",
      "\n"
     ]
    }
   ],
   "source": [
    "## combine spliced and unspliced counts into two final mtxs\n",
    "## the gedi model will take sample labels within each of the two mtxs\n",
    "spliced_combined = cbind(spliced[[1]], spliced[[2]], spliced[[3]])\n",
    "unspliced_combined = cbind(unspliced[[1]], unspliced[[2]], unspliced[[3]])\n",
    "\n",
    "## filter out genes with low median UMIs from the expression data\n",
    "filtered_meta_data <- read.csv('/home/ssobti/projects/mir_tud/010523_filtered_data/miR_meta.csv', header = TRUE)\n",
    "rownames(filtered_meta_data) <- filtered_meta_data$X\n",
    "filtered_meta_data$guide <- as.character(filtered_meta_data$guide)\n",
    "\n",
    "raw_genes <- read.csv('/home/ssobti/projects/mir_tud/010523_filtered_data/miR_gene_names.csv', header = FALSE)\n",
    "raw_genes <- raw_genes$V2[-1]\n",
    "raw_genes <- as.character(raw_genes)\n",
    "\n",
    "filtered_raw_mtx <- readMM('/home/ssobti/projects/mir_tud/010523_filtered_data/miR_normalized_data.mtx')\n",
    "filtered_raw_mtx = as(filtered_raw_mtx, 'dgCMatrix')\n",
    "rownames(filtered_raw_mtx) = raw_genes\n",
    "colnames(filtered_raw_mtx) = rownames(filtered_meta_data)\n",
    "medians = sparseMatrixStats::rowMedians(filtered_raw_mtx)\n",
    "genes_to_keep = as.numeric(medians) >= 0.01\n",
    "filtered_raw_mtx <- filtered_raw_mtx[genes_to_keep,]\n",
    "\n",
    "spliced_combined = spliced_combined[rownames(filtered_raw_mtx)[rownames(filtered_raw_mtx) %in% rownames(spliced_combined)],]\n",
    "unspliced_combined = unspliced_combined[rownames(filtered_raw_mtx)[rownames(filtered_raw_mtx) %in% rownames(unspliced_combined)],]\n",
    "\n",
    "## filter out low splice/unspliced count cells and low count genes\n",
    "filtered_cols <- which(log10(colSums(spliced_combined)) > 3 & log10(colSums(unspliced_combined)) > 3)\n",
    "filtered_rows <- which(rowSums(spliced_combined) > 50 & rowSums(unspliced_combined) > 50)\n",
    "spliced_combined = spliced_combined[filtered_rows, filtered_cols]\n",
    "unspliced_combined = unspliced_combined[filtered_rows, filtered_cols]\n",
    "\n",
    "## get sample identity\n",
    "sample_identity = stringr::str_sub(colnames(spliced_combined), start = 1, end = 5)\n"
   ]
  },
  {
   "cell_type": "code",
   "execution_count": 6,
   "metadata": {
    "execution": {
     "iopub.execute_input": "2024-03-17T01:41:53.048961Z",
     "iopub.status.busy": "2024-03-17T01:41:53.047328Z",
     "iopub.status.idle": "2024-03-17T01:42:00.364621Z",
     "shell.execute_reply": "2024-03-17T01:42:00.363120Z"
    },
    "vscode": {
     "languageId": "r"
    }
   },
   "outputs": [
    {
     "data": {
      "text/html": [
       "96.4123788527931"
      ],
      "text/latex": [
       "96.4123788527931"
      ],
      "text/markdown": [
       "96.4123788527931"
      ],
      "text/plain": [
       "[1] 96.41238"
      ]
     },
     "metadata": {},
     "output_type": "display_data"
    },
    {
     "data": {
      "text/html": [
       "17.9366683970383"
      ],
      "text/latex": [
       "17.9366683970383"
      ],
      "text/markdown": [
       "17.9366683970383"
      ],
      "text/plain": [
       "[1] 17.93667"
      ]
     },
     "metadata": {},
     "output_type": "display_data"
    }
   ],
   "source": [
    "## percent of cells that remain after filtering\n",
    "100*length(filtered_cols) / ncol(cbind(spliced[[1]], spliced[[2]], spliced[[3]]))\n",
    "\n",
    "## percent of genes that remain after filtering\n",
    "100*length(filtered_rows) / nrow(cbind(spliced[[1]], spliced[[2]], spliced[[3]]))"
   ]
  },
  {
   "cell_type": "code",
   "execution_count": 7,
   "metadata": {
    "execution": {
     "iopub.execute_input": "2024-03-17T01:42:00.371218Z",
     "iopub.status.busy": "2024-03-17T01:42:00.369882Z",
     "iopub.status.idle": "2024-03-17T01:42:02.209907Z",
     "shell.execute_reply": "2024-03-17T01:42:02.208308Z"
    },
    "vscode": {
     "languageId": "r"
    }
   },
   "outputs": [
    {
     "name": "stderr",
     "output_type": "stream",
     "text": [
      "Warning message:\n",
      "“\u001b[1m\u001b[22mRemoved 6436 rows containing non-finite outside the scale range (`stat_bin()`).”\n"
     ]
    },
    {
     "name": "stderr",
     "output_type": "stream",
     "text": [
      "Warning message:\n",
      "“\u001b[1m\u001b[22mRemoved 2 rows containing missing values or values outside the scale range\n",
      "(`geom_bar()`).”\n"
     ]
    },
    {
     "data": {
      "image/png": "[encoded data removed]",
      "text/plain": [
       "plot without title"
      ]
     },
     "metadata": {
      "image/png": {
       "height": 420,
       "width": 420
      }
     },
     "output_type": "display_data"
    }
   ],
   "source": [
    "df = data.frame(spliced = rowSums(spliced_combined[rowSums(spliced_combined) > 50, colSums(spliced_combined) > 50]))\n",
    "ggplot(df, aes(x = spliced)) + geom_histogram(binwidth = 10) + xlim(0, 1000) + ggtitle('Spliced counts per gene')"
   ]
  },
  {
   "cell_type": "code",
   "execution_count": 8,
   "metadata": {
    "execution": {
     "iopub.execute_input": "2024-03-17T01:42:02.216999Z",
     "iopub.status.busy": "2024-03-17T01:42:02.215709Z",
     "iopub.status.idle": "2024-03-17T01:42:04.314083Z",
     "shell.execute_reply": "2024-03-17T01:42:04.312484Z"
    },
    "vscode": {
     "languageId": "r"
    }
   },
   "outputs": [
    {
     "name": "stderr",
     "output_type": "stream",
     "text": [
      "Warning message:\n",
      "“\u001b[1m\u001b[22mRemoved 41640 rows containing non-finite outside the scale range\n",
      "(`stat_bin()`).”\n"
     ]
    },
    {
     "name": "stderr",
     "output_type": "stream",
     "text": [
      "Warning message:\n",
      "“\u001b[1m\u001b[22mRemoved 2 rows containing missing values or values outside the scale range\n",
      "(`geom_bar()`).”\n"
     ]
    },
    {
     "data": {
      "image/png": "[encoded data removed]",
      "text/plain": [
       "plot without title"
      ]
     },
     "metadata": {
      "image/png": {
       "height": 420,
       "width": 420
      }
     },
     "output_type": "display_data"
    }
   ],
   "source": [
    "df2 = data.frame(spliced = colSums(spliced_combined[rowSums(spliced_combined) > 50, colSums(spliced_combined) > 50]))\n",
    "ggplot(df2, aes(x = spliced)) + geom_histogram(binwidth = 10) + xlim(0, 10000) + ggtitle('Spliced counts per cell')"
   ]
  },
  {
   "cell_type": "code",
   "execution_count": 9,
   "metadata": {
    "execution": {
     "iopub.execute_input": "2024-03-17T01:42:04.321303Z",
     "iopub.status.busy": "2024-03-17T01:42:04.319994Z",
     "iopub.status.idle": "2024-03-17T01:42:04.334377Z",
     "shell.execute_reply": "2024-03-17T01:42:04.332779Z"
    },
    "vscode": {
     "languageId": "r"
    }
   },
   "outputs": [],
   "source": [
    "rm(miR_1, miR_2, miR_3, spliced, unspliced, filtered_cols, filtered_rows, df, df2, filtered_raw_mtx)"
   ]
  },
  {
   "cell_type": "code",
   "execution_count": 10,
   "metadata": {
    "execution": {
     "iopub.execute_input": "2024-03-17T01:42:04.340205Z",
     "iopub.status.busy": "2024-03-17T01:42:04.338681Z",
     "iopub.status.idle": "2024-03-17T06:07:19.493279Z",
     "shell.execute_reply": "2024-03-17T06:07:19.490237Z"
    },
    "vscode": {
     "languageId": "r"
    }
   },
   "outputs": [
    {
     "name": "stderr",
     "output_type": "stream",
     "text": [
      "Setting up the GEDI model...\n",
      "\n"
     ]
    },
    {
     "name": "stderr",
     "output_type": "stream",
     "text": [
      "Warning message in asMethod(object):\n",
      "“sparse->dense coercion: allocating vector of size 2.3 GiB”\n"
     ]
    },
    {
     "name": "stderr",
     "output_type": "stream",
     "text": [
      "Warning message in asMethod(object):\n",
      "“sparse->dense coercion: allocating vector of size 2.3 GiB”\n"
     ]
    },
    {
     "name": "stderr",
     "output_type": "stream",
     "text": [
      "Warning message in asMethod(object):\n",
      "“sparse->dense coercion: allocating vector of size 2.3 GiB”\n"
     ]
    },
    {
     "name": "stderr",
     "output_type": "stream",
     "text": [
      "Warning message in asMethod(object):\n",
      "“sparse->dense coercion: allocating vector of size 2.3 GiB”\n"
     ]
    },
    {
     "name": "stderr",
     "output_type": "stream",
     "text": [
      "Warning message in asMethod(object):\n",
      "“sparse->dense coercion: allocating vector of size 2.3 GiB”\n"
     ]
    },
    {
     "name": "stderr",
     "output_type": "stream",
     "text": [
      "Warning message in asMethod(object):\n",
      "“sparse->dense coercion: allocating vector of size 2.3 GiB”\n"
     ]
    },
    {
     "name": "stderr",
     "output_type": "stream",
     "text": [
      "Initializing LVs...\n",
      "\n"
     ]
    },
    {
     "name": "stderr",
     "output_type": "stream",
     "text": [
      "  Initializing oi...\n",
      "\n"
     ]
    },
    {
     "name": "stderr",
     "output_type": "stream",
     "text": [
      "  Performing initial decompsition of Y...\n",
      "\n"
     ]
    },
    {
     "name": "stderr",
     "output_type": "stream",
     "text": [
      "Performing block coordinate descent optimization...\n",
      "\n"
     ]
    },
    {
     "name": "stderr",
     "output_type": "stream",
     "text": [
      "  Iteration 1/150 (total 1)...\n",
      "\n"
     ]
    },
    {
     "name": "stdout",
     "output_type": "stream",
     "text": [
      "2.677482 \n",
      "1 \n",
      "Mean(o): -0.4809108 ; Var(o): 1.761535 ; Var(si): 0.001929541 \n"
     ]
    },
    {
     "name": "stderr",
     "output_type": "stream",
     "text": [
      "  Iteration 2/150 (total 2)...\n",
      "\n"
     ]
    },
    {
     "name": "stdout",
     "output_type": "stream",
     "text": [
      "2.25979 \n",
      "1 \n",
      "Mean(o): -0.4809718 ; Var(o): 2.084354 ; Var(si): 0.004615185 \n"
     ]
    },
    {
     "name": "stderr",
     "output_type": "stream",
     "text": [
      "  Iteration 3/150 (total 3)...\n",
      "\n"
     ]
    },
    {
     "name": "stdout",
     "output_type": "stream",
     "text": [
      "1.981224 \n",
      "1 \n",
      "Mean(o): -0.4810125 ; Var(o): 2.374428 ; Var(si): 0.007978855 \n"
     ]
    },
    {
     "name": "stderr",
     "output_type": "stream",
     "text": [
      "  Iteration 4/150 (total 4)...\n",
      "\n"
     ]
    },
    {
     "name": "stdout",
     "output_type": "stream",
     "text": [
      "1.785478 \n",
      "1 \n",
      "Mean(o): -0.4810441 ; Var(o): 2.631658 ; Var(si): 0.01161112 \n"
     ]
    },
    {
     "name": "stderr",
     "output_type": "stream",
     "text": [
      "  Iteration 5/150 (total 5)...\n",
      "\n"
     ]
    },
    {
     "name": "stdout",
     "output_type": "stream",
     "text": [
      "1.639232 \n",
      "1 \n",
      "Mean(o): -0.4810706 ; Var(o): 2.863374 ; Var(si): 0.01449443 \n"
     ]
    },
    {
     "name": "stderr",
     "output_type": "stream",
     "text": [
      "  Iteration 6/150 (total 6)...\n",
      "\n"
     ]
    },
    {
     "name": "stdout",
     "output_type": "stream",
     "text": [
      "1.521763 \n",
      "1 \n",
      "Mean(o): -0.4810952 ; Var(o): 3.081429 ; Var(si): 0.01621314 \n"
     ]
    },
    {
     "name": "stderr",
     "output_type": "stream",
     "text": [
      "  Iteration 7/150 (total 7)...\n",
      "\n"
     ]
    },
    {
     "name": "stdout",
     "output_type": "stream",
     "text": [
      "1.420745 \n",
      "1 \n",
      "Mean(o): -0.4811197 ; Var(o): 3.297692 ; Var(si): 0.01709303 \n"
     ]
    },
    {
     "name": "stderr",
     "output_type": "stream",
     "text": [
      "  Iteration 8/150 (total 8)...\n",
      "\n"
     ]
    },
    {
     "name": "stdout",
     "output_type": "stream",
     "text": [
      "1.32902 \n",
      "1 \n",
      "Mean(o): -0.4811449 ; Var(o): 3.522614 ; Var(si): 0.01765415 \n"
     ]
    },
    {
     "name": "stderr",
     "output_type": "stream",
     "text": [
      "  Iteration 9/150 (total 9)...\n",
      "\n"
     ]
    },
    {
     "name": "stdout",
     "output_type": "stream",
     "text": [
      "1.243721 \n",
      "1 \n",
      "Mean(o): -0.4811708 ; Var(o): 3.761692 ; Var(si): 0.01836264 \n"
     ]
    },
    {
     "name": "stderr",
     "output_type": "stream",
     "text": [
      "  Iteration 10/150 (total 10)...\n",
      "\n"
     ]
    },
    {
     "name": "stdout",
     "output_type": "stream",
     "text": [
      "1.164669 \n",
      "1 \n",
      "Mean(o): -0.4811969 ; Var(o): 4.01464 ; Var(si): 0.01938448 \n"
     ]
    },
    {
     "name": "stderr",
     "output_type": "stream",
     "text": [
      "  Iteration 11/150 (total 11)...\n",
      "\n"
     ]
    },
    {
     "name": "stdout",
     "output_type": "stream",
     "text": [
      "1.092247 \n",
      "1 \n",
      "Mean(o): -0.4812226 ; Var(o): 4.278566 ; Var(si): 0.02063092 \n"
     ]
    },
    {
     "name": "stderr",
     "output_type": "stream",
     "text": [
      "  Iteration 12/150 (total 12)...\n",
      "\n"
     ]
    },
    {
     "name": "stdout",
     "output_type": "stream",
     "text": [
      "1.026702 \n",
      "1 \n",
      "Mean(o): -0.4812475 ; Var(o): 4.549527 ; Var(si): 0.02195085 \n"
     ]
    },
    {
     "name": "stderr",
     "output_type": "stream",
     "text": [
      "  Iteration 13/150 (total 13)...\n",
      "\n"
     ]
    },
    {
     "name": "stdout",
     "output_type": "stream",
     "text": [
      "0.967898 \n",
      "1 \n",
      "Mean(o): -0.4812715 ; Var(o): 4.823797 ; Var(si): 0.02322045 \n"
     ]
    },
    {
     "name": "stderr",
     "output_type": "stream",
     "text": [
      "  Iteration 14/150 (total 14)...\n",
      "\n"
     ]
    },
    {
     "name": "stdout",
     "output_type": "stream",
     "text": [
      "0.9153737 \n",
      "1 \n",
      "Mean(o): -0.4812948 ; Var(o): 5.098485 ; Var(si): 0.02436589 \n"
     ]
    },
    {
     "name": "stderr",
     "output_type": "stream",
     "text": [
      "  Iteration 15/150 (total 15)...\n",
      "\n"
     ]
    },
    {
     "name": "stdout",
     "output_type": "stream",
     "text": [
      "0.8685182 \n",
      "1 \n",
      "Mean(o): -0.4813173 ; Var(o): 5.371454 ; Var(si): 0.02536758 \n"
     ]
    },
    {
     "name": "stderr",
     "output_type": "stream",
     "text": [
      "  Iteration 16/150 (total 16)...\n",
      "\n"
     ]
    },
    {
     "name": "stdout",
     "output_type": "stream",
     "text": [
      "0.8266837 \n",
      "1 \n",
      "Mean(o): -0.4813394 ; Var(o): 5.64119 ; Var(si): 0.02624715 \n"
     ]
    },
    {
     "name": "stderr",
     "output_type": "stream",
     "text": [
      "  Iteration 17/150 (total 17)...\n",
      "\n"
     ]
    },
    {
     "name": "stdout",
     "output_type": "stream",
     "text": [
      "0.7892378 \n",
      "1 \n",
      "Mean(o): -0.4813611 ; Var(o): 5.906743 ; Var(si): 0.0270432 \n"
     ]
    },
    {
     "name": "stderr",
     "output_type": "stream",
     "text": [
      "  Iteration 18/150 (total 18)...\n",
      "\n"
     ]
    },
    {
     "name": "stdout",
     "output_type": "stream",
     "text": [
      "0.7555962 \n",
      "1 \n",
      "Mean(o): -0.4813825 ; Var(o): 6.16762 ; Var(si): 0.0277918 \n"
     ]
    },
    {
     "name": "stderr",
     "output_type": "stream",
     "text": [
      "  Iteration 19/150 (total 19)...\n",
      "\n"
     ]
    },
    {
     "name": "stdout",
     "output_type": "stream",
     "text": [
      "0.7252416 \n",
      "1 \n",
      "Mean(o): -0.4814037 ; Var(o): 6.423635 ; Var(si): 0.0285189 \n"
     ]
    },
    {
     "name": "stderr",
     "output_type": "stream",
     "text": [
      "  Iteration 20/150 (total 20)...\n",
      "\n"
     ]
    },
    {
     "name": "stdout",
     "output_type": "stream",
     "text": [
      "0.6977291 \n",
      "1 \n",
      "Mean(o): -0.4814246 ; Var(o): 6.674782 ; Var(si): 0.02924028 \n"
     ]
    },
    {
     "name": "stderr",
     "output_type": "stream",
     "text": [
      "  Iteration 21/150 (total 21)...\n",
      "\n"
     ]
    },
    {
     "name": "stdout",
     "output_type": "stream",
     "text": [
      "0.6726821 \n",
      "1 \n",
      "Mean(o): -0.4814452 ; Var(o): 6.92115 ; Var(si): 0.02996413 \n"
     ]
    },
    {
     "name": "stderr",
     "output_type": "stream",
     "text": [
      "  Iteration 22/150 (total 22)...\n",
      "\n"
     ]
    },
    {
     "name": "stdout",
     "output_type": "stream",
     "text": [
      "0.6497837 \n",
      "1 \n",
      "Mean(o): -0.4814657 ; Var(o): 7.162871 ; Var(si): 0.03069352 \n"
     ]
    },
    {
     "name": "stderr",
     "output_type": "stream",
     "text": [
      "  Iteration 23/150 (total 23)...\n",
      "\n"
     ]
    },
    {
     "name": "stdout",
     "output_type": "stream",
     "text": [
      "0.6287671 \n",
      "1 \n",
      "Mean(o): -0.4814858 ; Var(o): 7.400091 ; Var(si): 0.03142857 \n"
     ]
    },
    {
     "name": "stderr",
     "output_type": "stream",
     "text": [
      "  Iteration 24/150 (total 24)...\n",
      "\n"
     ]
    },
    {
     "name": "stdout",
     "output_type": "stream",
     "text": [
      "0.6094079 \n",
      "1 \n",
      "Mean(o): -0.4815058 ; Var(o): 7.632957 ; Var(si): 0.03216798 \n"
     ]
    },
    {
     "name": "stderr",
     "output_type": "stream",
     "text": [
      "  Iteration 25/150 (total 25)...\n",
      "\n"
     ]
    },
    {
     "name": "stdout",
     "output_type": "stream",
     "text": [
      "0.5915155 \n",
      "1 \n",
      "Mean(o): -0.4815255 ; Var(o): 7.861611 ; Var(si): 0.03291001 \n"
     ]
    },
    {
     "name": "stderr",
     "output_type": "stream",
     "text": [
      "  Iteration 26/150 (total 26)...\n",
      "\n"
     ]
    },
    {
     "name": "stdout",
     "output_type": "stream",
     "text": [
      "0.574928 \n",
      "1 \n",
      "Mean(o): -0.4815449 ; Var(o): 8.086184 ; Var(si): 0.03365299 \n"
     ]
    },
    {
     "name": "stderr",
     "output_type": "stream",
     "text": [
      "  Iteration 27/150 (total 27)...\n",
      "\n"
     ]
    },
    {
     "name": "stdout",
     "output_type": "stream",
     "text": [
      "0.5595066 \n",
      "1 \n",
      "Mean(o): -0.4815642 ; Var(o): 8.3068 ; Var(si): 0.03439553 \n"
     ]
    },
    {
     "name": "stderr",
     "output_type": "stream",
     "text": [
      "  Iteration 28/150 (total 28)...\n",
      "\n"
     ]
    },
    {
     "name": "stdout",
     "output_type": "stream",
     "text": [
      "0.5451317 \n",
      "1 \n",
      "Mean(o): -0.4815832 ; Var(o): 8.523574 ; Var(si): 0.03513652 \n"
     ]
    },
    {
     "name": "stderr",
     "output_type": "stream",
     "text": [
      "  Iteration 29/150 (total 29)...\n",
      "\n"
     ]
    },
    {
     "name": "stdout",
     "output_type": "stream",
     "text": [
      "0.5316995 \n",
      "1 \n",
      "Mean(o): -0.481602 ; Var(o): 8.736616 ; Var(si): 0.03587511 \n"
     ]
    },
    {
     "name": "stderr",
     "output_type": "stream",
     "text": [
      "  Iteration 30/150 (total 30)...\n",
      "\n"
     ]
    },
    {
     "name": "stdout",
     "output_type": "stream",
     "text": [
      "0.5191198 \n",
      "1 \n",
      "Mean(o): -0.4816205 ; Var(o): 8.94603 ; Var(si): 0.0366106 \n"
     ]
    },
    {
     "name": "stderr",
     "output_type": "stream",
     "text": [
      "  Iteration 31/150 (total 31)...\n",
      "\n"
     ]
    },
    {
     "name": "stdout",
     "output_type": "stream",
     "text": [
      "0.5073133 \n",
      "1 \n",
      "Mean(o): -0.4816389 ; Var(o): 9.151916 ; Var(si): 0.0373424 \n"
     ]
    },
    {
     "name": "stderr",
     "output_type": "stream",
     "text": [
      "  Iteration 32/150 (total 32)...\n",
      "\n"
     ]
    },
    {
     "name": "stdout",
     "output_type": "stream",
     "text": [
      "0.4962104 \n",
      "1 \n",
      "Mean(o): -0.4816571 ; Var(o): 9.35437 ; Var(si): 0.03807002 \n"
     ]
    },
    {
     "name": "stderr",
     "output_type": "stream",
     "text": [
      "  Iteration 33/150 (total 33)...\n",
      "\n"
     ]
    },
    {
     "name": "stdout",
     "output_type": "stream",
     "text": [
      "0.4857495 \n",
      "1 \n",
      "Mean(o): -0.4816751 ; Var(o): 9.553488 ; Var(si): 0.03879301 \n"
     ]
    },
    {
     "name": "stderr",
     "output_type": "stream",
     "text": [
      "  Iteration 34/150 (total 34)...\n",
      "\n"
     ]
    },
    {
     "name": "stdout",
     "output_type": "stream",
     "text": [
      "0.4758761 \n",
      "1 \n",
      "Mean(o): -0.4816929 ; Var(o): 9.749358 ; Var(si): 0.03951101 \n"
     ]
    },
    {
     "name": "stderr",
     "output_type": "stream",
     "text": [
      "  Iteration 35/150 (total 35)...\n",
      "\n"
     ]
    },
    {
     "name": "stdout",
     "output_type": "stream",
     "text": [
      "0.4665415 \n",
      "1 \n",
      "Mean(o): -0.4817105 ; Var(o): 9.942068 ; Var(si): 0.04022367 \n"
     ]
    },
    {
     "name": "stderr",
     "output_type": "stream",
     "text": [
      "  Iteration 36/150 (total 36)...\n",
      "\n"
     ]
    },
    {
     "name": "stdout",
     "output_type": "stream",
     "text": [
      "0.4577025 \n",
      "1 \n",
      "Mean(o): -0.4817279 ; Var(o): 10.1317 ; Var(si): 0.04093074 \n"
     ]
    },
    {
     "name": "stderr",
     "output_type": "stream",
     "text": [
      "  Iteration 37/150 (total 37)...\n",
      "\n"
     ]
    },
    {
     "name": "stdout",
     "output_type": "stream",
     "text": [
      "0.4493202 \n",
      "1 \n",
      "Mean(o): -0.4817452 ; Var(o): 10.31834 ; Var(si): 0.04163199 \n"
     ]
    },
    {
     "name": "stderr",
     "output_type": "stream",
     "text": [
      "  Iteration 38/150 (total 38)...\n",
      "\n"
     ]
    },
    {
     "name": "stdout",
     "output_type": "stream",
     "text": [
      "0.4413597 \n",
      "1 \n",
      "Mean(o): -0.4817623 ; Var(o): 10.50206 ; Var(si): 0.04232724 \n"
     ]
    },
    {
     "name": "stderr",
     "output_type": "stream",
     "text": [
      "  Iteration 39/150 (total 39)...\n",
      "\n"
     ]
    },
    {
     "name": "stdout",
     "output_type": "stream",
     "text": [
      "0.4337896 \n",
      "1 \n",
      "Mean(o): -0.4817793 ; Var(o): 10.68294 ; Var(si): 0.04301637 \n"
     ]
    },
    {
     "name": "stderr",
     "output_type": "stream",
     "text": [
      "  Iteration 40/150 (total 40)...\n",
      "\n"
     ]
    },
    {
     "name": "stdout",
     "output_type": "stream",
     "text": [
      "0.4265817 \n",
      "1 \n",
      "Mean(o): -0.4817961 ; Var(o): 10.86106 ; Var(si): 0.04369927 \n"
     ]
    },
    {
     "name": "stderr",
     "output_type": "stream",
     "text": [
      "  Iteration 41/150 (total 41)...\n",
      "\n"
     ]
    },
    {
     "name": "stdout",
     "output_type": "stream",
     "text": [
      "0.4197101 \n",
      "1 \n",
      "Mean(o): -0.4818128 ; Var(o): 11.03647 ; Var(si): 0.04437589 \n"
     ]
    },
    {
     "name": "stderr",
     "output_type": "stream",
     "text": [
      "  Iteration 42/150 (total 42)...\n",
      "\n"
     ]
    },
    {
     "name": "stdout",
     "output_type": "stream",
     "text": [
      "0.4131516 \n",
      "1 \n",
      "Mean(o): -0.4818293 ; Var(o): 11.20926 ; Var(si): 0.04504616 \n"
     ]
    },
    {
     "name": "stderr",
     "output_type": "stream",
     "text": [
      "  Iteration 43/150 (total 43)...\n",
      "\n"
     ]
    },
    {
     "name": "stdout",
     "output_type": "stream",
     "text": [
      "0.406885 \n",
      "1 \n",
      "Mean(o): -0.4818457 ; Var(o): 11.37948 ; Var(si): 0.04571007 \n"
     ]
    },
    {
     "name": "stderr",
     "output_type": "stream",
     "text": [
      "  Iteration 44/150 (total 44)...\n",
      "\n"
     ]
    },
    {
     "name": "stdout",
     "output_type": "stream",
     "text": [
      "0.400891 \n",
      "1 \n",
      "Mean(o): -0.481862 ; Var(o): 11.5472 ; Var(si): 0.04636761 \n"
     ]
    },
    {
     "name": "stderr",
     "output_type": "stream",
     "text": [
      "  Iteration 45/150 (total 45)...\n",
      "\n"
     ]
    },
    {
     "name": "stdout",
     "output_type": "stream",
     "text": [
      "0.395152 \n",
      "1 \n",
      "Mean(o): -0.4818781 ; Var(o): 11.71249 ; Var(si): 0.04701877 \n"
     ]
    },
    {
     "name": "stderr",
     "output_type": "stream",
     "text": [
      "  Iteration 46/150 (total 46)...\n",
      "\n"
     ]
    },
    {
     "name": "stdout",
     "output_type": "stream",
     "text": [
      "0.3896518 \n",
      "1 \n",
      "Mean(o): -0.4818941 ; Var(o): 11.87539 ; Var(si): 0.04766358 \n"
     ]
    },
    {
     "name": "stderr",
     "output_type": "stream",
     "text": [
      "  Iteration 47/150 (total 47)...\n",
      "\n"
     ]
    },
    {
     "name": "stdout",
     "output_type": "stream",
     "text": [
      "0.3843756 \n",
      "1 \n",
      "Mean(o): -0.48191 ; Var(o): 12.03596 ; Var(si): 0.04830206 \n"
     ]
    },
    {
     "name": "stderr",
     "output_type": "stream",
     "text": [
      "  Iteration 48/150 (total 48)...\n",
      "\n"
     ]
    },
    {
     "name": "stdout",
     "output_type": "stream",
     "text": [
      "0.37931 \n",
      "1 \n",
      "Mean(o): -0.4819258 ; Var(o): 12.19427 ; Var(si): 0.04893423 \n"
     ]
    },
    {
     "name": "stderr",
     "output_type": "stream",
     "text": [
      "  Iteration 49/150 (total 49)...\n",
      "\n"
     ]
    },
    {
     "name": "stdout",
     "output_type": "stream",
     "text": [
      "0.3744423 \n",
      "1 \n",
      "Mean(o): -0.4819415 ; Var(o): 12.35035 ; Var(si): 0.04956012 \n"
     ]
    },
    {
     "name": "stderr",
     "output_type": "stream",
     "text": [
      "  Iteration 50/150 (total 50)...\n",
      "\n"
     ]
    },
    {
     "name": "stdout",
     "output_type": "stream",
     "text": [
      "0.3697611 \n",
      "1 \n",
      "Mean(o): -0.4819571 ; Var(o): 12.50426 ; Var(si): 0.05017979 \n"
     ]
    },
    {
     "name": "stderr",
     "output_type": "stream",
     "text": [
      "  Iteration 51/150 (total 51)...\n",
      "\n"
     ]
    },
    {
     "name": "stdout",
     "output_type": "stream",
     "text": [
      "0.3652558 \n",
      "1 \n",
      "Mean(o): -0.4819725 ; Var(o): 12.65606 ; Var(si): 0.05079326 \n"
     ]
    },
    {
     "name": "stderr",
     "output_type": "stream",
     "text": [
      "  Iteration 52/150 (total 52)...\n",
      "\n"
     ]
    },
    {
     "name": "stdout",
     "output_type": "stream",
     "text": [
      "0.3609166 \n",
      "1 \n",
      "Mean(o): -0.4819879 ; Var(o): 12.80577 ; Var(si): 0.05140059 \n"
     ]
    },
    {
     "name": "stderr",
     "output_type": "stream",
     "text": [
      "  Iteration 53/150 (total 53)...\n",
      "\n"
     ]
    },
    {
     "name": "stdout",
     "output_type": "stream",
     "text": [
      "0.3567344 \n",
      "1 \n",
      "Mean(o): -0.4820032 ; Var(o): 12.95345 ; Var(si): 0.05200183 \n"
     ]
    },
    {
     "name": "stderr",
     "output_type": "stream",
     "text": [
      "  Iteration 54/150 (total 54)...\n",
      "\n"
     ]
    },
    {
     "name": "stdout",
     "output_type": "stream",
     "text": [
      "0.3527007 \n",
      "1 \n",
      "Mean(o): -0.4820184 ; Var(o): 13.09915 ; Var(si): 0.05259702 \n"
     ]
    },
    {
     "name": "stderr",
     "output_type": "stream",
     "text": [
      "  Iteration 55/150 (total 55)...\n",
      "\n"
     ]
    },
    {
     "name": "stdout",
     "output_type": "stream",
     "text": [
      "0.3488078 \n",
      "1 \n",
      "Mean(o): -0.4820335 ; Var(o): 13.24289 ; Var(si): 0.05318622 \n"
     ]
    },
    {
     "name": "stderr",
     "output_type": "stream",
     "text": [
      "  Iteration 56/150 (total 56)...\n",
      "\n"
     ]
    },
    {
     "name": "stdout",
     "output_type": "stream",
     "text": [
      "0.3450484 \n",
      "1 \n",
      "Mean(o): -0.4820485 ; Var(o): 13.38473 ; Var(si): 0.05376948 \n"
     ]
    },
    {
     "name": "stderr",
     "output_type": "stream",
     "text": [
      "  Iteration 57/150 (total 57)...\n",
      "\n"
     ]
    },
    {
     "name": "stdout",
     "output_type": "stream",
     "text": [
      "0.3414156 \n",
      "1 \n",
      "Mean(o): -0.4820634 ; Var(o): 13.52469 ; Var(si): 0.05434685 \n"
     ]
    },
    {
     "name": "stderr",
     "output_type": "stream",
     "text": [
      "  Iteration 58/150 (total 58)...\n",
      "\n"
     ]
    },
    {
     "name": "stdout",
     "output_type": "stream",
     "text": [
      "0.3379032 \n",
      "1 \n",
      "Mean(o): -0.4820782 ; Var(o): 13.66282 ; Var(si): 0.05491839 \n"
     ]
    },
    {
     "name": "stderr",
     "output_type": "stream",
     "text": [
      "  Iteration 59/150 (total 59)...\n",
      "\n"
     ]
    },
    {
     "name": "stdout",
     "output_type": "stream",
     "text": [
      "0.3345053 \n",
      "1 \n",
      "Mean(o): -0.482093 ; Var(o): 13.79915 ; Var(si): 0.05548414 \n"
     ]
    },
    {
     "name": "stderr",
     "output_type": "stream",
     "text": [
      "  Iteration 60/150 (total 60)...\n",
      "\n"
     ]
    },
    {
     "name": "stdout",
     "output_type": "stream",
     "text": [
      "0.3312164 \n",
      "1 \n",
      "Mean(o): -0.4821076 ; Var(o): 13.93372 ; Var(si): 0.05604417 \n"
     ]
    },
    {
     "name": "stderr",
     "output_type": "stream",
     "text": [
      "  Iteration 61/150 (total 61)...\n",
      "\n"
     ]
    },
    {
     "name": "stdout",
     "output_type": "stream",
     "text": [
      "0.3280312 \n",
      "1 \n",
      "Mean(o): -0.4821222 ; Var(o): 14.06657 ; Var(si): 0.05659854 \n"
     ]
    },
    {
     "name": "stderr",
     "output_type": "stream",
     "text": [
      "  Iteration 62/150 (total 62)...\n",
      "\n"
     ]
    },
    {
     "name": "stdout",
     "output_type": "stream",
     "text": [
      "0.3249449 \n",
      "1 \n",
      "Mean(o): -0.4821368 ; Var(o): 14.19771 ; Var(si): 0.05714728 \n"
     ]
    },
    {
     "name": "stderr",
     "output_type": "stream",
     "text": [
      "  Iteration 63/150 (total 63)...\n",
      "\n"
     ]
    },
    {
     "name": "stdout",
     "output_type": "stream",
     "text": [
      "0.321953 \n",
      "1 \n",
      "Mean(o): -0.4821512 ; Var(o): 14.32719 ; Var(si): 0.05769048 \n"
     ]
    },
    {
     "name": "stderr",
     "output_type": "stream",
     "text": [
      "  Iteration 64/150 (total 64)...\n",
      "\n"
     ]
    },
    {
     "name": "stdout",
     "output_type": "stream",
     "text": [
      "0.3190512 \n",
      "1 \n",
      "Mean(o): -0.4821656 ; Var(o): 14.45505 ; Var(si): 0.05822818 \n"
     ]
    },
    {
     "name": "stderr",
     "output_type": "stream",
     "text": [
      "  Iteration 65/150 (total 65)...\n",
      "\n"
     ]
    },
    {
     "name": "stdout",
     "output_type": "stream",
     "text": [
      "0.3162355 \n",
      "1 \n",
      "Mean(o): -0.4821799 ; Var(o): 14.5813 ; Var(si): 0.05876044 \n"
     ]
    },
    {
     "name": "stderr",
     "output_type": "stream",
     "text": [
      "  Iteration 66/150 (total 66)...\n",
      "\n"
     ]
    },
    {
     "name": "stdout",
     "output_type": "stream",
     "text": [
      "0.313502 \n",
      "1 \n",
      "Mean(o): -0.4821942 ; Var(o): 14.70598 ; Var(si): 0.05928733 \n"
     ]
    },
    {
     "name": "stderr",
     "output_type": "stream",
     "text": [
      "  Iteration 67/150 (total 67)...\n",
      "\n"
     ]
    },
    {
     "name": "stdout",
     "output_type": "stream",
     "text": [
      "0.3108473 \n",
      "1 \n",
      "Mean(o): -0.4822084 ; Var(o): 14.82911 ; Var(si): 0.05980891 \n"
     ]
    },
    {
     "name": "stderr",
     "output_type": "stream",
     "text": [
      "  Iteration 68/150 (total 68)...\n",
      "\n"
     ]
    },
    {
     "name": "stdout",
     "output_type": "stream",
     "text": [
      "0.308268 \n",
      "1 \n",
      "Mean(o): -0.4822225 ; Var(o): 14.95074 ; Var(si): 0.06032525 \n"
     ]
    },
    {
     "name": "stderr",
     "output_type": "stream",
     "text": [
      "  Iteration 69/150 (total 69)...\n",
      "\n"
     ]
    },
    {
     "name": "stdout",
     "output_type": "stream",
     "text": [
      "0.3057608 \n",
      "1 \n",
      "Mean(o): -0.4822366 ; Var(o): 15.07088 ; Var(si): 0.06083639 \n"
     ]
    },
    {
     "name": "stderr",
     "output_type": "stream",
     "text": [
      "  Iteration 70/150 (total 70)...\n",
      "\n"
     ]
    },
    {
     "name": "stdout",
     "output_type": "stream",
     "text": [
      "0.3033229 \n",
      "1 \n",
      "Mean(o): -0.4822506 ; Var(o): 15.18955 ; Var(si): 0.06134242 \n"
     ]
    },
    {
     "name": "stderr",
     "output_type": "stream",
     "text": [
      "  Iteration 71/150 (total 71)...\n",
      "\n"
     ]
    },
    {
     "name": "stdout",
     "output_type": "stream",
     "text": [
      "0.3009513 \n",
      "1 \n",
      "Mean(o): -0.4822646 ; Var(o): 15.3068 ; Var(si): 0.06184339 \n"
     ]
    },
    {
     "name": "stderr",
     "output_type": "stream",
     "text": [
      "  Iteration 72/150 (total 72)...\n",
      "\n"
     ]
    },
    {
     "name": "stdout",
     "output_type": "stream",
     "text": [
      "0.2986433 \n",
      "1 \n",
      "Mean(o): -0.4822785 ; Var(o): 15.42264 ; Var(si): 0.06233937 \n"
     ]
    },
    {
     "name": "stderr",
     "output_type": "stream",
     "text": [
      "  Iteration 73/150 (total 73)...\n",
      "\n"
     ]
    },
    {
     "name": "stdout",
     "output_type": "stream",
     "text": [
      "0.2963966 \n",
      "1 \n",
      "Mean(o): -0.4822923 ; Var(o): 15.5371 ; Var(si): 0.06283042 \n"
     ]
    },
    {
     "name": "stderr",
     "output_type": "stream",
     "text": [
      "  Iteration 74/150 (total 74)...\n",
      "\n"
     ]
    },
    {
     "name": "stdout",
     "output_type": "stream",
     "text": [
      "0.2942085 \n",
      "1 \n",
      "Mean(o): -0.4823061 ; Var(o): 15.6502 ; Var(si): 0.0633166 \n"
     ]
    },
    {
     "name": "stderr",
     "output_type": "stream",
     "text": [
      "  Iteration 75/150 (total 75)...\n",
      "\n"
     ]
    },
    {
     "name": "stdout",
     "output_type": "stream",
     "text": [
      "0.292077 \n",
      "1 \n",
      "Mean(o): -0.4823198 ; Var(o): 15.76197 ; Var(si): 0.06379798 \n"
     ]
    },
    {
     "name": "stderr",
     "output_type": "stream",
     "text": [
      "  Iteration 76/150 (total 76)...\n",
      "\n"
     ]
    },
    {
     "name": "stdout",
     "output_type": "stream",
     "text": [
      "0.2899997 \n",
      "1 \n",
      "Mean(o): -0.4823335 ; Var(o): 15.87243 ; Var(si): 0.06427463 \n"
     ]
    },
    {
     "name": "stderr",
     "output_type": "stream",
     "text": [
      "  Iteration 77/150 (total 77)...\n",
      "\n"
     ]
    },
    {
     "name": "stdout",
     "output_type": "stream",
     "text": [
      "0.2879747 \n",
      "1 \n",
      "Mean(o): -0.4823472 ; Var(o): 15.9816 ; Var(si): 0.06474659 \n"
     ]
    },
    {
     "name": "stderr",
     "output_type": "stream",
     "text": [
      "  Iteration 78/150 (total 78)...\n",
      "\n"
     ]
    },
    {
     "name": "stdout",
     "output_type": "stream",
     "text": [
      "0.286 \n",
      "1 \n",
      "Mean(o): -0.4823608 ; Var(o): 16.08951 ; Var(si): 0.06521394 \n"
     ]
    },
    {
     "name": "stderr",
     "output_type": "stream",
     "text": [
      "  Iteration 79/150 (total 79)...\n",
      "\n"
     ]
    },
    {
     "name": "stdout",
     "output_type": "stream",
     "text": [
      "0.2840737 \n",
      "1 \n",
      "Mean(o): -0.4823743 ; Var(o): 16.19617 ; Var(si): 0.06567674 \n"
     ]
    },
    {
     "name": "stderr",
     "output_type": "stream",
     "text": [
      "  Iteration 80/150 (total 80)...\n",
      "\n"
     ]
    },
    {
     "name": "stdout",
     "output_type": "stream",
     "text": [
      "0.2821941 \n",
      "1 \n",
      "Mean(o): -0.4823878 ; Var(o): 16.30161 ; Var(si): 0.06613504 \n"
     ]
    },
    {
     "name": "stderr",
     "output_type": "stream",
     "text": [
      "  Iteration 81/150 (total 81)...\n",
      "\n"
     ]
    },
    {
     "name": "stdout",
     "output_type": "stream",
     "text": [
      "0.2803595 \n",
      "1 \n",
      "Mean(o): -0.4824013 ; Var(o): 16.40586 ; Var(si): 0.0665889 \n"
     ]
    },
    {
     "name": "stderr",
     "output_type": "stream",
     "text": [
      "  Iteration 82/150 (total 82)...\n",
      "\n"
     ]
    },
    {
     "name": "stdout",
     "output_type": "stream",
     "text": [
      "0.2785683 \n",
      "1 \n",
      "Mean(o): -0.4824147 ; Var(o): 16.50891 ; Var(si): 0.06703839 \n"
     ]
    },
    {
     "name": "stderr",
     "output_type": "stream",
     "text": [
      "  Iteration 83/150 (total 83)...\n",
      "\n"
     ]
    },
    {
     "name": "stdout",
     "output_type": "stream",
     "text": [
      "0.2768189 \n",
      "1 \n",
      "Mean(o): -0.4824281 ; Var(o): 16.61081 ; Var(si): 0.06748355 \n"
     ]
    },
    {
     "name": "stderr",
     "output_type": "stream",
     "text": [
      "  Iteration 84/150 (total 84)...\n",
      "\n"
     ]
    },
    {
     "name": "stdout",
     "output_type": "stream",
     "text": [
      "0.27511 \n",
      "1 \n",
      "Mean(o): -0.4824415 ; Var(o): 16.71157 ; Var(si): 0.06792445 \n"
     ]
    },
    {
     "name": "stderr",
     "output_type": "stream",
     "text": [
      "  Iteration 85/150 (total 85)...\n",
      "\n"
     ]
    },
    {
     "name": "stdout",
     "output_type": "stream",
     "text": [
      "0.2734402 \n",
      "1 \n",
      "Mean(o): -0.4824548 ; Var(o): 16.8112 ; Var(si): 0.06836114 \n"
     ]
    },
    {
     "name": "stderr",
     "output_type": "stream",
     "text": [
      "  Iteration 86/150 (total 86)...\n",
      "\n"
     ]
    },
    {
     "name": "stdout",
     "output_type": "stream",
     "text": [
      "0.2718081 \n",
      "1 \n",
      "Mean(o): -0.482468 ; Var(o): 16.90973 ; Var(si): 0.06879367 \n"
     ]
    },
    {
     "name": "stderr",
     "output_type": "stream",
     "text": [
      "  Iteration 87/150 (total 87)...\n",
      "\n"
     ]
    },
    {
     "name": "stdout",
     "output_type": "stream",
     "text": [
      "0.2702124 \n",
      "1 \n",
      "Mean(o): -0.4824812 ; Var(o): 17.00717 ; Var(si): 0.0692221 \n"
     ]
    },
    {
     "name": "stderr",
     "output_type": "stream",
     "text": [
      "  Iteration 88/150 (total 88)...\n",
      "\n"
     ]
    },
    {
     "name": "stdout",
     "output_type": "stream",
     "text": [
      "0.268652 \n",
      "1 \n",
      "Mean(o): -0.4824944 ; Var(o): 17.10354 ; Var(si): 0.06964648 \n"
     ]
    },
    {
     "name": "stderr",
     "output_type": "stream",
     "text": [
      "  Iteration 89/150 (total 89)...\n",
      "\n"
     ]
    },
    {
     "name": "stdout",
     "output_type": "stream",
     "text": [
      "0.2671256 \n",
      "1 \n",
      "Mean(o): -0.4825076 ; Var(o): 17.19886 ; Var(si): 0.07006687 \n"
     ]
    },
    {
     "name": "stderr",
     "output_type": "stream",
     "text": [
      "  Iteration 90/150 (total 90)...\n",
      "\n"
     ]
    },
    {
     "name": "stdout",
     "output_type": "stream",
     "text": [
      "0.2656323 \n",
      "1 \n",
      "Mean(o): -0.4825207 ; Var(o): 17.29314 ; Var(si): 0.0704833 \n"
     ]
    },
    {
     "name": "stderr",
     "output_type": "stream",
     "text": [
      "  Iteration 91/150 (total 91)...\n",
      "\n"
     ]
    },
    {
     "name": "stdout",
     "output_type": "stream",
     "text": [
      "0.2641709 \n",
      "1 \n",
      "Mean(o): -0.4825338 ; Var(o): 17.38641 ; Var(si): 0.07089585 \n"
     ]
    },
    {
     "name": "stderr",
     "output_type": "stream",
     "text": [
      "  Iteration 92/150 (total 92)...\n",
      "\n"
     ]
    },
    {
     "name": "stdout",
     "output_type": "stream",
     "text": [
      "0.2627404 \n",
      "1 \n",
      "Mean(o): -0.4825468 ; Var(o): 17.47867 ; Var(si): 0.07130454 \n"
     ]
    },
    {
     "name": "stderr",
     "output_type": "stream",
     "text": [
      "  Iteration 93/150 (total 93)...\n",
      "\n"
     ]
    },
    {
     "name": "stdout",
     "output_type": "stream",
     "text": [
      "0.2613399 \n",
      "1 \n",
      "Mean(o): -0.4825598 ; Var(o): 17.56994 ; Var(si): 0.07170943 \n"
     ]
    },
    {
     "name": "stderr",
     "output_type": "stream",
     "text": [
      "  Iteration 94/150 (total 94)...\n",
      "\n"
     ]
    },
    {
     "name": "stdout",
     "output_type": "stream",
     "text": [
      "0.2599685 \n",
      "1 \n",
      "Mean(o): -0.4825728 ; Var(o): 17.66024 ; Var(si): 0.07211058 \n"
     ]
    },
    {
     "name": "stderr",
     "output_type": "stream",
     "text": [
      "  Iteration 95/150 (total 95)...\n",
      "\n"
     ]
    },
    {
     "name": "stdout",
     "output_type": "stream",
     "text": [
      "0.2586251 \n",
      "1 \n",
      "Mean(o): -0.4825858 ; Var(o): 17.74958 ; Var(si): 0.07250802 \n"
     ]
    },
    {
     "name": "stderr",
     "output_type": "stream",
     "text": [
      "  Iteration 96/150 (total 96)...\n",
      "\n"
     ]
    },
    {
     "name": "stdout",
     "output_type": "stream",
     "text": [
      "0.2573091 \n",
      "1 \n",
      "Mean(o): -0.4825987 ; Var(o): 17.83799 ; Var(si): 0.0729018 \n"
     ]
    },
    {
     "name": "stderr",
     "output_type": "stream",
     "text": [
      "  Iteration 97/150 (total 97)...\n",
      "\n"
     ]
    },
    {
     "name": "stdout",
     "output_type": "stream",
     "text": [
      "0.2560195 \n",
      "1 \n",
      "Mean(o): -0.4826116 ; Var(o): 17.92546 ; Var(si): 0.07329197 \n"
     ]
    },
    {
     "name": "stderr",
     "output_type": "stream",
     "text": [
      "  Iteration 98/150 (total 98)...\n",
      "\n"
     ]
    },
    {
     "name": "stdout",
     "output_type": "stream",
     "text": [
      "0.2547556 \n",
      "1 \n",
      "Mean(o): -0.4826244 ; Var(o): 18.01202 ; Var(si): 0.07367857 \n"
     ]
    },
    {
     "name": "stderr",
     "output_type": "stream",
     "text": [
      "  Iteration 99/150 (total 99)...\n",
      "\n"
     ]
    },
    {
     "name": "stdout",
     "output_type": "stream",
     "text": [
      "0.2535166 \n",
      "1 \n",
      "Mean(o): -0.4826373 ; Var(o): 18.09768 ; Var(si): 0.07406165 \n"
     ]
    },
    {
     "name": "stderr",
     "output_type": "stream",
     "text": [
      "  Iteration 100/150 (total 100)...\n",
      "\n"
     ]
    },
    {
     "name": "stdout",
     "output_type": "stream",
     "text": [
      "0.2523018 \n",
      "1 \n",
      "Mean(o): -0.4826501 ; Var(o): 18.18245 ; Var(si): 0.07444125 \n"
     ]
    },
    {
     "name": "stderr",
     "output_type": "stream",
     "text": [
      "  Iteration 101/150 (total 101)...\n",
      "\n"
     ]
    },
    {
     "name": "stdout",
     "output_type": "stream",
     "text": [
      "0.2511106 \n",
      "1 \n",
      "Mean(o): -0.4826628 ; Var(o): 18.26634 ; Var(si): 0.0748174 \n"
     ]
    },
    {
     "name": "stderr",
     "output_type": "stream",
     "text": [
      "  Iteration 102/150 (total 102)...\n",
      "\n"
     ]
    },
    {
     "name": "stdout",
     "output_type": "stream",
     "text": [
      "0.2499421 \n",
      "1 \n",
      "Mean(o): -0.4826756 ; Var(o): 18.34938 ; Var(si): 0.07519017 \n"
     ]
    },
    {
     "name": "stderr",
     "output_type": "stream",
     "text": [
      "  Iteration 103/150 (total 103)...\n",
      "\n"
     ]
    },
    {
     "name": "stdout",
     "output_type": "stream",
     "text": [
      "0.2487959 \n",
      "1 \n",
      "Mean(o): -0.4826883 ; Var(o): 18.43157 ; Var(si): 0.07555957 \n"
     ]
    },
    {
     "name": "stderr",
     "output_type": "stream",
     "text": [
      "  Iteration 104/150 (total 104)...\n",
      "\n"
     ]
    },
    {
     "name": "stdout",
     "output_type": "stream",
     "text": [
      "0.2476712 \n",
      "1 \n",
      "Mean(o): -0.482701 ; Var(o): 18.51292 ; Var(si): 0.07592566 \n"
     ]
    },
    {
     "name": "stderr",
     "output_type": "stream",
     "text": [
      "  Iteration 105/150 (total 105)...\n",
      "\n"
     ]
    },
    {
     "name": "stdout",
     "output_type": "stream",
     "text": [
      "0.2465675 \n",
      "1 \n",
      "Mean(o): -0.4827136 ; Var(o): 18.59345 ; Var(si): 0.07628848 \n"
     ]
    },
    {
     "name": "stderr",
     "output_type": "stream",
     "text": [
      "  Iteration 106/150 (total 106)...\n",
      "\n"
     ]
    },
    {
     "name": "stdout",
     "output_type": "stream",
     "text": [
      "0.2454841 \n",
      "1 \n",
      "Mean(o): -0.4827263 ; Var(o): 18.67317 ; Var(si): 0.07664806 \n"
     ]
    },
    {
     "name": "stderr",
     "output_type": "stream",
     "text": [
      "  Iteration 107/150 (total 107)...\n",
      "\n"
     ]
    },
    {
     "name": "stdout",
     "output_type": "stream",
     "text": [
      "0.2444206 \n",
      "1 \n",
      "Mean(o): -0.4827389 ; Var(o): 18.75208 ; Var(si): 0.07700444 \n"
     ]
    },
    {
     "name": "stderr",
     "output_type": "stream",
     "text": [
      "  Iteration 108/150 (total 108)...\n",
      "\n"
     ]
    },
    {
     "name": "stdout",
     "output_type": "stream",
     "text": [
      "0.2433764 \n",
      "1 \n",
      "Mean(o): -0.4827515 ; Var(o): 18.83021 ; Var(si): 0.07735767 \n"
     ]
    },
    {
     "name": "stderr",
     "output_type": "stream",
     "text": [
      "  Iteration 109/150 (total 109)...\n",
      "\n"
     ]
    },
    {
     "name": "stdout",
     "output_type": "stream",
     "text": [
      "0.242351 \n",
      "1 \n",
      "Mean(o): -0.482764 ; Var(o): 18.90756 ; Var(si): 0.07770777 \n"
     ]
    },
    {
     "name": "stderr",
     "output_type": "stream",
     "text": [
      "  Iteration 110/150 (total 110)...\n",
      "\n"
     ]
    },
    {
     "name": "stdout",
     "output_type": "stream",
     "text": [
      "0.2413439 \n",
      "1 \n",
      "Mean(o): -0.4827766 ; Var(o): 18.98414 ; Var(si): 0.07805479 \n"
     ]
    },
    {
     "name": "stderr",
     "output_type": "stream",
     "text": [
      "  Iteration 111/150 (total 111)...\n",
      "\n"
     ]
    },
    {
     "name": "stdout",
     "output_type": "stream",
     "text": [
      "0.2403546 \n",
      "1 \n",
      "Mean(o): -0.4827891 ; Var(o): 19.05997 ; Var(si): 0.07839876 \n"
     ]
    },
    {
     "name": "stderr",
     "output_type": "stream",
     "text": [
      "  Iteration 112/150 (total 112)...\n",
      "\n"
     ]
    },
    {
     "name": "stdout",
     "output_type": "stream",
     "text": [
      "0.2393827 \n",
      "1 \n",
      "Mean(o): -0.4828016 ; Var(o): 19.13505 ; Var(si): 0.07873971 \n"
     ]
    },
    {
     "name": "stderr",
     "output_type": "stream",
     "text": [
      "  Iteration 113/150 (total 113)...\n",
      "\n"
     ]
    },
    {
     "name": "stdout",
     "output_type": "stream",
     "text": [
      "0.2384276 \n",
      "1 \n",
      "Mean(o): -0.4828141 ; Var(o): 19.2094 ; Var(si): 0.07907769 \n"
     ]
    },
    {
     "name": "stderr",
     "output_type": "stream",
     "text": [
      "  Iteration 114/150 (total 114)...\n",
      "\n"
     ]
    },
    {
     "name": "stdout",
     "output_type": "stream",
     "text": [
      "0.2374891 \n",
      "1 \n",
      "Mean(o): -0.4828265 ; Var(o): 19.28302 ; Var(si): 0.07941273 \n"
     ]
    },
    {
     "name": "stderr",
     "output_type": "stream",
     "text": [
      "  Iteration 115/150 (total 115)...\n",
      "\n"
     ]
    },
    {
     "name": "stdout",
     "output_type": "stream",
     "text": [
      "0.2365665 \n",
      "1 \n",
      "Mean(o): -0.482839 ; Var(o): 19.35593 ; Var(si): 0.07974485 \n"
     ]
    },
    {
     "name": "stderr",
     "output_type": "stream",
     "text": [
      "  Iteration 116/150 (total 116)...\n",
      "\n"
     ]
    },
    {
     "name": "stdout",
     "output_type": "stream",
     "text": [
      "0.2356597 \n",
      "1 \n",
      "Mean(o): -0.4828514 ; Var(o): 19.42813 ; Var(si): 0.08007411 \n"
     ]
    },
    {
     "name": "stderr",
     "output_type": "stream",
     "text": [
      "  Iteration 117/150 (total 117)...\n",
      "\n"
     ]
    },
    {
     "name": "stdout",
     "output_type": "stream",
     "text": [
      "0.234768 \n",
      "1 \n",
      "Mean(o): -0.4828638 ; Var(o): 19.49963 ; Var(si): 0.08040051 \n"
     ]
    },
    {
     "name": "stderr",
     "output_type": "stream",
     "text": [
      "  Iteration 118/150 (total 118)...\n",
      "\n"
     ]
    },
    {
     "name": "stdout",
     "output_type": "stream",
     "text": [
      "0.2338913 \n",
      "1 \n",
      "Mean(o): -0.4828761 ; Var(o): 19.57045 ; Var(si): 0.08072411 \n"
     ]
    },
    {
     "name": "stderr",
     "output_type": "stream",
     "text": [
      "  Iteration 119/150 (total 119)...\n",
      "\n"
     ]
    },
    {
     "name": "stdout",
     "output_type": "stream",
     "text": [
      "0.2330291 \n",
      "1 \n",
      "Mean(o): -0.4828885 ; Var(o): 19.6406 ; Var(si): 0.08104494 \n"
     ]
    },
    {
     "name": "stderr",
     "output_type": "stream",
     "text": [
      "  Iteration 120/150 (total 120)...\n",
      "\n"
     ]
    },
    {
     "name": "stdout",
     "output_type": "stream",
     "text": [
      "0.2321811 \n",
      "1 \n",
      "Mean(o): -0.4829008 ; Var(o): 19.71007 ; Var(si): 0.08136301 \n"
     ]
    },
    {
     "name": "stderr",
     "output_type": "stream",
     "text": [
      "  Iteration 121/150 (total 121)...\n",
      "\n"
     ]
    },
    {
     "name": "stdout",
     "output_type": "stream",
     "text": [
      "0.2313469 \n",
      "1 \n",
      "Mean(o): -0.4829131 ; Var(o): 19.77888 ; Var(si): 0.08167838 \n"
     ]
    },
    {
     "name": "stderr",
     "output_type": "stream",
     "text": [
      "  Iteration 122/150 (total 122)...\n",
      "\n"
     ]
    },
    {
     "name": "stdout",
     "output_type": "stream",
     "text": [
      "0.2305262 \n",
      "1 \n",
      "Mean(o): -0.4829254 ; Var(o): 19.84705 ; Var(si): 0.08199105 \n"
     ]
    },
    {
     "name": "stderr",
     "output_type": "stream",
     "text": [
      "  Iteration 123/150 (total 123)...\n",
      "\n"
     ]
    },
    {
     "name": "stdout",
     "output_type": "stream",
     "text": [
      "0.2297187 \n",
      "1 \n",
      "Mean(o): -0.4829377 ; Var(o): 19.91457 ; Var(si): 0.08230108 \n"
     ]
    },
    {
     "name": "stderr",
     "output_type": "stream",
     "text": [
      "  Iteration 124/150 (total 124)...\n",
      "\n"
     ]
    },
    {
     "name": "stdout",
     "output_type": "stream",
     "text": [
      "0.228924 \n",
      "1 \n",
      "Mean(o): -0.4829499 ; Var(o): 19.98146 ; Var(si): 0.08260848 \n"
     ]
    },
    {
     "name": "stderr",
     "output_type": "stream",
     "text": [
      "  Iteration 125/150 (total 125)...\n",
      "\n"
     ]
    },
    {
     "name": "stdout",
     "output_type": "stream",
     "text": [
      "0.2281419 \n",
      "1 \n",
      "Mean(o): -0.4829622 ; Var(o): 20.04772 ; Var(si): 0.08291329 \n"
     ]
    },
    {
     "name": "stderr",
     "output_type": "stream",
     "text": [
      "  Iteration 126/150 (total 126)...\n",
      "\n"
     ]
    },
    {
     "name": "stdout",
     "output_type": "stream",
     "text": [
      "0.2273721 \n",
      "1 \n",
      "Mean(o): -0.4829744 ; Var(o): 20.11337 ; Var(si): 0.08321553 \n"
     ]
    },
    {
     "name": "stderr",
     "output_type": "stream",
     "text": [
      "  Iteration 127/150 (total 127)...\n",
      "\n"
     ]
    },
    {
     "name": "stdout",
     "output_type": "stream",
     "text": [
      "0.2266143 \n",
      "1 \n",
      "Mean(o): -0.4829866 ; Var(o): 20.1784 ; Var(si): 0.08351524 \n"
     ]
    },
    {
     "name": "stderr",
     "output_type": "stream",
     "text": [
      "  Iteration 128/150 (total 128)...\n",
      "\n"
     ]
    },
    {
     "name": "stdout",
     "output_type": "stream",
     "text": [
      "0.2258683 \n",
      "1 \n",
      "Mean(o): -0.4829988 ; Var(o): 20.24284 ; Var(si): 0.08381243 \n"
     ]
    },
    {
     "name": "stderr",
     "output_type": "stream",
     "text": [
      "  Iteration 129/150 (total 129)...\n",
      "\n"
     ]
    },
    {
     "name": "stdout",
     "output_type": "stream",
     "text": [
      "0.2251337 \n",
      "1 \n",
      "Mean(o): -0.4830109 ; Var(o): 20.30668 ; Var(si): 0.08410715 \n"
     ]
    },
    {
     "name": "stderr",
     "output_type": "stream",
     "text": [
      "  Iteration 130/150 (total 130)...\n",
      "\n"
     ]
    },
    {
     "name": "stdout",
     "output_type": "stream",
     "text": [
      "0.2244103 \n",
      "1 \n",
      "Mean(o): -0.4830231 ; Var(o): 20.36993 ; Var(si): 0.08439942 \n"
     ]
    },
    {
     "name": "stderr",
     "output_type": "stream",
     "text": [
      "  Iteration 131/150 (total 131)...\n",
      "\n"
     ]
    },
    {
     "name": "stdout",
     "output_type": "stream",
     "text": [
      "0.2236979 \n",
      "1 \n",
      "Mean(o): -0.4830352 ; Var(o): 20.4326 ; Var(si): 0.08468926 \n"
     ]
    },
    {
     "name": "stderr",
     "output_type": "stream",
     "text": [
      "  Iteration 132/150 (total 132)...\n",
      "\n"
     ]
    },
    {
     "name": "stdout",
     "output_type": "stream",
     "text": [
      "0.2229962 \n",
      "1 \n",
      "Mean(o): -0.4830473 ; Var(o): 20.49471 ; Var(si): 0.0849767 \n"
     ]
    },
    {
     "name": "stderr",
     "output_type": "stream",
     "text": [
      "  Iteration 133/150 (total 133)...\n",
      "\n"
     ]
    },
    {
     "name": "stdout",
     "output_type": "stream",
     "text": [
      "0.2223049 \n",
      "1 \n",
      "Mean(o): -0.4830594 ; Var(o): 20.55625 ; Var(si): 0.08526177 \n"
     ]
    },
    {
     "name": "stderr",
     "output_type": "stream",
     "text": [
      "  Iteration 134/150 (total 134)...\n",
      "\n"
     ]
    },
    {
     "name": "stdout",
     "output_type": "stream",
     "text": [
      "0.221624 \n",
      "1 \n",
      "Mean(o): -0.4830715 ; Var(o): 20.61723 ; Var(si): 0.08554449 \n"
     ]
    },
    {
     "name": "stderr",
     "output_type": "stream",
     "text": [
      "  Iteration 135/150 (total 135)...\n",
      "\n"
     ]
    },
    {
     "name": "stdout",
     "output_type": "stream",
     "text": [
      "0.220953 \n",
      "1 \n",
      "Mean(o): -0.4830836 ; Var(o): 20.67766 ; Var(si): 0.0858249 \n"
     ]
    },
    {
     "name": "stderr",
     "output_type": "stream",
     "text": [
      "  Iteration 136/150 (total 136)...\n",
      "\n"
     ]
    },
    {
     "name": "stdout",
     "output_type": "stream",
     "text": [
      "0.2202919 \n",
      "1 \n",
      "Mean(o): -0.4830956 ; Var(o): 20.73754 ; Var(si): 0.086103 \n"
     ]
    },
    {
     "name": "stderr",
     "output_type": "stream",
     "text": [
      "  Iteration 137/150 (total 137)...\n",
      "\n"
     ]
    },
    {
     "name": "stdout",
     "output_type": "stream",
     "text": [
      "0.2196404 \n",
      "1 \n",
      "Mean(o): -0.4831077 ; Var(o): 20.79689 ; Var(si): 0.08637884 \n"
     ]
    },
    {
     "name": "stderr",
     "output_type": "stream",
     "text": [
      "  Iteration 138/150 (total 138)...\n",
      "\n"
     ]
    },
    {
     "name": "stdout",
     "output_type": "stream",
     "text": [
      "0.2189983 \n",
      "1 \n",
      "Mean(o): -0.4831197 ; Var(o): 20.85571 ; Var(si): 0.08665244 \n"
     ]
    },
    {
     "name": "stderr",
     "output_type": "stream",
     "text": [
      "  Iteration 139/150 (total 139)...\n",
      "\n"
     ]
    },
    {
     "name": "stdout",
     "output_type": "stream",
     "text": [
      "0.2183655 \n",
      "1 \n",
      "Mean(o): -0.4831317 ; Var(o): 20.914 ; Var(si): 0.08692381 \n"
     ]
    },
    {
     "name": "stderr",
     "output_type": "stream",
     "text": [
      "  Iteration 140/150 (total 140)...\n",
      "\n"
     ]
    },
    {
     "name": "stdout",
     "output_type": "stream",
     "text": [
      "0.2177416 \n",
      "1 \n",
      "Mean(o): -0.4831437 ; Var(o): 20.97178 ; Var(si): 0.08719298 \n"
     ]
    },
    {
     "name": "stderr",
     "output_type": "stream",
     "text": [
      "  Iteration 141/150 (total 141)...\n",
      "\n"
     ]
    },
    {
     "name": "stdout",
     "output_type": "stream",
     "text": [
      "0.2171266 \n",
      "1 \n",
      "Mean(o): -0.4831557 ; Var(o): 21.02905 ; Var(si): 0.08745999 \n"
     ]
    },
    {
     "name": "stderr",
     "output_type": "stream",
     "text": [
      "  Iteration 142/150 (total 142)...\n",
      "\n"
     ]
    },
    {
     "name": "stdout",
     "output_type": "stream",
     "text": [
      "0.2165203 \n",
      "1 \n",
      "Mean(o): -0.4831677 ; Var(o): 21.08581 ; Var(si): 0.08772484 \n"
     ]
    },
    {
     "name": "stderr",
     "output_type": "stream",
     "text": [
      "  Iteration 143/150 (total 143)...\n",
      "\n"
     ]
    },
    {
     "name": "stdout",
     "output_type": "stream",
     "text": [
      "0.2159224 \n",
      "1 \n",
      "Mean(o): -0.4831796 ; Var(o): 21.14207 ; Var(si): 0.08798757 \n"
     ]
    },
    {
     "name": "stderr",
     "output_type": "stream",
     "text": [
      "  Iteration 144/150 (total 144)...\n",
      "\n"
     ]
    },
    {
     "name": "stdout",
     "output_type": "stream",
     "text": [
      "0.2153328 \n",
      "1 \n",
      "Mean(o): -0.4831915 ; Var(o): 21.19783 ; Var(si): 0.08824819 \n"
     ]
    },
    {
     "name": "stderr",
     "output_type": "stream",
     "text": [
      "  Iteration 145/150 (total 145)...\n",
      "\n"
     ]
    },
    {
     "name": "stdout",
     "output_type": "stream",
     "text": [
      "0.2147514 \n",
      "1 \n",
      "Mean(o): -0.4832035 ; Var(o): 21.25311 ; Var(si): 0.08850673 \n"
     ]
    },
    {
     "name": "stderr",
     "output_type": "stream",
     "text": [
      "  Iteration 146/150 (total 146)...\n",
      "\n"
     ]
    },
    {
     "name": "stdout",
     "output_type": "stream",
     "text": [
      "0.2141779 \n",
      "1 \n",
      "Mean(o): -0.4832154 ; Var(o): 21.30791 ; Var(si): 0.08876322 \n"
     ]
    },
    {
     "name": "stderr",
     "output_type": "stream",
     "text": [
      "  Iteration 147/150 (total 147)...\n",
      "\n"
     ]
    },
    {
     "name": "stdout",
     "output_type": "stream",
     "text": [
      "0.2136123 \n",
      "1 \n",
      "Mean(o): -0.4832273 ; Var(o): 21.36223 ; Var(si): 0.08901766 \n"
     ]
    },
    {
     "name": "stderr",
     "output_type": "stream",
     "text": [
      "  Iteration 148/150 (total 148)...\n",
      "\n"
     ]
    },
    {
     "name": "stdout",
     "output_type": "stream",
     "text": [
      "0.2130544 \n",
      "1 \n",
      "Mean(o): -0.4832392 ; Var(o): 21.41608 ; Var(si): 0.0892701 \n"
     ]
    },
    {
     "name": "stderr",
     "output_type": "stream",
     "text": [
      "  Iteration 149/150 (total 149)...\n",
      "\n"
     ]
    },
    {
     "name": "stdout",
     "output_type": "stream",
     "text": [
      "0.2125039 \n",
      "1 \n",
      "Mean(o): -0.483251 ; Var(o): 21.46947 ; Var(si): 0.08952053 \n"
     ]
    },
    {
     "name": "stderr",
     "output_type": "stream",
     "text": [
      "  Iteration 150/150 (total 150)...\n",
      "\n"
     ]
    },
    {
     "name": "stdout",
     "output_type": "stream",
     "text": [
      "0.2119609 \n",
      "1 \n",
      "Mean(o): -0.4832629 ; Var(o): 21.52239 ; Var(si): 0.089769 \n"
     ]
    }
   ],
   "source": [
    "## Set up GEDI model\n",
    "model <- new(\"GEDI\") # Initialize GEDI object\n",
    "model$setup(Samples = sample_identity, # Vector indicating which sample belongs to each cell\n",
    "            colData = data.frame(cell_names = colnames(spliced_combined)), # Metadata (optional)\n",
    "            M = list(spliced_combined, unspliced_combined), # Expression data as a list of two matrices, in which case they are considered as paired observations whose log-ratio must be modelled.\n",
    "            K = 20, # Number of latent variables to use\n",
    "            mode = \"Bsphere\", # Modes to use: Either Bsphere (hyperellipsoid) or Bl2 (hyperplane)\n",
    "            oi_shrinkage = 0.001 # Shrinkage multiplier for oi. In here we use 0.001, to better accommodated the mean abundance differences that exist between multiple scRNA-seq technologies.\n",
    "            ) \n",
    "model$initialize.LVs(randomSeed = 1) # initialize LVs\n",
    "model$optimize(iterations = 150) # run model with 150 iterations\n",
    "saveRDS(model, file = \"/home/ssobti/projects/mir_tud/output_data/splicing/miR/miR_gedi_model.rds\") # Saving output model"
   ]
  },
  {
   "cell_type": "code",
   "execution_count": 11,
   "metadata": {
    "execution": {
     "iopub.execute_input": "2024-03-17T06:07:21.022669Z",
     "iopub.status.busy": "2024-03-17T06:07:21.021281Z",
     "iopub.status.idle": "2024-03-17T06:07:24.064187Z",
     "shell.execute_reply": "2024-03-17T06:07:24.062504Z"
    },
    "vscode": {
     "languageId": "r"
    }
   },
   "outputs": [
    {
     "data": {
      "image/png": "[encoded data removed]",
      "text/plain": [
       "plot without title"
      ]
     },
     "metadata": {
      "image/png": {
       "height": 420,
       "width": 420
      }
     },
     "output_type": "display_data"
    },
    {
     "data": {
      "image/png": "[encoded data removed]",
      "text/plain": [
       "plot without title"
      ]
     },
     "metadata": {
      "image/png": {
       "height": 420,
       "width": 420
      }
     },
     "output_type": "display_data"
    },
    {
     "data": {
      "image/png": "[encoded data removed]",
      "text/plain": [
       "plot without title"
      ]
     },
     "metadata": {
      "image/png": {
       "height": 420,
       "width": 420
      }
     },
     "output_type": "display_data"
    },
    {
     "data": {
      "image/png": "[encoded data removed]",
      "text/plain": [
       "plot without title"
      ]
     },
     "metadata": {
      "image/png": {
       "height": 420,
       "width": 420
      }
     },
     "output_type": "display_data"
    },
    {
     "data": {
      "text/plain": [
       "$ZAo\n",
       "\n",
       "$Bi\n",
       "\n",
       "$Qi\n",
       "\n",
       "$oi\n",
       "\n",
       "$si\n",
       "\n",
       "$Rk\n",
       "NULL\n",
       "\n",
       "$sigma2\n"
      ]
     },
     "metadata": {},
     "output_type": "display_data"
    },
    {
     "data": {
      "image/png": "[encoded data removed]",
      "text/plain": [
       "plot without title"
      ]
     },
     "metadata": {
      "image/png": {
       "height": 420,
       "width": 420
      }
     },
     "output_type": "display_data"
    },
    {
     "data": {
      "image/png": "[encoded data removed]",
      "text/plain": [
       "plot without title"
      ]
     },
     "metadata": {
      "image/png": {
       "height": 420,
       "width": 420
      }
     },
     "output_type": "display_data"
    }
   ],
   "source": [
    "model$plotTracking()"
   ]
  },
  {
   "cell_type": "code",
   "execution_count": null,
   "metadata": {
    "vscode": {
     "languageId": "r"
    }
   },
   "outputs": [],
   "source": []
  }
 ],
 "metadata": {
  "kernelspec": {
   "display_name": "R",
   "language": "R",
   "name": "ir"
  },
  "language_info": {
   "codemirror_mode": "r",
   "file_extension": ".r",
   "mimetype": "text/x-r-source",
   "name": "R",
   "pygments_lexer": "r",
   "version": "4.3.3"
  }
 },
 "nbformat": 4,
 "nbformat_minor": 2
}
