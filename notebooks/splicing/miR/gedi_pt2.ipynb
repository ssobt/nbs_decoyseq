{
 "cells": [
  {
   "cell_type": "code",
   "execution_count": 1,
   "metadata": {
    "execution": {
     "iopub.execute_input": "2024-03-13T03:02:18.274706Z",
     "iopub.status.busy": "2024-03-13T03:02:18.268668Z",
     "iopub.status.idle": "2024-03-13T03:02:19.981954Z",
     "shell.execute_reply": "2024-03-13T03:02:19.979704Z"
    },
    "vscode": {
     "languageId": "r"
    }
   },
   "outputs": [],
   "source": [
    "## Notebook env: gedi (R kernel)\n",
    "## GEDI pt.2 - runs GEDI to find spliced/unspliced ratio of genes across perturbations\n",
    "\n",
    "## get the unspliced and spliced counts mtxs for each of miR_1, miR_2, miR_3\n",
    "## combine all unspliced mtxs and alle spliced mtxs into two final mtxs (save with scanpy)\n",
    "## read into R the two mtxs with scrattch.io::read_loom_dgCMatrix, input into gedi\n",
    "\n",
    "## then take imputed psi values (spliced/unspliced counts -- RNA stability) from gedi model and make violin plots of them as drawn in RM2"
   ]
  },
  {
   "cell_type": "code",
   "execution_count": 2,
   "metadata": {
    "execution": {
     "iopub.execute_input": "2024-03-13T03:02:20.043277Z",
     "iopub.status.busy": "2024-03-13T03:02:19.986935Z",
     "iopub.status.idle": "2024-03-13T03:02:56.575749Z",
     "shell.execute_reply": "2024-03-13T03:02:56.573121Z"
    },
    "vscode": {
     "languageId": "r"
    }
   },
   "outputs": [
    {
     "name": "stderr",
     "output_type": "stream",
     "text": [
      "Loading required package: DelayedArray\n",
      "\n",
      "Loading required package: stats4\n",
      "\n"
     ]
    },
    {
     "name": "stderr",
     "output_type": "stream",
     "text": [
      "Loading required package: Matrix\n",
      "\n",
      "Loading required package: BiocGenerics\n",
      "\n",
      "\n",
      "Attaching package: ‘BiocGenerics’\n",
      "\n",
      "\n",
      "The following objects are masked from ‘package:stats’:\n",
      "\n",
      "    IQR, mad, sd, var, xtabs\n",
      "\n",
      "\n",
      "The following objects are masked from ‘package:base’:\n",
      "\n",
      "    anyDuplicated, aperm, append, as.data.frame, basename, cbind,\n",
      "    colnames, dirname, do.call, duplicated, eval, evalq, Filter, Find,\n",
      "    get, grep, grepl, intersect, is.unsorted, lapply, Map, mapply,\n",
      "    match, mget, order, paste, pmax, pmax.int, pmin, pmin.int,\n",
      "    Position, rank, rbind, Reduce, rownames, sapply, setdiff, sort,\n",
      "    table, tapply, union, unique, unsplit, which.max, which.min\n",
      "\n",
      "\n",
      "Loading required package: MatrixGenerics\n",
      "\n",
      "Loading required package: matrixStats\n",
      "\n",
      "\n",
      "Attaching package: ‘MatrixGenerics’\n",
      "\n",
      "\n",
      "The following objects are masked from ‘package:matrixStats’:\n",
      "\n",
      "    colAlls, colAnyNAs, colAnys, colAvgsPerRowSet, colCollapse,\n",
      "    colCounts, colCummaxs, colCummins, colCumprods, colCumsums,\n",
      "    colDiffs, colIQRDiffs, colIQRs, colLogSumExps, colMadDiffs,\n",
      "    colMads, colMaxs, colMeans2, colMedians, colMins, colOrderStats,\n",
      "    colProds, colQuantiles, colRanges, colRanks, colSdDiffs, colSds,\n",
      "    colSums2, colTabulates, colVarDiffs, colVars, colWeightedMads,\n",
      "    colWeightedMeans, colWeightedMedians, colWeightedSds,\n",
      "    colWeightedVars, rowAlls, rowAnyNAs, rowAnys, rowAvgsPerColSet,\n",
      "    rowCollapse, rowCounts, rowCummaxs, rowCummins, rowCumprods,\n",
      "    rowCumsums, rowDiffs, rowIQRDiffs, rowIQRs, rowLogSumExps,\n",
      "    rowMadDiffs, rowMads, rowMaxs, rowMeans2, rowMedians, rowMins,\n",
      "    rowOrderStats, rowProds, rowQuantiles, rowRanges, rowRanks,\n",
      "    rowSdDiffs, rowSds, rowSums2, rowTabulates, rowVarDiffs, rowVars,\n",
      "    rowWeightedMads, rowWeightedMeans, rowWeightedMedians,\n",
      "    rowWeightedSds, rowWeightedVars\n",
      "\n",
      "\n",
      "Loading required package: S4Vectors\n",
      "\n",
      "\n",
      "Attaching package: ‘S4Vectors’\n",
      "\n",
      "\n",
      "The following objects are masked from ‘package:Matrix’:\n",
      "\n",
      "    expand, unname\n",
      "\n",
      "\n",
      "The following object is masked from ‘package:utils’:\n",
      "\n",
      "    findMatches\n",
      "\n",
      "\n",
      "The following objects are masked from ‘package:base’:\n",
      "\n",
      "    expand.grid, I, unname\n",
      "\n",
      "\n",
      "Loading required package: IRanges\n",
      "\n",
      "Loading required package: S4Arrays\n",
      "\n",
      "Loading required package: abind\n",
      "\n",
      "\n",
      "Attaching package: ‘S4Arrays’\n",
      "\n",
      "\n",
      "The following object is masked from ‘package:abind’:\n",
      "\n",
      "    abind\n",
      "\n",
      "\n",
      "The following object is masked from ‘package:base’:\n",
      "\n",
      "    rowsum\n",
      "\n",
      "\n",
      "Loading required package: SparseArray\n",
      "\n",
      "\n",
      "Attaching package: ‘DelayedArray’\n",
      "\n",
      "\n",
      "The following objects are masked from ‘package:base’:\n",
      "\n",
      "    apply, scale, sweep\n",
      "\n",
      "\n",
      "Loading required package: rhdf5\n",
      "\n",
      "\n",
      "Attaching package: ‘HDF5Array’\n",
      "\n",
      "\n",
      "The following object is masked from ‘package:rhdf5’:\n",
      "\n",
      "    h5ls\n",
      "\n",
      "\n"
     ]
    }
   ],
   "source": [
    ".libPaths('/home/ssobti/projects/mir_tud/packages/gedi_R_pkgs')\n",
    "\n",
    "## install packages below into env if not already installed\n",
    "## remotes::install_github('csglab/GEDI', lib = '/home/ssobti/projects/mir_tud/packages/gedi_R_pkgs')\n",
    "\n",
    "library(HDF5Array)\n",
    "library(ggplot2)\n",
    "library(Matrix)\n",
    "library(RColorBrewer)\n",
    "library(uwot)\n",
    "library(GEDI)\n",
    "library(SeuratWrappers)\n",
    "set.seed(43)"
   ]
  },
  {
   "cell_type": "code",
   "execution_count": 3,
   "metadata": {
    "execution": {
     "iopub.execute_input": "2024-03-13T03:02:56.585083Z",
     "iopub.status.busy": "2024-03-13T03:02:56.582567Z",
     "iopub.status.idle": "2024-03-13T03:10:59.123163Z",
     "shell.execute_reply": "2024-03-13T03:10:59.121443Z"
    },
    "vscode": {
     "languageId": "r"
    }
   },
   "outputs": [],
   "source": [
    "## load loom files\n",
    "miR_1 = ReadVelocity(file = '/home/ssobti/projects/mir_tud/output_data/splicing/velocyto/miR_1/miR_1.loom')\n",
    "miR_2 = ReadVelocity(file = '/home/ssobti/projects/mir_tud/output_data/splicing/velocyto/miR_2/miR_2.loom')\n",
    "miR_3 = ReadVelocity(file = '/home/ssobti/projects/mir_tud/output_data/splicing/velocyto/miR_3/miR_3.loom')"
   ]
  },
  {
   "cell_type": "code",
   "execution_count": 4,
   "metadata": {
    "execution": {
     "iopub.execute_input": "2024-03-13T03:10:59.164950Z",
     "iopub.status.busy": "2024-03-13T03:10:59.163073Z",
     "iopub.status.idle": "2024-03-13T03:10:59.179229Z",
     "shell.execute_reply": "2024-03-13T03:10:59.177539Z"
    },
    "vscode": {
     "languageId": "r"
    }
   },
   "outputs": [],
   "source": [
    "spliced = list(miR_1[['spliced']], miR_2[['spliced']], miR_3[['spliced']])\n",
    "unspliced = list(miR_1[['unspliced']], miR_2[['unspliced']], miR_3[['unspliced']])"
   ]
  },
  {
   "cell_type": "code",
   "execution_count": 5,
   "metadata": {
    "execution": {
     "iopub.execute_input": "2024-03-13T03:10:59.185226Z",
     "iopub.status.busy": "2024-03-13T03:10:59.183849Z",
     "iopub.status.idle": "2024-03-13T03:11:15.208709Z",
     "shell.execute_reply": "2024-03-13T03:11:15.197113Z"
    },
    "vscode": {
     "languageId": "r"
    }
   },
   "outputs": [
    {
     "name": "stderr",
     "output_type": "stream",
     "text": [
      "'as(<dgTMatrix>, \"dgCMatrix\")' is deprecated.\n",
      "Use 'as(., \"CsparseMatrix\")' instead.\n",
      "See help(\"Deprecated\") and help(\"Matrix-deprecated\").\n",
      "\n"
     ]
    }
   ],
   "source": [
    "## combine spliced and unspliced counts into two final mtxs\n",
    "## the gedi model will take sample labels within each of the two mtxs\n",
    "spliced_combined = cbind(spliced[[1]], spliced[[2]], spliced[[3]])\n",
    "unspliced_combined = cbind(unspliced[[1]], unspliced[[2]], unspliced[[3]])\n",
    "\n",
    "## filter out genes with low median UMIs from the expression data\n",
    "filtered_meta_data <- read.csv('/home/ssobti/projects/mir_tud/010523_filtered_data/miR_meta.csv', header = TRUE)\n",
    "rownames(filtered_meta_data) <- filtered_meta_data$X\n",
    "filtered_meta_data$guide <- as.character(filtered_meta_data$guide)\n",
    "\n",
    "raw_genes <- read.csv('/home/ssobti/projects/mir_tud/010523_filtered_data/miR_gene_names.csv', header = FALSE)\n",
    "raw_genes <- raw_genes$V2[-1]\n",
    "raw_genes <- as.character(raw_genes)\n",
    "\n",
    "filtered_raw_mtx <- readMM('/home/ssobti/projects/mir_tud/010523_filtered_data/miR_normalized_data.mtx')\n",
    "filtered_raw_mtx = as(filtered_raw_mtx, 'dgCMatrix')\n",
    "rownames(filtered_raw_mtx) = raw_genes\n",
    "colnames(filtered_raw_mtx) = rownames(filtered_meta_data)\n",
    "medians = sparseMatrixStats::rowMedians(filtered_raw_mtx)\n",
    "genes_to_keep = as.numeric(medians) >= 0.01\n",
    "filtered_raw_mtx <- filtered_raw_mtx[genes_to_keep,]\n",
    "\n",
    "spliced_combined = spliced_combined[rownames(filtered_raw_mtx)[rownames(filtered_raw_mtx) %in% rownames(spliced_combined)],]\n",
    "unspliced_combined = unspliced_combined[rownames(filtered_raw_mtx)[rownames(filtered_raw_mtx) %in% rownames(unspliced_combined)],]\n",
    "\n",
    "## filter out low splice/unspliced count cells and low count genes\n",
    "filtered_cols <- which(log10(colSums(spliced_combined)) > 3 & log10(colSums(unspliced_combined)) > 3)\n",
    "filtered_rows <- which(rowSums(spliced_combined) > 50 & rowSums(unspliced_combined) > 50)\n",
    "spliced_combined = spliced_combined[filtered_rows, filtered_cols]\n",
    "unspliced_combined = unspliced_combined[filtered_rows, filtered_cols]\n",
    "\n",
    "## get sample identity\n",
    "sample_identity = stringr::str_sub(colnames(spliced_combined), start = 1, end = 5)\n"
   ]
  },
  {
   "cell_type": "code",
   "execution_count": 26,
   "metadata": {
    "execution": {
     "iopub.execute_input": "2024-03-13T03:11:15.254503Z",
     "iopub.status.busy": "2024-03-13T03:11:15.247311Z",
     "iopub.status.idle": "2024-03-13T03:11:24.415394Z",
     "shell.execute_reply": "2024-03-13T03:11:24.404831Z"
    },
    "vscode": {
     "languageId": "r"
    }
   },
   "outputs": [
    {
     "data": {
      "text/html": [
       "96.4123788527931"
      ],
      "text/latex": [
       "96.4123788527931"
      ],
      "text/markdown": [
       "96.4123788527931"
      ],
      "text/plain": [
       "[1] 96.41238"
      ]
     },
     "metadata": {},
     "output_type": "display_data"
    },
    {
     "data": {
      "text/html": [
       "17.9366683970383"
      ],
      "text/latex": [
       "17.9366683970383"
      ],
      "text/markdown": [
       "17.9366683970383"
      ],
      "text/plain": [
       "[1] 17.93667"
      ]
     },
     "metadata": {},
     "output_type": "display_data"
    }
   ],
   "source": [
    "## percent of cells that remain after filtering\n",
    "100*length(filtered_cols) / ncol(cbind(spliced[[1]], spliced[[2]], spliced[[3]]))\n",
    "\n",
    "## percent of genes that remain after filtering\n",
    "100*length(filtered_rows) / nrow(cbind(spliced[[1]], spliced[[2]], spliced[[3]]))"
   ]
  },
  {
   "cell_type": "code",
   "execution_count": 7,
   "metadata": {
    "execution": {
     "iopub.execute_input": "2024-03-13T03:11:24.439262Z",
     "iopub.status.busy": "2024-03-13T03:11:24.432468Z",
     "iopub.status.idle": "2024-03-13T03:11:31.863570Z",
     "shell.execute_reply": "2024-03-13T03:11:31.861880Z"
    },
    "vscode": {
     "languageId": "r"
    }
   },
   "outputs": [
    {
     "name": "stderr",
     "output_type": "stream",
     "text": [
      "Warning message:\n",
      "“\u001b[1m\u001b[22mRemoved 11063 rows containing non-finite outside the scale range\n",
      "(`stat_bin()`).”\n"
     ]
    },
    {
     "name": "stderr",
     "output_type": "stream",
     "text": [
      "Warning message:\n",
      "“\u001b[1m\u001b[22mRemoved 2 rows containing missing values or values outside the scale range\n",
      "(`geom_bar()`).”\n"
     ]
    },
    {
     "data": {
      "image/png": "[encoded data removed]",
      "text/plain": [
       "plot without title"
      ]
     },
     "metadata": {
      "image/png": {
       "height": 420,
       "width": 420
      }
     },
     "output_type": "display_data"
    }
   ],
   "source": [
    "df = data.frame(spliced = rowSums(spliced_combined[rowSums(spliced_combined) > 50, colSums(spliced_combined) > 50]))\n",
    "ggplot(df, aes(x = spliced)) + geom_histogram(binwidth = 10) + xlim(0, 1000) + ggtitle('Spliced counts per gene')"
   ]
  },
  {
   "cell_type": "code",
   "execution_count": 8,
   "metadata": {
    "execution": {
     "iopub.execute_input": "2024-03-13T03:11:31.871095Z",
     "iopub.status.busy": "2024-03-13T03:11:31.869457Z",
     "iopub.status.idle": "2024-03-13T03:11:37.745450Z",
     "shell.execute_reply": "2024-03-13T03:11:37.736584Z"
    },
    "vscode": {
     "languageId": "r"
    }
   },
   "outputs": [
    {
     "name": "stderr",
     "output_type": "stream",
     "text": [
      "Warning message:\n",
      "“\u001b[1m\u001b[22mRemoved 42082 rows containing non-finite outside the scale range\n",
      "(`stat_bin()`).”\n"
     ]
    },
    {
     "name": "stderr",
     "output_type": "stream",
     "text": [
      "Warning message:\n",
      "“\u001b[1m\u001b[22mRemoved 2 rows containing missing values or values outside the scale range\n",
      "(`geom_bar()`).”\n"
     ]
    },
    {
     "data": {
      "image/png": "[encoded data removed]",
      "text/plain": [
       "plot without title"
      ]
     },
     "metadata": {
      "image/png": {
       "height": 420,
       "width": 420
      }
     },
     "output_type": "display_data"
    }
   ],
   "source": [
    "df2 = data.frame(spliced = colSums(spliced_combined[rowSums(spliced_combined) > 50, colSums(spliced_combined) > 50]))\n",
    "ggplot(df2, aes(x = spliced)) + geom_histogram(binwidth = 10) + xlim(0, 10000) + ggtitle('Spliced counts per cell')"
   ]
  },
  {
   "cell_type": "code",
   "execution_count": 9,
   "metadata": {
    "execution": {
     "iopub.execute_input": "2024-03-13T03:11:37.767848Z",
     "iopub.status.busy": "2024-03-13T03:11:37.764250Z",
     "iopub.status.idle": "2024-03-13T03:11:37.788366Z",
     "shell.execute_reply": "2024-03-13T03:11:37.784781Z"
    },
    "vscode": {
     "languageId": "r"
    }
   },
   "outputs": [],
   "source": [
    "rm(miR_1, miR_2, miR_3, spliced, unspliced, filtered_cols, filtered_rows, df, df2, filtered_raw_mtx)"
   ]
  },
  {
   "cell_type": "code",
   "execution_count": 10,
   "metadata": {
    "execution": {
     "iopub.execute_input": "2024-03-13T03:11:37.827900Z",
     "iopub.status.busy": "2024-03-13T03:11:37.805153Z",
     "iopub.status.idle": "2024-03-13T14:29:57.177707Z",
     "shell.execute_reply": "2024-03-13T14:29:57.174848Z"
    },
    "vscode": {
     "languageId": "r"
    }
   },
   "outputs": [
    {
     "name": "stderr",
     "output_type": "stream",
     "text": [
      "Setting up the GEDI model...\n",
      "\n"
     ]
    },
    {
     "name": "stderr",
     "output_type": "stream",
     "text": [
      "Warning message in asMethod(object):\n",
      "“sparse->dense coercion: allocating vector of size 5.2 GiB”\n"
     ]
    },
    {
     "name": "stderr",
     "output_type": "stream",
     "text": [
      "Warning message in asMethod(object):\n",
      "“sparse->dense coercion: allocating vector of size 5.2 GiB”\n"
     ]
    },
    {
     "name": "stderr",
     "output_type": "stream",
     "text": [
      "Warning message in asMethod(object):\n",
      "“sparse->dense coercion: allocating vector of size 5.2 GiB”\n"
     ]
    },
    {
     "name": "stderr",
     "output_type": "stream",
     "text": [
      "Warning message in asMethod(object):\n",
      "“sparse->dense coercion: allocating vector of size 5.2 GiB”\n"
     ]
    },
    {
     "name": "stderr",
     "output_type": "stream",
     "text": [
      "Warning message in asMethod(object):\n",
      "“sparse->dense coercion: allocating vector of size 5.2 GiB”\n"
     ]
    },
    {
     "name": "stderr",
     "output_type": "stream",
     "text": [
      "Warning message in asMethod(object):\n",
      "“sparse->dense coercion: allocating vector of size 5.2 GiB”\n"
     ]
    },
    {
     "name": "stderr",
     "output_type": "stream",
     "text": [
      "Initializing LVs...\n",
      "\n"
     ]
    },
    {
     "name": "stderr",
     "output_type": "stream",
     "text": [
      "  Initializing oi...\n",
      "\n"
     ]
    },
    {
     "name": "stderr",
     "output_type": "stream",
     "text": [
      "  Performing initial decompsition of Y...\n",
      "\n"
     ]
    },
    {
     "name": "stderr",
     "output_type": "stream",
     "text": [
      "Performing block coordinate descent optimization...\n",
      "\n"
     ]
    },
    {
     "name": "stderr",
     "output_type": "stream",
     "text": [
      "  Iteration 1/150 (total 1)...\n",
      "\n"
     ]
    },
    {
     "name": "stdout",
     "output_type": "stream",
     "text": [
      "3.124183 \n",
      "1 \n",
      "Mean(o): -0.9943117 ; Var(o): 1.40228 ; Var(si): 0.002084286 \n"
     ]
    },
    {
     "name": "stderr",
     "output_type": "stream",
     "text": [
      "  Iteration 2/150 (total 2)...\n",
      "\n"
     ]
    },
    {
     "name": "stdout",
     "output_type": "stream",
     "text": [
      "2.853827 \n",
      "1 \n",
      "Mean(o): -0.9943205 ; Var(o): 1.532667 ; Var(si): 0.00545255 \n"
     ]
    },
    {
     "name": "stderr",
     "output_type": "stream",
     "text": [
      "  Iteration 3/150 (total 3)...\n",
      "\n"
     ]
    },
    {
     "name": "stdout",
     "output_type": "stream",
     "text": [
      "2.634875 \n",
      "1 \n",
      "Mean(o): -0.9943256 ; Var(o): 1.657456 ; Var(si): 0.009739221 \n"
     ]
    },
    {
     "name": "stderr",
     "output_type": "stream",
     "text": [
      "  Iteration 4/150 (total 4)...\n",
      "\n"
     ]
    },
    {
     "name": "stdout",
     "output_type": "stream",
     "text": [
      "2.455413 \n",
      "1 \n",
      "Mean(o): -0.9943294 ; Var(o): 1.775953 ; Var(si): 0.01356738 \n"
     ]
    },
    {
     "name": "stderr",
     "output_type": "stream",
     "text": [
      "  Iteration 5/150 (total 5)...\n",
      "\n"
     ]
    },
    {
     "name": "stdout",
     "output_type": "stream",
     "text": [
      "2.307022 \n",
      "1 \n",
      "Mean(o): -0.9943327 ; Var(o): 1.887515 ; Var(si): 0.01571702 \n"
     ]
    },
    {
     "name": "stderr",
     "output_type": "stream",
     "text": [
      "  Iteration 6/150 (total 6)...\n",
      "\n"
     ]
    },
    {
     "name": "stdout",
     "output_type": "stream",
     "text": [
      "2.18197 \n",
      "1 \n",
      "Mean(o): -0.9943358 ; Var(o): 1.993046 ; Var(si): 0.01687064 \n"
     ]
    },
    {
     "name": "stderr",
     "output_type": "stream",
     "text": [
      "  Iteration 7/150 (total 7)...\n",
      "\n"
     ]
    },
    {
     "name": "stdout",
     "output_type": "stream",
     "text": [
      "2.069487 \n",
      "1 \n",
      "Mean(o): -0.994339 ; Var(o): 2.098781 ; Var(si): 0.01755074 \n"
     ]
    },
    {
     "name": "stderr",
     "output_type": "stream",
     "text": [
      "  Iteration 8/150 (total 8)...\n",
      "\n"
     ]
    },
    {
     "name": "stdout",
     "output_type": "stream",
     "text": [
      "1.964336 \n",
      "1 \n",
      "Mean(o): -0.9943421 ; Var(o): 2.20859 ; Var(si): 0.01791645 \n"
     ]
    },
    {
     "name": "stderr",
     "output_type": "stream",
     "text": [
      "  Iteration 9/150 (total 9)...\n",
      "\n"
     ]
    },
    {
     "name": "stdout",
     "output_type": "stream",
     "text": [
      "1.865424 \n",
      "1 \n",
      "Mean(o): -0.9943452 ; Var(o): 2.323206 ; Var(si): 0.01813478 \n"
     ]
    },
    {
     "name": "stderr",
     "output_type": "stream",
     "text": [
      "  Iteration 10/150 (total 10)...\n",
      "\n"
     ]
    },
    {
     "name": "stdout",
     "output_type": "stream",
     "text": [
      "1.772834 \n",
      "1 \n",
      "Mean(o): -0.9943482 ; Var(o): 2.442078 ; Var(si): 0.0183476 \n"
     ]
    },
    {
     "name": "stderr",
     "output_type": "stream",
     "text": [
      "  Iteration 11/150 (total 11)...\n",
      "\n"
     ]
    },
    {
     "name": "stdout",
     "output_type": "stream",
     "text": [
      "1.687081 \n",
      "1 \n",
      "Mean(o): -0.9943511 ; Var(o): 2.56376 ; Var(si): 0.0186187 \n"
     ]
    },
    {
     "name": "stderr",
     "output_type": "stream",
     "text": [
      "  Iteration 12/150 (total 12)...\n",
      "\n"
     ]
    },
    {
     "name": "stdout",
     "output_type": "stream",
     "text": [
      "1.608058 \n",
      "1 \n",
      "Mean(o): -0.9943538 ; Var(o): 2.687308 ; Var(si): 0.01896278 \n"
     ]
    },
    {
     "name": "stderr",
     "output_type": "stream",
     "text": [
      "  Iteration 13/150 (total 13)...\n",
      "\n"
     ]
    },
    {
     "name": "stdout",
     "output_type": "stream",
     "text": [
      "1.535306 \n",
      "1 \n",
      "Mean(o): -0.9943563 ; Var(o): 2.812205 ; Var(si): 0.01936758 \n"
     ]
    },
    {
     "name": "stderr",
     "output_type": "stream",
     "text": [
      "  Iteration 14/150 (total 14)...\n",
      "\n"
     ]
    },
    {
     "name": "stdout",
     "output_type": "stream",
     "text": [
      "1.468359 \n",
      "1 \n",
      "Mean(o): -0.9943587 ; Var(o): 2.937969 ; Var(si): 0.01980192 \n"
     ]
    },
    {
     "name": "stderr",
     "output_type": "stream",
     "text": [
      "  Iteration 15/150 (total 15)...\n",
      "\n"
     ]
    },
    {
     "name": "stdout",
     "output_type": "stream",
     "text": [
      "1.406774 \n",
      "1 \n",
      "Mean(o): -0.9943608 ; Var(o): 3.064113 ; Var(si): 0.02023334 \n"
     ]
    },
    {
     "name": "stderr",
     "output_type": "stream",
     "text": [
      "  Iteration 16/150 (total 16)...\n",
      "\n"
     ]
    },
    {
     "name": "stdout",
     "output_type": "stream",
     "text": [
      "1.35011 \n",
      "1 \n",
      "Mean(o): -0.9943627 ; Var(o): 3.190217 ; Var(si): 0.02064297 \n"
     ]
    },
    {
     "name": "stderr",
     "output_type": "stream",
     "text": [
      "  Iteration 17/150 (total 17)...\n",
      "\n"
     ]
    },
    {
     "name": "stdout",
     "output_type": "stream",
     "text": [
      "1.29793 \n",
      "1 \n",
      "Mean(o): -0.9943645 ; Var(o): 3.315944 ; Var(si): 0.02102694 \n"
     ]
    },
    {
     "name": "stderr",
     "output_type": "stream",
     "text": [
      "  Iteration 18/150 (total 18)...\n",
      "\n"
     ]
    },
    {
     "name": "stdout",
     "output_type": "stream",
     "text": [
      "1.24982 \n",
      "1 \n",
      "Mean(o): -0.994366 ; Var(o): 3.441031 ; Var(si): 0.02139048 \n"
     ]
    },
    {
     "name": "stderr",
     "output_type": "stream",
     "text": [
      "  Iteration 19/150 (total 19)...\n",
      "\n"
     ]
    },
    {
     "name": "stdout",
     "output_type": "stream",
     "text": [
      "1.205385 \n",
      "1 \n",
      "Mean(o): -0.9943673 ; Var(o): 3.565286 ; Var(si): 0.02174171 \n"
     ]
    },
    {
     "name": "stderr",
     "output_type": "stream",
     "text": [
      "  Iteration 20/150 (total 20)...\n",
      "\n"
     ]
    },
    {
     "name": "stdout",
     "output_type": "stream",
     "text": [
      "1.164263 \n",
      "1 \n",
      "Mean(o): -0.9943684 ; Var(o): 3.688586 ; Var(si): 0.02208808 \n"
     ]
    },
    {
     "name": "stderr",
     "output_type": "stream",
     "text": [
      "  Iteration 21/150 (total 21)...\n",
      "\n"
     ]
    },
    {
     "name": "stdout",
     "output_type": "stream",
     "text": [
      "1.126119 \n",
      "1 \n",
      "Mean(o): -0.9943694 ; Var(o): 3.810859 ; Var(si): 0.02243504 \n"
     ]
    },
    {
     "name": "stderr",
     "output_type": "stream",
     "text": [
      "  Iteration 22/150 (total 22)...\n",
      "\n"
     ]
    },
    {
     "name": "stdout",
     "output_type": "stream",
     "text": [
      "1.090656 \n",
      "1 \n",
      "Mean(o): -0.9943701 ; Var(o): 3.932069 ; Var(si): 0.022786 \n"
     ]
    },
    {
     "name": "stderr",
     "output_type": "stream",
     "text": [
      "  Iteration 23/150 (total 23)...\n",
      "\n"
     ]
    },
    {
     "name": "stdout",
     "output_type": "stream",
     "text": [
      "1.057606 \n",
      "1 \n",
      "Mean(o): -0.9943707 ; Var(o): 4.052204 ; Var(si): 0.02314268 \n"
     ]
    },
    {
     "name": "stderr",
     "output_type": "stream",
     "text": [
      "  Iteration 24/150 (total 24)...\n",
      "\n"
     ]
    },
    {
     "name": "stdout",
     "output_type": "stream",
     "text": [
      "1.026737 \n",
      "1 \n",
      "Mean(o): -0.9943711 ; Var(o): 4.17126 ; Var(si): 0.02350563 \n"
     ]
    },
    {
     "name": "stderr",
     "output_type": "stream",
     "text": [
      "  Iteration 25/150 (total 25)...\n",
      "\n"
     ]
    },
    {
     "name": "stdout",
     "output_type": "stream",
     "text": [
      "0.9978408 \n",
      "1 \n",
      "Mean(o): -0.9943713 ; Var(o): 4.289242 ; Var(si): 0.02387469 \n"
     ]
    },
    {
     "name": "stderr",
     "output_type": "stream",
     "text": [
      "  Iteration 26/150 (total 26)...\n",
      "\n"
     ]
    },
    {
     "name": "stdout",
     "output_type": "stream",
     "text": [
      "0.9707364 \n",
      "1 \n",
      "Mean(o): -0.9943714 ; Var(o): 4.406157 ; Var(si): 0.02424932 \n"
     ]
    },
    {
     "name": "stderr",
     "output_type": "stream",
     "text": [
      "  Iteration 27/150 (total 27)...\n",
      "\n"
     ]
    },
    {
     "name": "stdout",
     "output_type": "stream",
     "text": [
      "0.9452637 \n",
      "1 \n",
      "Mean(o): -0.9943713 ; Var(o): 4.522012 ; Var(si): 0.02462884 \n"
     ]
    },
    {
     "name": "stderr",
     "output_type": "stream",
     "text": [
      "  Iteration 28/150 (total 28)...\n",
      "\n"
     ]
    },
    {
     "name": "stdout",
     "output_type": "stream",
     "text": [
      "0.9212808 \n",
      "1 \n",
      "Mean(o): -0.994371 ; Var(o): 4.636814 ; Var(si): 0.02501254 \n"
     ]
    },
    {
     "name": "stderr",
     "output_type": "stream",
     "text": [
      "  Iteration 29/150 (total 29)...\n",
      "\n"
     ]
    },
    {
     "name": "stdout",
     "output_type": "stream",
     "text": [
      "0.8986622 \n",
      "1 \n",
      "Mean(o): -0.9943706 ; Var(o): 4.750569 ; Var(si): 0.02539977 \n"
     ]
    },
    {
     "name": "stderr",
     "output_type": "stream",
     "text": [
      "  Iteration 30/150 (total 30)...\n",
      "\n"
     ]
    },
    {
     "name": "stdout",
     "output_type": "stream",
     "text": [
      "0.8772958 \n",
      "1 \n",
      "Mean(o): -0.99437 ; Var(o): 4.863286 ; Var(si): 0.02578994 \n"
     ]
    },
    {
     "name": "stderr",
     "output_type": "stream",
     "text": [
      "  Iteration 31/150 (total 31)...\n",
      "\n"
     ]
    },
    {
     "name": "stdout",
     "output_type": "stream",
     "text": [
      "0.8570817 \n",
      "1 \n",
      "Mean(o): -0.9943693 ; Var(o): 4.974971 ; Var(si): 0.02618254 \n"
     ]
    },
    {
     "name": "stderr",
     "output_type": "stream",
     "text": [
      "  Iteration 32/150 (total 32)...\n",
      "\n"
     ]
    },
    {
     "name": "stdout",
     "output_type": "stream",
     "text": [
      "0.8379299 \n",
      "1 \n",
      "Mean(o): -0.9943685 ; Var(o): 5.085632 ; Var(si): 0.02657711 \n"
     ]
    },
    {
     "name": "stderr",
     "output_type": "stream",
     "text": [
      "  Iteration 33/150 (total 33)...\n",
      "\n"
     ]
    },
    {
     "name": "stdout",
     "output_type": "stream",
     "text": [
      "0.8197597 \n",
      "1 \n",
      "Mean(o): -0.9943675 ; Var(o): 5.195278 ; Var(si): 0.02697326 \n"
     ]
    },
    {
     "name": "stderr",
     "output_type": "stream",
     "text": [
      "  Iteration 34/150 (total 34)...\n",
      "\n"
     ]
    },
    {
     "name": "stdout",
     "output_type": "stream",
     "text": [
      "0.8024982 \n",
      "1 \n",
      "Mean(o): -0.9943664 ; Var(o): 5.303917 ; Var(si): 0.02737061 \n"
     ]
    },
    {
     "name": "stderr",
     "output_type": "stream",
     "text": [
      "  Iteration 35/150 (total 35)...\n",
      "\n"
     ]
    },
    {
     "name": "stdout",
     "output_type": "stream",
     "text": [
      "0.7860796 \n",
      "1 \n",
      "Mean(o): -0.9943652 ; Var(o): 5.411558 ; Var(si): 0.02776885 \n"
     ]
    },
    {
     "name": "stderr",
     "output_type": "stream",
     "text": [
      "  Iteration 36/150 (total 36)...\n",
      "\n"
     ]
    },
    {
     "name": "stdout",
     "output_type": "stream",
     "text": [
      "0.7704439 \n",
      "1 \n",
      "Mean(o): -0.9943639 ; Var(o): 5.518212 ; Var(si): 0.02816769 \n"
     ]
    },
    {
     "name": "stderr",
     "output_type": "stream",
     "text": [
      "  Iteration 37/150 (total 37)...\n",
      "\n"
     ]
    },
    {
     "name": "stdout",
     "output_type": "stream",
     "text": [
      "0.755537 \n",
      "1 \n",
      "Mean(o): -0.9943624 ; Var(o): 5.623889 ; Var(si): 0.02856686 \n"
     ]
    },
    {
     "name": "stderr",
     "output_type": "stream",
     "text": [
      "  Iteration 38/150 (total 38)...\n",
      "\n"
     ]
    },
    {
     "name": "stdout",
     "output_type": "stream",
     "text": [
      "0.7413094 \n",
      "1 \n",
      "Mean(o): -0.9943609 ; Var(o): 5.728598 ; Var(si): 0.02896613 \n"
     ]
    },
    {
     "name": "stderr",
     "output_type": "stream",
     "text": [
      "  Iteration 39/150 (total 39)...\n",
      "\n"
     ]
    },
    {
     "name": "stdout",
     "output_type": "stream",
     "text": [
      "0.7277159 \n",
      "1 \n",
      "Mean(o): -0.9943592 ; Var(o): 5.832351 ; Var(si): 0.02936528 \n"
     ]
    },
    {
     "name": "stderr",
     "output_type": "stream",
     "text": [
      "  Iteration 40/150 (total 40)...\n",
      "\n"
     ]
    },
    {
     "name": "stdout",
     "output_type": "stream",
     "text": [
      "0.7147153 \n",
      "1 \n",
      "Mean(o): -0.9943574 ; Var(o): 5.935157 ; Var(si): 0.02976411 \n"
     ]
    },
    {
     "name": "stderr",
     "output_type": "stream",
     "text": [
      "  Iteration 41/150 (total 41)...\n",
      "\n"
     ]
    },
    {
     "name": "stdout",
     "output_type": "stream",
     "text": [
      "0.7022698 \n",
      "1 \n",
      "Mean(o): -0.9943555 ; Var(o): 6.037029 ; Var(si): 0.03016247 \n"
     ]
    },
    {
     "name": "stderr",
     "output_type": "stream",
     "text": [
      "  Iteration 42/150 (total 42)...\n",
      "\n"
     ]
    },
    {
     "name": "stdout",
     "output_type": "stream",
     "text": [
      "0.6903447 \n",
      "1 \n",
      "Mean(o): -0.9943535 ; Var(o): 6.137977 ; Var(si): 0.03056019 \n"
     ]
    },
    {
     "name": "stderr",
     "output_type": "stream",
     "text": [
      "  Iteration 43/150 (total 43)...\n",
      "\n"
     ]
    },
    {
     "name": "stdout",
     "output_type": "stream",
     "text": [
      "0.6789083 \n",
      "1 \n",
      "Mean(o): -0.9943514 ; Var(o): 6.238011 ; Var(si): 0.03095712 \n"
     ]
    },
    {
     "name": "stderr",
     "output_type": "stream",
     "text": [
      "  Iteration 44/150 (total 44)...\n",
      "\n"
     ]
    },
    {
     "name": "stdout",
     "output_type": "stream",
     "text": [
      "0.6679311 \n",
      "1 \n",
      "Mean(o): -0.9943492 ; Var(o): 6.337142 ; Var(si): 0.03135315 \n"
     ]
    },
    {
     "name": "stderr",
     "output_type": "stream",
     "text": [
      "  Iteration 45/150 (total 45)...\n",
      "\n"
     ]
    },
    {
     "name": "stdout",
     "output_type": "stream",
     "text": [
      "0.6573862 \n",
      "1 \n",
      "Mean(o): -0.994347 ; Var(o): 6.435383 ; Var(si): 0.03174816 \n"
     ]
    },
    {
     "name": "stderr",
     "output_type": "stream",
     "text": [
      "  Iteration 46/150 (total 46)...\n",
      "\n"
     ]
    },
    {
     "name": "stdout",
     "output_type": "stream",
     "text": [
      "0.6472484 \n",
      "1 \n",
      "Mean(o): -0.9943446 ; Var(o): 6.532742 ; Var(si): 0.03214205 \n"
     ]
    },
    {
     "name": "stderr",
     "output_type": "stream",
     "text": [
      "  Iteration 47/150 (total 47)...\n",
      "\n"
     ]
    },
    {
     "name": "stdout",
     "output_type": "stream",
     "text": [
      "0.6374948 \n",
      "1 \n",
      "Mean(o): -0.9943422 ; Var(o): 6.629233 ; Var(si): 0.03253473 \n"
     ]
    },
    {
     "name": "stderr",
     "output_type": "stream",
     "text": [
      "  Iteration 48/150 (total 48)...\n",
      "\n"
     ]
    },
    {
     "name": "stdout",
     "output_type": "stream",
     "text": [
      "0.6281039 \n",
      "1 \n",
      "Mean(o): -0.9943396 ; Var(o): 6.724864 ; Var(si): 0.03292611 \n"
     ]
    },
    {
     "name": "stderr",
     "output_type": "stream",
     "text": [
      "  Iteration 49/150 (total 49)...\n",
      "\n"
     ]
    },
    {
     "name": "stdout",
     "output_type": "stream",
     "text": [
      "0.6190559 \n",
      "1 \n",
      "Mean(o): -0.994337 ; Var(o): 6.819648 ; Var(si): 0.03331613 \n"
     ]
    },
    {
     "name": "stderr",
     "output_type": "stream",
     "text": [
      "  Iteration 50/150 (total 50)...\n",
      "\n"
     ]
    },
    {
     "name": "stdout",
     "output_type": "stream",
     "text": [
      "0.6103323 \n",
      "1 \n",
      "Mean(o): -0.9943343 ; Var(o): 6.913595 ; Var(si): 0.03370472 \n"
     ]
    },
    {
     "name": "stderr",
     "output_type": "stream",
     "text": [
      "  Iteration 51/150 (total 51)...\n",
      "\n"
     ]
    },
    {
     "name": "stdout",
     "output_type": "stream",
     "text": [
      "0.601916 \n",
      "1 \n",
      "Mean(o): -0.9943316 ; Var(o): 7.006716 ; Var(si): 0.03409181 \n"
     ]
    },
    {
     "name": "stderr",
     "output_type": "stream",
     "text": [
      "  Iteration 52/150 (total 52)...\n",
      "\n"
     ]
    },
    {
     "name": "stdout",
     "output_type": "stream",
     "text": [
      "0.5937909 \n",
      "1 \n",
      "Mean(o): -0.9943287 ; Var(o): 7.099022 ; Var(si): 0.03447737 \n"
     ]
    },
    {
     "name": "stderr",
     "output_type": "stream",
     "text": [
      "  Iteration 53/150 (total 53)...\n",
      "\n"
     ]
    },
    {
     "name": "stdout",
     "output_type": "stream",
     "text": [
      "0.5859423 \n",
      "1 \n",
      "Mean(o): -0.9943258 ; Var(o): 7.190522 ; Var(si): 0.03486135 \n"
     ]
    },
    {
     "name": "stderr",
     "output_type": "stream",
     "text": [
      "  Iteration 54/150 (total 54)...\n",
      "\n"
     ]
    },
    {
     "name": "stdout",
     "output_type": "stream",
     "text": [
      "0.5783561 \n",
      "1 \n",
      "Mean(o): -0.9943229 ; Var(o): 7.281228 ; Var(si): 0.0352437 \n"
     ]
    },
    {
     "name": "stderr",
     "output_type": "stream",
     "text": [
      "  Iteration 55/150 (total 55)...\n",
      "\n"
     ]
    },
    {
     "name": "stdout",
     "output_type": "stream",
     "text": [
      "0.5710194 \n",
      "1 \n",
      "Mean(o): -0.9943198 ; Var(o): 7.37115 ; Var(si): 0.03562439 \n"
     ]
    },
    {
     "name": "stderr",
     "output_type": "stream",
     "text": [
      "  Iteration 56/150 (total 56)...\n",
      "\n"
     ]
    },
    {
     "name": "stdout",
     "output_type": "stream",
     "text": [
      "0.56392 \n",
      "1 \n",
      "Mean(o): -0.9943167 ; Var(o): 7.460299 ; Var(si): 0.03600339 \n"
     ]
    },
    {
     "name": "stderr",
     "output_type": "stream",
     "text": [
      "  Iteration 57/150 (total 57)...\n",
      "\n"
     ]
    },
    {
     "name": "stdout",
     "output_type": "stream",
     "text": [
      "0.5570465 \n",
      "1 \n",
      "Mean(o): -0.9943135 ; Var(o): 7.548684 ; Var(si): 0.03638069 \n"
     ]
    },
    {
     "name": "stderr",
     "output_type": "stream",
     "text": [
      "  Iteration 58/150 (total 58)...\n",
      "\n"
     ]
    },
    {
     "name": "stdout",
     "output_type": "stream",
     "text": [
      "0.5503884 \n",
      "1 \n",
      "Mean(o): -0.9943102 ; Var(o): 7.636316 ; Var(si): 0.03675625 \n"
     ]
    },
    {
     "name": "stderr",
     "output_type": "stream",
     "text": [
      "  Iteration 59/150 (total 59)...\n",
      "\n"
     ]
    },
    {
     "name": "stdout",
     "output_type": "stream",
     "text": [
      "0.5439355 \n",
      "1 \n",
      "Mean(o): -0.9943069 ; Var(o): 7.723205 ; Var(si): 0.03713006 \n"
     ]
    },
    {
     "name": "stderr",
     "output_type": "stream",
     "text": [
      "  Iteration 60/150 (total 60)...\n",
      "\n"
     ]
    },
    {
     "name": "stdout",
     "output_type": "stream",
     "text": [
      "0.5376784 \n",
      "1 \n",
      "Mean(o): -0.9943036 ; Var(o): 7.80936 ; Var(si): 0.03750211 \n"
     ]
    },
    {
     "name": "stderr",
     "output_type": "stream",
     "text": [
      "  Iteration 61/150 (total 61)...\n",
      "\n"
     ]
    },
    {
     "name": "stdout",
     "output_type": "stream",
     "text": [
      "0.5316083 \n",
      "1 \n",
      "Mean(o): -0.9943001 ; Var(o): 7.894792 ; Var(si): 0.03787239 \n"
     ]
    },
    {
     "name": "stderr",
     "output_type": "stream",
     "text": [
      "  Iteration 62/150 (total 62)...\n",
      "\n"
     ]
    },
    {
     "name": "stdout",
     "output_type": "stream",
     "text": [
      "0.525717 \n",
      "1 \n",
      "Mean(o): -0.9942966 ; Var(o): 7.979511 ; Var(si): 0.03824088 \n"
     ]
    },
    {
     "name": "stderr",
     "output_type": "stream",
     "text": [
      "  Iteration 63/150 (total 63)...\n",
      "\n"
     ]
    },
    {
     "name": "stdout",
     "output_type": "stream",
     "text": [
      "0.5199964 \n",
      "1 \n",
      "Mean(o): -0.9942931 ; Var(o): 8.063524 ; Var(si): 0.03860759 \n"
     ]
    },
    {
     "name": "stderr",
     "output_type": "stream",
     "text": [
      "  Iteration 64/150 (total 64)...\n",
      "\n"
     ]
    },
    {
     "name": "stdout",
     "output_type": "stream",
     "text": [
      "0.5144393 \n",
      "1 \n",
      "Mean(o): -0.9942895 ; Var(o): 8.146843 ; Var(si): 0.03897251 \n"
     ]
    },
    {
     "name": "stderr",
     "output_type": "stream",
     "text": [
      "  Iteration 65/150 (total 65)...\n",
      "\n"
     ]
    },
    {
     "name": "stdout",
     "output_type": "stream",
     "text": [
      "0.5090387 \n",
      "1 \n",
      "Mean(o): -0.9942858 ; Var(o): 8.229475 ; Var(si): 0.03933564 \n"
     ]
    },
    {
     "name": "stderr",
     "output_type": "stream",
     "text": [
      "  Iteration 66/150 (total 66)...\n",
      "\n"
     ]
    },
    {
     "name": "stdout",
     "output_type": "stream",
     "text": [
      "0.503788 \n",
      "1 \n",
      "Mean(o): -0.9942821 ; Var(o): 8.311431 ; Var(si): 0.03969698 \n"
     ]
    },
    {
     "name": "stderr",
     "output_type": "stream",
     "text": [
      "  Iteration 67/150 (total 67)...\n",
      "\n"
     ]
    },
    {
     "name": "stdout",
     "output_type": "stream",
     "text": [
      "0.4986811 \n",
      "1 \n",
      "Mean(o): -0.9942783 ; Var(o): 8.392718 ; Var(si): 0.04005654 \n"
     ]
    },
    {
     "name": "stderr",
     "output_type": "stream",
     "text": [
      "  Iteration 68/150 (total 68)...\n",
      "\n"
     ]
    },
    {
     "name": "stdout",
     "output_type": "stream",
     "text": [
      "0.4937119 \n",
      "1 \n",
      "Mean(o): -0.9942745 ; Var(o): 8.473346 ; Var(si): 0.0404143 \n"
     ]
    },
    {
     "name": "stderr",
     "output_type": "stream",
     "text": [
      "  Iteration 69/150 (total 69)...\n",
      "\n"
     ]
    },
    {
     "name": "stdout",
     "output_type": "stream",
     "text": [
      "0.488875 \n",
      "1 \n",
      "Mean(o): -0.9942707 ; Var(o): 8.553324 ; Var(si): 0.04077029 \n"
     ]
    },
    {
     "name": "stderr",
     "output_type": "stream",
     "text": [
      "  Iteration 70/150 (total 70)...\n",
      "\n"
     ]
    },
    {
     "name": "stdout",
     "output_type": "stream",
     "text": [
      "0.4841651 \n",
      "1 \n",
      "Mean(o): -0.9942667 ; Var(o): 8.632658 ; Var(si): 0.0411245 \n"
     ]
    },
    {
     "name": "stderr",
     "output_type": "stream",
     "text": [
      "  Iteration 71/150 (total 71)...\n",
      "\n"
     ]
    },
    {
     "name": "stdout",
     "output_type": "stream",
     "text": [
      "0.4795773 \n",
      "1 \n",
      "Mean(o): -0.9942628 ; Var(o): 8.711359 ; Var(si): 0.04147694 \n"
     ]
    },
    {
     "name": "stderr",
     "output_type": "stream",
     "text": [
      "  Iteration 72/150 (total 72)...\n",
      "\n"
     ]
    },
    {
     "name": "stdout",
     "output_type": "stream",
     "text": [
      "0.4751067 \n",
      "1 \n",
      "Mean(o): -0.9942588 ; Var(o): 8.789433 ; Var(si): 0.04182761 \n"
     ]
    },
    {
     "name": "stderr",
     "output_type": "stream",
     "text": [
      "  Iteration 73/150 (total 73)...\n",
      "\n"
     ]
    },
    {
     "name": "stdout",
     "output_type": "stream",
     "text": [
      "0.4707489 \n",
      "1 \n",
      "Mean(o): -0.9942547 ; Var(o): 8.866889 ; Var(si): 0.04217652 \n"
     ]
    },
    {
     "name": "stderr",
     "output_type": "stream",
     "text": [
      "  Iteration 74/150 (total 74)...\n",
      "\n"
     ]
    },
    {
     "name": "stdout",
     "output_type": "stream",
     "text": [
      "0.4664997 \n",
      "1 \n",
      "Mean(o): -0.9942506 ; Var(o): 8.943734 ; Var(si): 0.04252368 \n"
     ]
    },
    {
     "name": "stderr",
     "output_type": "stream",
     "text": [
      "  Iteration 75/150 (total 75)...\n",
      "\n"
     ]
    },
    {
     "name": "stdout",
     "output_type": "stream",
     "text": [
      "0.462355 \n",
      "1 \n",
      "Mean(o): -0.9942465 ; Var(o): 9.019977 ; Var(si): 0.0428691 \n"
     ]
    },
    {
     "name": "stderr",
     "output_type": "stream",
     "text": [
      "  Iteration 76/150 (total 76)...\n",
      "\n"
     ]
    },
    {
     "name": "stdout",
     "output_type": "stream",
     "text": [
      "0.458311 \n",
      "1 \n",
      "Mean(o): -0.9942423 ; Var(o): 9.095624 ; Var(si): 0.04321278 \n"
     ]
    },
    {
     "name": "stderr",
     "output_type": "stream",
     "text": [
      "  Iteration 77/150 (total 77)...\n",
      "\n"
     ]
    },
    {
     "name": "stdout",
     "output_type": "stream",
     "text": [
      "0.454364 \n",
      "1 \n",
      "Mean(o): -0.9942381 ; Var(o): 9.170682 ; Var(si): 0.04355473 \n"
     ]
    },
    {
     "name": "stderr",
     "output_type": "stream",
     "text": [
      "  Iteration 78/150 (total 78)...\n",
      "\n"
     ]
    },
    {
     "name": "stdout",
     "output_type": "stream",
     "text": [
      "0.4505104 \n",
      "1 \n",
      "Mean(o): -0.9942338 ; Var(o): 9.24516 ; Var(si): 0.04389496 \n"
     ]
    },
    {
     "name": "stderr",
     "output_type": "stream",
     "text": [
      "  Iteration 79/150 (total 79)...\n",
      "\n"
     ]
    },
    {
     "name": "stdout",
     "output_type": "stream",
     "text": [
      "0.4467471 \n",
      "1 \n",
      "Mean(o): -0.9942295 ; Var(o): 9.319064 ; Var(si): 0.04423348 \n"
     ]
    },
    {
     "name": "stderr",
     "output_type": "stream",
     "text": [
      "  Iteration 80/150 (total 80)...\n",
      "\n"
     ]
    },
    {
     "name": "stdout",
     "output_type": "stream",
     "text": [
      "0.4430708 \n",
      "1 \n",
      "Mean(o): -0.9942251 ; Var(o): 9.3924 ; Var(si): 0.04457029 \n"
     ]
    },
    {
     "name": "stderr",
     "output_type": "stream",
     "text": [
      "  Iteration 81/150 (total 81)...\n",
      "\n"
     ]
    },
    {
     "name": "stdout",
     "output_type": "stream",
     "text": [
      "0.4394785 \n",
      "1 \n",
      "Mean(o): -0.9942207 ; Var(o): 9.465177 ; Var(si): 0.0449054 \n"
     ]
    },
    {
     "name": "stderr",
     "output_type": "stream",
     "text": [
      "  Iteration 82/150 (total 82)...\n",
      "\n"
     ]
    },
    {
     "name": "stdout",
     "output_type": "stream",
     "text": [
      "0.4359674 \n",
      "1 \n",
      "Mean(o): -0.9942163 ; Var(o): 9.5374 ; Var(si): 0.04523883 \n"
     ]
    },
    {
     "name": "stderr",
     "output_type": "stream",
     "text": [
      "  Iteration 83/150 (total 83)...\n",
      "\n"
     ]
    },
    {
     "name": "stdout",
     "output_type": "stream",
     "text": [
      "0.4325346 \n",
      "1 \n",
      "Mean(o): -0.9942118 ; Var(o): 9.609077 ; Var(si): 0.04557058 \n"
     ]
    },
    {
     "name": "stderr",
     "output_type": "stream",
     "text": [
      "  Iteration 84/150 (total 84)...\n",
      "\n"
     ]
    },
    {
     "name": "stdout",
     "output_type": "stream",
     "text": [
      "0.4291777 \n",
      "1 \n",
      "Mean(o): -0.9942073 ; Var(o): 9.680213 ; Var(si): 0.04590065 \n"
     ]
    },
    {
     "name": "stderr",
     "output_type": "stream",
     "text": [
      "  Iteration 85/150 (total 85)...\n",
      "\n"
     ]
    },
    {
     "name": "stdout",
     "output_type": "stream",
     "text": [
      "0.4258939 \n",
      "1 \n",
      "Mean(o): -0.9942027 ; Var(o): 9.750815 ; Var(si): 0.04622907 \n"
     ]
    },
    {
     "name": "stderr",
     "output_type": "stream",
     "text": [
      "  Iteration 86/150 (total 86)...\n",
      "\n"
     ]
    },
    {
     "name": "stdout",
     "output_type": "stream",
     "text": [
      "0.4226811 \n",
      "1 \n",
      "Mean(o): -0.9941982 ; Var(o): 9.82089 ; Var(si): 0.04655583 \n"
     ]
    },
    {
     "name": "stderr",
     "output_type": "stream",
     "text": [
      "  Iteration 87/150 (total 87)...\n",
      "\n"
     ]
    },
    {
     "name": "stdout",
     "output_type": "stream",
     "text": [
      "0.4195368 \n",
      "1 \n",
      "Mean(o): -0.9941935 ; Var(o): 9.890443 ; Var(si): 0.04688095 \n"
     ]
    },
    {
     "name": "stderr",
     "output_type": "stream",
     "text": [
      "  Iteration 88/150 (total 88)...\n",
      "\n"
     ]
    },
    {
     "name": "stdout",
     "output_type": "stream",
     "text": [
      "0.4164588 \n",
      "1 \n",
      "Mean(o): -0.9941889 ; Var(o): 9.959481 ; Var(si): 0.04720444 \n"
     ]
    },
    {
     "name": "stderr",
     "output_type": "stream",
     "text": [
      "  Iteration 89/150 (total 89)...\n",
      "\n"
     ]
    },
    {
     "name": "stdout",
     "output_type": "stream",
     "text": [
      "0.4134451 \n",
      "1 \n",
      "Mean(o): -0.9941842 ; Var(o): 10.02801 ; Var(si): 0.0475263 \n"
     ]
    },
    {
     "name": "stderr",
     "output_type": "stream",
     "text": [
      "  Iteration 90/150 (total 90)...\n",
      "\n"
     ]
    },
    {
     "name": "stdout",
     "output_type": "stream",
     "text": [
      "0.4104937 \n",
      "1 \n",
      "Mean(o): -0.9941795 ; Var(o): 10.09604 ; Var(si): 0.04784655 \n"
     ]
    },
    {
     "name": "stderr",
     "output_type": "stream",
     "text": [
      "  Iteration 91/150 (total 91)...\n",
      "\n"
     ]
    },
    {
     "name": "stdout",
     "output_type": "stream",
     "text": [
      "0.4076025 \n",
      "1 \n",
      "Mean(o): -0.9941747 ; Var(o): 10.16356 ; Var(si): 0.04816519 \n"
     ]
    },
    {
     "name": "stderr",
     "output_type": "stream",
     "text": [
      "  Iteration 92/150 (total 92)...\n",
      "\n"
     ]
    },
    {
     "name": "stdout",
     "output_type": "stream",
     "text": [
      "0.4047699 \n",
      "1 \n",
      "Mean(o): -0.9941699 ; Var(o): 10.2306 ; Var(si): 0.04848224 \n"
     ]
    },
    {
     "name": "stderr",
     "output_type": "stream",
     "text": [
      "  Iteration 93/150 (total 93)...\n",
      "\n"
     ]
    },
    {
     "name": "stdout",
     "output_type": "stream",
     "text": [
      "0.4019938 \n",
      "1 \n",
      "Mean(o): -0.9941651 ; Var(o): 10.29715 ; Var(si): 0.0487977 \n"
     ]
    },
    {
     "name": "stderr",
     "output_type": "stream",
     "text": [
      "  Iteration 94/150 (total 94)...\n",
      "\n"
     ]
    },
    {
     "name": "stdout",
     "output_type": "stream",
     "text": [
      "0.3992728 \n",
      "1 \n",
      "Mean(o): -0.9941602 ; Var(o): 10.36322 ; Var(si): 0.04911159 \n"
     ]
    },
    {
     "name": "stderr",
     "output_type": "stream",
     "text": [
      "  Iteration 95/150 (total 95)...\n",
      "\n"
     ]
    },
    {
     "name": "stdout",
     "output_type": "stream",
     "text": [
      "0.3966051 \n",
      "1 \n",
      "Mean(o): -0.9941553 ; Var(o): 10.42882 ; Var(si): 0.04942391 \n"
     ]
    },
    {
     "name": "stderr",
     "output_type": "stream",
     "text": [
      "  Iteration 96/150 (total 96)...\n",
      "\n"
     ]
    },
    {
     "name": "stdout",
     "output_type": "stream",
     "text": [
      "0.3939891 \n",
      "1 \n",
      "Mean(o): -0.9941504 ; Var(o): 10.49394 ; Var(si): 0.04973468 \n"
     ]
    },
    {
     "name": "stderr",
     "output_type": "stream",
     "text": [
      "  Iteration 97/150 (total 97)...\n",
      "\n"
     ]
    },
    {
     "name": "stdout",
     "output_type": "stream",
     "text": [
      "0.3914233 \n",
      "1 \n",
      "Mean(o): -0.9941455 ; Var(o): 10.5586 ; Var(si): 0.0500439 \n"
     ]
    },
    {
     "name": "stderr",
     "output_type": "stream",
     "text": [
      "  Iteration 98/150 (total 98)...\n",
      "\n"
     ]
    },
    {
     "name": "stdout",
     "output_type": "stream",
     "text": [
      "0.3889063 \n",
      "1 \n",
      "Mean(o): -0.9941405 ; Var(o): 10.62281 ; Var(si): 0.05035159 \n"
     ]
    },
    {
     "name": "stderr",
     "output_type": "stream",
     "text": [
      "  Iteration 99/150 (total 99)...\n",
      "\n"
     ]
    },
    {
     "name": "stdout",
     "output_type": "stream",
     "text": [
      "0.3864367 \n",
      "1 \n",
      "Mean(o): -0.9941355 ; Var(o): 10.68656 ; Var(si): 0.05065775 \n"
     ]
    },
    {
     "name": "stderr",
     "output_type": "stream",
     "text": [
      "  Iteration 100/150 (total 100)...\n",
      "\n"
     ]
    },
    {
     "name": "stdout",
     "output_type": "stream",
     "text": [
      "0.3840132 \n",
      "1 \n",
      "Mean(o): -0.9941304 ; Var(o): 10.74986 ; Var(si): 0.0509624 \n"
     ]
    },
    {
     "name": "stderr",
     "output_type": "stream",
     "text": [
      "  Iteration 101/150 (total 101)...\n",
      "\n"
     ]
    },
    {
     "name": "stdout",
     "output_type": "stream",
     "text": [
      "0.3816343 \n",
      "1 \n",
      "Mean(o): -0.9941254 ; Var(o): 10.81271 ; Var(si): 0.05126555 \n"
     ]
    },
    {
     "name": "stderr",
     "output_type": "stream",
     "text": [
      "  Iteration 102/150 (total 102)...\n",
      "\n"
     ]
    },
    {
     "name": "stdout",
     "output_type": "stream",
     "text": [
      "0.3792989 \n",
      "1 \n",
      "Mean(o): -0.9941203 ; Var(o): 10.87513 ; Var(si): 0.05156721 \n"
     ]
    },
    {
     "name": "stderr",
     "output_type": "stream",
     "text": [
      "  Iteration 103/150 (total 103)...\n",
      "\n"
     ]
    },
    {
     "name": "stdout",
     "output_type": "stream",
     "text": [
      "0.3770059 \n",
      "1 \n",
      "Mean(o): -0.9941152 ; Var(o): 10.93712 ; Var(si): 0.05186738 \n"
     ]
    },
    {
     "name": "stderr",
     "output_type": "stream",
     "text": [
      "  Iteration 104/150 (total 104)...\n",
      "\n"
     ]
    },
    {
     "name": "stdout",
     "output_type": "stream",
     "text": [
      "0.3747539 \n",
      "1 \n",
      "Mean(o): -0.99411 ; Var(o): 10.99868 ; Var(si): 0.05216608 \n"
     ]
    },
    {
     "name": "stderr",
     "output_type": "stream",
     "text": [
      "  Iteration 105/150 (total 105)...\n",
      "\n"
     ]
    },
    {
     "name": "stdout",
     "output_type": "stream",
     "text": [
      "0.3725419 \n",
      "1 \n",
      "Mean(o): -0.9941048 ; Var(o): 11.05981 ; Var(si): 0.05246332 \n"
     ]
    },
    {
     "name": "stderr",
     "output_type": "stream",
     "text": [
      "  Iteration 106/150 (total 106)...\n",
      "\n"
     ]
    },
    {
     "name": "stdout",
     "output_type": "stream",
     "text": [
      "0.3703688 \n",
      "1 \n",
      "Mean(o): -0.9940996 ; Var(o): 11.12053 ; Var(si): 0.05275912 \n"
     ]
    },
    {
     "name": "stderr",
     "output_type": "stream",
     "text": [
      "  Iteration 107/150 (total 107)...\n",
      "\n"
     ]
    },
    {
     "name": "stdout",
     "output_type": "stream",
     "text": [
      "0.3682336 \n",
      "1 \n",
      "Mean(o): -0.9940944 ; Var(o): 11.18083 ; Var(si): 0.05305347 \n"
     ]
    },
    {
     "name": "stderr",
     "output_type": "stream",
     "text": [
      "  Iteration 108/150 (total 108)...\n",
      "\n"
     ]
    },
    {
     "name": "stdout",
     "output_type": "stream",
     "text": [
      "0.3661353 \n",
      "1 \n",
      "Mean(o): -0.9940891 ; Var(o): 11.24073 ; Var(si): 0.0533464 \n"
     ]
    },
    {
     "name": "stderr",
     "output_type": "stream",
     "text": [
      "  Iteration 109/150 (total 109)...\n",
      "\n"
     ]
    },
    {
     "name": "stdout",
     "output_type": "stream",
     "text": [
      "0.3640729 \n",
      "1 \n",
      "Mean(o): -0.9940838 ; Var(o): 11.30021 ; Var(si): 0.05363791 \n"
     ]
    },
    {
     "name": "stderr",
     "output_type": "stream",
     "text": [
      "  Iteration 110/150 (total 110)...\n",
      "\n"
     ]
    },
    {
     "name": "stdout",
     "output_type": "stream",
     "text": [
      "0.3620455 \n",
      "1 \n",
      "Mean(o): -0.9940785 ; Var(o): 11.3593 ; Var(si): 0.05392802 \n"
     ]
    },
    {
     "name": "stderr",
     "output_type": "stream",
     "text": [
      "  Iteration 111/150 (total 111)...\n",
      "\n"
     ]
    },
    {
     "name": "stdout",
     "output_type": "stream",
     "text": [
      "0.3600521 \n",
      "1 \n",
      "Mean(o): -0.9940732 ; Var(o): 11.41799 ; Var(si): 0.05421673 \n"
     ]
    },
    {
     "name": "stderr",
     "output_type": "stream",
     "text": [
      "  Iteration 112/150 (total 112)...\n",
      "\n"
     ]
    },
    {
     "name": "stdout",
     "output_type": "stream",
     "text": [
      "0.3580919 \n",
      "1 \n",
      "Mean(o): -0.9940678 ; Var(o): 11.4763 ; Var(si): 0.05450406 \n"
     ]
    },
    {
     "name": "stderr",
     "output_type": "stream",
     "text": [
      "  Iteration 113/150 (total 113)...\n",
      "\n"
     ]
    },
    {
     "name": "stdout",
     "output_type": "stream",
     "text": [
      "0.3561641 \n",
      "1 \n",
      "Mean(o): -0.9940624 ; Var(o): 11.53421 ; Var(si): 0.05479001 \n"
     ]
    },
    {
     "name": "stderr",
     "output_type": "stream",
     "text": [
      "  Iteration 114/150 (total 114)...\n",
      "\n"
     ]
    },
    {
     "name": "stdout",
     "output_type": "stream",
     "text": [
      "0.3542678 \n",
      "1 \n",
      "Mean(o): -0.994057 ; Var(o): 11.59174 ; Var(si): 0.05507461 \n"
     ]
    },
    {
     "name": "stderr",
     "output_type": "stream",
     "text": [
      "  Iteration 115/150 (total 115)...\n",
      "\n"
     ]
    },
    {
     "name": "stdout",
     "output_type": "stream",
     "text": [
      "0.3524022 \n",
      "1 \n",
      "Mean(o): -0.9940516 ; Var(o): 11.6489 ; Var(si): 0.05535785 \n"
     ]
    },
    {
     "name": "stderr",
     "output_type": "stream",
     "text": [
      "  Iteration 116/150 (total 116)...\n",
      "\n"
     ]
    },
    {
     "name": "stdout",
     "output_type": "stream",
     "text": [
      "0.3505666 \n",
      "1 \n",
      "Mean(o): -0.9940461 ; Var(o): 11.70568 ; Var(si): 0.05563975 \n"
     ]
    },
    {
     "name": "stderr",
     "output_type": "stream",
     "text": [
      "  Iteration 117/150 (total 117)...\n",
      "\n"
     ]
    },
    {
     "name": "stdout",
     "output_type": "stream",
     "text": [
      "0.3487603 \n",
      "1 \n",
      "Mean(o): -0.9940406 ; Var(o): 11.76209 ; Var(si): 0.05592032 \n"
     ]
    },
    {
     "name": "stderr",
     "output_type": "stream",
     "text": [
      "  Iteration 118/150 (total 118)...\n",
      "\n"
     ]
    },
    {
     "name": "stdout",
     "output_type": "stream",
     "text": [
      "0.3469825 \n",
      "1 \n",
      "Mean(o): -0.9940351 ; Var(o): 11.81813 ; Var(si): 0.05619958 \n"
     ]
    },
    {
     "name": "stderr",
     "output_type": "stream",
     "text": [
      "  Iteration 119/150 (total 119)...\n",
      "\n"
     ]
    },
    {
     "name": "stdout",
     "output_type": "stream",
     "text": [
      "0.3452326 \n",
      "1 \n",
      "Mean(o): -0.9940296 ; Var(o): 11.87381 ; Var(si): 0.05647752 \n"
     ]
    },
    {
     "name": "stderr",
     "output_type": "stream",
     "text": [
      "  Iteration 120/150 (total 120)...\n",
      "\n"
     ]
    },
    {
     "name": "stdout",
     "output_type": "stream",
     "text": [
      "0.3435098 \n",
      "1 \n",
      "Mean(o): -0.994024 ; Var(o): 11.92914 ; Var(si): 0.05675417 \n"
     ]
    },
    {
     "name": "stderr",
     "output_type": "stream",
     "text": [
      "  Iteration 121/150 (total 121)...\n",
      "\n"
     ]
    },
    {
     "name": "stdout",
     "output_type": "stream",
     "text": [
      "0.3418136 \n",
      "1 \n",
      "Mean(o): -0.9940184 ; Var(o): 11.98411 ; Var(si): 0.05702953 \n"
     ]
    },
    {
     "name": "stderr",
     "output_type": "stream",
     "text": [
      "  Iteration 122/150 (total 122)...\n",
      "\n"
     ]
    },
    {
     "name": "stdout",
     "output_type": "stream",
     "text": [
      "0.3401432 \n",
      "1 \n",
      "Mean(o): -0.9940128 ; Var(o): 12.03873 ; Var(si): 0.05730361 \n"
     ]
    },
    {
     "name": "stderr",
     "output_type": "stream",
     "text": [
      "  Iteration 123/150 (total 123)...\n",
      "\n"
     ]
    },
    {
     "name": "stdout",
     "output_type": "stream",
     "text": [
      "0.3384982 \n",
      "1 \n",
      "Mean(o): -0.9940072 ; Var(o): 12.093 ; Var(si): 0.05757643 \n"
     ]
    },
    {
     "name": "stderr",
     "output_type": "stream",
     "text": [
      "  Iteration 124/150 (total 124)...\n",
      "\n"
     ]
    },
    {
     "name": "stdout",
     "output_type": "stream",
     "text": [
      "0.3368778 \n",
      "1 \n",
      "Mean(o): -0.9940016 ; Var(o): 12.14693 ; Var(si): 0.05784799 \n"
     ]
    },
    {
     "name": "stderr",
     "output_type": "stream",
     "text": [
      "  Iteration 125/150 (total 125)...\n",
      "\n"
     ]
    },
    {
     "name": "stdout",
     "output_type": "stream",
     "text": [
      "0.3352816 \n",
      "1 \n",
      "Mean(o): -0.9939959 ; Var(o): 12.20052 ; Var(si): 0.05811831 \n"
     ]
    },
    {
     "name": "stderr",
     "output_type": "stream",
     "text": [
      "  Iteration 126/150 (total 126)...\n",
      "\n"
     ]
    },
    {
     "name": "stdout",
     "output_type": "stream",
     "text": [
      "0.333709 \n",
      "1 \n",
      "Mean(o): -0.9939902 ; Var(o): 12.25378 ; Var(si): 0.05838739 \n"
     ]
    },
    {
     "name": "stderr",
     "output_type": "stream",
     "text": [
      "  Iteration 127/150 (total 127)...\n",
      "\n"
     ]
    },
    {
     "name": "stdout",
     "output_type": "stream",
     "text": [
      "0.3321594 \n",
      "1 \n",
      "Mean(o): -0.9939845 ; Var(o): 12.30671 ; Var(si): 0.05865525 \n"
     ]
    },
    {
     "name": "stderr",
     "output_type": "stream",
     "text": [
      "  Iteration 128/150 (total 128)...\n",
      "\n"
     ]
    },
    {
     "name": "stdout",
     "output_type": "stream",
     "text": [
      "0.3306323 \n",
      "1 \n",
      "Mean(o): -0.9939788 ; Var(o): 12.35931 ; Var(si): 0.05892189 \n"
     ]
    },
    {
     "name": "stderr",
     "output_type": "stream",
     "text": [
      "  Iteration 129/150 (total 129)...\n",
      "\n"
     ]
    },
    {
     "name": "stdout",
     "output_type": "stream",
     "text": [
      "0.3291272 \n",
      "1 \n",
      "Mean(o): -0.993973 ; Var(o): 12.41158 ; Var(si): 0.05918733 \n"
     ]
    },
    {
     "name": "stderr",
     "output_type": "stream",
     "text": [
      "  Iteration 130/150 (total 130)...\n",
      "\n"
     ]
    },
    {
     "name": "stdout",
     "output_type": "stream",
     "text": [
      "0.3276437 \n",
      "1 \n",
      "Mean(o): -0.9939673 ; Var(o): 12.46354 ; Var(si): 0.05945157 \n"
     ]
    },
    {
     "name": "stderr",
     "output_type": "stream",
     "text": [
      "  Iteration 131/150 (total 131)...\n",
      "\n"
     ]
    },
    {
     "name": "stdout",
     "output_type": "stream",
     "text": [
      "0.3261812 \n",
      "1 \n",
      "Mean(o): -0.9939615 ; Var(o): 12.51518 ; Var(si): 0.05971463 \n"
     ]
    },
    {
     "name": "stderr",
     "output_type": "stream",
     "text": [
      "  Iteration 132/150 (total 132)...\n",
      "\n"
     ]
    },
    {
     "name": "stdout",
     "output_type": "stream",
     "text": [
      "0.3247394 \n",
      "1 \n",
      "Mean(o): -0.9939557 ; Var(o): 12.5665 ; Var(si): 0.05997651 \n"
     ]
    },
    {
     "name": "stderr",
     "output_type": "stream",
     "text": [
      "  Iteration 133/150 (total 133)...\n",
      "\n"
     ]
    },
    {
     "name": "stdout",
     "output_type": "stream",
     "text": [
      "0.3233176 \n",
      "1 \n",
      "Mean(o): -0.9939498 ; Var(o): 12.61751 ; Var(si): 0.06023723 \n"
     ]
    },
    {
     "name": "stderr",
     "output_type": "stream",
     "text": [
      "  Iteration 134/150 (total 134)...\n",
      "\n"
     ]
    },
    {
     "name": "stdout",
     "output_type": "stream",
     "text": [
      "0.3219156 \n",
      "1 \n",
      "Mean(o): -0.993944 ; Var(o): 12.66822 ; Var(si): 0.06049679 \n"
     ]
    },
    {
     "name": "stderr",
     "output_type": "stream",
     "text": [
      "  Iteration 135/150 (total 135)...\n",
      "\n"
     ]
    },
    {
     "name": "stdout",
     "output_type": "stream",
     "text": [
      "0.3205328 \n",
      "1 \n",
      "Mean(o): -0.9939381 ; Var(o): 12.71862 ; Var(si): 0.06075521 \n"
     ]
    },
    {
     "name": "stderr",
     "output_type": "stream",
     "text": [
      "  Iteration 136/150 (total 136)...\n",
      "\n"
     ]
    },
    {
     "name": "stdout",
     "output_type": "stream",
     "text": [
      "0.3191689 \n",
      "1 \n",
      "Mean(o): -0.9939322 ; Var(o): 12.76872 ; Var(si): 0.06101249 \n"
     ]
    },
    {
     "name": "stderr",
     "output_type": "stream",
     "text": [
      "  Iteration 137/150 (total 137)...\n",
      "\n"
     ]
    },
    {
     "name": "stdout",
     "output_type": "stream",
     "text": [
      "0.3178235 \n",
      "1 \n",
      "Mean(o): -0.9939263 ; Var(o): 12.81852 ; Var(si): 0.06126865 \n"
     ]
    },
    {
     "name": "stderr",
     "output_type": "stream",
     "text": [
      "  Iteration 138/150 (total 138)...\n",
      "\n"
     ]
    },
    {
     "name": "stdout",
     "output_type": "stream",
     "text": [
      "0.3164962 \n",
      "1 \n",
      "Mean(o): -0.9939204 ; Var(o): 12.86803 ; Var(si): 0.06152369 \n"
     ]
    },
    {
     "name": "stderr",
     "output_type": "stream",
     "text": [
      "  Iteration 139/150 (total 139)...\n",
      "\n"
     ]
    },
    {
     "name": "stdout",
     "output_type": "stream",
     "text": [
      "0.3151865 \n",
      "1 \n",
      "Mean(o): -0.9939145 ; Var(o): 12.91725 ; Var(si): 0.06177762 \n"
     ]
    },
    {
     "name": "stderr",
     "output_type": "stream",
     "text": [
      "  Iteration 140/150 (total 140)...\n",
      "\n"
     ]
    },
    {
     "name": "stdout",
     "output_type": "stream",
     "text": [
      "0.3138943 \n",
      "1 \n",
      "Mean(o): -0.9939085 ; Var(o): 12.96618 ; Var(si): 0.06203045 \n"
     ]
    },
    {
     "name": "stderr",
     "output_type": "stream",
     "text": [
      "  Iteration 141/150 (total 141)...\n",
      "\n"
     ]
    },
    {
     "name": "stdout",
     "output_type": "stream",
     "text": [
      "0.3126189 \n",
      "1 \n",
      "Mean(o): -0.9939025 ; Var(o): 13.01482 ; Var(si): 0.06228219 \n"
     ]
    },
    {
     "name": "stderr",
     "output_type": "stream",
     "text": [
      "  Iteration 142/150 (total 142)...\n",
      "\n"
     ]
    },
    {
     "name": "stdout",
     "output_type": "stream",
     "text": [
      "0.3113603 \n",
      "1 \n",
      "Mean(o): -0.9938965 ; Var(o): 13.06319 ; Var(si): 0.06253285 \n"
     ]
    },
    {
     "name": "stderr",
     "output_type": "stream",
     "text": [
      "  Iteration 143/150 (total 143)...\n",
      "\n"
     ]
    },
    {
     "name": "stdout",
     "output_type": "stream",
     "text": [
      "0.3101179 \n",
      "1 \n",
      "Mean(o): -0.9938905 ; Var(o): 13.11127 ; Var(si): 0.06278244 \n"
     ]
    },
    {
     "name": "stderr",
     "output_type": "stream",
     "text": [
      "  Iteration 144/150 (total 144)...\n",
      "\n"
     ]
    },
    {
     "name": "stdout",
     "output_type": "stream",
     "text": [
      "0.3088915 \n",
      "1 \n",
      "Mean(o): -0.9938845 ; Var(o): 13.15908 ; Var(si): 0.06303097 \n"
     ]
    },
    {
     "name": "stderr",
     "output_type": "stream",
     "text": [
      "  Iteration 145/150 (total 145)...\n",
      "\n"
     ]
    },
    {
     "name": "stdout",
     "output_type": "stream",
     "text": [
      "0.3076807 \n",
      "1 \n",
      "Mean(o): -0.9938784 ; Var(o): 13.20661 ; Var(si): 0.06327844 \n"
     ]
    },
    {
     "name": "stderr",
     "output_type": "stream",
     "text": [
      "  Iteration 146/150 (total 146)...\n",
      "\n"
     ]
    },
    {
     "name": "stdout",
     "output_type": "stream",
     "text": [
      "0.3064853 \n",
      "1 \n",
      "Mean(o): -0.9938723 ; Var(o): 13.25387 ; Var(si): 0.06352487 \n"
     ]
    },
    {
     "name": "stderr",
     "output_type": "stream",
     "text": [
      "  Iteration 147/150 (total 147)...\n",
      "\n"
     ]
    },
    {
     "name": "stdout",
     "output_type": "stream",
     "text": [
      "0.3053049 \n",
      "1 \n",
      "Mean(o): -0.9938662 ; Var(o): 13.30087 ; Var(si): 0.06377027 \n"
     ]
    },
    {
     "name": "stderr",
     "output_type": "stream",
     "text": [
      "  Iteration 148/150 (total 148)...\n",
      "\n"
     ]
    },
    {
     "name": "stdout",
     "output_type": "stream",
     "text": [
      "0.3041393 \n",
      "1 \n",
      "Mean(o): -0.9938601 ; Var(o): 13.3476 ; Var(si): 0.06401463 \n"
     ]
    },
    {
     "name": "stderr",
     "output_type": "stream",
     "text": [
      "  Iteration 149/150 (total 149)...\n",
      "\n"
     ]
    },
    {
     "name": "stdout",
     "output_type": "stream",
     "text": [
      "0.3029881 \n",
      "1 \n",
      "Mean(o): -0.993854 ; Var(o): 13.39407 ; Var(si): 0.06425798 \n"
     ]
    },
    {
     "name": "stderr",
     "output_type": "stream",
     "text": [
      "  Iteration 150/150 (total 150)...\n",
      "\n"
     ]
    },
    {
     "name": "stdout",
     "output_type": "stream",
     "text": [
      "0.301851 \n",
      "1 \n",
      "Mean(o): -0.9938479 ; Var(o): 13.44027 ; Var(si): 0.06450032 \n"
     ]
    }
   ],
   "source": [
    "## Set up GEDI model\n",
    "model <- new(\"GEDI\") # Initialize GEDI object\n",
    "model$setup(Samples = sample_identity, # Vector indicating which sample belongs to each cell\n",
    "            colData = data.frame(cell_names = colnames(spliced_combined)), # Metadata (optional)\n",
    "            M = list(spliced_combined, unspliced_combined), # Expression data as a list of two matrices, in which case they are considered as paired observations whose log-ratio must be modelled.\n",
    "            K = 20, # Number of latent variables to use\n",
    "            mode = \"Bsphere\", # Modes to use: Either Bsphere (hyperellipsoid) or Bl2 (hyperplane)\n",
    "            oi_shrinkage = 0.001 # Shrinkage multiplier for oi. In here we use 0.001, to better accommodated the mean abundance differences that exist between multiple scRNA-seq technologies.\n",
    "            ) \n",
    "model$initialize.LVs(randomSeed = 1) # initialize LVs\n",
    "model$optimize(iterations = 150) # run model with 150 iterations\n",
    "saveRDS(model, file = \"/home/ssobti/projects/mir_tud/output_data/splicing/miR/miR_gedi_model.rds\") # Saving output model"
   ]
  },
  {
   "cell_type": "code",
   "execution_count": null,
   "metadata": {
    "vscode": {
     "languageId": "r"
    }
   },
   "outputs": [],
   "source": [
    "model$plotTracking()"
   ]
  },
  {
   "cell_type": "code",
   "execution_count": null,
   "metadata": {
    "vscode": {
     "languageId": "r"
    }
   },
   "outputs": [],
   "source": []
  }
 ],
 "metadata": {
  "kernelspec": {
   "display_name": "R",
   "language": "R",
   "name": "ir"
  },
  "language_info": {
   "codemirror_mode": "r",
   "file_extension": ".r",
   "mimetype": "text/x-r-source",
   "name": "R",
   "pygments_lexer": "r",
   "version": "4.3.3"
  }
 },
 "nbformat": 4,
 "nbformat_minor": 2
}
