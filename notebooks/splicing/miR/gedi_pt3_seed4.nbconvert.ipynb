{
 "cells": [
  {
   "cell_type": "code",
   "execution_count": 1,
   "metadata": {
    "execution": {
     "iopub.execute_input": "2024-03-18T05:24:02.336930Z",
     "iopub.status.busy": "2024-03-18T05:24:02.333716Z",
     "iopub.status.idle": "2024-03-18T05:24:02.364555Z",
     "shell.execute_reply": "2024-03-18T05:24:02.362729Z"
    },
    "vscode": {
     "languageId": "r"
    }
   },
   "outputs": [],
   "source": [
    "## Notebook env: gedi (R kernel)\n",
    "## GEDI pt.3 - runs GEDI to find spliced/unspliced ratio of genes across perturbations\n",
    "## this notebook continues the analysis with sampling cells per guide to remove bias from high cell count guides"
   ]
  },
  {
   "cell_type": "code",
   "execution_count": 2,
   "metadata": {
    "execution": {
     "iopub.execute_input": "2024-03-18T05:24:02.399393Z",
     "iopub.status.busy": "2024-03-18T05:24:02.368409Z",
     "iopub.status.idle": "2024-03-18T05:24:10.701582Z",
     "shell.execute_reply": "2024-03-18T05:24:10.699529Z"
    },
    "vscode": {
     "languageId": "r"
    }
   },
   "outputs": [
    {
     "name": "stderr",
     "output_type": "stream",
     "text": [
      "\n",
      "Attaching package: ‘dplyr’\n",
      "\n",
      "\n"
     ]
    },
    {
     "name": "stderr",
     "output_type": "stream",
     "text": [
      "The following objects are masked from ‘package:stats’:\n",
      "\n",
      "    filter, lag\n",
      "\n",
      "\n"
     ]
    },
    {
     "name": "stderr",
     "output_type": "stream",
     "text": [
      "The following objects are masked from ‘package:base’:\n",
      "\n",
      "    intersect, setdiff, setequal, union\n",
      "\n",
      "\n"
     ]
    },
    {
     "name": "stderr",
     "output_type": "stream",
     "text": [
      "Loading required package: SeuratObject\n",
      "\n"
     ]
    },
    {
     "name": "stderr",
     "output_type": "stream",
     "text": [
      "Loading required package: sp\n",
      "\n"
     ]
    },
    {
     "name": "stderr",
     "output_type": "stream",
     "text": [
      "\n",
      "Attaching package: ‘SeuratObject’\n",
      "\n",
      "\n"
     ]
    },
    {
     "name": "stderr",
     "output_type": "stream",
     "text": [
      "The following object is masked from ‘package:base’:\n",
      "\n",
      "    intersect\n",
      "\n",
      "\n"
     ]
    },
    {
     "name": "stderr",
     "output_type": "stream",
     "text": [
      "Loading required package: DelayedArray\n",
      "\n"
     ]
    },
    {
     "name": "stderr",
     "output_type": "stream",
     "text": [
      "Loading required package: stats4\n",
      "\n"
     ]
    },
    {
     "name": "stderr",
     "output_type": "stream",
     "text": [
      "Loading required package: Matrix\n",
      "\n"
     ]
    },
    {
     "name": "stderr",
     "output_type": "stream",
     "text": [
      "\n",
      "Attaching package: ‘Matrix’\n",
      "\n",
      "\n"
     ]
    },
    {
     "name": "stderr",
     "output_type": "stream",
     "text": [
      "The following objects are masked from ‘package:tidyr’:\n",
      "\n",
      "    expand, pack, unpack\n",
      "\n",
      "\n"
     ]
    },
    {
     "name": "stderr",
     "output_type": "stream",
     "text": [
      "Loading required package: BiocGenerics\n",
      "\n"
     ]
    },
    {
     "name": "stderr",
     "output_type": "stream",
     "text": [
      "\n",
      "Attaching package: ‘BiocGenerics’\n",
      "\n",
      "\n"
     ]
    },
    {
     "name": "stderr",
     "output_type": "stream",
     "text": [
      "The following object is masked from ‘package:SeuratObject’:\n",
      "\n",
      "    intersect\n",
      "\n",
      "\n"
     ]
    },
    {
     "name": "stderr",
     "output_type": "stream",
     "text": [
      "The following objects are masked from ‘package:dplyr’:\n",
      "\n",
      "    combine, intersect, setdiff, union\n",
      "\n",
      "\n"
     ]
    },
    {
     "name": "stderr",
     "output_type": "stream",
     "text": [
      "The following objects are masked from ‘package:stats’:\n",
      "\n",
      "    IQR, mad, sd, var, xtabs\n",
      "\n",
      "\n"
     ]
    },
    {
     "name": "stderr",
     "output_type": "stream",
     "text": [
      "The following objects are masked from ‘package:base’:\n",
      "\n",
      "    anyDuplicated, aperm, append, as.data.frame, basename, cbind,\n",
      "    colnames, dirname, do.call, duplicated, eval, evalq, Filter, Find,\n",
      "    get, grep, grepl, intersect, is.unsorted, lapply, Map, mapply,\n",
      "    match, mget, order, paste, pmax, pmax.int, pmin, pmin.int,\n",
      "    Position, rank, rbind, Reduce, rownames, sapply, setdiff, sort,\n",
      "    table, tapply, union, unique, unsplit, which.max, which.min\n",
      "\n",
      "\n"
     ]
    },
    {
     "name": "stderr",
     "output_type": "stream",
     "text": [
      "Loading required package: MatrixGenerics\n",
      "\n"
     ]
    },
    {
     "name": "stderr",
     "output_type": "stream",
     "text": [
      "Loading required package: matrixStats\n",
      "\n"
     ]
    },
    {
     "name": "stderr",
     "output_type": "stream",
     "text": [
      "\n",
      "Attaching package: ‘matrixStats’\n",
      "\n",
      "\n"
     ]
    },
    {
     "name": "stderr",
     "output_type": "stream",
     "text": [
      "The following object is masked from ‘package:dplyr’:\n",
      "\n",
      "    count\n",
      "\n",
      "\n"
     ]
    },
    {
     "name": "stderr",
     "output_type": "stream",
     "text": [
      "\n",
      "Attaching package: ‘MatrixGenerics’\n",
      "\n",
      "\n"
     ]
    },
    {
     "name": "stderr",
     "output_type": "stream",
     "text": [
      "The following objects are masked from ‘package:matrixStats’:\n",
      "\n",
      "    colAlls, colAnyNAs, colAnys, colAvgsPerRowSet, colCollapse,\n",
      "    colCounts, colCummaxs, colCummins, colCumprods, colCumsums,\n",
      "    colDiffs, colIQRDiffs, colIQRs, colLogSumExps, colMadDiffs,\n",
      "    colMads, colMaxs, colMeans2, colMedians, colMins, colOrderStats,\n",
      "    colProds, colQuantiles, colRanges, colRanks, colSdDiffs, colSds,\n",
      "    colSums2, colTabulates, colVarDiffs, colVars, colWeightedMads,\n",
      "    colWeightedMeans, colWeightedMedians, colWeightedSds,\n",
      "    colWeightedVars, rowAlls, rowAnyNAs, rowAnys, rowAvgsPerColSet,\n",
      "    rowCollapse, rowCounts, rowCummaxs, rowCummins, rowCumprods,\n",
      "    rowCumsums, rowDiffs, rowIQRDiffs, rowIQRs, rowLogSumExps,\n",
      "    rowMadDiffs, rowMads, rowMaxs, rowMeans2, rowMedians, rowMins,\n",
      "    rowOrderStats, rowProds, rowQuantiles, rowRanges, rowRanks,\n",
      "    rowSdDiffs, rowSds, rowSums2, rowTabulates, rowVarDiffs, rowVars,\n",
      "    rowWeightedMads, rowWeightedMeans, rowWeightedMedians,\n",
      "    rowWeightedSds, rowWeightedVars\n",
      "\n",
      "\n"
     ]
    },
    {
     "name": "stderr",
     "output_type": "stream",
     "text": [
      "Loading required package: S4Vectors\n",
      "\n"
     ]
    },
    {
     "name": "stderr",
     "output_type": "stream",
     "text": [
      "\n",
      "Attaching package: ‘S4Vectors’\n",
      "\n",
      "\n"
     ]
    },
    {
     "name": "stderr",
     "output_type": "stream",
     "text": [
      "The following objects are masked from ‘package:Matrix’:\n",
      "\n",
      "    expand, unname\n",
      "\n",
      "\n"
     ]
    },
    {
     "name": "stderr",
     "output_type": "stream",
     "text": [
      "The following object is masked from ‘package:tidyr’:\n",
      "\n",
      "    expand\n",
      "\n",
      "\n"
     ]
    },
    {
     "name": "stderr",
     "output_type": "stream",
     "text": [
      "The following objects are masked from ‘package:dplyr’:\n",
      "\n",
      "    first, rename\n",
      "\n",
      "\n"
     ]
    },
    {
     "name": "stderr",
     "output_type": "stream",
     "text": [
      "The following object is masked from ‘package:utils’:\n",
      "\n",
      "    findMatches\n",
      "\n",
      "\n"
     ]
    },
    {
     "name": "stderr",
     "output_type": "stream",
     "text": [
      "The following objects are masked from ‘package:base’:\n",
      "\n",
      "    expand.grid, I, unname\n",
      "\n",
      "\n"
     ]
    },
    {
     "name": "stderr",
     "output_type": "stream",
     "text": [
      "Loading required package: IRanges\n",
      "\n"
     ]
    },
    {
     "name": "stderr",
     "output_type": "stream",
     "text": [
      "\n",
      "Attaching package: ‘IRanges’\n",
      "\n",
      "\n"
     ]
    },
    {
     "name": "stderr",
     "output_type": "stream",
     "text": [
      "The following object is masked from ‘package:sp’:\n",
      "\n",
      "    %over%\n",
      "\n",
      "\n"
     ]
    },
    {
     "name": "stderr",
     "output_type": "stream",
     "text": [
      "The following objects are masked from ‘package:dplyr’:\n",
      "\n",
      "    collapse, desc, slice\n",
      "\n",
      "\n"
     ]
    },
    {
     "name": "stderr",
     "output_type": "stream",
     "text": [
      "Loading required package: S4Arrays\n",
      "\n"
     ]
    },
    {
     "name": "stderr",
     "output_type": "stream",
     "text": [
      "Loading required package: abind\n",
      "\n"
     ]
    },
    {
     "name": "stderr",
     "output_type": "stream",
     "text": [
      "\n",
      "Attaching package: ‘S4Arrays’\n",
      "\n",
      "\n"
     ]
    },
    {
     "name": "stderr",
     "output_type": "stream",
     "text": [
      "The following object is masked from ‘package:abind’:\n",
      "\n",
      "    abind\n",
      "\n",
      "\n"
     ]
    },
    {
     "name": "stderr",
     "output_type": "stream",
     "text": [
      "The following object is masked from ‘package:base’:\n",
      "\n",
      "    rowsum\n",
      "\n",
      "\n"
     ]
    },
    {
     "name": "stderr",
     "output_type": "stream",
     "text": [
      "Loading required package: SparseArray\n",
      "\n"
     ]
    },
    {
     "name": "stderr",
     "output_type": "stream",
     "text": [
      "\n",
      "Attaching package: ‘DelayedArray’\n",
      "\n",
      "\n"
     ]
    },
    {
     "name": "stderr",
     "output_type": "stream",
     "text": [
      "The following objects are masked from ‘package:base’:\n",
      "\n",
      "    apply, scale, sweep\n",
      "\n",
      "\n"
     ]
    },
    {
     "name": "stderr",
     "output_type": "stream",
     "text": [
      "Loading required package: rhdf5\n",
      "\n"
     ]
    },
    {
     "name": "stderr",
     "output_type": "stream",
     "text": [
      "\n",
      "Attaching package: ‘HDF5Array’\n",
      "\n",
      "\n"
     ]
    },
    {
     "name": "stderr",
     "output_type": "stream",
     "text": [
      "The following object is masked from ‘package:rhdf5’:\n",
      "\n",
      "    h5ls\n",
      "\n",
      "\n"
     ]
    }
   ],
   "source": [
    ".libPaths('/home/ssobti/projects/mir_tud/packages/gedi_R_pkgs')\n",
    "\n",
    "## install packages below into env if not already installed\n",
    "## remotes::install_github('csglab/GEDI', lib = '/home/ssobti/projects/mir_tud/packages/gedi_R_pkgs')\n",
    "seed_index = 4\n",
    "seeds = c(123, 456, 789, 101112, 131415, 161718, 192021, 222324, 252627, 282930)\n",
    "picked_seed = seeds[seed_index]\n",
    "\n",
    "library(dplyr)\n",
    "library(tidyr)\n",
    "library(Seurat)\n",
    "library(HDF5Array)\n",
    "library(ggplot2)\n",
    "library(Matrix)\n",
    "library(RColorBrewer)\n",
    "library(uwot)\n",
    "library(GEDI)\n",
    "library(SeuratWrappers)"
   ]
  },
  {
   "cell_type": "code",
   "execution_count": 3,
   "metadata": {
    "execution": {
     "iopub.execute_input": "2024-03-18T05:24:10.708367Z",
     "iopub.status.busy": "2024-03-18T05:24:10.706385Z",
     "iopub.status.idle": "2024-03-18T05:25:20.524789Z",
     "shell.execute_reply": "2024-03-18T05:25:20.522986Z"
    },
    "vscode": {
     "languageId": "r"
    }
   },
   "outputs": [],
   "source": [
    "model = readRDS('/home/ssobti/projects/mir_tud/output_data/splicing/miR/miR_gedi_model.rds')"
   ]
  },
  {
   "cell_type": "code",
   "execution_count": 4,
   "metadata": {
    "execution": {
     "iopub.execute_input": "2024-03-18T05:25:20.533177Z",
     "iopub.status.busy": "2024-03-18T05:25:20.531956Z",
     "iopub.status.idle": "2024-03-18T05:25:31.145893Z",
     "shell.execute_reply": "2024-03-18T05:25:31.144368Z"
    },
    "vscode": {
     "languageId": "r"
    }
   },
   "outputs": [
    {
     "data": {
      "text/html": [
       "<style>\n",
       ".list-inline {list-style: none; margin:0; padding: 0}\n",
       ".list-inline>li {display: inline-block}\n",
       ".list-inline>li:not(:last-child)::after {content: \"\\00b7\"; padding: 0 .5ex}\n",
       "</style>\n",
       "<ol class=list-inline><li>6565</li><li>46357</li></ol>\n"
      ],
      "text/latex": [
       "\\begin{enumerate*}\n",
       "\\item 6565\n",
       "\\item 46357\n",
       "\\end{enumerate*}\n"
      ],
      "text/markdown": [
       "1. 6565\n",
       "2. 46357\n",
       "\n",
       "\n"
      ],
      "text/plain": [
       "[1]  6565 46357"
      ]
     },
     "metadata": {},
     "output_type": "display_data"
    }
   ],
   "source": [
    "## get RNA stability (spliced/unspliced counts) from gedi model -- imputedY (logt of psi values)\n",
    "imputedY <- getY.gedi(model)\n",
    "RNA_stability_mtx = imputedY\n",
    "dim(RNA_stability_mtx)"
   ]
  },
  {
   "cell_type": "markdown",
   "metadata": {},
   "source": [
    "### assign cells guide identity"
   ]
  },
  {
   "cell_type": "code",
   "execution_count": 5,
   "metadata": {
    "execution": {
     "iopub.execute_input": "2024-03-18T05:25:31.151801Z",
     "iopub.status.busy": "2024-03-18T05:25:31.150616Z",
     "iopub.status.idle": "2024-03-18T05:25:59.228037Z",
     "shell.execute_reply": "2024-03-18T05:25:59.225844Z"
    },
    "vscode": {
     "languageId": "r"
    }
   },
   "outputs": [
    {
     "data": {
      "text/html": [
       "<table class=\"dataframe\">\n",
       "<caption>A data.frame: 6 × 22</caption>\n",
       "<thead>\n",
       "\t<tr><th></th><th scope=col>orig.ident</th><th scope=col>nCount_RNA</th><th scope=col>nFeature_RNA</th><th scope=col>sample</th><th scope=col>barcode</th><th scope=col>guide</th><th scope=col>lor</th><th scope=col>pvalue</th><th scope=col>adj_pvalue</th><th scope=col>max_umi</th><th scope=col>⋯</th><th scope=col>v_umi</th><th scope=col>log_max_umi</th><th scope=col>log_n_umi</th><th scope=col>log_m_umi</th><th scope=col>percent.mt</th><th scope=col>integrated_snn_res.0.5</th><th scope=col>seurat_clusters</th><th scope=col>guide_group</th><th scope=col>miR.family</th><th scope=col>cell_names</th></tr>\n",
       "\t<tr><th></th><th scope=col>&lt;chr&gt;</th><th scope=col>&lt;dbl&gt;</th><th scope=col>&lt;int&gt;</th><th scope=col>&lt;chr&gt;</th><th scope=col>&lt;chr&gt;</th><th scope=col>&lt;chr&gt;</th><th scope=col>&lt;dbl&gt;</th><th scope=col>&lt;dbl&gt;</th><th scope=col>&lt;dbl&gt;</th><th scope=col>&lt;dbl&gt;</th><th scope=col>⋯</th><th scope=col>&lt;dbl&gt;</th><th scope=col>&lt;dbl&gt;</th><th scope=col>&lt;dbl&gt;</th><th scope=col>&lt;dbl&gt;</th><th scope=col>&lt;dbl&gt;</th><th scope=col>&lt;fct&gt;</th><th scope=col>&lt;chr&gt;</th><th scope=col>&lt;chr&gt;</th><th scope=col>&lt;chr&gt;</th><th scope=col>&lt;chr&gt;</th></tr>\n",
       "</thead>\n",
       "<tbody>\n",
       "\t<tr><th scope=row>1</th><td>miR</td><td>33954</td><td>5998</td><td>miR_1</td><td>AAACCCAAGGAGAGGC</td><td>hsa-miR-203a-3p</td><td>5.453121</td><td>2.983000e-159</td><td>3.010603e-152</td><td>67</td><td>⋯</td><td>11.324937</td><td>1.826075</td><td>1.892095</td><td>-0.7066959</td><td> 8.576309</td><td>1</td><td>T1     </td><td>target </td><td>miR-203a-3p.1           </td><td>miR_1:AAACCCAAGGAGAGGC</td></tr>\n",
       "\t<tr><th scope=row>2</th><td>miR</td><td>31928</td><td>6868</td><td>miR_1</td><td>AAACCCAAGGTAAACT</td><td>hsa-miR-93-3p  </td><td>6.012001</td><td>3.907611e-225</td><td>3.943769e-218</td><td>97</td><td>⋯</td><td>23.713686</td><td>1.986772</td><td>2.033424</td><td>-0.5653668</td><td> 6.549110</td><td>0</td><td>T0     </td><td>target </td><td>miR-93-3p               </td><td>miR_1:AAACCCAAGGTAAACT</td></tr>\n",
       "\t<tr><th scope=row>3</th><td>miR</td><td>42785</td><td>7447</td><td>miR_1</td><td>AAACCCACAACGATCT</td><td>hsa-miR-130b-3p</td><td>5.864701</td><td>3.299362e-202</td><td>3.329893e-195</td><td>89</td><td>⋯</td><td>19.981910</td><td>1.949390</td><td>2.053078</td><td>-0.5457121</td><td> 8.844221</td><td>0</td><td>T0     </td><td>target </td><td>miR-130-3p/301-3p/454-3p</td><td>miR_1:AAACCCACAACGATCT</td></tr>\n",
       "\t<tr><th scope=row>4</th><td>miR</td><td>58537</td><td>8039</td><td>miR_1</td><td>AAACCCACACGATTCA</td><td>TuD_NC_18      </td><td>5.859895</td><td>2.574602e-201</td><td>2.598426e-194</td><td>96</td><td>⋯</td><td>23.235516</td><td>1.982271</td><td>2.056905</td><td>-0.5418857</td><td>10.072262</td><td>5</td><td>control</td><td>control</td><td>NA                      </td><td>miR_1:AAACCCACACGATTCA</td></tr>\n",
       "\t<tr><th scope=row>5</th><td>miR</td><td>31579</td><td>6580</td><td>miR_1</td><td>AAACCCACAGTCAACT</td><td>hsa-miR-147b-5p</td><td>5.632808</td><td>3.564463e-178</td><td>3.597446e-171</td><td>71</td><td>⋯</td><td>12.725683</td><td>1.851258</td><td>1.934498</td><td>-0.6642921</td><td> 7.698154</td><td>9</td><td>T9     </td><td>target </td><td>miR-147b                </td><td>miR_1:AAACCCACAGTCAACT</td></tr>\n",
       "\t<tr><th scope=row>6</th><td>miR</td><td>20694</td><td>5353</td><td>miR_1</td><td>AAACCCACATCTCATT</td><td>hsa-miR-501-5p </td><td>5.261722</td><td>7.493882e-143</td><td>7.563226e-136</td><td>58</td><td>⋯</td><td> 8.484047</td><td>1.763428</td><td>1.806180</td><td>-0.7926105</td><td> 5.533005</td><td>7</td><td>T7     </td><td>target </td><td>miR-501-5p              </td><td>miR_1:AAACCCACATCTCATT</td></tr>\n",
       "</tbody>\n",
       "</table>\n"
      ],
      "text/latex": [
       "A data.frame: 6 × 22\n",
       "\\begin{tabular}{r|lllllllllllllllllllll}\n",
       "  & orig.ident & nCount\\_RNA & nFeature\\_RNA & sample & barcode & guide & lor & pvalue & adj\\_pvalue & max\\_umi & ⋯ & v\\_umi & log\\_max\\_umi & log\\_n\\_umi & log\\_m\\_umi & percent.mt & integrated\\_snn\\_res.0.5 & seurat\\_clusters & guide\\_group & miR.family & cell\\_names\\\\\n",
       "  & <chr> & <dbl> & <int> & <chr> & <chr> & <chr> & <dbl> & <dbl> & <dbl> & <dbl> & ⋯ & <dbl> & <dbl> & <dbl> & <dbl> & <dbl> & <fct> & <chr> & <chr> & <chr> & <chr>\\\\\n",
       "\\hline\n",
       "\t1 & miR & 33954 & 5998 & miR\\_1 & AAACCCAAGGAGAGGC & hsa-miR-203a-3p & 5.453121 & 2.983000e-159 & 3.010603e-152 & 67 & ⋯ & 11.324937 & 1.826075 & 1.892095 & -0.7066959 &  8.576309 & 1 & T1      & target  & miR-203a-3p.1            & miR\\_1:AAACCCAAGGAGAGGC\\\\\n",
       "\t2 & miR & 31928 & 6868 & miR\\_1 & AAACCCAAGGTAAACT & hsa-miR-93-3p   & 6.012001 & 3.907611e-225 & 3.943769e-218 & 97 & ⋯ & 23.713686 & 1.986772 & 2.033424 & -0.5653668 &  6.549110 & 0 & T0      & target  & miR-93-3p                & miR\\_1:AAACCCAAGGTAAACT\\\\\n",
       "\t3 & miR & 42785 & 7447 & miR\\_1 & AAACCCACAACGATCT & hsa-miR-130b-3p & 5.864701 & 3.299362e-202 & 3.329893e-195 & 89 & ⋯ & 19.981910 & 1.949390 & 2.053078 & -0.5457121 &  8.844221 & 0 & T0      & target  & miR-130-3p/301-3p/454-3p & miR\\_1:AAACCCACAACGATCT\\\\\n",
       "\t4 & miR & 58537 & 8039 & miR\\_1 & AAACCCACACGATTCA & TuD\\_NC\\_18       & 5.859895 & 2.574602e-201 & 2.598426e-194 & 96 & ⋯ & 23.235516 & 1.982271 & 2.056905 & -0.5418857 & 10.072262 & 5 & control & control & NA                       & miR\\_1:AAACCCACACGATTCA\\\\\n",
       "\t5 & miR & 31579 & 6580 & miR\\_1 & AAACCCACAGTCAACT & hsa-miR-147b-5p & 5.632808 & 3.564463e-178 & 3.597446e-171 & 71 & ⋯ & 12.725683 & 1.851258 & 1.934498 & -0.6642921 &  7.698154 & 9 & T9      & target  & miR-147b                 & miR\\_1:AAACCCACAGTCAACT\\\\\n",
       "\t6 & miR & 20694 & 5353 & miR\\_1 & AAACCCACATCTCATT & hsa-miR-501-5p  & 5.261722 & 7.493882e-143 & 7.563226e-136 & 58 & ⋯ &  8.484047 & 1.763428 & 1.806180 & -0.7926105 &  5.533005 & 7 & T7      & target  & miR-501-5p               & miR\\_1:AAACCCACATCTCATT\\\\\n",
       "\\end{tabular}\n"
      ],
      "text/markdown": [
       "\n",
       "A data.frame: 6 × 22\n",
       "\n",
       "| <!--/--> | orig.ident &lt;chr&gt; | nCount_RNA &lt;dbl&gt; | nFeature_RNA &lt;int&gt; | sample &lt;chr&gt; | barcode &lt;chr&gt; | guide &lt;chr&gt; | lor &lt;dbl&gt; | pvalue &lt;dbl&gt; | adj_pvalue &lt;dbl&gt; | max_umi &lt;dbl&gt; | ⋯ ⋯ | v_umi &lt;dbl&gt; | log_max_umi &lt;dbl&gt; | log_n_umi &lt;dbl&gt; | log_m_umi &lt;dbl&gt; | percent.mt &lt;dbl&gt; | integrated_snn_res.0.5 &lt;fct&gt; | seurat_clusters &lt;chr&gt; | guide_group &lt;chr&gt; | miR.family &lt;chr&gt; | cell_names &lt;chr&gt; |\n",
       "|---|---|---|---|---|---|---|---|---|---|---|---|---|---|---|---|---|---|---|---|---|---|\n",
       "| 1 | miR | 33954 | 5998 | miR_1 | AAACCCAAGGAGAGGC | hsa-miR-203a-3p | 5.453121 | 2.983000e-159 | 3.010603e-152 | 67 | ⋯ | 11.324937 | 1.826075 | 1.892095 | -0.7066959 |  8.576309 | 1 | T1      | target  | miR-203a-3p.1            | miR_1:AAACCCAAGGAGAGGC |\n",
       "| 2 | miR | 31928 | 6868 | miR_1 | AAACCCAAGGTAAACT | hsa-miR-93-3p   | 6.012001 | 3.907611e-225 | 3.943769e-218 | 97 | ⋯ | 23.713686 | 1.986772 | 2.033424 | -0.5653668 |  6.549110 | 0 | T0      | target  | miR-93-3p                | miR_1:AAACCCAAGGTAAACT |\n",
       "| 3 | miR | 42785 | 7447 | miR_1 | AAACCCACAACGATCT | hsa-miR-130b-3p | 5.864701 | 3.299362e-202 | 3.329893e-195 | 89 | ⋯ | 19.981910 | 1.949390 | 2.053078 | -0.5457121 |  8.844221 | 0 | T0      | target  | miR-130-3p/301-3p/454-3p | miR_1:AAACCCACAACGATCT |\n",
       "| 4 | miR | 58537 | 8039 | miR_1 | AAACCCACACGATTCA | TuD_NC_18       | 5.859895 | 2.574602e-201 | 2.598426e-194 | 96 | ⋯ | 23.235516 | 1.982271 | 2.056905 | -0.5418857 | 10.072262 | 5 | control | control | NA                       | miR_1:AAACCCACACGATTCA |\n",
       "| 5 | miR | 31579 | 6580 | miR_1 | AAACCCACAGTCAACT | hsa-miR-147b-5p | 5.632808 | 3.564463e-178 | 3.597446e-171 | 71 | ⋯ | 12.725683 | 1.851258 | 1.934498 | -0.6642921 |  7.698154 | 9 | T9      | target  | miR-147b                 | miR_1:AAACCCACAGTCAACT |\n",
       "| 6 | miR | 20694 | 5353 | miR_1 | AAACCCACATCTCATT | hsa-miR-501-5p  | 5.261722 | 7.493882e-143 | 7.563226e-136 | 58 | ⋯ |  8.484047 | 1.763428 | 1.806180 | -0.7926105 |  5.533005 | 7 | T7      | target  | miR-501-5p               | miR_1:AAACCCACATCTCATT |\n",
       "\n"
      ],
      "text/plain": [
       "  orig.ident nCount_RNA nFeature_RNA sample barcode          guide          \n",
       "1 miR        33954      5998         miR_1  AAACCCAAGGAGAGGC hsa-miR-203a-3p\n",
       "2 miR        31928      6868         miR_1  AAACCCAAGGTAAACT hsa-miR-93-3p  \n",
       "3 miR        42785      7447         miR_1  AAACCCACAACGATCT hsa-miR-130b-3p\n",
       "4 miR        58537      8039         miR_1  AAACCCACACGATTCA TuD_NC_18      \n",
       "5 miR        31579      6580         miR_1  AAACCCACAGTCAACT hsa-miR-147b-5p\n",
       "6 miR        20694      5353         miR_1  AAACCCACATCTCATT hsa-miR-501-5p \n",
       "  lor      pvalue        adj_pvalue    max_umi ⋯ v_umi     log_max_umi\n",
       "1 5.453121 2.983000e-159 3.010603e-152 67      ⋯ 11.324937 1.826075   \n",
       "2 6.012001 3.907611e-225 3.943769e-218 97      ⋯ 23.713686 1.986772   \n",
       "3 5.864701 3.299362e-202 3.329893e-195 89      ⋯ 19.981910 1.949390   \n",
       "4 5.859895 2.574602e-201 2.598426e-194 96      ⋯ 23.235516 1.982271   \n",
       "5 5.632808 3.564463e-178 3.597446e-171 71      ⋯ 12.725683 1.851258   \n",
       "6 5.261722 7.493882e-143 7.563226e-136 58      ⋯  8.484047 1.763428   \n",
       "  log_n_umi log_m_umi  percent.mt integrated_snn_res.0.5 seurat_clusters\n",
       "1 1.892095  -0.7066959  8.576309  1                      T1             \n",
       "2 2.033424  -0.5653668  6.549110  0                      T0             \n",
       "3 2.053078  -0.5457121  8.844221  0                      T0             \n",
       "4 2.056905  -0.5418857 10.072262  5                      control        \n",
       "5 1.934498  -0.6642921  7.698154  9                      T9             \n",
       "6 1.806180  -0.7926105  5.533005  7                      T7             \n",
       "  guide_group miR.family               cell_names            \n",
       "1 target      miR-203a-3p.1            miR_1:AAACCCAAGGAGAGGC\n",
       "2 target      miR-93-3p                miR_1:AAACCCAAGGTAAACT\n",
       "3 target      miR-130-3p/301-3p/454-3p miR_1:AAACCCACAACGATCT\n",
       "4 control     NA                       miR_1:AAACCCACACGATTCA\n",
       "5 target      miR-147b                 miR_1:AAACCCACAGTCAACT\n",
       "6 target      miR-501-5p               miR_1:AAACCCACATCTCATT"
      ]
     },
     "metadata": {},
     "output_type": "display_data"
    }
   ],
   "source": [
    "## assign cells guide identity\n",
    "miR_seurat = readRDS('/home/ssobti/projects/mir_tud/101423_filtered_data/miR.integrated.qc_norm_scaled.dimred.clustered.gex.guide_assigned.RDS')\n",
    "meta = miR_seurat@meta.data\n",
    "meta$cell_names = paste(meta$sample, meta$barcode, sep = ':')\n",
    "head(meta)"
   ]
  },
  {
   "cell_type": "code",
   "execution_count": 6,
   "metadata": {
    "execution": {
     "iopub.execute_input": "2024-03-18T05:25:59.235180Z",
     "iopub.status.busy": "2024-03-18T05:25:59.233592Z",
     "iopub.status.idle": "2024-03-18T05:26:01.179377Z",
     "shell.execute_reply": "2024-03-18T05:26:01.177526Z"
    },
    "vscode": {
     "languageId": "r"
    }
   },
   "outputs": [
    {
     "data": {
      "text/html": [
       "<style>\n",
       ".list-inline {list-style: none; margin:0; padding: 0}\n",
       ".list-inline>li {display: inline-block}\n",
       ".list-inline>li:not(:last-child)::after {content: \"\\00b7\"; padding: 0 .5ex}\n",
       "</style>\n",
       "<ol class=list-inline><li>6565</li><li>29086</li></ol>\n"
      ],
      "text/latex": [
       "\\begin{enumerate*}\n",
       "\\item 6565\n",
       "\\item 29086\n",
       "\\end{enumerate*}\n"
      ],
      "text/markdown": [
       "1. 6565\n",
       "2. 29086\n",
       "\n",
       "\n"
      ],
      "text/plain": [
       "[1]  6565 29086"
      ]
     },
     "metadata": {},
     "output_type": "display_data"
    }
   ],
   "source": [
    "## clean up cell names in RNA_stability_mtx\n",
    "RNA_stability_cell_names = stringr::str_sub(colnames(RNA_stability_mtx), start = 1, end = -2)\n",
    "colnames(RNA_stability_mtx) = RNA_stability_cell_names\n",
    "\n",
    "## filter out cells that were not confidentally assigned to a guide\n",
    "RNA_stability_mtx = RNA_stability_mtx[, RNA_stability_cell_names %in% meta$cell_names]\n",
    "RNA_stability_cell_names = colnames(RNA_stability_mtx)\n",
    "dim(RNA_stability_mtx)"
   ]
  },
  {
   "cell_type": "code",
   "execution_count": 7,
   "metadata": {
    "execution": {
     "iopub.execute_input": "2024-03-18T05:26:01.185944Z",
     "iopub.status.busy": "2024-03-18T05:26:01.184339Z",
     "iopub.status.idle": "2024-03-18T05:26:01.225756Z",
     "shell.execute_reply": "2024-03-18T05:26:01.224048Z"
    },
    "vscode": {
     "languageId": "r"
    }
   },
   "outputs": [
    {
     "data": {
      "text/html": [
       "<table class=\"dataframe\">\n",
       "<caption>A data.frame: 6 × 2</caption>\n",
       "<thead>\n",
       "\t<tr><th></th><th scope=col>cell_names</th><th scope=col>guide</th></tr>\n",
       "\t<tr><th></th><th scope=col>&lt;chr&gt;</th><th scope=col>&lt;chr&gt;</th></tr>\n",
       "</thead>\n",
       "<tbody>\n",
       "\t<tr><th scope=row>1</th><td>miR_1:AAAGGATAGCAATTAG</td><td>miR_1:TuD_NC_15      </td></tr>\n",
       "\t<tr><th scope=row>2</th><td>miR_1:AAAGGGCTCATGGAGG</td><td>miR_1:hsa-miR-548j-5p</td></tr>\n",
       "\t<tr><th scope=row>3</th><td>miR_1:AAAGGATAGGTCACCC</td><td>miR_1:hsa-miR-339-3p </td></tr>\n",
       "\t<tr><th scope=row>4</th><td>miR_1:AAACCCATCATGCCAA</td><td>miR_1:hsa-miR-1270   </td></tr>\n",
       "\t<tr><th scope=row>5</th><td>miR_1:AAACGCTAGCACTCGC</td><td>miR_1:hsa-miR-28-5p  </td></tr>\n",
       "\t<tr><th scope=row>6</th><td>miR_1:AAACGCTTCCTATTTG</td><td>miR_1:hsa-miR-345-5p </td></tr>\n",
       "</tbody>\n",
       "</table>\n"
      ],
      "text/latex": [
       "A data.frame: 6 × 2\n",
       "\\begin{tabular}{r|ll}\n",
       "  & cell\\_names & guide\\\\\n",
       "  & <chr> & <chr>\\\\\n",
       "\\hline\n",
       "\t1 & miR\\_1:AAAGGATAGCAATTAG & miR\\_1:TuD\\_NC\\_15      \\\\\n",
       "\t2 & miR\\_1:AAAGGGCTCATGGAGG & miR\\_1:hsa-miR-548j-5p\\\\\n",
       "\t3 & miR\\_1:AAAGGATAGGTCACCC & miR\\_1:hsa-miR-339-3p \\\\\n",
       "\t4 & miR\\_1:AAACCCATCATGCCAA & miR\\_1:hsa-miR-1270   \\\\\n",
       "\t5 & miR\\_1:AAACGCTAGCACTCGC & miR\\_1:hsa-miR-28-5p  \\\\\n",
       "\t6 & miR\\_1:AAACGCTTCCTATTTG & miR\\_1:hsa-miR-345-5p \\\\\n",
       "\\end{tabular}\n"
      ],
      "text/markdown": [
       "\n",
       "A data.frame: 6 × 2\n",
       "\n",
       "| <!--/--> | cell_names &lt;chr&gt; | guide &lt;chr&gt; |\n",
       "|---|---|---|\n",
       "| 1 | miR_1:AAAGGATAGCAATTAG | miR_1:TuD_NC_15       |\n",
       "| 2 | miR_1:AAAGGGCTCATGGAGG | miR_1:hsa-miR-548j-5p |\n",
       "| 3 | miR_1:AAAGGATAGGTCACCC | miR_1:hsa-miR-339-3p  |\n",
       "| 4 | miR_1:AAACCCATCATGCCAA | miR_1:hsa-miR-1270    |\n",
       "| 5 | miR_1:AAACGCTAGCACTCGC | miR_1:hsa-miR-28-5p   |\n",
       "| 6 | miR_1:AAACGCTTCCTATTTG | miR_1:hsa-miR-345-5p  |\n",
       "\n"
      ],
      "text/plain": [
       "  cell_names             guide                \n",
       "1 miR_1:AAAGGATAGCAATTAG miR_1:TuD_NC_15      \n",
       "2 miR_1:AAAGGGCTCATGGAGG miR_1:hsa-miR-548j-5p\n",
       "3 miR_1:AAAGGATAGGTCACCC miR_1:hsa-miR-339-3p \n",
       "4 miR_1:AAACCCATCATGCCAA miR_1:hsa-miR-1270   \n",
       "5 miR_1:AAACGCTAGCACTCGC miR_1:hsa-miR-28-5p  \n",
       "6 miR_1:AAACGCTTCCTATTTG miR_1:hsa-miR-345-5p "
      ]
     },
     "metadata": {},
     "output_type": "display_data"
    }
   ],
   "source": [
    "RNA_stability_cell_identity = data.frame(cell_names = RNA_stability_cell_names, guide = meta[match(RNA_stability_cell_names, meta$cell_names), 'guide'])\n",
    "RNA_stability_cell_identity$guide = paste0(stringr::str_sub(RNA_stability_cell_identity$cell_names, 1, 6), RNA_stability_cell_identity$guide)\n",
    "head(RNA_stability_cell_identity)"
   ]
  },
  {
   "cell_type": "code",
   "execution_count": 8,
   "metadata": {
    "execution": {
     "iopub.execute_input": "2024-03-18T05:26:01.231262Z",
     "iopub.status.busy": "2024-03-18T05:26:01.229723Z",
     "iopub.status.idle": "2024-03-18T05:26:01.829145Z",
     "shell.execute_reply": "2024-03-18T05:26:01.827176Z"
    },
    "vscode": {
     "languageId": "r"
    }
   },
   "outputs": [],
   "source": [
    "## sample 30 cells per guide, throw out guides with cells < 30\n",
    "## combiine the three samples into one\n",
    "set.seed(picked_seed)\n",
    "fixed_cell_count = 30\n",
    "RNA_stability_cell_identity$guide = stringr::str_sub(RNA_stability_cell_identity$guide, 7, -1)\n",
    "\n",
    "## remove guides with less than 30 cells\n",
    "table(RNA_stability_cell_identity$guide) %>% as.data.frame() %>% filter(Freq >= fixed_cell_count) -> guides_with_30_cells\n",
    "RNA_stability_cell_identity = RNA_stability_cell_identity[RNA_stability_cell_identity$guide %in% guides_with_30_cells$Var1, ]\n",
    "\n",
    "## sample 30 cells per guide\n",
    "RNA_stability_cell_identity %>% group_by(guide) %>% sample_n(fixed_cell_count) -> sampled_RNA_stability_cell_identity\n",
    "sampled_cells = sampled_RNA_stability_cell_identity$cell_names\n",
    "RNA_stability_mtx = RNA_stability_mtx[, sampled_cells]"
   ]
  },
  {
   "cell_type": "markdown",
   "metadata": {},
   "source": [
    "### create violin plots of RNA stability (spliced/unspliced counts) for top and bottom 5% of guides"
   ]
  },
  {
   "cell_type": "code",
   "execution_count": 9,
   "metadata": {
    "execution": {
     "iopub.execute_input": "2024-03-18T05:26:01.835349Z",
     "iopub.status.busy": "2024-03-18T05:26:01.833787Z",
     "iopub.status.idle": "2024-03-18T05:26:03.311045Z",
     "shell.execute_reply": "2024-03-18T05:26:03.309341Z"
    },
    "vscode": {
     "languageId": "r"
    }
   },
   "outputs": [],
   "source": [
    "## RNA_stability_mtx and RNA_stability_cell_identity are the two inputs for our analysis\n",
    "guides = unique(RNA_stability_cell_identity$guide)\n",
    "\n",
    "\n",
    "barcodes_per_guide = lapply(X = guides, FUN = function(x) {\n",
    "  RNA_stability_cell_identity %>% filter(guide == x) %>% select(cell_names) %>% pull()\n",
    "})\n",
    "\n",
    "names(barcodes_per_guide) = guides"
   ]
  },
  {
   "cell_type": "code",
   "execution_count": 10,
   "metadata": {
    "execution": {
     "iopub.execute_input": "2024-03-18T05:26:03.317048Z",
     "iopub.status.busy": "2024-03-18T05:26:03.315726Z",
     "iopub.status.idle": "2024-03-18T05:26:04.062634Z",
     "shell.execute_reply": "2024-03-18T05:26:04.060852Z"
    },
    "vscode": {
     "languageId": "r"
    }
   },
   "outputs": [],
   "source": [
    "## use rowMedians??? if mostly zeros\n",
    "RNA_stability_values = list()\n",
    "\n",
    "for (i in 1:length(barcodes_per_guide)) {\n",
    "  RNA_stability_values[[i]] = Matrix::rowMeans(RNA_stability_mtx[, colnames(RNA_stability_mtx) %in% barcodes_per_guide[[i]]])\n",
    "}\n",
    "\n",
    "names(RNA_stability_values) = names(barcodes_per_guide)"
   ]
  },
  {
   "cell_type": "code",
   "execution_count": 11,
   "metadata": {
    "execution": {
     "iopub.execute_input": "2024-03-18T05:26:04.068397Z",
     "iopub.status.busy": "2024-03-18T05:26:04.067076Z",
     "iopub.status.idle": "2024-03-18T05:26:06.966461Z",
     "shell.execute_reply": "2024-03-18T05:26:06.964692Z"
    },
    "vscode": {
     "languageId": "r"
    }
   },
   "outputs": [],
   "source": [
    "saveRDS(RNA_stability_values, paste0('/home/ssobti/projects/mir_tud/output_data/splicing/miR/miR_gedi_stability_values_seed_', seed_index, '.rds'))"
   ]
  },
  {
   "cell_type": "code",
   "execution_count": 12,
   "metadata": {
    "execution": {
     "iopub.execute_input": "2024-03-18T05:26:06.972164Z",
     "iopub.status.busy": "2024-03-18T05:26:06.970876Z",
     "iopub.status.idle": "2024-03-18T05:26:07.124860Z",
     "shell.execute_reply": "2024-03-18T05:26:07.123061Z"
    },
    "vscode": {
     "languageId": "r"
    }
   },
   "outputs": [],
   "source": [
    "## find top 1% and bottom 1% of guides by median of genes in each guide\n",
    "medians = lapply(RNA_stability_values, median)\n",
    "bottom = names(medians[as.numeric(medians) < quantile(as.numeric(medians), probs = 0.01)])\n",
    "top = names(medians[as.numeric(medians) > quantile(as.numeric(medians), probs = 0.99)])\n",
    "displayed_guides = c(bottom, top)"
   ]
  },
  {
   "cell_type": "code",
   "execution_count": 13,
   "metadata": {
    "execution": {
     "iopub.execute_input": "2024-03-18T05:26:07.130762Z",
     "iopub.status.busy": "2024-03-18T05:26:07.129474Z",
     "iopub.status.idle": "2024-03-18T05:26:07.173038Z",
     "shell.execute_reply": "2024-03-18T05:26:07.171271Z"
    },
    "vscode": {
     "languageId": "r"
    }
   },
   "outputs": [],
   "source": [
    "violin_df = do.call(cbind, RNA_stability_values[displayed_guides])\n",
    "violin_df = as.data.frame(violin_df) %>% pivot_longer(cols = everything(), names_to = 'guide', values_to = 'RNA_stability')\n",
    "ordered_guides = violin_df %>% group_by(guide) %>% summarize(median = median(RNA_stability), .groups = 'drop') %>% arrange(median) %>% pull(guide)\n",
    "violin_df$guide = factor(violin_df$guide, levels = ordered_guides)"
   ]
  },
  {
   "cell_type": "code",
   "execution_count": 14,
   "metadata": {
    "execution": {
     "iopub.execute_input": "2024-03-18T05:26:07.178496Z",
     "iopub.status.busy": "2024-03-18T05:26:07.177196Z",
     "iopub.status.idle": "2024-03-18T05:26:07.705724Z",
     "shell.execute_reply": "2024-03-18T05:26:07.704234Z"
    },
    "vscode": {
     "languageId": "r"
    }
   },
   "outputs": [
    {
     "data": {
      "image/png": "[encoded data removed]",
      "text/plain": [
       "plot without title"
      ]
     },
     "metadata": {
      "image/png": {
       "height": 420,
       "width": 420
      }
     },
     "output_type": "display_data"
    }
   ],
   "source": [
    "violin_df %>% ggplot(aes(x = guide, y = RNA_stability)) + geom_violin() + theme(axis.text.x = element_text(angle = 90, hjust = 1)) + ggtitle('RNA stability (spliced/unspliced counts)')"
   ]
  },
  {
   "cell_type": "code",
   "execution_count": null,
   "metadata": {
    "vscode": {
     "languageId": "r"
    }
   },
   "outputs": [],
   "source": []
  },
  {
   "cell_type": "code",
   "execution_count": null,
   "metadata": {
    "vscode": {
     "languageId": "r"
    }
   },
   "outputs": [],
   "source": []
  },
  {
   "cell_type": "code",
   "execution_count": null,
   "metadata": {
    "vscode": {
     "languageId": "r"
    }
   },
   "outputs": [],
   "source": []
  }
 ],
 "metadata": {
  "kernelspec": {
   "display_name": "R",
   "language": "R",
   "name": "ir"
  },
  "language_info": {
   "codemirror_mode": "r",
   "file_extension": ".r",
   "mimetype": "text/x-r-source",
   "name": "R",
   "pygments_lexer": "r",
   "version": "4.3.3"
  }
 },
 "nbformat": 4,
 "nbformat_minor": 2
}
