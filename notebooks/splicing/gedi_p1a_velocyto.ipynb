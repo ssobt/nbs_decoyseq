{
 "cells": [
  {
   "cell_type": "code",
   "execution_count": null,
   "metadata": {},
   "outputs": [],
   "source": [
    "## Notebook env: gedi (gedi kernel)\n",
    "## GEDI pt.1 - Get spliced/unspliced counts from Velocyto"
   ]
  },
  {
   "cell_type": "code",
   "execution_count": null,
   "metadata": {},
   "outputs": [],
   "source": [
    "## all outputs stored under /home/ssobti/projects/mir_tud/output_data/splicing/velocyto"
   ]
  },
  {
   "cell_type": "code",
   "execution_count": null,
   "metadata": {},
   "outputs": [],
   "source": [
    "%%bash\n",
    "# miR_1\n",
    "\n",
    "velocyto run10x -vvv --dtype uint32 -m /home/ssobti/tools/references/hg38_repeat_mask/hg38_repeats_repeatMasker_allTracks.gtf /home/ssobti/projects/mir_tud/larisa_cellranger/cellranger_count/miR_1 /home/ssobti/tools/references/cellranger_human_ref/refdata-gex-GRCh38-2020-A/genes/genes.gtf"
   ]
  },
  {
   "cell_type": "code",
   "execution_count": null,
   "metadata": {},
   "outputs": [],
   "source": [
    "%%bash\n",
    "# miR_2\n",
    "\n",
    "velocyto run10x -vvv --dtype uint32 -m /home/ssobti/tools/references/hg38_repeat_mask/hg38_repeats_repeatMasker_allTracks.gtf /home/ssobti/projects/mir_tud/larisa_cellranger/cellranger_count/miR_2 /home/ssobti/tools/references/cellranger_human_ref/refdata-gex-GRCh38-2020-A/genes/genes.gtf"
   ]
  },
  {
   "cell_type": "code",
   "execution_count": null,
   "metadata": {},
   "outputs": [],
   "source": [
    "%%bash\n",
    "# miR_3\n",
    "\n",
    "velocyto run10x -vvv --dtype uint32 -m /home/ssobti/tools/references/hg38_repeat_mask/hg38_repeats_repeatMasker_allTracks.gtf /home/ssobti/projects/mir_tud/larisa_cellranger/cellranger_count/miR_3 /home/ssobti/tools/references/cellranger_human_ref/refdata-gex-GRCh38-2020-A/genes/genes.gtf"
   ]
  },
  {
   "cell_type": "code",
   "execution_count": null,
   "metadata": {},
   "outputs": [],
   "source": [
    "%%bash\n",
    "# tRF_1\n",
    "\n",
    "velocyto run10x -vvv --dtype uint32 -m /home/ssobti/tools/references/hg38_repeat_mask/hg38_repeats_repeatMasker_allTracks.gtf /home/ssobti/projects/mir_tud/larisa_cellranger/cellranger_count/tRF_1 /home/ssobti/tools/references/cellranger_human_ref/refdata-gex-GRCh38-2020-A/genes/genes.gtf"
   ]
  },
  {
   "cell_type": "code",
   "execution_count": null,
   "metadata": {},
   "outputs": [],
   "source": [
    "%%bash\n",
    "# tRF_2\n",
    "\n",
    "velocyto run10x -vvv --dtype uint32 -m /home/ssobti/tools/references/hg38_repeat_mask/hg38_repeats_repeatMasker_allTracks.gtf /home/ssobti/projects/mir_tud/larisa_cellranger/cellranger_count/tRF_2 /home/ssobti/tools/references/cellranger_human_ref/refdata-gex-GRCh38-2020-A/genes/genes.gtf"
   ]
  },
  {
   "cell_type": "code",
   "execution_count": null,
   "metadata": {},
   "outputs": [],
   "source": [
    "%%bash\n",
    "# tRF_3\n",
    "\n",
    "velocyto run10x -vvv --dtype uint32 -m /home/ssobti/tools/references/hg38_repeat_mask/hg38_repeats_repeatMasker_allTracks.gtf /home/ssobti/projects/mir_tud/larisa_cellranger/cellranger_count/tRF_3 /home/ssobti/tools/references/cellranger_human_ref/refdata-gex-GRCh38-2020-A/genes/genes.gtf"
   ]
  },
  {
   "cell_type": "code",
   "execution_count": null,
   "metadata": {},
   "outputs": [],
   "source": [
    "%%bash\n",
    "\n",
    "mv /home/ssobti/projects/mir_tud/larisa_cellranger/cellranger_count/miR_1/velocyto /home/ssobti/projects/mir_tud/output_data/splicing/velocyto/miR_1\n",
    "mv /home/ssobti/projects/mir_tud/larisa_cellranger/cellranger_count/miR_2/velocyto /home/ssobti/projects/mir_tud/output_data/splicing/velocyto/miR_2\n",
    "mv /home/ssobti/projects/mir_tud/larisa_cellranger/cellranger_count/miR_3/velocyto /home/ssobti/projects/mir_tud/output_data/splicing/velocyto/miR_3\n",
    "mv /home/ssobti/projects/mir_tud/larisa_cellranger/cellranger_count/tRF_1/velocyto /home/ssobti/projects/mir_tud/output_data/splicing/velocyto/tRF_1\n",
    "mv /home/ssobti/projects/mir_tud/larisa_cellranger/cellranger_count/tRF_2/velocyto /home/ssobti/projects/mir_tud/output_data/splicing/velocyto/tRF_2\n",
    "mv /home/ssobti/projects/mir_tud/larisa_cellranger/cellranger_count/tRF_3/velocyto /home/ssobti/projects/mir_tud/output_data/splicing/velocyto/tRF_3"
   ]
  },
  {
   "cell_type": "code",
   "execution_count": 1,
   "metadata": {},
   "outputs": [
    {
     "name": "stderr",
     "output_type": "stream",
     "text": [
      "/home/ssobti/miniconda3/envs/gedi/lib/python3.12/site-packages/numba/np/ufunc/parallel.py:371: NumbaWarning: The TBB threading layer requires TBB version 2021 update 6 or later i.e., TBB_INTERFACE_VERSION >= 12060. Found TBB_INTERFACE_VERSION = 12050. The TBB threading layer is disabled.\n",
      "  warnings.warn(problem)\n"
     ]
    }
   ],
   "source": []
  }
 ],
 "metadata": {
  "kernelspec": {
   "display_name": "gedi",
   "language": "python",
   "name": "gedi"
  },
  "language_info": {
   "codemirror_mode": {
    "name": "ipython",
    "version": 3
   },
   "file_extension": ".py",
   "mimetype": "text/x-python",
   "name": "python",
   "nbconvert_exporter": "python",
   "pygments_lexer": "ipython3",
   "version": "3.12.2"
  }
 },
 "nbformat": 4,
 "nbformat_minor": 2
}
