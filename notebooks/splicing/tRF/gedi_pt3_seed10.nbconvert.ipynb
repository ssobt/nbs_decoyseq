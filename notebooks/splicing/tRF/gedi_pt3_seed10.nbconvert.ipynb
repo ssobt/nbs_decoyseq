{
 "cells": [
  {
   "cell_type": "code",
   "execution_count": 1,
   "metadata": {
    "execution": {
     "iopub.execute_input": "2024-03-18T05:38:25.152375Z",
     "iopub.status.busy": "2024-03-18T05:38:25.149176Z",
     "iopub.status.idle": "2024-03-18T05:38:25.180478Z",
     "shell.execute_reply": "2024-03-18T05:38:25.178560Z"
    },
    "vscode": {
     "languageId": "r"
    }
   },
   "outputs": [],
   "source": [
    "## Notebook env: gedi (R kernel)\n",
    "## GEDI pt.3 - runs GEDI to find spliced/unspliced ratio of genes across perturbations\n",
    "## this notebook continues the analysis with sampling cells per guide to remove bias from high cell count guides"
   ]
  },
  {
   "cell_type": "code",
   "execution_count": 2,
   "metadata": {
    "execution": {
     "iopub.execute_input": "2024-03-18T05:38:25.218470Z",
     "iopub.status.busy": "2024-03-18T05:38:25.185173Z",
     "iopub.status.idle": "2024-03-18T05:38:33.619445Z",
     "shell.execute_reply": "2024-03-18T05:38:33.617716Z"
    },
    "vscode": {
     "languageId": "r"
    }
   },
   "outputs": [
    {
     "name": "stderr",
     "output_type": "stream",
     "text": [
      "\n",
      "Attaching package: ‘dplyr’\n",
      "\n",
      "\n"
     ]
    },
    {
     "name": "stderr",
     "output_type": "stream",
     "text": [
      "The following objects are masked from ‘package:stats’:\n",
      "\n",
      "    filter, lag\n",
      "\n",
      "\n"
     ]
    },
    {
     "name": "stderr",
     "output_type": "stream",
     "text": [
      "The following objects are masked from ‘package:base’:\n",
      "\n",
      "    intersect, setdiff, setequal, union\n",
      "\n",
      "\n"
     ]
    },
    {
     "name": "stderr",
     "output_type": "stream",
     "text": [
      "Loading required package: SeuratObject\n",
      "\n"
     ]
    },
    {
     "name": "stderr",
     "output_type": "stream",
     "text": [
      "Loading required package: sp\n",
      "\n"
     ]
    },
    {
     "name": "stderr",
     "output_type": "stream",
     "text": [
      "\n",
      "Attaching package: ‘SeuratObject’\n",
      "\n",
      "\n"
     ]
    },
    {
     "name": "stderr",
     "output_type": "stream",
     "text": [
      "The following object is masked from ‘package:base’:\n",
      "\n",
      "    intersect\n",
      "\n",
      "\n"
     ]
    },
    {
     "name": "stderr",
     "output_type": "stream",
     "text": [
      "Loading required package: DelayedArray\n",
      "\n"
     ]
    },
    {
     "name": "stderr",
     "output_type": "stream",
     "text": [
      "Loading required package: stats4\n",
      "\n"
     ]
    },
    {
     "name": "stderr",
     "output_type": "stream",
     "text": [
      "Loading required package: Matrix\n",
      "\n"
     ]
    },
    {
     "name": "stderr",
     "output_type": "stream",
     "text": [
      "\n",
      "Attaching package: ‘Matrix’\n",
      "\n",
      "\n"
     ]
    },
    {
     "name": "stderr",
     "output_type": "stream",
     "text": [
      "The following objects are masked from ‘package:tidyr’:\n",
      "\n",
      "    expand, pack, unpack\n",
      "\n",
      "\n"
     ]
    },
    {
     "name": "stderr",
     "output_type": "stream",
     "text": [
      "Loading required package: BiocGenerics\n",
      "\n"
     ]
    },
    {
     "name": "stderr",
     "output_type": "stream",
     "text": [
      "\n",
      "Attaching package: ‘BiocGenerics’\n",
      "\n",
      "\n"
     ]
    },
    {
     "name": "stderr",
     "output_type": "stream",
     "text": [
      "The following object is masked from ‘package:SeuratObject’:\n",
      "\n",
      "    intersect\n",
      "\n",
      "\n"
     ]
    },
    {
     "name": "stderr",
     "output_type": "stream",
     "text": [
      "The following objects are masked from ‘package:dplyr’:\n",
      "\n",
      "    combine, intersect, setdiff, union\n",
      "\n",
      "\n"
     ]
    },
    {
     "name": "stderr",
     "output_type": "stream",
     "text": [
      "The following objects are masked from ‘package:stats’:\n",
      "\n",
      "    IQR, mad, sd, var, xtabs\n",
      "\n",
      "\n"
     ]
    },
    {
     "name": "stderr",
     "output_type": "stream",
     "text": [
      "The following objects are masked from ‘package:base’:\n",
      "\n",
      "    anyDuplicated, aperm, append, as.data.frame, basename, cbind,\n",
      "    colnames, dirname, do.call, duplicated, eval, evalq, Filter, Find,\n",
      "    get, grep, grepl, intersect, is.unsorted, lapply, Map, mapply,\n",
      "    match, mget, order, paste, pmax, pmax.int, pmin, pmin.int,\n",
      "    Position, rank, rbind, Reduce, rownames, sapply, setdiff, sort,\n",
      "    table, tapply, union, unique, unsplit, which.max, which.min\n",
      "\n",
      "\n"
     ]
    },
    {
     "name": "stderr",
     "output_type": "stream",
     "text": [
      "Loading required package: MatrixGenerics\n",
      "\n"
     ]
    },
    {
     "name": "stderr",
     "output_type": "stream",
     "text": [
      "Loading required package: matrixStats\n",
      "\n"
     ]
    },
    {
     "name": "stderr",
     "output_type": "stream",
     "text": [
      "\n",
      "Attaching package: ‘matrixStats’\n",
      "\n",
      "\n"
     ]
    },
    {
     "name": "stderr",
     "output_type": "stream",
     "text": [
      "The following object is masked from ‘package:dplyr’:\n",
      "\n",
      "    count\n",
      "\n",
      "\n"
     ]
    },
    {
     "name": "stderr",
     "output_type": "stream",
     "text": [
      "\n",
      "Attaching package: ‘MatrixGenerics’\n",
      "\n",
      "\n"
     ]
    },
    {
     "name": "stderr",
     "output_type": "stream",
     "text": [
      "The following objects are masked from ‘package:matrixStats’:\n",
      "\n",
      "    colAlls, colAnyNAs, colAnys, colAvgsPerRowSet, colCollapse,\n",
      "    colCounts, colCummaxs, colCummins, colCumprods, colCumsums,\n",
      "    colDiffs, colIQRDiffs, colIQRs, colLogSumExps, colMadDiffs,\n",
      "    colMads, colMaxs, colMeans2, colMedians, colMins, colOrderStats,\n",
      "    colProds, colQuantiles, colRanges, colRanks, colSdDiffs, colSds,\n",
      "    colSums2, colTabulates, colVarDiffs, colVars, colWeightedMads,\n",
      "    colWeightedMeans, colWeightedMedians, colWeightedSds,\n",
      "    colWeightedVars, rowAlls, rowAnyNAs, rowAnys, rowAvgsPerColSet,\n",
      "    rowCollapse, rowCounts, rowCummaxs, rowCummins, rowCumprods,\n",
      "    rowCumsums, rowDiffs, rowIQRDiffs, rowIQRs, rowLogSumExps,\n",
      "    rowMadDiffs, rowMads, rowMaxs, rowMeans2, rowMedians, rowMins,\n",
      "    rowOrderStats, rowProds, rowQuantiles, rowRanges, rowRanks,\n",
      "    rowSdDiffs, rowSds, rowSums2, rowTabulates, rowVarDiffs, rowVars,\n",
      "    rowWeightedMads, rowWeightedMeans, rowWeightedMedians,\n",
      "    rowWeightedSds, rowWeightedVars\n",
      "\n",
      "\n"
     ]
    },
    {
     "name": "stderr",
     "output_type": "stream",
     "text": [
      "Loading required package: S4Vectors\n",
      "\n"
     ]
    },
    {
     "name": "stderr",
     "output_type": "stream",
     "text": [
      "\n",
      "Attaching package: ‘S4Vectors’\n",
      "\n",
      "\n"
     ]
    },
    {
     "name": "stderr",
     "output_type": "stream",
     "text": [
      "The following objects are masked from ‘package:Matrix’:\n",
      "\n",
      "    expand, unname\n",
      "\n",
      "\n"
     ]
    },
    {
     "name": "stderr",
     "output_type": "stream",
     "text": [
      "The following object is masked from ‘package:tidyr’:\n",
      "\n",
      "    expand\n",
      "\n",
      "\n"
     ]
    },
    {
     "name": "stderr",
     "output_type": "stream",
     "text": [
      "The following objects are masked from ‘package:dplyr’:\n",
      "\n",
      "    first, rename\n",
      "\n",
      "\n"
     ]
    },
    {
     "name": "stderr",
     "output_type": "stream",
     "text": [
      "The following object is masked from ‘package:utils’:\n",
      "\n",
      "    findMatches\n",
      "\n",
      "\n"
     ]
    },
    {
     "name": "stderr",
     "output_type": "stream",
     "text": [
      "The following objects are masked from ‘package:base’:\n",
      "\n",
      "    expand.grid, I, unname\n",
      "\n",
      "\n"
     ]
    },
    {
     "name": "stderr",
     "output_type": "stream",
     "text": [
      "Loading required package: IRanges\n",
      "\n"
     ]
    },
    {
     "name": "stderr",
     "output_type": "stream",
     "text": [
      "\n",
      "Attaching package: ‘IRanges’\n",
      "\n",
      "\n"
     ]
    },
    {
     "name": "stderr",
     "output_type": "stream",
     "text": [
      "The following object is masked from ‘package:sp’:\n",
      "\n",
      "    %over%\n",
      "\n",
      "\n"
     ]
    },
    {
     "name": "stderr",
     "output_type": "stream",
     "text": [
      "The following objects are masked from ‘package:dplyr’:\n",
      "\n",
      "    collapse, desc, slice\n",
      "\n",
      "\n"
     ]
    },
    {
     "name": "stderr",
     "output_type": "stream",
     "text": [
      "Loading required package: S4Arrays\n",
      "\n"
     ]
    },
    {
     "name": "stderr",
     "output_type": "stream",
     "text": [
      "Loading required package: abind\n",
      "\n"
     ]
    },
    {
     "name": "stderr",
     "output_type": "stream",
     "text": [
      "\n",
      "Attaching package: ‘S4Arrays’\n",
      "\n",
      "\n"
     ]
    },
    {
     "name": "stderr",
     "output_type": "stream",
     "text": [
      "The following object is masked from ‘package:abind’:\n",
      "\n",
      "    abind\n",
      "\n",
      "\n"
     ]
    },
    {
     "name": "stderr",
     "output_type": "stream",
     "text": [
      "The following object is masked from ‘package:base’:\n",
      "\n",
      "    rowsum\n",
      "\n",
      "\n"
     ]
    },
    {
     "name": "stderr",
     "output_type": "stream",
     "text": [
      "Loading required package: SparseArray\n",
      "\n"
     ]
    },
    {
     "name": "stderr",
     "output_type": "stream",
     "text": [
      "\n",
      "Attaching package: ‘DelayedArray’\n",
      "\n",
      "\n"
     ]
    },
    {
     "name": "stderr",
     "output_type": "stream",
     "text": [
      "The following objects are masked from ‘package:base’:\n",
      "\n",
      "    apply, scale, sweep\n",
      "\n",
      "\n"
     ]
    },
    {
     "name": "stderr",
     "output_type": "stream",
     "text": [
      "Loading required package: rhdf5\n",
      "\n"
     ]
    },
    {
     "name": "stderr",
     "output_type": "stream",
     "text": [
      "\n",
      "Attaching package: ‘HDF5Array’\n",
      "\n",
      "\n"
     ]
    },
    {
     "name": "stderr",
     "output_type": "stream",
     "text": [
      "The following object is masked from ‘package:rhdf5’:\n",
      "\n",
      "    h5ls\n",
      "\n",
      "\n"
     ]
    }
   ],
   "source": [
    ".libPaths('/home/ssobti/projects/mir_tud/packages/gedi_R_pkgs')\n",
    "\n",
    "## install packages below into env if not already installed\n",
    "## remotes::install_github('csglab/GEDI', lib = '/home/ssobti/projects/mir_tud/packages/gedi_R_pkgs')\n",
    "seed_index = 10\n",
    "seeds = c(123, 456, 789, 101112, 131415, 161718, 192021, 222324, 252627, 282930)\n",
    "picked_seed = seeds[seed_index]\n",
    "\n",
    "library(dplyr)\n",
    "library(tidyr)\n",
    "library(Seurat)\n",
    "library(HDF5Array)\n",
    "library(ggplot2)\n",
    "library(Matrix)\n",
    "library(RColorBrewer)\n",
    "library(uwot)\n",
    "library(GEDI)\n",
    "library(SeuratWrappers)"
   ]
  },
  {
   "cell_type": "code",
   "execution_count": 3,
   "metadata": {
    "execution": {
     "iopub.execute_input": "2024-03-18T05:38:33.625610Z",
     "iopub.status.busy": "2024-03-18T05:38:33.623948Z",
     "iopub.status.idle": "2024-03-18T05:39:47.450310Z",
     "shell.execute_reply": "2024-03-18T05:39:47.448511Z"
    },
    "vscode": {
     "languageId": "r"
    }
   },
   "outputs": [],
   "source": [
    "model = readRDS('/home/ssobti/projects/mir_tud/output_data/splicing/tRF/tRF_gedi_model.rds')"
   ]
  },
  {
   "cell_type": "code",
   "execution_count": 4,
   "metadata": {
    "execution": {
     "iopub.execute_input": "2024-03-18T05:39:47.459028Z",
     "iopub.status.busy": "2024-03-18T05:39:47.457774Z",
     "iopub.status.idle": "2024-03-18T05:39:58.480412Z",
     "shell.execute_reply": "2024-03-18T05:39:58.478935Z"
    },
    "vscode": {
     "languageId": "r"
    }
   },
   "outputs": [
    {
     "data": {
      "text/html": [
       "<style>\n",
       ".list-inline {list-style: none; margin:0; padding: 0}\n",
       ".list-inline>li {display: inline-block}\n",
       ".list-inline>li:not(:last-child)::after {content: \"\\00b7\"; padding: 0 .5ex}\n",
       "</style>\n",
       "<ol class=list-inline><li>5905</li><li>56074</li></ol>\n"
      ],
      "text/latex": [
       "\\begin{enumerate*}\n",
       "\\item 5905\n",
       "\\item 56074\n",
       "\\end{enumerate*}\n"
      ],
      "text/markdown": [
       "1. 5905\n",
       "2. 56074\n",
       "\n",
       "\n"
      ],
      "text/plain": [
       "[1]  5905 56074"
      ]
     },
     "metadata": {},
     "output_type": "display_data"
    }
   ],
   "source": [
    "## get RNA stability (spliced/unspliced counts) from gedi model -- imputedY (logt of psi values)\n",
    "imputedY <- getY.gedi(model)\n",
    "RNA_stability_mtx = imputedY\n",
    "dim(RNA_stability_mtx)"
   ]
  },
  {
   "cell_type": "markdown",
   "metadata": {},
   "source": [
    "### assign cells guide identity"
   ]
  },
  {
   "cell_type": "code",
   "execution_count": 5,
   "metadata": {
    "execution": {
     "iopub.execute_input": "2024-03-18T05:39:58.486230Z",
     "iopub.status.busy": "2024-03-18T05:39:58.485056Z",
     "iopub.status.idle": "2024-03-18T05:40:20.211980Z",
     "shell.execute_reply": "2024-03-18T05:40:20.210013Z"
    },
    "vscode": {
     "languageId": "r"
    }
   },
   "outputs": [
    {
     "data": {
      "text/html": [
       "<table class=\"dataframe\">\n",
       "<caption>A data.frame: 6 × 21</caption>\n",
       "<thead>\n",
       "\t<tr><th></th><th scope=col>orig.ident</th><th scope=col>nCount_RNA</th><th scope=col>nFeature_RNA</th><th scope=col>sample</th><th scope=col>barcode</th><th scope=col>guide</th><th scope=col>lor</th><th scope=col>pvalue</th><th scope=col>adj_pvalue</th><th scope=col>max_umi</th><th scope=col>⋯</th><th scope=col>m_umi</th><th scope=col>v_umi</th><th scope=col>log_max_umi</th><th scope=col>log_n_umi</th><th scope=col>log_m_umi</th><th scope=col>percent.mt</th><th scope=col>integrated_snn_res.0.5</th><th scope=col>seurat_clusters</th><th scope=col>guide_group</th><th scope=col>cell_names</th></tr>\n",
       "\t<tr><th></th><th scope=col>&lt;chr&gt;</th><th scope=col>&lt;dbl&gt;</th><th scope=col>&lt;int&gt;</th><th scope=col>&lt;chr&gt;</th><th scope=col>&lt;chr&gt;</th><th scope=col>&lt;chr&gt;</th><th scope=col>&lt;dbl&gt;</th><th scope=col>&lt;dbl&gt;</th><th scope=col>&lt;dbl&gt;</th><th scope=col>&lt;dbl&gt;</th><th scope=col>⋯</th><th scope=col>&lt;dbl&gt;</th><th scope=col>&lt;dbl&gt;</th><th scope=col>&lt;dbl&gt;</th><th scope=col>&lt;dbl&gt;</th><th scope=col>&lt;dbl&gt;</th><th scope=col>&lt;dbl&gt;</th><th scope=col>&lt;fct&gt;</th><th scope=col>&lt;chr&gt;</th><th scope=col>&lt;chr&gt;</th><th scope=col>&lt;chr&gt;</th></tr>\n",
       "</thead>\n",
       "<tbody>\n",
       "\t<tr><th scope=row>tRF_1:AAACCCAAGGCCTTGC-1</th><td>tRF</td><td>20239</td><td>5372</td><td>tRF_1</td><td>AAACCCAAGGCCTTGC</td><td>TuD_NC_01    </td><td>2.144148</td><td> 1.652448e-15</td><td> 8.377661e-09</td><td> 23</td><td>⋯</td><td>0.1506849</td><td>  2.458841</td><td>1.361728</td><td>1.518514</td><td>-0.82193017</td><td>6.363951</td><td>4</td><td>control</td><td>control</td><td>tRF_1:AAACCCAAGGCCTTGC</td></tr>\n",
       "\t<tr><th scope=row>tRF_1:AAACCCACATATACCG-1</th><td>tRF</td><td>35201</td><td>7086</td><td>tRF_1</td><td>AAACCCACATATACCG</td><td>tRF_Arg_ACG_2</td><td>7.473168</td><td>2.865581e-322</td><td>1.452806e-315</td><td>182</td><td>⋯</td><td>0.9771689</td><td>151.260944</td><td>2.260071</td><td>2.330414</td><td>-0.01003034</td><td>6.295276</td><td>3</td><td>T3     </td><td>target </td><td>tRF_1:AAACCCACATATACCG</td></tr>\n",
       "\t<tr><th scope=row>tRF_1:AAACCCACATGACAGG-1</th><td>tRF</td><td>32207</td><td>6695</td><td>tRF_1</td><td>AAACCCACATGACAGG</td><td>TuD_NC_01    </td><td>2.336330</td><td> 3.615579e-22</td><td> 1.833044e-15</td><td> 36</td><td>⋯</td><td>0.2420091</td><td>  5.973273</td><td>1.556303</td><td>1.724276</td><td>-0.61616825</td><td>6.237774</td><td>1</td><td>control</td><td>control</td><td>tRF_1:AAACCCACATGACAGG</td></tr>\n",
       "\t<tr><th scope=row>tRF_1:AAACCCACATGACGGA-1</th><td>tRF</td><td>38017</td><td>7151</td><td>tRF_1</td><td>AAACCCACATGACGGA</td><td>tRF_Arg_ACG_2</td><td>1.160519</td><td>2.865581e-322</td><td>1.452806e-315</td><td>214</td><td>⋯</td><td>1.6986301</td><td>237.780319</td><td>2.330414</td><td>2.570543</td><td> 0.23009883</td><td>6.831154</td><td>3</td><td>T3     </td><td>target </td><td>tRF_1:AAACCCACATGACGGA</td></tr>\n",
       "\t<tr><th scope=row>tRF_1:AAACCCAGTCAACCAT-1</th><td>tRF</td><td>28633</td><td>6505</td><td>tRF_1</td><td>AAACCCAGTCAACCAT</td><td>TuD_NC_01    </td><td>3.011825</td><td> 9.624496e-26</td><td> 4.879475e-19</td><td> 38</td><td>⋯</td><td>0.2328767</td><td>  6.638180</td><td>1.579784</td><td>1.707570</td><td>-0.63287394</td><td>8.619425</td><td>4</td><td>control</td><td>control</td><td>tRF_1:AAACCCAGTCAACCAT</td></tr>\n",
       "\t<tr><th scope=row>tRF_1:AAACCCAGTTATCTTC-1</th><td>tRF</td><td>28000</td><td>6688</td><td>tRF_1</td><td>AAACCCAGTTATCTTC</td><td>tRF_Glu_CTC_2</td><td>4.656560</td><td>7.086097e-135</td><td>3.592545e-128</td><td> 69</td><td>⋯</td><td>0.4018265</td><td> 21.984584</td><td>1.838849</td><td>1.944483</td><td>-0.39596144</td><td>6.617857</td><td>2</td><td>T2     </td><td>target </td><td>tRF_1:AAACCCAGTTATCTTC</td></tr>\n",
       "</tbody>\n",
       "</table>\n"
      ],
      "text/latex": [
       "A data.frame: 6 × 21\n",
       "\\begin{tabular}{r|lllllllllllllllllllll}\n",
       "  & orig.ident & nCount\\_RNA & nFeature\\_RNA & sample & barcode & guide & lor & pvalue & adj\\_pvalue & max\\_umi & ⋯ & m\\_umi & v\\_umi & log\\_max\\_umi & log\\_n\\_umi & log\\_m\\_umi & percent.mt & integrated\\_snn\\_res.0.5 & seurat\\_clusters & guide\\_group & cell\\_names\\\\\n",
       "  & <chr> & <dbl> & <int> & <chr> & <chr> & <chr> & <dbl> & <dbl> & <dbl> & <dbl> & ⋯ & <dbl> & <dbl> & <dbl> & <dbl> & <dbl> & <dbl> & <fct> & <chr> & <chr> & <chr>\\\\\n",
       "\\hline\n",
       "\ttRF\\_1:AAACCCAAGGCCTTGC-1 & tRF & 20239 & 5372 & tRF\\_1 & AAACCCAAGGCCTTGC & TuD\\_NC\\_01     & 2.144148 &  1.652448e-15 &  8.377661e-09 &  23 & ⋯ & 0.1506849 &   2.458841 & 1.361728 & 1.518514 & -0.82193017 & 6.363951 & 4 & control & control & tRF\\_1:AAACCCAAGGCCTTGC\\\\\n",
       "\ttRF\\_1:AAACCCACATATACCG-1 & tRF & 35201 & 7086 & tRF\\_1 & AAACCCACATATACCG & tRF\\_Arg\\_ACG\\_2 & 7.473168 & 2.865581e-322 & 1.452806e-315 & 182 & ⋯ & 0.9771689 & 151.260944 & 2.260071 & 2.330414 & -0.01003034 & 6.295276 & 3 & T3      & target  & tRF\\_1:AAACCCACATATACCG\\\\\n",
       "\ttRF\\_1:AAACCCACATGACAGG-1 & tRF & 32207 & 6695 & tRF\\_1 & AAACCCACATGACAGG & TuD\\_NC\\_01     & 2.336330 &  3.615579e-22 &  1.833044e-15 &  36 & ⋯ & 0.2420091 &   5.973273 & 1.556303 & 1.724276 & -0.61616825 & 6.237774 & 1 & control & control & tRF\\_1:AAACCCACATGACAGG\\\\\n",
       "\ttRF\\_1:AAACCCACATGACGGA-1 & tRF & 38017 & 7151 & tRF\\_1 & AAACCCACATGACGGA & tRF\\_Arg\\_ACG\\_2 & 1.160519 & 2.865581e-322 & 1.452806e-315 & 214 & ⋯ & 1.6986301 & 237.780319 & 2.330414 & 2.570543 &  0.23009883 & 6.831154 & 3 & T3      & target  & tRF\\_1:AAACCCACATGACGGA\\\\\n",
       "\ttRF\\_1:AAACCCAGTCAACCAT-1 & tRF & 28633 & 6505 & tRF\\_1 & AAACCCAGTCAACCAT & TuD\\_NC\\_01     & 3.011825 &  9.624496e-26 &  4.879475e-19 &  38 & ⋯ & 0.2328767 &   6.638180 & 1.579784 & 1.707570 & -0.63287394 & 8.619425 & 4 & control & control & tRF\\_1:AAACCCAGTCAACCAT\\\\\n",
       "\ttRF\\_1:AAACCCAGTTATCTTC-1 & tRF & 28000 & 6688 & tRF\\_1 & AAACCCAGTTATCTTC & tRF\\_Glu\\_CTC\\_2 & 4.656560 & 7.086097e-135 & 3.592545e-128 &  69 & ⋯ & 0.4018265 &  21.984584 & 1.838849 & 1.944483 & -0.39596144 & 6.617857 & 2 & T2      & target  & tRF\\_1:AAACCCAGTTATCTTC\\\\\n",
       "\\end{tabular}\n"
      ],
      "text/markdown": [
       "\n",
       "A data.frame: 6 × 21\n",
       "\n",
       "| <!--/--> | orig.ident &lt;chr&gt; | nCount_RNA &lt;dbl&gt; | nFeature_RNA &lt;int&gt; | sample &lt;chr&gt; | barcode &lt;chr&gt; | guide &lt;chr&gt; | lor &lt;dbl&gt; | pvalue &lt;dbl&gt; | adj_pvalue &lt;dbl&gt; | max_umi &lt;dbl&gt; | ⋯ ⋯ | m_umi &lt;dbl&gt; | v_umi &lt;dbl&gt; | log_max_umi &lt;dbl&gt; | log_n_umi &lt;dbl&gt; | log_m_umi &lt;dbl&gt; | percent.mt &lt;dbl&gt; | integrated_snn_res.0.5 &lt;fct&gt; | seurat_clusters &lt;chr&gt; | guide_group &lt;chr&gt; | cell_names &lt;chr&gt; |\n",
       "|---|---|---|---|---|---|---|---|---|---|---|---|---|---|---|---|---|---|---|---|---|---|\n",
       "| tRF_1:AAACCCAAGGCCTTGC-1 | tRF | 20239 | 5372 | tRF_1 | AAACCCAAGGCCTTGC | TuD_NC_01     | 2.144148 |  1.652448e-15 |  8.377661e-09 |  23 | ⋯ | 0.1506849 |   2.458841 | 1.361728 | 1.518514 | -0.82193017 | 6.363951 | 4 | control | control | tRF_1:AAACCCAAGGCCTTGC |\n",
       "| tRF_1:AAACCCACATATACCG-1 | tRF | 35201 | 7086 | tRF_1 | AAACCCACATATACCG | tRF_Arg_ACG_2 | 7.473168 | 2.865581e-322 | 1.452806e-315 | 182 | ⋯ | 0.9771689 | 151.260944 | 2.260071 | 2.330414 | -0.01003034 | 6.295276 | 3 | T3      | target  | tRF_1:AAACCCACATATACCG |\n",
       "| tRF_1:AAACCCACATGACAGG-1 | tRF | 32207 | 6695 | tRF_1 | AAACCCACATGACAGG | TuD_NC_01     | 2.336330 |  3.615579e-22 |  1.833044e-15 |  36 | ⋯ | 0.2420091 |   5.973273 | 1.556303 | 1.724276 | -0.61616825 | 6.237774 | 1 | control | control | tRF_1:AAACCCACATGACAGG |\n",
       "| tRF_1:AAACCCACATGACGGA-1 | tRF | 38017 | 7151 | tRF_1 | AAACCCACATGACGGA | tRF_Arg_ACG_2 | 1.160519 | 2.865581e-322 | 1.452806e-315 | 214 | ⋯ | 1.6986301 | 237.780319 | 2.330414 | 2.570543 |  0.23009883 | 6.831154 | 3 | T3      | target  | tRF_1:AAACCCACATGACGGA |\n",
       "| tRF_1:AAACCCAGTCAACCAT-1 | tRF | 28633 | 6505 | tRF_1 | AAACCCAGTCAACCAT | TuD_NC_01     | 3.011825 |  9.624496e-26 |  4.879475e-19 |  38 | ⋯ | 0.2328767 |   6.638180 | 1.579784 | 1.707570 | -0.63287394 | 8.619425 | 4 | control | control | tRF_1:AAACCCAGTCAACCAT |\n",
       "| tRF_1:AAACCCAGTTATCTTC-1 | tRF | 28000 | 6688 | tRF_1 | AAACCCAGTTATCTTC | tRF_Glu_CTC_2 | 4.656560 | 7.086097e-135 | 3.592545e-128 |  69 | ⋯ | 0.4018265 |  21.984584 | 1.838849 | 1.944483 | -0.39596144 | 6.617857 | 2 | T2      | target  | tRF_1:AAACCCAGTTATCTTC |\n",
       "\n"
      ],
      "text/plain": [
       "                         orig.ident nCount_RNA nFeature_RNA sample\n",
       "tRF_1:AAACCCAAGGCCTTGC-1 tRF        20239      5372         tRF_1 \n",
       "tRF_1:AAACCCACATATACCG-1 tRF        35201      7086         tRF_1 \n",
       "tRF_1:AAACCCACATGACAGG-1 tRF        32207      6695         tRF_1 \n",
       "tRF_1:AAACCCACATGACGGA-1 tRF        38017      7151         tRF_1 \n",
       "tRF_1:AAACCCAGTCAACCAT-1 tRF        28633      6505         tRF_1 \n",
       "tRF_1:AAACCCAGTTATCTTC-1 tRF        28000      6688         tRF_1 \n",
       "                         barcode          guide         lor      pvalue       \n",
       "tRF_1:AAACCCAAGGCCTTGC-1 AAACCCAAGGCCTTGC TuD_NC_01     2.144148  1.652448e-15\n",
       "tRF_1:AAACCCACATATACCG-1 AAACCCACATATACCG tRF_Arg_ACG_2 7.473168 2.865581e-322\n",
       "tRF_1:AAACCCACATGACAGG-1 AAACCCACATGACAGG TuD_NC_01     2.336330  3.615579e-22\n",
       "tRF_1:AAACCCACATGACGGA-1 AAACCCACATGACGGA tRF_Arg_ACG_2 1.160519 2.865581e-322\n",
       "tRF_1:AAACCCAGTCAACCAT-1 AAACCCAGTCAACCAT TuD_NC_01     3.011825  9.624496e-26\n",
       "tRF_1:AAACCCAGTTATCTTC-1 AAACCCAGTTATCTTC tRF_Glu_CTC_2 4.656560 7.086097e-135\n",
       "                         adj_pvalue    max_umi ⋯ m_umi     v_umi     \n",
       "tRF_1:AAACCCAAGGCCTTGC-1  8.377661e-09  23     ⋯ 0.1506849   2.458841\n",
       "tRF_1:AAACCCACATATACCG-1 1.452806e-315 182     ⋯ 0.9771689 151.260944\n",
       "tRF_1:AAACCCACATGACAGG-1  1.833044e-15  36     ⋯ 0.2420091   5.973273\n",
       "tRF_1:AAACCCACATGACGGA-1 1.452806e-315 214     ⋯ 1.6986301 237.780319\n",
       "tRF_1:AAACCCAGTCAACCAT-1  4.879475e-19  38     ⋯ 0.2328767   6.638180\n",
       "tRF_1:AAACCCAGTTATCTTC-1 3.592545e-128  69     ⋯ 0.4018265  21.984584\n",
       "                         log_max_umi log_n_umi log_m_umi   percent.mt\n",
       "tRF_1:AAACCCAAGGCCTTGC-1 1.361728    1.518514  -0.82193017 6.363951  \n",
       "tRF_1:AAACCCACATATACCG-1 2.260071    2.330414  -0.01003034 6.295276  \n",
       "tRF_1:AAACCCACATGACAGG-1 1.556303    1.724276  -0.61616825 6.237774  \n",
       "tRF_1:AAACCCACATGACGGA-1 2.330414    2.570543   0.23009883 6.831154  \n",
       "tRF_1:AAACCCAGTCAACCAT-1 1.579784    1.707570  -0.63287394 8.619425  \n",
       "tRF_1:AAACCCAGTTATCTTC-1 1.838849    1.944483  -0.39596144 6.617857  \n",
       "                         integrated_snn_res.0.5 seurat_clusters guide_group\n",
       "tRF_1:AAACCCAAGGCCTTGC-1 4                      control         control    \n",
       "tRF_1:AAACCCACATATACCG-1 3                      T3              target     \n",
       "tRF_1:AAACCCACATGACAGG-1 1                      control         control    \n",
       "tRF_1:AAACCCACATGACGGA-1 3                      T3              target     \n",
       "tRF_1:AAACCCAGTCAACCAT-1 4                      control         control    \n",
       "tRF_1:AAACCCAGTTATCTTC-1 2                      T2              target     \n",
       "                         cell_names            \n",
       "tRF_1:AAACCCAAGGCCTTGC-1 tRF_1:AAACCCAAGGCCTTGC\n",
       "tRF_1:AAACCCACATATACCG-1 tRF_1:AAACCCACATATACCG\n",
       "tRF_1:AAACCCACATGACAGG-1 tRF_1:AAACCCACATGACAGG\n",
       "tRF_1:AAACCCACATGACGGA-1 tRF_1:AAACCCACATGACGGA\n",
       "tRF_1:AAACCCAGTCAACCAT-1 tRF_1:AAACCCAGTCAACCAT\n",
       "tRF_1:AAACCCAGTTATCTTC-1 tRF_1:AAACCCAGTTATCTTC"
      ]
     },
     "metadata": {},
     "output_type": "display_data"
    }
   ],
   "source": [
    "## assign cells guide identity\n",
    "tRF_seurat = readRDS('/home/ssobti/projects/mir_tud/101423_filtered_data/tRF.integrated.qc_norm_scaled.dimred.clustered.gex.guide_assigned.RDS')\n",
    "meta = tRF_seurat@meta.data\n",
    "meta$cell_names = paste(meta$sample, meta$barcode, sep = ':')\n",
    "head(meta)"
   ]
  },
  {
   "cell_type": "code",
   "execution_count": 6,
   "metadata": {
    "execution": {
     "iopub.execute_input": "2024-03-18T05:40:20.218281Z",
     "iopub.status.busy": "2024-03-18T05:40:20.216680Z",
     "iopub.status.idle": "2024-03-18T05:40:21.607763Z",
     "shell.execute_reply": "2024-03-18T05:40:21.605588Z"
    },
    "vscode": {
     "languageId": "r"
    }
   },
   "outputs": [
    {
     "data": {
      "text/html": [
       "<style>\n",
       ".list-inline {list-style: none; margin:0; padding: 0}\n",
       ".list-inline>li {display: inline-block}\n",
       ".list-inline>li:not(:last-child)::after {content: \"\\00b7\"; padding: 0 .5ex}\n",
       "</style>\n",
       "<ol class=list-inline><li>5905</li><li>23321</li></ol>\n"
      ],
      "text/latex": [
       "\\begin{enumerate*}\n",
       "\\item 5905\n",
       "\\item 23321\n",
       "\\end{enumerate*}\n"
      ],
      "text/markdown": [
       "1. 5905\n",
       "2. 23321\n",
       "\n",
       "\n"
      ],
      "text/plain": [
       "[1]  5905 23321"
      ]
     },
     "metadata": {},
     "output_type": "display_data"
    }
   ],
   "source": [
    "## clean up cell names in RNA_stability_mtx\n",
    "RNA_stability_cell_names = stringr::str_sub(colnames(RNA_stability_mtx), start = 1, end = -2)\n",
    "colnames(RNA_stability_mtx) = RNA_stability_cell_names\n",
    "\n",
    "## filter out cells that were not confidentally assigned to a guide\n",
    "RNA_stability_mtx = RNA_stability_mtx[, RNA_stability_cell_names %in% meta$cell_names]\n",
    "RNA_stability_cell_names = colnames(RNA_stability_mtx)\n",
    "dim(RNA_stability_mtx)"
   ]
  },
  {
   "cell_type": "code",
   "execution_count": 7,
   "metadata": {
    "execution": {
     "iopub.execute_input": "2024-03-18T05:40:21.614409Z",
     "iopub.status.busy": "2024-03-18T05:40:21.612773Z",
     "iopub.status.idle": "2024-03-18T05:40:21.656292Z",
     "shell.execute_reply": "2024-03-18T05:40:21.654252Z"
    },
    "vscode": {
     "languageId": "r"
    }
   },
   "outputs": [
    {
     "data": {
      "text/html": [
       "<table class=\"dataframe\">\n",
       "<caption>A data.frame: 6 × 2</caption>\n",
       "<thead>\n",
       "\t<tr><th></th><th scope=col>cell_names</th><th scope=col>guide</th></tr>\n",
       "\t<tr><th></th><th scope=col>&lt;chr&gt;</th><th scope=col>&lt;chr&gt;</th></tr>\n",
       "</thead>\n",
       "<tbody>\n",
       "\t<tr><th scope=row>1</th><td>tRF_1:AAACGAACAGCACAAG</td><td>tRF_1:TuD_NC_01    </td></tr>\n",
       "\t<tr><th scope=row>2</th><td>tRF_1:AAACCCACATGACAGG</td><td>tRF_1:TuD_NC_01    </td></tr>\n",
       "\t<tr><th scope=row>3</th><td>tRF_1:AAACGCTCATTCGGGC</td><td>tRF_1:tRF_Ser_GCT_2</td></tr>\n",
       "\t<tr><th scope=row>4</th><td>tRF_1:AAACGAAGTAGGACTG</td><td>tRF_1:tRF_Leu_TAG_2</td></tr>\n",
       "\t<tr><th scope=row>5</th><td>tRF_1:AAACCCATCCTATGGA</td><td>tRF_1:TuD_NC_01    </td></tr>\n",
       "\t<tr><th scope=row>6</th><td>tRF_1:AAACGAAGTCACTTAG</td><td>tRF_1:TuD_NC_01    </td></tr>\n",
       "</tbody>\n",
       "</table>\n"
      ],
      "text/latex": [
       "A data.frame: 6 × 2\n",
       "\\begin{tabular}{r|ll}\n",
       "  & cell\\_names & guide\\\\\n",
       "  & <chr> & <chr>\\\\\n",
       "\\hline\n",
       "\t1 & tRF\\_1:AAACGAACAGCACAAG & tRF\\_1:TuD\\_NC\\_01    \\\\\n",
       "\t2 & tRF\\_1:AAACCCACATGACAGG & tRF\\_1:TuD\\_NC\\_01    \\\\\n",
       "\t3 & tRF\\_1:AAACGCTCATTCGGGC & tRF\\_1:tRF\\_Ser\\_GCT\\_2\\\\\n",
       "\t4 & tRF\\_1:AAACGAAGTAGGACTG & tRF\\_1:tRF\\_Leu\\_TAG\\_2\\\\\n",
       "\t5 & tRF\\_1:AAACCCATCCTATGGA & tRF\\_1:TuD\\_NC\\_01    \\\\\n",
       "\t6 & tRF\\_1:AAACGAAGTCACTTAG & tRF\\_1:TuD\\_NC\\_01    \\\\\n",
       "\\end{tabular}\n"
      ],
      "text/markdown": [
       "\n",
       "A data.frame: 6 × 2\n",
       "\n",
       "| <!--/--> | cell_names &lt;chr&gt; | guide &lt;chr&gt; |\n",
       "|---|---|---|\n",
       "| 1 | tRF_1:AAACGAACAGCACAAG | tRF_1:TuD_NC_01     |\n",
       "| 2 | tRF_1:AAACCCACATGACAGG | tRF_1:TuD_NC_01     |\n",
       "| 3 | tRF_1:AAACGCTCATTCGGGC | tRF_1:tRF_Ser_GCT_2 |\n",
       "| 4 | tRF_1:AAACGAAGTAGGACTG | tRF_1:tRF_Leu_TAG_2 |\n",
       "| 5 | tRF_1:AAACCCATCCTATGGA | tRF_1:TuD_NC_01     |\n",
       "| 6 | tRF_1:AAACGAAGTCACTTAG | tRF_1:TuD_NC_01     |\n",
       "\n"
      ],
      "text/plain": [
       "  cell_names             guide              \n",
       "1 tRF_1:AAACGAACAGCACAAG tRF_1:TuD_NC_01    \n",
       "2 tRF_1:AAACCCACATGACAGG tRF_1:TuD_NC_01    \n",
       "3 tRF_1:AAACGCTCATTCGGGC tRF_1:tRF_Ser_GCT_2\n",
       "4 tRF_1:AAACGAAGTAGGACTG tRF_1:tRF_Leu_TAG_2\n",
       "5 tRF_1:AAACCCATCCTATGGA tRF_1:TuD_NC_01    \n",
       "6 tRF_1:AAACGAAGTCACTTAG tRF_1:TuD_NC_01    "
      ]
     },
     "metadata": {},
     "output_type": "display_data"
    }
   ],
   "source": [
    "RNA_stability_cell_identity = data.frame(cell_names = RNA_stability_cell_names, guide = meta[match(RNA_stability_cell_names, meta$cell_names), 'guide'])\n",
    "RNA_stability_cell_identity$guide = paste0(stringr::str_sub(RNA_stability_cell_identity$cell_names, 1, 6), RNA_stability_cell_identity$guide)\n",
    "head(RNA_stability_cell_identity)"
   ]
  },
  {
   "cell_type": "code",
   "execution_count": 8,
   "metadata": {
    "execution": {
     "iopub.execute_input": "2024-03-18T05:40:21.662707Z",
     "iopub.status.busy": "2024-03-18T05:40:21.660869Z",
     "iopub.status.idle": "2024-03-18T05:40:21.961183Z",
     "shell.execute_reply": "2024-03-18T05:40:21.958744Z"
    },
    "vscode": {
     "languageId": "r"
    }
   },
   "outputs": [],
   "source": [
    "## sample 30 cells per guide, throw out guides with cells < 30\n",
    "## combiine the three samples into one\n",
    "set.seed(picked_seed)\n",
    "fixed_cell_count = 30\n",
    "RNA_stability_cell_identity$guide = stringr::str_sub(RNA_stability_cell_identity$guide, 7, -1)\n",
    "\n",
    "## remove guides with less than 30 cells\n",
    "table(RNA_stability_cell_identity$guide) %>% as.data.frame() %>% filter(Freq >= fixed_cell_count) -> guides_with_30_cells\n",
    "RNA_stability_cell_identity = RNA_stability_cell_identity[RNA_stability_cell_identity$guide %in% guides_with_30_cells$Var1, ]\n",
    "\n",
    "## sample 30 cells per guide\n",
    "RNA_stability_cell_identity %>% group_by(guide) %>% sample_n(fixed_cell_count) -> sampled_RNA_stability_cell_identity\n",
    "sampled_cells = sampled_RNA_stability_cell_identity$cell_names\n",
    "RNA_stability_mtx = RNA_stability_mtx[, sampled_cells]"
   ]
  },
  {
   "cell_type": "markdown",
   "metadata": {},
   "source": [
    "### create violin plots of RNA stability (spliced/unspliced counts) for top and bottom 5% of guides"
   ]
  },
  {
   "cell_type": "code",
   "execution_count": 9,
   "metadata": {
    "execution": {
     "iopub.execute_input": "2024-03-18T05:40:21.968401Z",
     "iopub.status.busy": "2024-03-18T05:40:21.966742Z",
     "iopub.status.idle": "2024-03-18T05:40:22.621302Z",
     "shell.execute_reply": "2024-03-18T05:40:22.618770Z"
    },
    "vscode": {
     "languageId": "r"
    }
   },
   "outputs": [],
   "source": [
    "## RNA_stability_mtx and RNA_stability_cell_identity are the two inputs for our analysis\n",
    "guides = unique(RNA_stability_cell_identity$guide)\n",
    "\n",
    "\n",
    "barcodes_per_guide = lapply(X = guides, FUN = function(x) {\n",
    "  RNA_stability_cell_identity %>% filter(guide == x) %>% select(cell_names) %>% pull()\n",
    "})\n",
    "\n",
    "names(barcodes_per_guide) = guides"
   ]
  },
  {
   "cell_type": "code",
   "execution_count": 10,
   "metadata": {
    "execution": {
     "iopub.execute_input": "2024-03-18T05:40:22.629343Z",
     "iopub.status.busy": "2024-03-18T05:40:22.627054Z",
     "iopub.status.idle": "2024-03-18T05:40:22.962451Z",
     "shell.execute_reply": "2024-03-18T05:40:22.959551Z"
    },
    "vscode": {
     "languageId": "r"
    }
   },
   "outputs": [],
   "source": [
    "## use rowMedians??? if mostly zeros\n",
    "RNA_stability_values = list()\n",
    "\n",
    "for (i in 1:length(barcodes_per_guide)) {\n",
    "  RNA_stability_values[[i]] = Matrix::rowMeans(RNA_stability_mtx[, colnames(RNA_stability_mtx) %in% barcodes_per_guide[[i]]])\n",
    "}\n",
    "\n",
    "names(RNA_stability_values) = names(barcodes_per_guide)"
   ]
  },
  {
   "cell_type": "code",
   "execution_count": 11,
   "metadata": {
    "execution": {
     "iopub.execute_input": "2024-03-18T05:40:22.970209Z",
     "iopub.status.busy": "2024-03-18T05:40:22.968212Z",
     "iopub.status.idle": "2024-03-18T05:40:24.267984Z",
     "shell.execute_reply": "2024-03-18T05:40:24.265367Z"
    },
    "vscode": {
     "languageId": "r"
    }
   },
   "outputs": [],
   "source": [
    "saveRDS(RNA_stability_values, paste0('/home/ssobti/projects/mir_tud/output_data/splicing/tRF/tRF_gedi_stability_values_seed_', seed_index, '.rds'))"
   ]
  },
  {
   "cell_type": "code",
   "execution_count": 12,
   "metadata": {
    "execution": {
     "iopub.execute_input": "2024-03-18T05:40:24.275903Z",
     "iopub.status.busy": "2024-03-18T05:40:24.273820Z",
     "iopub.status.idle": "2024-03-18T05:40:24.363409Z",
     "shell.execute_reply": "2024-03-18T05:40:24.360583Z"
    },
    "vscode": {
     "languageId": "r"
    }
   },
   "outputs": [],
   "source": [
    "## find top 1% and bottom 1% of guides by median of genes in each guide\n",
    "medians = lapply(RNA_stability_values, median)\n",
    "bottom = names(medians[as.numeric(medians) < quantile(as.numeric(medians), probs = 0.01)])\n",
    "top = names(medians[as.numeric(medians) > quantile(as.numeric(medians), probs = 0.99)])\n",
    "displayed_guides = c(bottom, top)"
   ]
  },
  {
   "cell_type": "code",
   "execution_count": 13,
   "metadata": {
    "execution": {
     "iopub.execute_input": "2024-03-18T05:40:24.370450Z",
     "iopub.status.busy": "2024-03-18T05:40:24.368319Z",
     "iopub.status.idle": "2024-03-18T05:40:24.424128Z",
     "shell.execute_reply": "2024-03-18T05:40:24.421504Z"
    },
    "vscode": {
     "languageId": "r"
    }
   },
   "outputs": [],
   "source": [
    "violin_df = do.call(cbind, RNA_stability_values[displayed_guides])\n",
    "violin_df = as.data.frame(violin_df) %>% pivot_longer(cols = everything(), names_to = 'guide', values_to = 'RNA_stability')\n",
    "ordered_guides = violin_df %>% group_by(guide) %>% summarize(median = median(RNA_stability), .groups = 'drop') %>% arrange(median) %>% pull(guide)\n",
    "violin_df$guide = factor(violin_df$guide, levels = ordered_guides)"
   ]
  },
  {
   "cell_type": "code",
   "execution_count": 14,
   "metadata": {
    "execution": {
     "iopub.execute_input": "2024-03-18T05:40:24.431133Z",
     "iopub.status.busy": "2024-03-18T05:40:24.429218Z",
     "iopub.status.idle": "2024-03-18T05:40:25.019528Z",
     "shell.execute_reply": "2024-03-18T05:40:25.017179Z"
    },
    "vscode": {
     "languageId": "r"
    }
   },
   "outputs": [
    {
     "data": {
      "image/png": "[encoded data removed]",
      "text/plain": [
       "plot without title"
      ]
     },
     "metadata": {
      "image/png": {
       "height": 420,
       "width": 420
      }
     },
     "output_type": "display_data"
    }
   ],
   "source": [
    "violin_df %>% ggplot(aes(x = guide, y = RNA_stability)) + geom_violin() + theme(axis.text.x = element_text(angle = 90, hjust = 1)) + ggtitle('RNA stability (spliced/unspliced counts)')"
   ]
  },
  {
   "cell_type": "code",
   "execution_count": null,
   "metadata": {
    "vscode": {
     "languageId": "r"
    }
   },
   "outputs": [],
   "source": []
  },
  {
   "cell_type": "code",
   "execution_count": null,
   "metadata": {
    "vscode": {
     "languageId": "r"
    }
   },
   "outputs": [],
   "source": []
  },
  {
   "cell_type": "code",
   "execution_count": null,
   "metadata": {
    "vscode": {
     "languageId": "r"
    }
   },
   "outputs": [],
   "source": []
  }
 ],
 "metadata": {
  "kernelspec": {
   "display_name": "R",
   "language": "R",
   "name": "ir"
  },
  "language_info": {
   "codemirror_mode": "r",
   "file_extension": ".r",
   "mimetype": "text/x-r-source",
   "name": "R",
   "pygments_lexer": "r",
   "version": "4.3.3"
  }
 },
 "nbformat": 4,
 "nbformat_minor": 2
}
