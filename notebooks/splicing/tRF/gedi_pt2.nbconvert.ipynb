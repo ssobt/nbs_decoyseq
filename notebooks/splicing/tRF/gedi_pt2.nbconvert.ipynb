{
 "cells": [
  {
   "cell_type": "code",
   "execution_count": 1,
   "metadata": {
    "execution": {
     "iopub.execute_input": "2024-03-17T01:33:51.213154Z",
     "iopub.status.busy": "2024-03-17T01:33:51.210062Z",
     "iopub.status.idle": "2024-03-17T01:33:51.239676Z",
     "shell.execute_reply": "2024-03-17T01:33:51.237988Z"
    },
    "vscode": {
     "languageId": "r"
    }
   },
   "outputs": [],
   "source": [
    "## Notebook env: gedi (R kernel)\n",
    "## GEDI pt.2 - runs GEDI to find spliced/unspliced ratio of genes across perturbations\n",
    "\n",
    "## get the unspliced and spliced counts mtxs for each of tRF_1, tRF_2, tRF_3\n",
    "## combine all unspliced mtxs and alle spliced mtxs into two final mtxs (save with scanpy)\n",
    "## read into R the two mtxs with scrattch.io::read_loom_dgCMatrix, input into gedi\n",
    "\n",
    "## then take imputed psi values (spliced/unspliced counts -- RNA stability) from gedi model and make violin plots of them as drawn in RM2"
   ]
  },
  {
   "cell_type": "code",
   "execution_count": 2,
   "metadata": {
    "execution": {
     "iopub.execute_input": "2024-03-17T01:33:51.274712Z",
     "iopub.status.busy": "2024-03-17T01:33:51.243479Z",
     "iopub.status.idle": "2024-03-17T01:33:59.468919Z",
     "shell.execute_reply": "2024-03-17T01:33:59.466843Z"
    },
    "vscode": {
     "languageId": "r"
    }
   },
   "outputs": [
    {
     "name": "stderr",
     "output_type": "stream",
     "text": [
      "Loading required package: DelayedArray\n",
      "\n"
     ]
    },
    {
     "name": "stderr",
     "output_type": "stream",
     "text": [
      "Loading required package: stats4\n",
      "\n"
     ]
    },
    {
     "name": "stderr",
     "output_type": "stream",
     "text": [
      "Loading required package: Matrix\n",
      "\n"
     ]
    },
    {
     "name": "stderr",
     "output_type": "stream",
     "text": [
      "Loading required package: BiocGenerics\n",
      "\n"
     ]
    },
    {
     "name": "stderr",
     "output_type": "stream",
     "text": [
      "\n",
      "Attaching package: ‘BiocGenerics’\n",
      "\n",
      "\n"
     ]
    },
    {
     "name": "stderr",
     "output_type": "stream",
     "text": [
      "The following objects are masked from ‘package:stats’:\n",
      "\n",
      "    IQR, mad, sd, var, xtabs\n",
      "\n",
      "\n"
     ]
    },
    {
     "name": "stderr",
     "output_type": "stream",
     "text": [
      "The following objects are masked from ‘package:base’:\n",
      "\n",
      "    anyDuplicated, aperm, append, as.data.frame, basename, cbind,\n",
      "    colnames, dirname, do.call, duplicated, eval, evalq, Filter, Find,\n",
      "    get, grep, grepl, intersect, is.unsorted, lapply, Map, mapply,\n",
      "    match, mget, order, paste, pmax, pmax.int, pmin, pmin.int,\n",
      "    Position, rank, rbind, Reduce, rownames, sapply, setdiff, sort,\n",
      "    table, tapply, union, unique, unsplit, which.max, which.min\n",
      "\n",
      "\n"
     ]
    },
    {
     "name": "stderr",
     "output_type": "stream",
     "text": [
      "Loading required package: MatrixGenerics\n",
      "\n"
     ]
    },
    {
     "name": "stderr",
     "output_type": "stream",
     "text": [
      "Loading required package: matrixStats\n",
      "\n"
     ]
    },
    {
     "name": "stderr",
     "output_type": "stream",
     "text": [
      "\n",
      "Attaching package: ‘MatrixGenerics’\n",
      "\n",
      "\n"
     ]
    },
    {
     "name": "stderr",
     "output_type": "stream",
     "text": [
      "The following objects are masked from ‘package:matrixStats’:\n",
      "\n",
      "    colAlls, colAnyNAs, colAnys, colAvgsPerRowSet, colCollapse,\n",
      "    colCounts, colCummaxs, colCummins, colCumprods, colCumsums,\n",
      "    colDiffs, colIQRDiffs, colIQRs, colLogSumExps, colMadDiffs,\n",
      "    colMads, colMaxs, colMeans2, colMedians, colMins, colOrderStats,\n",
      "    colProds, colQuantiles, colRanges, colRanks, colSdDiffs, colSds,\n",
      "    colSums2, colTabulates, colVarDiffs, colVars, colWeightedMads,\n",
      "    colWeightedMeans, colWeightedMedians, colWeightedSds,\n",
      "    colWeightedVars, rowAlls, rowAnyNAs, rowAnys, rowAvgsPerColSet,\n",
      "    rowCollapse, rowCounts, rowCummaxs, rowCummins, rowCumprods,\n",
      "    rowCumsums, rowDiffs, rowIQRDiffs, rowIQRs, rowLogSumExps,\n",
      "    rowMadDiffs, rowMads, rowMaxs, rowMeans2, rowMedians, rowMins,\n",
      "    rowOrderStats, rowProds, rowQuantiles, rowRanges, rowRanks,\n",
      "    rowSdDiffs, rowSds, rowSums2, rowTabulates, rowVarDiffs, rowVars,\n",
      "    rowWeightedMads, rowWeightedMeans, rowWeightedMedians,\n",
      "    rowWeightedSds, rowWeightedVars\n",
      "\n",
      "\n"
     ]
    },
    {
     "name": "stderr",
     "output_type": "stream",
     "text": [
      "Loading required package: S4Vectors\n",
      "\n"
     ]
    },
    {
     "name": "stderr",
     "output_type": "stream",
     "text": [
      "\n",
      "Attaching package: ‘S4Vectors’\n",
      "\n",
      "\n"
     ]
    },
    {
     "name": "stderr",
     "output_type": "stream",
     "text": [
      "The following objects are masked from ‘package:Matrix’:\n",
      "\n",
      "    expand, unname\n",
      "\n",
      "\n"
     ]
    },
    {
     "name": "stderr",
     "output_type": "stream",
     "text": [
      "The following object is masked from ‘package:utils’:\n",
      "\n",
      "    findMatches\n",
      "\n",
      "\n"
     ]
    },
    {
     "name": "stderr",
     "output_type": "stream",
     "text": [
      "The following objects are masked from ‘package:base’:\n",
      "\n",
      "    expand.grid, I, unname\n",
      "\n",
      "\n"
     ]
    },
    {
     "name": "stderr",
     "output_type": "stream",
     "text": [
      "Loading required package: IRanges\n",
      "\n"
     ]
    },
    {
     "name": "stderr",
     "output_type": "stream",
     "text": [
      "Loading required package: S4Arrays\n",
      "\n"
     ]
    },
    {
     "name": "stderr",
     "output_type": "stream",
     "text": [
      "Loading required package: abind\n",
      "\n"
     ]
    },
    {
     "name": "stderr",
     "output_type": "stream",
     "text": [
      "\n",
      "Attaching package: ‘S4Arrays’\n",
      "\n",
      "\n"
     ]
    },
    {
     "name": "stderr",
     "output_type": "stream",
     "text": [
      "The following object is masked from ‘package:abind’:\n",
      "\n",
      "    abind\n",
      "\n",
      "\n"
     ]
    },
    {
     "name": "stderr",
     "output_type": "stream",
     "text": [
      "The following object is masked from ‘package:base’:\n",
      "\n",
      "    rowsum\n",
      "\n",
      "\n"
     ]
    },
    {
     "name": "stderr",
     "output_type": "stream",
     "text": [
      "Loading required package: SparseArray\n",
      "\n"
     ]
    },
    {
     "name": "stderr",
     "output_type": "stream",
     "text": [
      "\n",
      "Attaching package: ‘DelayedArray’\n",
      "\n",
      "\n"
     ]
    },
    {
     "name": "stderr",
     "output_type": "stream",
     "text": [
      "The following objects are masked from ‘package:base’:\n",
      "\n",
      "    apply, scale, sweep\n",
      "\n",
      "\n"
     ]
    },
    {
     "name": "stderr",
     "output_type": "stream",
     "text": [
      "Loading required package: rhdf5\n",
      "\n"
     ]
    },
    {
     "name": "stderr",
     "output_type": "stream",
     "text": [
      "\n",
      "Attaching package: ‘HDF5Array’\n",
      "\n",
      "\n"
     ]
    },
    {
     "name": "stderr",
     "output_type": "stream",
     "text": [
      "The following object is masked from ‘package:rhdf5’:\n",
      "\n",
      "    h5ls\n",
      "\n",
      "\n"
     ]
    }
   ],
   "source": [
    ".libPaths('/home/ssobti/projects/mir_tud/packages/gedi_R_pkgs')\n",
    "\n",
    "## install packages below into env if not already installed\n",
    "## remotes::install_github('csglab/GEDI', lib = '/home/ssobti/projects/mir_tud/packages/gedi_R_pkgs')\n",
    "\n",
    "library(HDF5Array)\n",
    "library(ggplot2)\n",
    "library(Matrix)\n",
    "library(RColorBrewer)\n",
    "library(uwot)\n",
    "library(GEDI)\n",
    "library(SeuratWrappers)\n",
    "set.seed(43)"
   ]
  },
  {
   "cell_type": "code",
   "execution_count": 3,
   "metadata": {
    "execution": {
     "iopub.execute_input": "2024-03-17T01:33:59.476030Z",
     "iopub.status.busy": "2024-03-17T01:33:59.473914Z",
     "iopub.status.idle": "2024-03-17T01:39:56.213995Z",
     "shell.execute_reply": "2024-03-17T01:39:56.212343Z"
    },
    "vscode": {
     "languageId": "r"
    }
   },
   "outputs": [],
   "source": [
    "## load loom files\n",
    "tRF_1 = ReadVelocity(file = '/home/ssobti/projects/mir_tud/output_data/splicing/velocyto/tRF_1/tRF_1.loom')\n",
    "tRF_2 = ReadVelocity(file = '/home/ssobti/projects/mir_tud/output_data/splicing/velocyto/tRF_2/tRF_2.loom')\n",
    "tRF_3 = ReadVelocity(file = '/home/ssobti/projects/mir_tud/output_data/splicing/velocyto/tRF_3/tRF_3.loom')"
   ]
  },
  {
   "cell_type": "code",
   "execution_count": 4,
   "metadata": {
    "execution": {
     "iopub.execute_input": "2024-03-17T01:39:56.243677Z",
     "iopub.status.busy": "2024-03-17T01:39:56.241914Z",
     "iopub.status.idle": "2024-03-17T01:39:56.255180Z",
     "shell.execute_reply": "2024-03-17T01:39:56.253782Z"
    },
    "vscode": {
     "languageId": "r"
    }
   },
   "outputs": [],
   "source": [
    "spliced = list(tRF_1[['spliced']], tRF_2[['spliced']], tRF_3[['spliced']])\n",
    "unspliced = list(tRF_1[['unspliced']], tRF_2[['unspliced']], tRF_3[['unspliced']])"
   ]
  },
  {
   "cell_type": "code",
   "execution_count": 5,
   "metadata": {
    "execution": {
     "iopub.execute_input": "2024-03-17T01:39:56.260125Z",
     "iopub.status.busy": "2024-03-17T01:39:56.258941Z",
     "iopub.status.idle": "2024-03-17T01:42:54.592416Z",
     "shell.execute_reply": "2024-03-17T01:42:54.589783Z"
    },
    "vscode": {
     "languageId": "r"
    }
   },
   "outputs": [
    {
     "name": "stderr",
     "output_type": "stream",
     "text": [
      "'as(<dgTMatrix>, \"dgCMatrix\")' is deprecated.\n",
      "Use 'as(., \"CsparseMatrix\")' instead.\n",
      "See help(\"Deprecated\") and help(\"Matrix-deprecated\").\n",
      "\n"
     ]
    }
   ],
   "source": [
    "## combine spliced and unspliced counts into two final mtxs\n",
    "## the gedi model will take sample labels within each of the two mtxs\n",
    "spliced_combined = cbind(spliced[[1]], spliced[[2]], spliced[[3]])\n",
    "unspliced_combined = cbind(unspliced[[1]], unspliced[[2]], unspliced[[3]])\n",
    "\n",
    "## filter out genes with low median UMIs from the expression data\n",
    "filtered_meta_data <- read.csv('/home/ssobti/projects/mir_tud/010523_filtered_data/tRF_meta.csv', header = TRUE)\n",
    "rownames(filtered_meta_data) <- filtered_meta_data$X\n",
    "filtered_meta_data$guide <- as.character(filtered_meta_data$guide)\n",
    "\n",
    "raw_genes <- read.csv('/home/ssobti/projects/mir_tud/010523_filtered_data/tRF_gene_names.csv', header = FALSE)\n",
    "raw_genes <- raw_genes$V2[-1]\n",
    "raw_genes <- as.character(raw_genes)\n",
    "\n",
    "filtered_raw_mtx <- readMM('/home/ssobti/projects/mir_tud/010523_filtered_data/tRF_normalized_data.mtx')\n",
    "filtered_raw_mtx = as(filtered_raw_mtx, 'dgCMatrix')\n",
    "rownames(filtered_raw_mtx) = raw_genes\n",
    "colnames(filtered_raw_mtx) = rownames(filtered_meta_data)\n",
    "medians = sparseMatrixStats::rowMedians(filtered_raw_mtx)\n",
    "genes_to_keep = as.numeric(medians) >= 0.01\n",
    "filtered_raw_mtx <- filtered_raw_mtx[genes_to_keep,]\n",
    "\n",
    "spliced_combined = spliced_combined[rownames(filtered_raw_mtx)[rownames(filtered_raw_mtx) %in% rownames(spliced_combined)],]\n",
    "unspliced_combined = unspliced_combined[rownames(filtered_raw_mtx)[rownames(filtered_raw_mtx) %in% rownames(unspliced_combined)],]\n",
    "\n",
    "## filter out low splice/unspliced count cells and low count genes\n",
    "filtered_cols <- which(log10(colSums(spliced_combined)) > 3 & log10(colSums(unspliced_combined)) > 3)\n",
    "filtered_rows <- which(rowSums(spliced_combined) > 50 & rowSums(unspliced_combined) > 50)\n",
    "spliced_combined = spliced_combined[filtered_rows, filtered_cols]\n",
    "unspliced_combined = unspliced_combined[filtered_rows, filtered_cols]\n",
    "\n",
    "## get sample identity\n",
    "sample_identity = stringr::str_sub(colnames(spliced_combined), start = 1, end = 5)\n"
   ]
  },
  {
   "cell_type": "code",
   "execution_count": 6,
   "metadata": {
    "execution": {
     "iopub.execute_input": "2024-03-17T01:42:54.612454Z",
     "iopub.status.busy": "2024-03-17T01:42:54.610815Z",
     "iopub.status.idle": "2024-03-17T01:43:01.455950Z",
     "shell.execute_reply": "2024-03-17T01:43:01.454553Z"
    },
    "vscode": {
     "languageId": "r"
    }
   },
   "outputs": [
    {
     "data": {
      "text/html": [
       "90.1395318930041"
      ],
      "text/latex": [
       "90.1395318930041"
      ],
      "text/markdown": [
       "90.1395318930041"
      ],
      "text/plain": [
       "[1] 90.13953"
      ]
     },
     "metadata": {},
     "output_type": "display_data"
    },
    {
     "data": {
      "text/html": [
       "16.1334389770771"
      ],
      "text/latex": [
       "16.1334389770771"
      ],
      "text/markdown": [
       "16.1334389770771"
      ],
      "text/plain": [
       "[1] 16.13344"
      ]
     },
     "metadata": {},
     "output_type": "display_data"
    }
   ],
   "source": [
    "## percent of cells that remain after filtering\n",
    "100*length(filtered_cols) / ncol(cbind(spliced[[1]], spliced[[2]], spliced[[3]]))\n",
    "\n",
    "## percent of genes that remain after filtering\n",
    "100*length(filtered_rows) / nrow(cbind(spliced[[1]], spliced[[2]], spliced[[3]]))"
   ]
  },
  {
   "cell_type": "code",
   "execution_count": 7,
   "metadata": {
    "execution": {
     "iopub.execute_input": "2024-03-17T01:43:01.461643Z",
     "iopub.status.busy": "2024-03-17T01:43:01.460358Z",
     "iopub.status.idle": "2024-03-17T01:43:03.232933Z",
     "shell.execute_reply": "2024-03-17T01:43:03.231268Z"
    },
    "vscode": {
     "languageId": "r"
    }
   },
   "outputs": [
    {
     "name": "stderr",
     "output_type": "stream",
     "text": [
      "Warning message:\n",
      "“\u001b[1m\u001b[22mRemoved 5773 rows containing non-finite outside the scale range (`stat_bin()`).”\n"
     ]
    },
    {
     "name": "stderr",
     "output_type": "stream",
     "text": [
      "Warning message:\n",
      "“\u001b[1m\u001b[22mRemoved 2 rows containing missing values or values outside the scale range\n",
      "(`geom_bar()`).”\n"
     ]
    },
    {
     "data": {
      "image/png": "[encoded data removed]",
      "text/plain": [
       "plot without title"
      ]
     },
     "metadata": {
      "image/png": {
       "height": 420,
       "width": 420
      }
     },
     "output_type": "display_data"
    }
   ],
   "source": [
    "df = data.frame(spliced = rowSums(spliced_combined[rowSums(spliced_combined) > 50, colSums(spliced_combined) > 50]))\n",
    "ggplot(df, aes(x = spliced)) + geom_histogram(binwidth = 10) + xlim(0, 1000) + ggtitle('Spliced counts per gene')"
   ]
  },
  {
   "cell_type": "code",
   "execution_count": 8,
   "metadata": {
    "execution": {
     "iopub.execute_input": "2024-03-17T01:43:03.239375Z",
     "iopub.status.busy": "2024-03-17T01:43:03.237833Z",
     "iopub.status.idle": "2024-03-17T01:43:05.153946Z",
     "shell.execute_reply": "2024-03-17T01:43:05.152299Z"
    },
    "vscode": {
     "languageId": "r"
    }
   },
   "outputs": [
    {
     "name": "stderr",
     "output_type": "stream",
     "text": [
      "Warning message:\n",
      "“\u001b[1m\u001b[22mRemoved 41475 rows containing non-finite outside the scale range\n",
      "(`stat_bin()`).”\n"
     ]
    },
    {
     "name": "stderr",
     "output_type": "stream",
     "text": [
      "Warning message:\n",
      "“\u001b[1m\u001b[22mRemoved 2 rows containing missing values or values outside the scale range\n",
      "(`geom_bar()`).”\n"
     ]
    },
    {
     "data": {
      "image/png": "[encoded data removed]",
      "text/plain": [
       "plot without title"
      ]
     },
     "metadata": {
      "image/png": {
       "height": 420,
       "width": 420
      }
     },
     "output_type": "display_data"
    }
   ],
   "source": [
    "df2 = data.frame(spliced = colSums(spliced_combined[rowSums(spliced_combined) > 50, colSums(spliced_combined) > 50]))\n",
    "ggplot(df2, aes(x = spliced)) + geom_histogram(binwidth = 10) + xlim(0, 10000) + ggtitle('Spliced counts per cell')"
   ]
  },
  {
   "cell_type": "code",
   "execution_count": 9,
   "metadata": {
    "execution": {
     "iopub.execute_input": "2024-03-17T01:43:05.159796Z",
     "iopub.status.busy": "2024-03-17T01:43:05.158577Z",
     "iopub.status.idle": "2024-03-17T01:43:05.170774Z",
     "shell.execute_reply": "2024-03-17T01:43:05.169458Z"
    },
    "vscode": {
     "languageId": "r"
    }
   },
   "outputs": [],
   "source": [
    "rm(tRF_1, tRF_2, tRF_3, spliced, unspliced, filtered_cols, filtered_rows, df, df2, filtered_raw_mtx)"
   ]
  },
  {
   "cell_type": "code",
   "execution_count": 10,
   "metadata": {
    "execution": {
     "iopub.execute_input": "2024-03-17T01:43:05.176423Z",
     "iopub.status.busy": "2024-03-17T01:43:05.174989Z",
     "iopub.status.idle": "2024-03-17T06:21:41.009012Z",
     "shell.execute_reply": "2024-03-17T06:21:41.006148Z"
    },
    "vscode": {
     "languageId": "r"
    }
   },
   "outputs": [
    {
     "name": "stderr",
     "output_type": "stream",
     "text": [
      "Setting up the GEDI model...\n",
      "\n"
     ]
    },
    {
     "name": "stderr",
     "output_type": "stream",
     "text": [
      "Warning message in asMethod(object):\n",
      "“sparse->dense coercion: allocating vector of size 2.5 GiB”\n"
     ]
    },
    {
     "name": "stderr",
     "output_type": "stream",
     "text": [
      "Warning message in asMethod(object):\n",
      "“sparse->dense coercion: allocating vector of size 2.5 GiB”\n"
     ]
    },
    {
     "name": "stderr",
     "output_type": "stream",
     "text": [
      "Warning message in asMethod(object):\n",
      "“sparse->dense coercion: allocating vector of size 2.5 GiB”\n"
     ]
    },
    {
     "name": "stderr",
     "output_type": "stream",
     "text": [
      "Warning message in asMethod(object):\n",
      "“sparse->dense coercion: allocating vector of size 2.5 GiB”\n"
     ]
    },
    {
     "name": "stderr",
     "output_type": "stream",
     "text": [
      "Warning message in asMethod(object):\n",
      "“sparse->dense coercion: allocating vector of size 2.5 GiB”\n"
     ]
    },
    {
     "name": "stderr",
     "output_type": "stream",
     "text": [
      "Warning message in asMethod(object):\n",
      "“sparse->dense coercion: allocating vector of size 2.5 GiB”\n"
     ]
    },
    {
     "name": "stderr",
     "output_type": "stream",
     "text": [
      "Initializing LVs...\n",
      "\n"
     ]
    },
    {
     "name": "stderr",
     "output_type": "stream",
     "text": [
      "  Initializing oi...\n",
      "\n"
     ]
    },
    {
     "name": "stderr",
     "output_type": "stream",
     "text": [
      "  Performing initial decompsition of Y...\n",
      "\n"
     ]
    },
    {
     "name": "stderr",
     "output_type": "stream",
     "text": [
      "Performing block coordinate descent optimization...\n",
      "\n"
     ]
    },
    {
     "name": "stderr",
     "output_type": "stream",
     "text": [
      "  Iteration 1/150 (total 1)...\n",
      "\n"
     ]
    },
    {
     "name": "stdout",
     "output_type": "stream",
     "text": [
      "2.798253 \n",
      "1 \n",
      "Mean(o): -0.4500432 ; Var(o): 1.70062 ; Var(si): 0.001648237 \n"
     ]
    },
    {
     "name": "stderr",
     "output_type": "stream",
     "text": [
      "  Iteration 2/150 (total 2)...\n",
      "\n"
     ]
    },
    {
     "name": "stdout",
     "output_type": "stream",
     "text": [
      "2.400923 \n",
      "1 \n",
      "Mean(o): -0.4501098 ; Var(o): 1.979317 ; Var(si): 0.003542524 \n"
     ]
    },
    {
     "name": "stderr",
     "output_type": "stream",
     "text": [
      "  Iteration 3/150 (total 3)...\n",
      "\n"
     ]
    },
    {
     "name": "stdout",
     "output_type": "stream",
     "text": [
      "2.124114 \n",
      "1 \n",
      "Mean(o): -0.4501587 ; Var(o): 2.234333 ; Var(si): 0.00587272 \n"
     ]
    },
    {
     "name": "stderr",
     "output_type": "stream",
     "text": [
      "  Iteration 4/150 (total 4)...\n",
      "\n"
     ]
    },
    {
     "name": "stdout",
     "output_type": "stream",
     "text": [
      "1.923803 \n",
      "1 \n",
      "Mean(o): -0.450198 ; Var(o): 2.463965 ; Var(si): 0.008472613 \n"
     ]
    },
    {
     "name": "stderr",
     "output_type": "stream",
     "text": [
      "  Iteration 5/150 (total 5)...\n",
      "\n"
     ]
    },
    {
     "name": "stdout",
     "output_type": "stream",
     "text": [
      "1.773449 \n",
      "1 \n",
      "Mean(o): -0.4502314 ; Var(o): 2.669858 ; Var(si): 0.01087258 \n"
     ]
    },
    {
     "name": "stderr",
     "output_type": "stream",
     "text": [
      "  Iteration 6/150 (total 6)...\n",
      "\n"
     ]
    },
    {
     "name": "stdout",
     "output_type": "stream",
     "text": [
      "1.654047 \n",
      "1 \n",
      "Mean(o): -0.4502615 ; Var(o): 2.85968 ; Var(si): 0.01260515 \n"
     ]
    },
    {
     "name": "stderr",
     "output_type": "stream",
     "text": [
      "  Iteration 7/150 (total 7)...\n",
      "\n"
     ]
    },
    {
     "name": "stdout",
     "output_type": "stream",
     "text": [
      "1.55132 \n",
      "1 \n",
      "Mean(o): -0.4502904 ; Var(o): 3.04628 ; Var(si): 0.01370759 \n"
     ]
    },
    {
     "name": "stderr",
     "output_type": "stream",
     "text": [
      "  Iteration 8/150 (total 8)...\n",
      "\n"
     ]
    },
    {
     "name": "stdout",
     "output_type": "stream",
     "text": [
      "1.457924 \n",
      "1 \n",
      "Mean(o): -0.4503192 ; Var(o): 3.238827 ; Var(si): 0.01434303 \n"
     ]
    },
    {
     "name": "stderr",
     "output_type": "stream",
     "text": [
      "  Iteration 9/150 (total 9)...\n",
      "\n"
     ]
    },
    {
     "name": "stdout",
     "output_type": "stream",
     "text": [
      "1.371029 \n",
      "1 \n",
      "Mean(o): -0.4503484 ; Var(o): 3.441671 ; Var(si): 0.01474198 \n"
     ]
    },
    {
     "name": "stderr",
     "output_type": "stream",
     "text": [
      "  Iteration 10/150 (total 10)...\n",
      "\n"
     ]
    },
    {
     "name": "stdout",
     "output_type": "stream",
     "text": [
      "1.289243 \n",
      "1 \n",
      "Mean(o): -0.4503782 ; Var(o): 3.657721 ; Var(si): 0.01519723 \n"
     ]
    },
    {
     "name": "stderr",
     "output_type": "stream",
     "text": [
      "  Iteration 11/150 (total 11)...\n",
      "\n"
     ]
    },
    {
     "name": "stdout",
     "output_type": "stream",
     "text": [
      "1.213096 \n",
      "1 \n",
      "Mean(o): -0.4504081 ; Var(o): 3.885158 ; Var(si): 0.01585811 \n"
     ]
    },
    {
     "name": "stderr",
     "output_type": "stream",
     "text": [
      "  Iteration 12/150 (total 12)...\n",
      "\n"
     ]
    },
    {
     "name": "stdout",
     "output_type": "stream",
     "text": [
      "1.143582 \n",
      "1 \n",
      "Mean(o): -0.4504376 ; Var(o): 4.119249 ; Var(si): 0.01671481 \n"
     ]
    },
    {
     "name": "stderr",
     "output_type": "stream",
     "text": [
      "  Iteration 13/150 (total 13)...\n",
      "\n"
     ]
    },
    {
     "name": "stdout",
     "output_type": "stream",
     "text": [
      "1.080931 \n",
      "1 \n",
      "Mean(o): -0.4504662 ; Var(o): 4.355979 ; Var(si): 0.01769199 \n"
     ]
    },
    {
     "name": "stderr",
     "output_type": "stream",
     "text": [
      "  Iteration 14/150 (total 14)...\n",
      "\n"
     ]
    },
    {
     "name": "stdout",
     "output_type": "stream",
     "text": [
      "1.024788 \n",
      "1 \n",
      "Mean(o): -0.4504938 ; Var(o): 4.592637 ; Var(si): 0.01870406 \n"
     ]
    },
    {
     "name": "stderr",
     "output_type": "stream",
     "text": [
      "  Iteration 15/150 (total 15)...\n",
      "\n"
     ]
    },
    {
     "name": "stdout",
     "output_type": "stream",
     "text": [
      "0.9745488 \n",
      "1 \n",
      "Mean(o): -0.4505203 ; Var(o): 4.827423 ; Var(si): 0.01968663 \n"
     ]
    },
    {
     "name": "stderr",
     "output_type": "stream",
     "text": [
      "  Iteration 16/150 (total 16)...\n",
      "\n"
     ]
    },
    {
     "name": "stdout",
     "output_type": "stream",
     "text": [
      "0.9295367 \n",
      "1 \n",
      "Mean(o): -0.450546 ; Var(o): 5.059221 ; Var(si): 0.0206103 \n"
     ]
    },
    {
     "name": "stderr",
     "output_type": "stream",
     "text": [
      "  Iteration 17/150 (total 17)...\n",
      "\n"
     ]
    },
    {
     "name": "stdout",
     "output_type": "stream",
     "text": [
      "0.8890885 \n",
      "1 \n",
      "Mean(o): -0.4505708 ; Var(o): 5.287414 ; Var(si): 0.02147425 \n"
     ]
    },
    {
     "name": "stderr",
     "output_type": "stream",
     "text": [
      "  Iteration 18/150 (total 18)...\n",
      "\n"
     ]
    },
    {
     "name": "stdout",
     "output_type": "stream",
     "text": [
      "0.8526013 \n",
      "1 \n",
      "Mean(o): -0.450595 ; Var(o): 5.511711 ; Var(si): 0.0222915 \n"
     ]
    },
    {
     "name": "stderr",
     "output_type": "stream",
     "text": [
      "  Iteration 19/150 (total 19)...\n",
      "\n"
     ]
    },
    {
     "name": "stdout",
     "output_type": "stream",
     "text": [
      "0.819548 \n",
      "1 \n",
      "Mean(o): -0.4506186 ; Var(o): 5.732015 ; Var(si): 0.02307761 \n"
     ]
    },
    {
     "name": "stderr",
     "output_type": "stream",
     "text": [
      "  Iteration 20/150 (total 20)...\n",
      "\n"
     ]
    },
    {
     "name": "stdout",
     "output_type": "stream",
     "text": [
      "0.7894766 \n",
      "1 \n",
      "Mean(o): -0.4506416 ; Var(o): 5.948346 ; Var(si): 0.02384543 \n"
     ]
    },
    {
     "name": "stderr",
     "output_type": "stream",
     "text": [
      "  Iteration 21/150 (total 21)...\n",
      "\n"
     ]
    },
    {
     "name": "stdout",
     "output_type": "stream",
     "text": [
      "0.7620037 \n",
      "1 \n",
      "Mean(o): -0.4506642 ; Var(o): 6.160791 ; Var(si): 0.02460365 \n"
     ]
    },
    {
     "name": "stderr",
     "output_type": "stream",
     "text": [
      "  Iteration 22/150 (total 22)...\n",
      "\n"
     ]
    },
    {
     "name": "stdout",
     "output_type": "stream",
     "text": [
      "0.7368045 \n",
      "1 \n",
      "Mean(o): -0.4506864 ; Var(o): 6.369468 ; Var(si): 0.02535735 \n"
     ]
    },
    {
     "name": "stderr",
     "output_type": "stream",
     "text": [
      "  Iteration 23/150 (total 23)...\n",
      "\n"
     ]
    },
    {
     "name": "stdout",
     "output_type": "stream",
     "text": [
      "0.7136047 \n",
      "1 \n",
      "Mean(o): -0.4507081 ; Var(o): 6.574506 ; Var(si): 0.02610896 \n"
     ]
    },
    {
     "name": "stderr",
     "output_type": "stream",
     "text": [
      "  Iteration 24/150 (total 24)...\n",
      "\n"
     ]
    },
    {
     "name": "stdout",
     "output_type": "stream",
     "text": [
      "0.6921719 \n",
      "1 \n",
      "Mean(o): -0.4507294 ; Var(o): 6.776033 ; Var(si): 0.02685928 \n"
     ]
    },
    {
     "name": "stderr",
     "output_type": "stream",
     "text": [
      "  Iteration 25/150 (total 25)...\n",
      "\n"
     ]
    },
    {
     "name": "stdout",
     "output_type": "stream",
     "text": [
      "0.6723085 \n",
      "1 \n",
      "Mean(o): -0.4507504 ; Var(o): 6.974171 ; Var(si): 0.02760822 \n"
     ]
    },
    {
     "name": "stderr",
     "output_type": "stream",
     "text": [
      "  Iteration 26/150 (total 26)...\n",
      "\n"
     ]
    },
    {
     "name": "stdout",
     "output_type": "stream",
     "text": [
      "0.6538456 \n",
      "1 \n",
      "Mean(o): -0.4507709 ; Var(o): 7.169034 ; Var(si): 0.02835525 \n"
     ]
    },
    {
     "name": "stderr",
     "output_type": "stream",
     "text": [
      "  Iteration 27/150 (total 27)...\n",
      "\n"
     ]
    },
    {
     "name": "stdout",
     "output_type": "stream",
     "text": [
      "0.6366378 \n",
      "1 \n",
      "Mean(o): -0.4507912 ; Var(o): 7.360726 ; Var(si): 0.02909972 \n"
     ]
    },
    {
     "name": "stderr",
     "output_type": "stream",
     "text": [
      "  Iteration 28/150 (total 28)...\n",
      "\n"
     ]
    },
    {
     "name": "stdout",
     "output_type": "stream",
     "text": [
      "0.6205596 \n",
      "1 \n",
      "Mean(o): -0.450811 ; Var(o): 7.549346 ; Var(si): 0.02984099 \n"
     ]
    },
    {
     "name": "stderr",
     "output_type": "stream",
     "text": [
      "  Iteration 29/150 (total 29)...\n",
      "\n"
     ]
    },
    {
     "name": "stdout",
     "output_type": "stream",
     "text": [
      "0.6055016 \n",
      "1 \n",
      "Mean(o): -0.4508306 ; Var(o): 7.734986 ; Var(si): 0.03057849 \n"
     ]
    },
    {
     "name": "stderr",
     "output_type": "stream",
     "text": [
      "  Iteration 30/150 (total 30)...\n",
      "\n"
     ]
    },
    {
     "name": "stdout",
     "output_type": "stream",
     "text": [
      "0.5913685 \n",
      "1 \n",
      "Mean(o): -0.4508499 ; Var(o): 7.917735 ; Var(si): 0.03131175 \n"
     ]
    },
    {
     "name": "stderr",
     "output_type": "stream",
     "text": [
      "  Iteration 31/150 (total 31)...\n",
      "\n"
     ]
    },
    {
     "name": "stdout",
     "output_type": "stream",
     "text": [
      "0.5780761 \n",
      "1 \n",
      "Mean(o): -0.4508688 ; Var(o): 8.097678 ; Var(si): 0.03204035 \n"
     ]
    },
    {
     "name": "stderr",
     "output_type": "stream",
     "text": [
      "  Iteration 32/150 (total 32)...\n",
      "\n"
     ]
    },
    {
     "name": "stdout",
     "output_type": "stream",
     "text": [
      "0.5655504 \n",
      "1 \n",
      "Mean(o): -0.4508875 ; Var(o): 8.274894 ; Var(si): 0.03276397 \n"
     ]
    },
    {
     "name": "stderr",
     "output_type": "stream",
     "text": [
      "  Iteration 33/150 (total 33)...\n",
      "\n"
     ]
    },
    {
     "name": "stdout",
     "output_type": "stream",
     "text": [
      "0.5537259 \n",
      "1 \n",
      "Mean(o): -0.450906 ; Var(o): 8.449462 ; Var(si): 0.03348232 \n"
     ]
    },
    {
     "name": "stderr",
     "output_type": "stream",
     "text": [
      "  Iteration 34/150 (total 34)...\n",
      "\n"
     ]
    },
    {
     "name": "stdout",
     "output_type": "stream",
     "text": [
      "0.5425443 \n",
      "1 \n",
      "Mean(o): -0.4509241 ; Var(o): 8.621456 ; Var(si): 0.0341952 \n"
     ]
    },
    {
     "name": "stderr",
     "output_type": "stream",
     "text": [
      "  Iteration 35/150 (total 35)...\n",
      "\n"
     ]
    },
    {
     "name": "stdout",
     "output_type": "stream",
     "text": [
      "0.5319535 \n",
      "1 \n",
      "Mean(o): -0.4509421 ; Var(o): 8.790948 ; Var(si): 0.03490243 \n"
     ]
    },
    {
     "name": "stderr",
     "output_type": "stream",
     "text": [
      "  Iteration 36/150 (total 36)...\n",
      "\n"
     ]
    },
    {
     "name": "stdout",
     "output_type": "stream",
     "text": [
      "0.5219071 \n",
      "1 \n",
      "Mean(o): -0.4509598 ; Var(o): 8.958006 ; Var(si): 0.03560387 \n"
     ]
    },
    {
     "name": "stderr",
     "output_type": "stream",
     "text": [
      "  Iteration 37/150 (total 37)...\n",
      "\n"
     ]
    },
    {
     "name": "stdout",
     "output_type": "stream",
     "text": [
      "0.5123634 \n",
      "1 \n",
      "Mean(o): -0.4509773 ; Var(o): 9.122696 ; Var(si): 0.03629943 \n"
     ]
    },
    {
     "name": "stderr",
     "output_type": "stream",
     "text": [
      "  Iteration 38/150 (total 38)...\n",
      "\n"
     ]
    },
    {
     "name": "stdout",
     "output_type": "stream",
     "text": [
      "0.5032848 \n",
      "1 \n",
      "Mean(o): -0.4509946 ; Var(o): 9.285081 ; Var(si): 0.03698904 \n"
     ]
    },
    {
     "name": "stderr",
     "output_type": "stream",
     "text": [
      "  Iteration 39/150 (total 39)...\n",
      "\n"
     ]
    },
    {
     "name": "stdout",
     "output_type": "stream",
     "text": [
      "0.4946375 \n",
      "1 \n",
      "Mean(o): -0.4510116 ; Var(o): 9.445221 ; Var(si): 0.03767265 \n"
     ]
    },
    {
     "name": "stderr",
     "output_type": "stream",
     "text": [
      "  Iteration 40/150 (total 40)...\n",
      "\n"
     ]
    },
    {
     "name": "stdout",
     "output_type": "stream",
     "text": [
      "0.4863908 \n",
      "1 \n",
      "Mean(o): -0.4510285 ; Var(o): 9.603176 ; Var(si): 0.03835025 \n"
     ]
    },
    {
     "name": "stderr",
     "output_type": "stream",
     "text": [
      "  Iteration 41/150 (total 41)...\n",
      "\n"
     ]
    },
    {
     "name": "stdout",
     "output_type": "stream",
     "text": [
      "0.4785168 \n",
      "1 \n",
      "Mean(o): -0.4510452 ; Var(o): 9.759001 ; Var(si): 0.03902183 \n"
     ]
    },
    {
     "name": "stderr",
     "output_type": "stream",
     "text": [
      "  Iteration 42/150 (total 42)...\n",
      "\n"
     ]
    },
    {
     "name": "stdout",
     "output_type": "stream",
     "text": [
      "0.4709903 \n",
      "1 \n",
      "Mean(o): -0.4510617 ; Var(o): 9.912751 ; Var(si): 0.03968741 \n"
     ]
    },
    {
     "name": "stderr",
     "output_type": "stream",
     "text": [
      "  Iteration 43/150 (total 43)...\n",
      "\n"
     ]
    },
    {
     "name": "stdout",
     "output_type": "stream",
     "text": [
      "0.4637883 \n",
      "1 \n",
      "Mean(o): -0.4510781 ; Var(o): 10.06448 ; Var(si): 0.04034702 \n"
     ]
    },
    {
     "name": "stderr",
     "output_type": "stream",
     "text": [
      "  Iteration 44/150 (total 44)...\n",
      "\n"
     ]
    },
    {
     "name": "stdout",
     "output_type": "stream",
     "text": [
      "0.4568897 \n",
      "1 \n",
      "Mean(o): -0.4510943 ; Var(o): 10.21423 ; Var(si): 0.04100069 \n"
     ]
    },
    {
     "name": "stderr",
     "output_type": "stream",
     "text": [
      "  Iteration 45/150 (total 45)...\n",
      "\n"
     ]
    },
    {
     "name": "stdout",
     "output_type": "stream",
     "text": [
      "0.4502752 \n",
      "1 \n",
      "Mean(o): -0.4511103 ; Var(o): 10.36206 ; Var(si): 0.04164847 \n"
     ]
    },
    {
     "name": "stderr",
     "output_type": "stream",
     "text": [
      "  Iteration 46/150 (total 46)...\n",
      "\n"
     ]
    },
    {
     "name": "stdout",
     "output_type": "stream",
     "text": [
      "0.4439273 \n",
      "1 \n",
      "Mean(o): -0.4511262 ; Var(o): 10.50802 ; Var(si): 0.04229041 \n"
     ]
    },
    {
     "name": "stderr",
     "output_type": "stream",
     "text": [
      "  Iteration 47/150 (total 47)...\n",
      "\n"
     ]
    },
    {
     "name": "stdout",
     "output_type": "stream",
     "text": [
      "0.4378297 \n",
      "1 \n",
      "Mean(o): -0.4511419 ; Var(o): 10.65214 ; Var(si): 0.04292656 \n"
     ]
    },
    {
     "name": "stderr",
     "output_type": "stream",
     "text": [
      "  Iteration 48/150 (total 48)...\n",
      "\n"
     ]
    },
    {
     "name": "stdout",
     "output_type": "stream",
     "text": [
      "0.4319675 \n",
      "1 \n",
      "Mean(o): -0.4511575 ; Var(o): 10.79448 ; Var(si): 0.04355698 \n"
     ]
    },
    {
     "name": "stderr",
     "output_type": "stream",
     "text": [
      "  Iteration 49/150 (total 49)...\n",
      "\n"
     ]
    },
    {
     "name": "stdout",
     "output_type": "stream",
     "text": [
      "0.426327 \n",
      "1 \n",
      "Mean(o): -0.451173 ; Var(o): 10.93507 ; Var(si): 0.04418173 \n"
     ]
    },
    {
     "name": "stderr",
     "output_type": "stream",
     "text": [
      "  Iteration 50/150 (total 50)...\n",
      "\n"
     ]
    },
    {
     "name": "stdout",
     "output_type": "stream",
     "text": [
      "0.4208956 \n",
      "1 \n",
      "Mean(o): -0.4511884 ; Var(o): 11.07395 ; Var(si): 0.04480084 \n"
     ]
    },
    {
     "name": "stderr",
     "output_type": "stream",
     "text": [
      "  Iteration 51/150 (total 51)...\n",
      "\n"
     ]
    },
    {
     "name": "stdout",
     "output_type": "stream",
     "text": [
      "0.4156615 \n",
      "1 \n",
      "Mean(o): -0.4512036 ; Var(o): 11.21116 ; Var(si): 0.04541439 \n"
     ]
    },
    {
     "name": "stderr",
     "output_type": "stream",
     "text": [
      "  Iteration 52/150 (total 52)...\n",
      "\n"
     ]
    },
    {
     "name": "stdout",
     "output_type": "stream",
     "text": [
      "0.4106141 \n",
      "1 \n",
      "Mean(o): -0.4512187 ; Var(o): 11.34675 ; Var(si): 0.04602242 \n"
     ]
    },
    {
     "name": "stderr",
     "output_type": "stream",
     "text": [
      "  Iteration 53/150 (total 53)...\n",
      "\n"
     ]
    },
    {
     "name": "stdout",
     "output_type": "stream",
     "text": [
      "0.4057431 \n",
      "1 \n",
      "Mean(o): -0.4512336 ; Var(o): 11.48073 ; Var(si): 0.04662499 \n"
     ]
    },
    {
     "name": "stderr",
     "output_type": "stream",
     "text": [
      "  Iteration 54/150 (total 54)...\n",
      "\n"
     ]
    },
    {
     "name": "stdout",
     "output_type": "stream",
     "text": [
      "0.4010395 \n",
      "1 \n",
      "Mean(o): -0.4512485 ; Var(o): 11.61315 ; Var(si): 0.04722218 \n"
     ]
    },
    {
     "name": "stderr",
     "output_type": "stream",
     "text": [
      "  Iteration 55/150 (total 55)...\n",
      "\n"
     ]
    },
    {
     "name": "stdout",
     "output_type": "stream",
     "text": [
      "0.3964946 \n",
      "1 \n",
      "Mean(o): -0.4512633 ; Var(o): 11.74403 ; Var(si): 0.04781402 \n"
     ]
    },
    {
     "name": "stderr",
     "output_type": "stream",
     "text": [
      "  Iteration 56/150 (total 56)...\n",
      "\n"
     ]
    },
    {
     "name": "stdout",
     "output_type": "stream",
     "text": [
      "0.3921004 \n",
      "1 \n",
      "Mean(o): -0.4512779 ; Var(o): 11.87341 ; Var(si): 0.04840059 \n"
     ]
    },
    {
     "name": "stderr",
     "output_type": "stream",
     "text": [
      "  Iteration 57/150 (total 57)...\n",
      "\n"
     ]
    },
    {
     "name": "stdout",
     "output_type": "stream",
     "text": [
      "0.3878493 \n",
      "1 \n",
      "Mean(o): -0.4512925 ; Var(o): 12.00131 ; Var(si): 0.04898193 \n"
     ]
    },
    {
     "name": "stderr",
     "output_type": "stream",
     "text": [
      "  Iteration 58/150 (total 58)...\n",
      "\n"
     ]
    },
    {
     "name": "stdout",
     "output_type": "stream",
     "text": [
      "0.3837343 \n",
      "1 \n",
      "Mean(o): -0.4513069 ; Var(o): 12.12777 ; Var(si): 0.0495581 \n"
     ]
    },
    {
     "name": "stderr",
     "output_type": "stream",
     "text": [
      "  Iteration 59/150 (total 59)...\n",
      "\n"
     ]
    },
    {
     "name": "stdout",
     "output_type": "stream",
     "text": [
      "0.3797491 \n",
      "1 \n",
      "Mean(o): -0.4513213 ; Var(o): 12.2528 ; Var(si): 0.05012915 \n"
     ]
    },
    {
     "name": "stderr",
     "output_type": "stream",
     "text": [
      "  Iteration 60/150 (total 60)...\n",
      "\n"
     ]
    },
    {
     "name": "stdout",
     "output_type": "stream",
     "text": [
      "0.3758873 \n",
      "1 \n",
      "Mean(o): -0.4513356 ; Var(o): 12.37645 ; Var(si): 0.05069513 \n"
     ]
    },
    {
     "name": "stderr",
     "output_type": "stream",
     "text": [
      "  Iteration 61/150 (total 61)...\n",
      "\n"
     ]
    },
    {
     "name": "stdout",
     "output_type": "stream",
     "text": [
      "0.3721433 \n",
      "1 \n",
      "Mean(o): -0.4513498 ; Var(o): 12.49872 ; Var(si): 0.05125609 \n"
     ]
    },
    {
     "name": "stderr",
     "output_type": "stream",
     "text": [
      "  Iteration 62/150 (total 62)...\n",
      "\n"
     ]
    },
    {
     "name": "stdout",
     "output_type": "stream",
     "text": [
      "0.3685118 \n",
      "1 \n",
      "Mean(o): -0.4513638 ; Var(o): 12.61965 ; Var(si): 0.05181206 \n"
     ]
    },
    {
     "name": "stderr",
     "output_type": "stream",
     "text": [
      "  Iteration 63/150 (total 63)...\n",
      "\n"
     ]
    },
    {
     "name": "stdout",
     "output_type": "stream",
     "text": [
      "0.3649875 \n",
      "1 \n",
      "Mean(o): -0.4513779 ; Var(o): 12.73926 ; Var(si): 0.05236311 \n"
     ]
    },
    {
     "name": "stderr",
     "output_type": "stream",
     "text": [
      "  Iteration 64/150 (total 64)...\n",
      "\n"
     ]
    },
    {
     "name": "stdout",
     "output_type": "stream",
     "text": [
      "0.3615658 \n",
      "1 \n",
      "Mean(o): -0.4513918 ; Var(o): 12.85758 ; Var(si): 0.05290928 \n"
     ]
    },
    {
     "name": "stderr",
     "output_type": "stream",
     "text": [
      "  Iteration 65/150 (total 65)...\n",
      "\n"
     ]
    },
    {
     "name": "stdout",
     "output_type": "stream",
     "text": [
      "0.3582422 \n",
      "1 \n",
      "Mean(o): -0.4514056 ; Var(o): 12.97462 ; Var(si): 0.05345061 \n"
     ]
    },
    {
     "name": "stderr",
     "output_type": "stream",
     "text": [
      "  Iteration 66/150 (total 66)...\n",
      "\n"
     ]
    },
    {
     "name": "stdout",
     "output_type": "stream",
     "text": [
      "0.3550124 \n",
      "1 \n",
      "Mean(o): -0.4514194 ; Var(o): 13.09041 ; Var(si): 0.05398716 \n"
     ]
    },
    {
     "name": "stderr",
     "output_type": "stream",
     "text": [
      "  Iteration 67/150 (total 67)...\n",
      "\n"
     ]
    },
    {
     "name": "stdout",
     "output_type": "stream",
     "text": [
      "0.3518725 \n",
      "1 \n",
      "Mean(o): -0.4514331 ; Var(o): 13.20498 ; Var(si): 0.05451899 \n"
     ]
    },
    {
     "name": "stderr",
     "output_type": "stream",
     "text": [
      "  Iteration 68/150 (total 68)...\n",
      "\n"
     ]
    },
    {
     "name": "stdout",
     "output_type": "stream",
     "text": [
      "0.3488187 \n",
      "1 \n",
      "Mean(o): -0.4514468 ; Var(o): 13.31834 ; Var(si): 0.05504613 \n"
     ]
    },
    {
     "name": "stderr",
     "output_type": "stream",
     "text": [
      "  Iteration 69/150 (total 69)...\n",
      "\n"
     ]
    },
    {
     "name": "stdout",
     "output_type": "stream",
     "text": [
      "0.3458474 \n",
      "1 \n",
      "Mean(o): -0.4514603 ; Var(o): 13.43052 ; Var(si): 0.05556865 \n"
     ]
    },
    {
     "name": "stderr",
     "output_type": "stream",
     "text": [
      "  Iteration 70/150 (total 70)...\n",
      "\n"
     ]
    },
    {
     "name": "stdout",
     "output_type": "stream",
     "text": [
      "0.3429553 \n",
      "1 \n",
      "Mean(o): -0.4514738 ; Var(o): 13.54154 ; Var(si): 0.0560866 \n"
     ]
    },
    {
     "name": "stderr",
     "output_type": "stream",
     "text": [
      "  Iteration 71/150 (total 71)...\n",
      "\n"
     ]
    },
    {
     "name": "stdout",
     "output_type": "stream",
     "text": [
      "0.3401392 \n",
      "1 \n",
      "Mean(o): -0.4514873 ; Var(o): 13.65141 ; Var(si): 0.05660003 \n"
     ]
    },
    {
     "name": "stderr",
     "output_type": "stream",
     "text": [
      "  Iteration 72/150 (total 72)...\n",
      "\n"
     ]
    },
    {
     "name": "stdout",
     "output_type": "stream",
     "text": [
      "0.337396 \n",
      "1 \n",
      "Mean(o): -0.4515006 ; Var(o): 13.76015 ; Var(si): 0.057109 \n"
     ]
    },
    {
     "name": "stderr",
     "output_type": "stream",
     "text": [
      "  Iteration 73/150 (total 73)...\n",
      "\n"
     ]
    },
    {
     "name": "stdout",
     "output_type": "stream",
     "text": [
      "0.334723 \n",
      "1 \n",
      "Mean(o): -0.4515139 ; Var(o): 13.8678 ; Var(si): 0.05761357 \n"
     ]
    },
    {
     "name": "stderr",
     "output_type": "stream",
     "text": [
      "  Iteration 74/150 (total 74)...\n",
      "\n"
     ]
    },
    {
     "name": "stdout",
     "output_type": "stream",
     "text": [
      "0.3321173 \n",
      "1 \n",
      "Mean(o): -0.4515272 ; Var(o): 13.97436 ; Var(si): 0.05811379 \n"
     ]
    },
    {
     "name": "stderr",
     "output_type": "stream",
     "text": [
      "  Iteration 75/150 (total 75)...\n",
      "\n"
     ]
    },
    {
     "name": "stdout",
     "output_type": "stream",
     "text": [
      "0.3295765 \n",
      "1 \n",
      "Mean(o): -0.4515404 ; Var(o): 14.07985 ; Var(si): 0.05860972 \n"
     ]
    },
    {
     "name": "stderr",
     "output_type": "stream",
     "text": [
      "  Iteration 76/150 (total 76)...\n",
      "\n"
     ]
    },
    {
     "name": "stdout",
     "output_type": "stream",
     "text": [
      "0.327098 \n",
      "1 \n",
      "Mean(o): -0.4515535 ; Var(o): 14.18429 ; Var(si): 0.0591014 \n"
     ]
    },
    {
     "name": "stderr",
     "output_type": "stream",
     "text": [
      "  Iteration 77/150 (total 77)...\n",
      "\n"
     ]
    },
    {
     "name": "stdout",
     "output_type": "stream",
     "text": [
      "0.3246796 \n",
      "1 \n",
      "Mean(o): -0.4515666 ; Var(o): 14.2877 ; Var(si): 0.05958891 \n"
     ]
    },
    {
     "name": "stderr",
     "output_type": "stream",
     "text": [
      "  Iteration 78/150 (total 78)...\n",
      "\n"
     ]
    },
    {
     "name": "stdout",
     "output_type": "stream",
     "text": [
      "0.3223191 \n",
      "1 \n",
      "Mean(o): -0.4515796 ; Var(o): 14.3901 ; Var(si): 0.06007228 \n"
     ]
    },
    {
     "name": "stderr",
     "output_type": "stream",
     "text": [
      "  Iteration 79/150 (total 79)...\n",
      "\n"
     ]
    },
    {
     "name": "stdout",
     "output_type": "stream",
     "text": [
      "0.3200144 \n",
      "1 \n",
      "Mean(o): -0.4515926 ; Var(o): 14.4915 ; Var(si): 0.06055158 \n"
     ]
    },
    {
     "name": "stderr",
     "output_type": "stream",
     "text": [
      "  Iteration 80/150 (total 80)...\n",
      "\n"
     ]
    },
    {
     "name": "stdout",
     "output_type": "stream",
     "text": [
      "0.3177634 \n",
      "1 \n",
      "Mean(o): -0.4516055 ; Var(o): 14.59192 ; Var(si): 0.06102685 \n"
     ]
    },
    {
     "name": "stderr",
     "output_type": "stream",
     "text": [
      "  Iteration 81/150 (total 81)...\n",
      "\n"
     ]
    },
    {
     "name": "stdout",
     "output_type": "stream",
     "text": [
      "0.3155643 \n",
      "1 \n",
      "Mean(o): -0.4516184 ; Var(o): 14.69137 ; Var(si): 0.06149815 \n"
     ]
    },
    {
     "name": "stderr",
     "output_type": "stream",
     "text": [
      "  Iteration 82/150 (total 82)...\n",
      "\n"
     ]
    },
    {
     "name": "stdout",
     "output_type": "stream",
     "text": [
      "0.3134153 \n",
      "1 \n",
      "Mean(o): -0.4516312 ; Var(o): 14.78987 ; Var(si): 0.06196553 \n"
     ]
    },
    {
     "name": "stderr",
     "output_type": "stream",
     "text": [
      "  Iteration 83/150 (total 83)...\n",
      "\n"
     ]
    },
    {
     "name": "stdout",
     "output_type": "stream",
     "text": [
      "0.3113146 \n",
      "1 \n",
      "Mean(o): -0.451644 ; Var(o): 14.88744 ; Var(si): 0.06242905 \n"
     ]
    },
    {
     "name": "stderr",
     "output_type": "stream",
     "text": [
      "  Iteration 84/150 (total 84)...\n",
      "\n"
     ]
    },
    {
     "name": "stdout",
     "output_type": "stream",
     "text": [
      "0.3092606 \n",
      "1 \n",
      "Mean(o): -0.4516567 ; Var(o): 14.98409 ; Var(si): 0.06288874 \n"
     ]
    },
    {
     "name": "stderr",
     "output_type": "stream",
     "text": [
      "  Iteration 85/150 (total 85)...\n",
      "\n"
     ]
    },
    {
     "name": "stdout",
     "output_type": "stream",
     "text": [
      "0.3072517 \n",
      "1 \n",
      "Mean(o): -0.4516694 ; Var(o): 15.07983 ; Var(si): 0.06334466 \n"
     ]
    },
    {
     "name": "stderr",
     "output_type": "stream",
     "text": [
      "  Iteration 86/150 (total 86)...\n",
      "\n"
     ]
    },
    {
     "name": "stdout",
     "output_type": "stream",
     "text": [
      "0.3052864 \n",
      "1 \n",
      "Mean(o): -0.451682 ; Var(o): 15.17468 ; Var(si): 0.06379687 \n"
     ]
    },
    {
     "name": "stderr",
     "output_type": "stream",
     "text": [
      "  Iteration 87/150 (total 87)...\n",
      "\n"
     ]
    },
    {
     "name": "stdout",
     "output_type": "stream",
     "text": [
      "0.3033632 \n",
      "1 \n",
      "Mean(o): -0.4516946 ; Var(o): 15.26865 ; Var(si): 0.06424539 \n"
     ]
    },
    {
     "name": "stderr",
     "output_type": "stream",
     "text": [
      "  Iteration 88/150 (total 88)...\n",
      "\n"
     ]
    },
    {
     "name": "stdout",
     "output_type": "stream",
     "text": [
      "0.3014809 \n",
      "1 \n",
      "Mean(o): -0.4517072 ; Var(o): 15.36176 ; Var(si): 0.06469029 \n"
     ]
    },
    {
     "name": "stderr",
     "output_type": "stream",
     "text": [
      "  Iteration 89/150 (total 89)...\n",
      "\n"
     ]
    },
    {
     "name": "stdout",
     "output_type": "stream",
     "text": [
      "0.2996381 \n",
      "1 \n",
      "Mean(o): -0.4517197 ; Var(o): 15.45402 ; Var(si): 0.06513161 \n"
     ]
    },
    {
     "name": "stderr",
     "output_type": "stream",
     "text": [
      "  Iteration 90/150 (total 90)...\n",
      "\n"
     ]
    },
    {
     "name": "stdout",
     "output_type": "stream",
     "text": [
      "0.2978335 \n",
      "1 \n",
      "Mean(o): -0.4517322 ; Var(o): 15.54544 ; Var(si): 0.06556939 \n"
     ]
    },
    {
     "name": "stderr",
     "output_type": "stream",
     "text": [
      "  Iteration 91/150 (total 91)...\n",
      "\n"
     ]
    },
    {
     "name": "stdout",
     "output_type": "stream",
     "text": [
      "0.2960659 \n",
      "1 \n",
      "Mean(o): -0.4517446 ; Var(o): 15.63603 ; Var(si): 0.06600368 \n"
     ]
    },
    {
     "name": "stderr",
     "output_type": "stream",
     "text": [
      "  Iteration 92/150 (total 92)...\n",
      "\n"
     ]
    },
    {
     "name": "stdout",
     "output_type": "stream",
     "text": [
      "0.2943342 \n",
      "1 \n",
      "Mean(o): -0.451757 ; Var(o): 15.72581 ; Var(si): 0.06643452 \n"
     ]
    },
    {
     "name": "stderr",
     "output_type": "stream",
     "text": [
      "  Iteration 93/150 (total 93)...\n",
      "\n"
     ]
    },
    {
     "name": "stdout",
     "output_type": "stream",
     "text": [
      "0.2926373 \n",
      "1 \n",
      "Mean(o): -0.4517694 ; Var(o): 15.81479 ; Var(si): 0.06686195 \n"
     ]
    },
    {
     "name": "stderr",
     "output_type": "stream",
     "text": [
      "  Iteration 94/150 (total 94)...\n",
      "\n"
     ]
    },
    {
     "name": "stdout",
     "output_type": "stream",
     "text": [
      "0.2909741 \n",
      "1 \n",
      "Mean(o): -0.4517817 ; Var(o): 15.90297 ; Var(si): 0.06728602 \n"
     ]
    },
    {
     "name": "stderr",
     "output_type": "stream",
     "text": [
      "  Iteration 95/150 (total 95)...\n",
      "\n"
     ]
    },
    {
     "name": "stdout",
     "output_type": "stream",
     "text": [
      "0.2893436 \n",
      "1 \n",
      "Mean(o): -0.451794 ; Var(o): 15.99038 ; Var(si): 0.06770677 \n"
     ]
    },
    {
     "name": "stderr",
     "output_type": "stream",
     "text": [
      "  Iteration 96/150 (total 96)...\n",
      "\n"
     ]
    },
    {
     "name": "stdout",
     "output_type": "stream",
     "text": [
      "0.2877448 \n",
      "1 \n",
      "Mean(o): -0.4518062 ; Var(o): 16.07703 ; Var(si): 0.06812423 \n"
     ]
    },
    {
     "name": "stderr",
     "output_type": "stream",
     "text": [
      "  Iteration 97/150 (total 97)...\n",
      "\n"
     ]
    },
    {
     "name": "stdout",
     "output_type": "stream",
     "text": [
      "0.2861768 \n",
      "1 \n",
      "Mean(o): -0.4518185 ; Var(o): 16.16292 ; Var(si): 0.06853845 \n"
     ]
    },
    {
     "name": "stderr",
     "output_type": "stream",
     "text": [
      "  Iteration 98/150 (total 98)...\n",
      "\n"
     ]
    },
    {
     "name": "stdout",
     "output_type": "stream",
     "text": [
      "0.2846387 \n",
      "1 \n",
      "Mean(o): -0.4518306 ; Var(o): 16.24806 ; Var(si): 0.06894946 \n"
     ]
    },
    {
     "name": "stderr",
     "output_type": "stream",
     "text": [
      "  Iteration 99/150 (total 99)...\n",
      "\n"
     ]
    },
    {
     "name": "stdout",
     "output_type": "stream",
     "text": [
      "0.2831296 \n",
      "1 \n",
      "Mean(o): -0.4518428 ; Var(o): 16.33247 ; Var(si): 0.06935731 \n"
     ]
    },
    {
     "name": "stderr",
     "output_type": "stream",
     "text": [
      "  Iteration 100/150 (total 100)...\n",
      "\n"
     ]
    },
    {
     "name": "stdout",
     "output_type": "stream",
     "text": [
      "0.2816487 \n",
      "1 \n",
      "Mean(o): -0.4518549 ; Var(o): 16.41615 ; Var(si): 0.06976204 \n"
     ]
    },
    {
     "name": "stderr",
     "output_type": "stream",
     "text": [
      "  Iteration 101/150 (total 101)...\n",
      "\n"
     ]
    },
    {
     "name": "stdout",
     "output_type": "stream",
     "text": [
      "0.2801952 \n",
      "1 \n",
      "Mean(o): -0.451867 ; Var(o): 16.49912 ; Var(si): 0.07016367 \n"
     ]
    },
    {
     "name": "stderr",
     "output_type": "stream",
     "text": [
      "  Iteration 102/150 (total 102)...\n",
      "\n"
     ]
    },
    {
     "name": "stdout",
     "output_type": "stream",
     "text": [
      "0.2787683 \n",
      "1 \n",
      "Mean(o): -0.4518791 ; Var(o): 16.58139 ; Var(si): 0.07056225 \n"
     ]
    },
    {
     "name": "stderr",
     "output_type": "stream",
     "text": [
      "  Iteration 103/150 (total 103)...\n",
      "\n"
     ]
    },
    {
     "name": "stdout",
     "output_type": "stream",
     "text": [
      "0.2773673 \n",
      "1 \n",
      "Mean(o): -0.4518911 ; Var(o): 16.66296 ; Var(si): 0.07095782 \n"
     ]
    },
    {
     "name": "stderr",
     "output_type": "stream",
     "text": [
      "  Iteration 104/150 (total 104)...\n",
      "\n"
     ]
    },
    {
     "name": "stdout",
     "output_type": "stream",
     "text": [
      "0.2759915 \n",
      "1 \n",
      "Mean(o): -0.4519031 ; Var(o): 16.74385 ; Var(si): 0.0713504 \n"
     ]
    },
    {
     "name": "stderr",
     "output_type": "stream",
     "text": [
      "  Iteration 105/150 (total 105)...\n",
      "\n"
     ]
    },
    {
     "name": "stdout",
     "output_type": "stream",
     "text": [
      "0.2746401 \n",
      "1 \n",
      "Mean(o): -0.4519151 ; Var(o): 16.82406 ; Var(si): 0.07174004 \n"
     ]
    },
    {
     "name": "stderr",
     "output_type": "stream",
     "text": [
      "  Iteration 106/150 (total 106)...\n",
      "\n"
     ]
    },
    {
     "name": "stdout",
     "output_type": "stream",
     "text": [
      "0.2733126 \n",
      "1 \n",
      "Mean(o): -0.451927 ; Var(o): 16.9036 ; Var(si): 0.07212677 \n"
     ]
    },
    {
     "name": "stderr",
     "output_type": "stream",
     "text": [
      "  Iteration 107/150 (total 107)...\n",
      "\n"
     ]
    },
    {
     "name": "stdout",
     "output_type": "stream",
     "text": [
      "0.2720083 \n",
      "1 \n",
      "Mean(o): -0.4519389 ; Var(o): 16.98249 ; Var(si): 0.07251061 \n"
     ]
    },
    {
     "name": "stderr",
     "output_type": "stream",
     "text": [
      "  Iteration 108/150 (total 108)...\n",
      "\n"
     ]
    },
    {
     "name": "stdout",
     "output_type": "stream",
     "text": [
      "0.2707265 \n",
      "1 \n",
      "Mean(o): -0.4519508 ; Var(o): 17.06073 ; Var(si): 0.07289162 \n"
     ]
    },
    {
     "name": "stderr",
     "output_type": "stream",
     "text": [
      "  Iteration 109/150 (total 109)...\n",
      "\n"
     ]
    },
    {
     "name": "stdout",
     "output_type": "stream",
     "text": [
      "0.2694667 \n",
      "1 \n",
      "Mean(o): -0.4519627 ; Var(o): 17.13833 ; Var(si): 0.07326981 \n"
     ]
    },
    {
     "name": "stderr",
     "output_type": "stream",
     "text": [
      "  Iteration 110/150 (total 110)...\n",
      "\n"
     ]
    },
    {
     "name": "stdout",
     "output_type": "stream",
     "text": [
      "0.2682284 \n",
      "1 \n",
      "Mean(o): -0.4519745 ; Var(o): 17.21529 ; Var(si): 0.07364522 \n"
     ]
    },
    {
     "name": "stderr",
     "output_type": "stream",
     "text": [
      "  Iteration 111/150 (total 111)...\n",
      "\n"
     ]
    },
    {
     "name": "stdout",
     "output_type": "stream",
     "text": [
      "0.2670109 \n",
      "1 \n",
      "Mean(o): -0.4519863 ; Var(o): 17.29164 ; Var(si): 0.07401789 \n"
     ]
    },
    {
     "name": "stderr",
     "output_type": "stream",
     "text": [
      "  Iteration 112/150 (total 112)...\n",
      "\n"
     ]
    },
    {
     "name": "stdout",
     "output_type": "stream",
     "text": [
      "0.2658137 \n",
      "1 \n",
      "Mean(o): -0.4519981 ; Var(o): 17.36736 ; Var(si): 0.07438783 \n"
     ]
    },
    {
     "name": "stderr",
     "output_type": "stream",
     "text": [
      "  Iteration 113/150 (total 113)...\n",
      "\n"
     ]
    },
    {
     "name": "stdout",
     "output_type": "stream",
     "text": [
      "0.2646363 \n",
      "1 \n",
      "Mean(o): -0.4520099 ; Var(o): 17.44249 ; Var(si): 0.0747551 \n"
     ]
    },
    {
     "name": "stderr",
     "output_type": "stream",
     "text": [
      "  Iteration 114/150 (total 114)...\n",
      "\n"
     ]
    },
    {
     "name": "stdout",
     "output_type": "stream",
     "text": [
      "0.2634782 \n",
      "1 \n",
      "Mean(o): -0.4520216 ; Var(o): 17.51701 ; Var(si): 0.0751197 \n"
     ]
    },
    {
     "name": "stderr",
     "output_type": "stream",
     "text": [
      "  Iteration 115/150 (total 115)...\n",
      "\n"
     ]
    },
    {
     "name": "stdout",
     "output_type": "stream",
     "text": [
      "0.262339 \n",
      "1 \n",
      "Mean(o): -0.4520334 ; Var(o): 17.59094 ; Var(si): 0.07548169 \n"
     ]
    },
    {
     "name": "stderr",
     "output_type": "stream",
     "text": [
      "  Iteration 116/150 (total 116)...\n",
      "\n"
     ]
    },
    {
     "name": "stdout",
     "output_type": "stream",
     "text": [
      "0.2612181 \n",
      "1 \n",
      "Mean(o): -0.452045 ; Var(o): 17.66428 ; Var(si): 0.07584107 \n"
     ]
    },
    {
     "name": "stderr",
     "output_type": "stream",
     "text": [
      "  Iteration 117/150 (total 117)...\n",
      "\n"
     ]
    },
    {
     "name": "stdout",
     "output_type": "stream",
     "text": [
      "0.2601152 \n",
      "1 \n",
      "Mean(o): -0.4520567 ; Var(o): 17.73705 ; Var(si): 0.07619789 \n"
     ]
    },
    {
     "name": "stderr",
     "output_type": "stream",
     "text": [
      "  Iteration 118/150 (total 118)...\n",
      "\n"
     ]
    },
    {
     "name": "stdout",
     "output_type": "stream",
     "text": [
      "0.2590297 \n",
      "1 \n",
      "Mean(o): -0.4520684 ; Var(o): 17.80925 ; Var(si): 0.07655217 \n"
     ]
    },
    {
     "name": "stderr",
     "output_type": "stream",
     "text": [
      "  Iteration 119/150 (total 119)...\n",
      "\n"
     ]
    },
    {
     "name": "stdout",
     "output_type": "stream",
     "text": [
      "0.2579613 \n",
      "1 \n",
      "Mean(o): -0.45208 ; Var(o): 17.88089 ; Var(si): 0.07690394 \n"
     ]
    },
    {
     "name": "stderr",
     "output_type": "stream",
     "text": [
      "  Iteration 120/150 (total 120)...\n",
      "\n"
     ]
    },
    {
     "name": "stdout",
     "output_type": "stream",
     "text": [
      "0.2569096 \n",
      "1 \n",
      "Mean(o): -0.4520916 ; Var(o): 17.95197 ; Var(si): 0.07725322 \n"
     ]
    },
    {
     "name": "stderr",
     "output_type": "stream",
     "text": [
      "  Iteration 121/150 (total 121)...\n",
      "\n"
     ]
    },
    {
     "name": "stdout",
     "output_type": "stream",
     "text": [
      "0.2558741 \n",
      "1 \n",
      "Mean(o): -0.4521032 ; Var(o): 18.02251 ; Var(si): 0.07760005 \n"
     ]
    },
    {
     "name": "stderr",
     "output_type": "stream",
     "text": [
      "  Iteration 122/150 (total 122)...\n",
      "\n"
     ]
    },
    {
     "name": "stdout",
     "output_type": "stream",
     "text": [
      "0.2548545 \n",
      "1 \n",
      "Mean(o): -0.4521147 ; Var(o): 18.0925 ; Var(si): 0.07794445 \n"
     ]
    },
    {
     "name": "stderr",
     "output_type": "stream",
     "text": [
      "  Iteration 123/150 (total 123)...\n",
      "\n"
     ]
    },
    {
     "name": "stdout",
     "output_type": "stream",
     "text": [
      "0.2538504 \n",
      "1 \n",
      "Mean(o): -0.4521263 ; Var(o): 18.16196 ; Var(si): 0.07828645 \n"
     ]
    },
    {
     "name": "stderr",
     "output_type": "stream",
     "text": [
      "  Iteration 124/150 (total 124)...\n",
      "\n"
     ]
    },
    {
     "name": "stdout",
     "output_type": "stream",
     "text": [
      "0.2528615 \n",
      "1 \n",
      "Mean(o): -0.4521378 ; Var(o): 18.23089 ; Var(si): 0.07862607 \n"
     ]
    },
    {
     "name": "stderr",
     "output_type": "stream",
     "text": [
      "  Iteration 125/150 (total 125)...\n",
      "\n"
     ]
    },
    {
     "name": "stdout",
     "output_type": "stream",
     "text": [
      "0.2518874 \n",
      "1 \n",
      "Mean(o): -0.4521493 ; Var(o): 18.29929 ; Var(si): 0.07896334 \n"
     ]
    },
    {
     "name": "stderr",
     "output_type": "stream",
     "text": [
      "  Iteration 126/150 (total 126)...\n",
      "\n"
     ]
    },
    {
     "name": "stdout",
     "output_type": "stream",
     "text": [
      "0.2509277 \n",
      "1 \n",
      "Mean(o): -0.4521608 ; Var(o): 18.36719 ; Var(si): 0.07929829 \n"
     ]
    },
    {
     "name": "stderr",
     "output_type": "stream",
     "text": [
      "  Iteration 127/150 (total 127)...\n",
      "\n"
     ]
    },
    {
     "name": "stdout",
     "output_type": "stream",
     "text": [
      "0.2499822 \n",
      "1 \n",
      "Mean(o): -0.4521722 ; Var(o): 18.43457 ; Var(si): 0.07963093 \n"
     ]
    },
    {
     "name": "stderr",
     "output_type": "stream",
     "text": [
      "  Iteration 128/150 (total 128)...\n",
      "\n"
     ]
    },
    {
     "name": "stdout",
     "output_type": "stream",
     "text": [
      "0.2490505 \n",
      "1 \n",
      "Mean(o): -0.4521837 ; Var(o): 18.50144 ; Var(si): 0.07996129 \n"
     ]
    },
    {
     "name": "stderr",
     "output_type": "stream",
     "text": [
      "  Iteration 129/150 (total 129)...\n",
      "\n"
     ]
    },
    {
     "name": "stdout",
     "output_type": "stream",
     "text": [
      "0.2481323 \n",
      "1 \n",
      "Mean(o): -0.4521951 ; Var(o): 18.56783 ; Var(si): 0.08028941 \n"
     ]
    },
    {
     "name": "stderr",
     "output_type": "stream",
     "text": [
      "  Iteration 130/150 (total 130)...\n",
      "\n"
     ]
    },
    {
     "name": "stdout",
     "output_type": "stream",
     "text": [
      "0.2472274 \n",
      "1 \n",
      "Mean(o): -0.4522065 ; Var(o): 18.63371 ; Var(si): 0.08061529 \n"
     ]
    },
    {
     "name": "stderr",
     "output_type": "stream",
     "text": [
      "  Iteration 131/150 (total 131)...\n",
      "\n"
     ]
    },
    {
     "name": "stdout",
     "output_type": "stream",
     "text": [
      "0.2463354 \n",
      "1 \n",
      "Mean(o): -0.4522179 ; Var(o): 18.69912 ; Var(si): 0.08093897 \n"
     ]
    },
    {
     "name": "stderr",
     "output_type": "stream",
     "text": [
      "  Iteration 132/150 (total 132)...\n",
      "\n"
     ]
    },
    {
     "name": "stdout",
     "output_type": "stream",
     "text": [
      "0.2454561 \n",
      "1 \n",
      "Mean(o): -0.4522293 ; Var(o): 18.76404 ; Var(si): 0.08126046 \n"
     ]
    },
    {
     "name": "stderr",
     "output_type": "stream",
     "text": [
      "  Iteration 133/150 (total 133)...\n",
      "\n"
     ]
    },
    {
     "name": "stdout",
     "output_type": "stream",
     "text": [
      "0.2445891 \n",
      "1 \n",
      "Mean(o): -0.4522406 ; Var(o): 18.82849 ; Var(si): 0.08157979 \n"
     ]
    },
    {
     "name": "stderr",
     "output_type": "stream",
     "text": [
      "  Iteration 134/150 (total 134)...\n",
      "\n"
     ]
    },
    {
     "name": "stdout",
     "output_type": "stream",
     "text": [
      "0.2437343 \n",
      "1 \n",
      "Mean(o): -0.452252 ; Var(o): 18.89247 ; Var(si): 0.08189699 \n"
     ]
    },
    {
     "name": "stderr",
     "output_type": "stream",
     "text": [
      "  Iteration 135/150 (total 135)...\n",
      "\n"
     ]
    },
    {
     "name": "stdout",
     "output_type": "stream",
     "text": [
      "0.2428913 \n",
      "1 \n",
      "Mean(o): -0.4522633 ; Var(o): 18.95598 ; Var(si): 0.08221207 \n"
     ]
    },
    {
     "name": "stderr",
     "output_type": "stream",
     "text": [
      "  Iteration 136/150 (total 136)...\n",
      "\n"
     ]
    },
    {
     "name": "stdout",
     "output_type": "stream",
     "text": [
      "0.2420599 \n",
      "1 \n",
      "Mean(o): -0.4522746 ; Var(o): 19.01904 ; Var(si): 0.08252506 \n"
     ]
    },
    {
     "name": "stderr",
     "output_type": "stream",
     "text": [
      "  Iteration 137/150 (total 137)...\n",
      "\n"
     ]
    },
    {
     "name": "stdout",
     "output_type": "stream",
     "text": [
      "0.2412399 \n",
      "1 \n",
      "Mean(o): -0.4522859 ; Var(o): 19.08165 ; Var(si): 0.08283597 \n"
     ]
    },
    {
     "name": "stderr",
     "output_type": "stream",
     "text": [
      "  Iteration 138/150 (total 138)...\n",
      "\n"
     ]
    },
    {
     "name": "stdout",
     "output_type": "stream",
     "text": [
      "0.240431 \n",
      "1 \n",
      "Mean(o): -0.4522972 ; Var(o): 19.1438 ; Var(si): 0.08314483 \n"
     ]
    },
    {
     "name": "stderr",
     "output_type": "stream",
     "text": [
      "  Iteration 139/150 (total 139)...\n",
      "\n"
     ]
    },
    {
     "name": "stdout",
     "output_type": "stream",
     "text": [
      "0.2396331 \n",
      "1 \n",
      "Mean(o): -0.4523084 ; Var(o): 19.20551 ; Var(si): 0.08345166 \n"
     ]
    },
    {
     "name": "stderr",
     "output_type": "stream",
     "text": [
      "  Iteration 140/150 (total 140)...\n",
      "\n"
     ]
    },
    {
     "name": "stdout",
     "output_type": "stream",
     "text": [
      "0.2388458 \n",
      "1 \n",
      "Mean(o): -0.4523196 ; Var(o): 19.26679 ; Var(si): 0.08375648 \n"
     ]
    },
    {
     "name": "stderr",
     "output_type": "stream",
     "text": [
      "  Iteration 141/150 (total 141)...\n",
      "\n"
     ]
    },
    {
     "name": "stdout",
     "output_type": "stream",
     "text": [
      "0.238069 \n",
      "1 \n",
      "Mean(o): -0.4523309 ; Var(o): 19.32763 ; Var(si): 0.0840593 \n"
     ]
    },
    {
     "name": "stderr",
     "output_type": "stream",
     "text": [
      "  Iteration 142/150 (total 142)...\n",
      "\n"
     ]
    },
    {
     "name": "stdout",
     "output_type": "stream",
     "text": [
      "0.2373024 \n",
      "1 \n",
      "Mean(o): -0.4523421 ; Var(o): 19.38805 ; Var(si): 0.08436016 \n"
     ]
    },
    {
     "name": "stderr",
     "output_type": "stream",
     "text": [
      "  Iteration 143/150 (total 143)...\n",
      "\n"
     ]
    },
    {
     "name": "stdout",
     "output_type": "stream",
     "text": [
      "0.2365459 \n",
      "1 \n",
      "Mean(o): -0.4523533 ; Var(o): 19.44804 ; Var(si): 0.08465906 \n"
     ]
    },
    {
     "name": "stderr",
     "output_type": "stream",
     "text": [
      "  Iteration 144/150 (total 144)...\n",
      "\n"
     ]
    },
    {
     "name": "stdout",
     "output_type": "stream",
     "text": [
      "0.2357993 \n",
      "1 \n",
      "Mean(o): -0.4523645 ; Var(o): 19.50761 ; Var(si): 0.08495604 \n"
     ]
    },
    {
     "name": "stderr",
     "output_type": "stream",
     "text": [
      "  Iteration 145/150 (total 145)...\n",
      "\n"
     ]
    },
    {
     "name": "stdout",
     "output_type": "stream",
     "text": [
      "0.2350623 \n",
      "1 \n",
      "Mean(o): -0.4523756 ; Var(o): 19.56677 ; Var(si): 0.0852511 \n"
     ]
    },
    {
     "name": "stderr",
     "output_type": "stream",
     "text": [
      "  Iteration 146/150 (total 146)...\n",
      "\n"
     ]
    },
    {
     "name": "stdout",
     "output_type": "stream",
     "text": [
      "0.2343347 \n",
      "1 \n",
      "Mean(o): -0.4523868 ; Var(o): 19.62551 ; Var(si): 0.08554426 \n"
     ]
    },
    {
     "name": "stderr",
     "output_type": "stream",
     "text": [
      "  Iteration 147/150 (total 147)...\n",
      "\n"
     ]
    },
    {
     "name": "stdout",
     "output_type": "stream",
     "text": [
      "0.2336165 \n",
      "1 \n",
      "Mean(o): -0.4523979 ; Var(o): 19.68386 ; Var(si): 0.08583555 \n"
     ]
    },
    {
     "name": "stderr",
     "output_type": "stream",
     "text": [
      "  Iteration 148/150 (total 148)...\n",
      "\n"
     ]
    },
    {
     "name": "stdout",
     "output_type": "stream",
     "text": [
      "0.2329073 \n",
      "1 \n",
      "Mean(o): -0.452409 ; Var(o): 19.7418 ; Var(si): 0.08612498 \n"
     ]
    },
    {
     "name": "stderr",
     "output_type": "stream",
     "text": [
      "  Iteration 149/150 (total 149)...\n",
      "\n"
     ]
    },
    {
     "name": "stdout",
     "output_type": "stream",
     "text": [
      "0.2322071 \n",
      "1 \n",
      "Mean(o): -0.4524202 ; Var(o): 19.79934 ; Var(si): 0.08641257 \n"
     ]
    },
    {
     "name": "stderr",
     "output_type": "stream",
     "text": [
      "  Iteration 150/150 (total 150)...\n",
      "\n"
     ]
    },
    {
     "name": "stdout",
     "output_type": "stream",
     "text": [
      "0.2315156 \n",
      "1 \n",
      "Mean(o): -0.4524312 ; Var(o): 19.8565 ; Var(si): 0.08669834 \n"
     ]
    }
   ],
   "source": [
    "## Set up GEDI model\n",
    "model <- new(\"GEDI\") # Initialize GEDI object\n",
    "model$setup(Samples = sample_identity, # Vector indicating which sample belongs to each cell\n",
    "            colData = data.frame(cell_names = colnames(spliced_combined)), # Metadata (optional)\n",
    "            M = list(spliced_combined, unspliced_combined), # Expression data as a list of two matrices, in which case they are considered as paired observations whose log-ratio must be modelled.\n",
    "            K = 20, # Number of latent variables to use\n",
    "            mode = \"Bsphere\", # Modes to use: Either Bsphere (hyperellipsoid) or Bl2 (hyperplane)\n",
    "            oi_shrinkage = 0.001 # Shrinkage multiplier for oi. In here we use 0.001, to better accommodated the mean abundance differences that exist between multiple scRNA-seq technologies.\n",
    "            ) \n",
    "model$initialize.LVs(randomSeed = 1) # initialize LVs\n",
    "model$optimize(iterations = 150) # run model with 150 iterations\n",
    "saveRDS(model, file = \"/home/ssobti/projects/mir_tud/output_data/splicing/tRF/tRF_gedi_model.rds\") # Saving output model"
   ]
  },
  {
   "cell_type": "code",
   "execution_count": 11,
   "metadata": {
    "execution": {
     "iopub.execute_input": "2024-03-17T06:21:42.563830Z",
     "iopub.status.busy": "2024-03-17T06:21:42.560876Z",
     "iopub.status.idle": "2024-03-17T06:21:44.154068Z",
     "shell.execute_reply": "2024-03-17T06:21:44.152611Z"
    },
    "vscode": {
     "languageId": "r"
    }
   },
   "outputs": [
    {
     "data": {
      "image/png": "[encoded data removed]",
      "text/plain": [
       "plot without title"
      ]
     },
     "metadata": {
      "image/png": {
       "height": 420,
       "width": 420
      }
     },
     "output_type": "display_data"
    },
    {
     "data": {
      "image/png": "[encoded data removed]",
      "text/plain": [
       "plot without title"
      ]
     },
     "metadata": {
      "image/png": {
       "height": 420,
       "width": 420
      }
     },
     "output_type": "display_data"
    },
    {
     "data": {
      "image/png": "[encoded data removed]",
      "text/plain": [
       "plot without title"
      ]
     },
     "metadata": {
      "image/png": {
       "height": 420,
       "width": 420
      }
     },
     "output_type": "display_data"
    },
    {
     "data": {
      "image/png": "[encoded data removed]",
      "text/plain": [
       "plot without title"
      ]
     },
     "metadata": {
      "image/png": {
       "height": 420,
       "width": 420
      }
     },
     "output_type": "display_data"
    },
    {
     "data": {
      "text/plain": [
       "$ZAo\n",
       "\n",
       "$Bi\n",
       "\n",
       "$Qi\n",
       "\n",
       "$oi\n",
       "\n",
       "$si\n",
       "\n",
       "$Rk\n",
       "NULL\n",
       "\n",
       "$sigma2\n"
      ]
     },
     "metadata": {},
     "output_type": "display_data"
    },
    {
     "data": {
      "image/png": "[encoded data removed]",
      "text/plain": [
       "plot without title"
      ]
     },
     "metadata": {
      "image/png": {
       "height": 420,
       "width": 420
      }
     },
     "output_type": "display_data"
    },
    {
     "data": {
      "image/png": "[encoded data removed]",
      "text/plain": [
       "plot without title"
      ]
     },
     "metadata": {
      "image/png": {
       "height": 420,
       "width": 420
      }
     },
     "output_type": "display_data"
    }
   ],
   "source": [
    "model$plotTracking()"
   ]
  },
  {
   "cell_type": "code",
   "execution_count": null,
   "metadata": {
    "vscode": {
     "languageId": "r"
    }
   },
   "outputs": [],
   "source": []
  }
 ],
 "metadata": {
  "kernelspec": {
   "display_name": "R",
   "language": "R",
   "name": "ir"
  },
  "language_info": {
   "codemirror_mode": "r",
   "file_extension": ".r",
   "mimetype": "text/x-r-source",
   "name": "R",
   "pygments_lexer": "r",
   "version": "4.3.3"
  }
 },
 "nbformat": 4,
 "nbformat_minor": 2
}
