{
 "cells": [
  {
   "cell_type": "code",
   "execution_count": 1,
   "metadata": {
    "execution": {
     "iopub.execute_input": "2024-03-12T06:02:57.801644Z",
     "iopub.status.busy": "2024-03-12T06:02:57.801200Z",
     "iopub.status.idle": "2024-03-12T06:02:57.806169Z",
     "shell.execute_reply": "2024-03-12T06:02:57.805641Z"
    }
   },
   "outputs": [],
   "source": [
    "## Notebook env: gedi (gedi kernel)"
   ]
  },
  {
   "cell_type": "code",
   "execution_count": 2,
   "metadata": {
    "execution": {
     "iopub.execute_input": "2024-03-12T06:02:57.808701Z",
     "iopub.status.busy": "2024-03-12T06:02:57.808520Z",
     "iopub.status.idle": "2024-03-12T06:20:04.215366Z",
     "shell.execute_reply": "2024-03-12T06:20:04.213655Z"
    }
   },
   "outputs": [
    {
     "name": "stderr",
     "output_type": "stream",
     "text": [
      "/home/ssobti/miniconda3/envs/gedi/lib/python3.12/site-packages/numba/np/ufunc/parallel.py:371: NumbaWarning: The TBB threading layer requires TBB version 2021 update 6 or later i.e., TBB_INTERFACE_VERSION >= 12060. Found TBB_INTERFACE_VERSION = 12050. The TBB threading layer is disabled.\n",
      "  warnings.warn(problem)\n"
     ]
    },
    {
     "name": "stderr",
     "output_type": "stream",
     "text": [
      "WARNING:root:╭── 'batch_scan_layers' is deprecated. Use 'scan' instead\n"
     ]
    },
    {
     "name": "stderr",
     "output_type": "stream",
     "text": [
      "WARNING:root:╰──> at /home/ssobti/miniconda3/envs/gedi/lib/python3.12/site-packages/loompy/loompy.py, line 465\n"
     ]
    },
    {
     "name": "stderr",
     "output_type": "stream",
     "text": [
      "WARNING:root:╭── 'batch_scan_layers' is deprecated. Use 'scan' instead\n"
     ]
    },
    {
     "name": "stderr",
     "output_type": "stream",
     "text": [
      "WARNING:root:╰──> at /home/ssobti/miniconda3/envs/gedi/lib/python3.12/site-packages/loompy/loompy.py, line 465\n"
     ]
    }
   ],
   "source": [
    "## combine loom files\n",
    "\n",
    "import loompy as lpy\n",
    "\n",
    "path = '/home/ssobti/projects/mir_tud/output_data/splicing/velocyto/'\n",
    "tRF_1 = path + 'tRF_1/tRF_1.loom'\n",
    "tRF_2 = path + 'tRF_2/tRF_2.loom'\n",
    "tRF_3 = path + 'tRF_3/tRF_3.loom'\n",
    "\n",
    "lpy.combine([tRF_1, tRF_2, tRF_3], path + 'tRF_combined.loom')"
   ]
  }
 ],
 "metadata": {
  "kernelspec": {
   "display_name": "gedi",
   "language": "python",
   "name": "gedi"
  },
  "language_info": {
   "codemirror_mode": {
    "name": "ipython",
    "version": 3
   },
   "file_extension": ".py",
   "mimetype": "text/x-python",
   "name": "python",
   "nbconvert_exporter": "python",
   "pygments_lexer": "ipython3",
   "version": "3.12.2"
  }
 },
 "nbformat": 4,
 "nbformat_minor": 2
}
