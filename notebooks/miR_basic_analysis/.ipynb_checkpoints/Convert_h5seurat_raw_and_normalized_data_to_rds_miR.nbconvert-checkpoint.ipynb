{
 "cells": [
  {
   "cell_type": "code",
   "execution_count": 1,
   "id": "bf29757a",
   "metadata": {
    "execution": {
     "iopub.execute_input": "2023-03-07T00:09:38.836915Z",
     "iopub.status.busy": "2023-03-07T00:09:38.834107Z",
     "iopub.status.idle": "2023-03-07T00:09:38.864243Z",
     "shell.execute_reply": "2023-03-07T00:09:38.862551Z"
    }
   },
   "outputs": [],
   "source": [
    "## Notebook env: seuratdisk (R kernel)\n",
    "## this notebook converts the data output in .h5seurat from preprocessing to .rds"
   ]
  },
  {
   "cell_type": "code",
   "execution_count": 2,
   "id": "08487940",
   "metadata": {
    "execution": {
     "iopub.execute_input": "2023-03-07T00:09:38.902324Z",
     "iopub.status.busy": "2023-03-07T00:09:38.869663Z",
     "iopub.status.idle": "2023-03-07T00:09:42.805426Z",
     "shell.execute_reply": "2023-03-07T00:09:42.803737Z"
    }
   },
   "outputs": [
    {
     "name": "stderr",
     "output_type": "stream",
     "text": [
      "Registered S3 method overwritten by 'SeuratDisk':\n",
      "  method            from  \n",
      "  as.sparse.H5Group Seurat\n",
      "\n"
     ]
    }
   ],
   "source": [
    "library(SeuratDisk)"
   ]
  },
  {
   "cell_type": "code",
   "execution_count": 3,
   "id": "dcdb92df",
   "metadata": {
    "execution": {
     "iopub.execute_input": "2023-03-07T00:09:42.812233Z",
     "iopub.status.busy": "2023-03-07T00:09:42.810531Z",
     "iopub.status.idle": "2023-03-07T00:12:00.792328Z",
     "shell.execute_reply": "2023-03-07T00:12:00.790676Z"
    }
   },
   "outputs": [
    {
     "name": "stderr",
     "output_type": "stream",
     "text": [
      "Validating h5Seurat file\n",
      "\n",
      "Initializing RNA with data\n",
      "\n",
      "Adding counts for RNA\n",
      "\n",
      "Adding miscellaneous information for RNA\n",
      "\n",
      "Initializing integrated with data\n",
      "\n",
      "Adding scale.data for integrated\n",
      "\n",
      "Adding variable feature information for integrated\n",
      "\n",
      "Adding reduction pca\n",
      "\n",
      "Adding cell embeddings for pca\n",
      "\n",
      "Adding feature loadings for pca\n",
      "\n",
      "Adding miscellaneous information for pca\n",
      "\n",
      "Adding reduction umap\n",
      "\n",
      "Adding cell embeddings for umap\n",
      "\n",
      "Adding miscellaneous information for umap\n",
      "\n",
      "Adding graph integrated_nn\n",
      "\n",
      "Adding graph integrated_snn\n",
      "\n",
      "Adding command information\n",
      "\n",
      "Adding cell-level metadata\n",
      "\n",
      "Adding miscellaneous information\n",
      "\n",
      "Adding tool-specific results\n",
      "\n",
      "Adding data that was not associated with an assay\n",
      "\n",
      "Warning message:\n",
      "“Adding a command log without an assay associated with it”\n"
     ]
    }
   ],
   "source": [
    "miR_normalized_seurat <- LoadH5Seurat('~/projects/mir_tud/010523_filtered_data/miR.integrated.qc_norm_scaled.dimred.clustered.gex.guide_assigned.h5seurat')"
   ]
  },
  {
   "cell_type": "code",
   "execution_count": 4,
   "id": "e1ec538d",
   "metadata": {
    "execution": {
     "iopub.execute_input": "2023-03-07T00:12:00.804276Z",
     "iopub.status.busy": "2023-03-07T00:12:00.803200Z",
     "iopub.status.idle": "2023-03-07T00:16:29.463200Z",
     "shell.execute_reply": "2023-03-07T00:16:29.460153Z"
    }
   },
   "outputs": [],
   "source": [
    "saveRDS(miR_normalized_seurat, '~/projects/mir_tud/010523_filtered_data/miR_normalized_integrated_seurat.rds')"
   ]
  },
  {
   "cell_type": "code",
   "execution_count": 5,
   "id": "4fb135a4",
   "metadata": {
    "execution": {
     "iopub.execute_input": "2023-03-07T00:16:29.488562Z",
     "iopub.status.busy": "2023-03-07T00:16:29.487147Z",
     "iopub.status.idle": "2023-03-07T00:16:29.500896Z",
     "shell.execute_reply": "2023-03-07T00:16:29.499313Z"
    }
   },
   "outputs": [],
   "source": [
    "rm(miR_normalized_seurat)"
   ]
  },
  {
   "cell_type": "code",
   "execution_count": 6,
   "id": "52c7aeb8",
   "metadata": {
    "execution": {
     "iopub.execute_input": "2023-03-07T00:16:29.507108Z",
     "iopub.status.busy": "2023-03-07T00:16:29.505655Z",
     "iopub.status.idle": "2023-03-07T00:18:01.235210Z",
     "shell.execute_reply": "2023-03-07T00:18:01.233600Z"
    }
   },
   "outputs": [
    {
     "name": "stderr",
     "output_type": "stream",
     "text": [
      "Validating h5Seurat file\n",
      "\n",
      "Initializing RNA with data\n",
      "\n",
      "Adding counts for RNA\n",
      "\n",
      "Adding feature-level metadata for RNA\n",
      "\n",
      "Adding command information\n",
      "\n",
      "Adding cell-level metadata\n",
      "\n",
      "Adding miscellaneous information\n",
      "\n",
      "Adding tool-specific results\n",
      "\n"
     ]
    }
   ],
   "source": [
    "miR_raw_seurat <- LoadH5Seurat('~/projects/mir_tud/010523_filtered_data/miR.concat.raw.adata_gex.guide_assigned.h5seurat')"
   ]
  },
  {
   "cell_type": "code",
   "execution_count": 7,
   "id": "443795b5",
   "metadata": {
    "execution": {
     "iopub.execute_input": "2023-03-07T00:18:01.244178Z",
     "iopub.status.busy": "2023-03-07T00:18:01.243089Z",
     "iopub.status.idle": "2023-03-07T00:22:12.238188Z",
     "shell.execute_reply": "2023-03-07T00:22:12.235357Z"
    }
   },
   "outputs": [],
   "source": [
    "saveRDS(miR_raw_seurat, '~/projects/mir_tud/010523_filtered_data/miR_raw_seurat.rds')"
   ]
  },
  {
   "cell_type": "code",
   "execution_count": null,
   "id": "6a2241cf",
   "metadata": {},
   "outputs": [],
   "source": []
  }
 ],
 "metadata": {
  "kernelspec": {
   "display_name": "R",
   "language": "R",
   "name": "ir"
  },
  "language_info": {
   "codemirror_mode": "r",
   "file_extension": ".r",
   "mimetype": "text/x-r-source",
   "name": "R",
   "pygments_lexer": "r",
   "version": "4.0.5"
  }
 },
 "nbformat": 4,
 "nbformat_minor": 5
}
