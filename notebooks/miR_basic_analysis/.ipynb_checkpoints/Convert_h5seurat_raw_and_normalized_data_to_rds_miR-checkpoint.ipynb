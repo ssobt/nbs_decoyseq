{
 "cells": [
  {
   "cell_type": "code",
   "execution_count": null,
   "id": "bf29757a",
   "metadata": {},
   "outputs": [],
   "source": [
    "## Notebook env: seuratdisk (R kernel)\n",
    "## this notebook converts the data output in .h5seurat from preprocessing to .rds"
   ]
  },
  {
   "cell_type": "code",
   "execution_count": 1,
   "id": "08487940",
   "metadata": {},
   "outputs": [
    {
     "name": "stderr",
     "output_type": "stream",
     "text": [
      "Registered S3 method overwritten by 'SeuratDisk':\n",
      "  method            from  \n",
      "  as.sparse.H5Group Seurat\n",
      "\n"
     ]
    }
   ],
   "source": [
    "library(SeuratDisk)"
   ]
  },
  {
   "cell_type": "code",
   "execution_count": null,
   "id": "dcdb92df",
   "metadata": {},
   "outputs": [],
   "source": [
    "miR_normalized_seurat <- LoadH5Seurat('~/projects/mir_tud/010523_filtered_data/miR.integrated.qc_norm_scaled.dimred.clustered.gex.guide_assigned.h5seurat')"
   ]
  },
  {
   "cell_type": "code",
   "execution_count": null,
   "id": "e1ec538d",
   "metadata": {},
   "outputs": [],
   "source": [
    "saveRDS(miR_normalized_seurat, '~/projects/mir_tud/010523_filtered_data/miR_normalized_integrated_seurat.rds')"
   ]
  },
  {
   "cell_type": "code",
   "execution_count": null,
   "id": "4fb135a4",
   "metadata": {},
   "outputs": [],
   "source": [
    "rm(miR_normalized_seurat)"
   ]
  },
  {
   "cell_type": "code",
   "execution_count": null,
   "id": "52c7aeb8",
   "metadata": {},
   "outputs": [],
   "source": [
    "miR_raw_seurat <- LoadH5Seurat('~/projects/mir_tud/010523_filtered_data/miR.concat.raw.adata_gex.guide_assigned.h5seurat')"
   ]
  },
  {
   "cell_type": "code",
   "execution_count": null,
   "id": "443795b5",
   "metadata": {},
   "outputs": [],
   "source": [
    "saveRDS(miR_raw_seurat, '~/projects/mir_tud/010523_filtered_data/miR_raw_seurat.rds')"
   ]
  },
  {
   "cell_type": "code",
   "execution_count": null,
   "id": "6a2241cf",
   "metadata": {},
   "outputs": [],
   "source": []
  }
 ],
 "metadata": {
  "kernelspec": {
   "display_name": "R",
   "language": "R",
   "name": "ir"
  },
  "language_info": {
   "codemirror_mode": "r",
   "file_extension": ".r",
   "mimetype": "text/x-r-source",
   "name": "R",
   "pygments_lexer": "r",
   "version": "4.0.5"
  }
 },
 "nbformat": 4,
 "nbformat_minor": 5
}
