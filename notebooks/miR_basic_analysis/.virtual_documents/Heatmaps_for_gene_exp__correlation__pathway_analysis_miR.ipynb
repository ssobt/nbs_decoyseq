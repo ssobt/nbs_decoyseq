## Notebook env: mirtud_env (R kernel)
## This notebook creates a cell profile hierachial clusetering heatmap (Fig.2A Replogle et al)
## It also classifies cells from each pertubations into different pathways (Fig.4A and 4B Replogle et al)
## Annotate the controls as one control 'TuD_NC' so they are all one (sample cells if needed to lower cell #)


library(Matrix)
library(Seurat)
library(stringr)
library(ggplot2)


## To run notebook interactively, shut off variable inspector:
system("jupyter labextension disable @lckr/jupyterlab_variableinspector", intern = TRUE)


### Data loading ###
miR_loaded_seuratobj <- readRDS('/home/ssobti/projects/mir_tud/010523_filtered_data/miR_normalized_integrated_seurat.rds')
meta = miR_loaded_seuratobj@meta.data

meta$guide[str_sub(meta$guide, 1, 3) == 'TuD'] <- 'TuD_NC'
miR_loaded_seuratobj@meta.data <- meta
head(miR_loaded_seuratobj@meta.data)


count_df = data.frame(guide = names(table(meta$guide)), cells = as.numeric(table(meta$guide)))
ggplot(count_df, aes(x = cells)) + geom_histogram(color="black", fill="white", position = "identity", bins = 1000) + 
xlim(0,150) + theme_classic()


suppressWarnings(library(dplyr))
cbind(arrange(count_df, cells)[1:10,], arrange(count_df, -cells)[1:10,])


### seems like # of cells per guide is a huge covariate in expression (based on heatmap below without regressing it out)
## so need to control for it here
cell_guide_count = 1:nrow(meta)
for (i in 1:nrow(count_df)){
    cell_guide_count[meta$guide == count_df$guide[i]] = count_df$cells[i]
}

meta$cell_guide_count = cell_guide_count
miR_loaded_seuratobj@meta.data <- meta


miR_seuratobj = CreateSeuratObject(miR_loaded_seuratobj@assays$RNA@counts, meta.data = miR_loaded_seuratobj@meta.data)
miR_seuratobj = SCTransform(miR_seuratobj, vars.to.regress = c('sample', 'percent.mt', 'nCount_RNA', 'cell_guide_count'))


### For Fig2A, first take normalized gene expression averages
## to build pseudo-bulk expression profile for each perturbation
Pseudo_bulk_exp <- AverageExpression(miR_seuratobj, assays = "SCT", group.by = "guide", slot = "scale.data")
Pseudo_bulk_exp <- Pseudo_bulk_exp[['SCT']]


range(Pseudo_bulk_exp)


dim(Pseudo_bulk_exp)


## run spearman correlation on Pseudo_bulk_exp matrix
perturb_perturb_corr_mtx <- cor(Pseudo_bulk_exp, method = 'spearman')


options(repr.plot.width = 7, repr.plot.height = 7)
hist(Pseudo_bulk_exp, breaks = 1000)


#### Gene Expression by Perturbation Heatmap (Replogle Fig.2A pt.1) ####
suppressWarnings(library(ComplexHeatmap))
suppressWarnings(library(gridExtra))

avg = mean(Pseudo_bulk_exp)
lower_bound = mean(Pseudo_bulk_exp) - 2*sd(Pseudo_bulk_exp)
upper_bound = mean(Pseudo_bulk_exp) + 2*sd(Pseudo_bulk_exp)
coloring_map <- circlize::colorRamp2(c(lower_bound, avg, upper_bound), c("blue", "white", "red"))

perturb_htmp <- function(matrix, title) {
  draw(Heatmap(matrix, name = title, show_column_names = TRUE, show_row_names = TRUE, show_column_dend = FALSE,
               col = coloring_map, show_row_dend = FALSE, use_raster = TRUE, row_title = '3000 Var Genes', 
               column_title = 'Perturbations', row_title_side = 'left', column_title_side = 'top', 
               column_names_gp = gpar(fontsize = 2), row_names_gp = gpar(fontsize = 1)))
}


options(repr.plot.width = 16, repr.plot.height = 14)
pdf('/home/ssobti/projects/mir_tud/output_data/genexp_pathway/avg_genexp_htmap.pdf', width = 12, height = 11)
perturb_htmp(Pseudo_bulk_exp, 'Pseudo-bulk')
dev.off()

perturb_htmp(Pseudo_bulk_exp, 'Pseudo-bulk')


perturb_perturb_corr_mtx[1:3,1:3]


options(repr.plot.width = 7, repr.plot.height = 7)
hist(perturb_perturb_corr_mtx, breaks = 1000)


mean(perturb_perturb_corr_mtx) + 2*sd(perturb_perturb_corr_mtx)


#### Perturbation - Perturbation Spearman Correlation Matrix (Replogle Fig.2A pt.2) ####
set.seed(20)
avg = mean(perturb_perturb_corr_mtx)
lower_bound = mean(perturb_perturb_corr_mtx) - 2*sd(perturb_perturb_corr_mtx)
upper_bound = mean(perturb_perturb_corr_mtx) + 2*sd(perturb_perturb_corr_mtx)
coloring_map <- circlize::colorRamp2(c(lower_bound, avg, upper_bound), c("blue", "white", "red"))

annot = rowAnnotation(perturb = runif(nrow(perturb_perturb_corr_mtx)), show_legend = FALSE, show_annotation_name = FALSE)

perturb_perturb_corr_mtx_htmp <- function(matrix, title, annotation) {
  draw(Heatmap(matrix, name = title, show_column_names = TRUE, show_row_names = FALSE, show_column_dend = FALSE,
               col = coloring_map, show_row_dend = FALSE, use_raster = TRUE, row_title = 'Perturbations', 
               column_title = 'Perturbations', row_title_side = 'left', column_title_side = 'top', 
               column_names_gp = gpar(fontsize = 2), row_names_gp = gpar(fontsize = 1),
               left_annotation = annotation))
}


options(repr.plot.width = 16, repr.plot.height = 14)
pdf('/home/ssobti/projects/mir_tud/output_data/genexp_pathway/avg_genexp_corr_htmap.pdf', width = 12, height = 11)
perturb_perturb_corr_mtx_htmp(perturb_perturb_corr_mtx, 'Pb-Pb Corr Matrix', annot)
dev.off()

perturb_perturb_corr_mtx_htmp(perturb_perturb_corr_mtx, 'Pb-Pb Corr Matrix', annot)



