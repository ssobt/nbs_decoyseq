## Notebook env: mirtud_env (R kernel)
## this notebook finds expression patterns in aggregated datasets


library(Seurat)


miR_loaded_seuratobj <- readRDS('/home/ssobti/projects/mir_tud/010523_filtered_data/miR_normalized_integrated_seurat.rds')












