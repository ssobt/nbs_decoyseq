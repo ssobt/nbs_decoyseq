## Notebook env: mirtud_env (R kernel)


library(escape)
library(dittoSeq)
library(SingleCellExperiment)
library(Seurat)
library(SeuratObject)


miR_loaded_seuratobj <- readRDS('/home/ssobti/projects/mir_tud/010523_filtered_data/miR_normalized_integrated_seurat.rds')
meta = miR_loaded_seuratobj@meta.data

meta$guide[str_sub(meta$guide, 1, 3) == 'TuD'] <- 'TuD_NC'
miR_loaded_seuratobj@meta.data <- meta
sce <- as.SingleCellExperiment(miR_loaded_seuratobj, assay = "RNA")


GS.hallmark <- getGeneSets(library = "H")


ES.miR.ssGSEA <- enrichIt(obj = sce, 
                      method = "ssGSEA",
                      gene.sets = GS.hallmark, 
                      groups = 1000, cores = 10, 
                      min.size = 5)


ES.miR.UCell <- enrichIt(obj = sce, 
                   gene.sets = GS.hallmark, 
                   method = "UCell",
                   groups = 1000, cores = 10, 
                   min.size = 5)


save(ES.miR.ssGSEA, ES.miR.UCell, file = '/home/ssobti/projects/mir_tud/output_data/genexp_pathway/escape/miR_escape_hallmark_out.RData')


load('/home/ssobti/projects/mir_tud/output_data/genexp_pathway/escape/miR_escape_hallmark_out.RData')


sce_miR_ssGSEA = sce
sce_miR_UCell = sce


met.data <- merge(colData(sce_miR_ssGSEA), ES.miR.ssGSEA, by = "row.names", all=TRUE)
row.names(met.data) <- met.data$Row.names
met.data$Row.names <- NULL
colData(sce_miR_ssGSEA) <- met.data


met.data <- merge(colData(sce_miR_UCell), ES.miR.ssGSEA, by = "row.names", all=TRUE)
row.names(met.data) <- met.data$Row.names
met.data$Row.names <- NULL
colData(sce_miR_UCell) <- met.data


colors <- colorRampPalette(c("#0D0887FF","#7E03A8FF","#CC4678FF","#F89441FF","#F0F921FF"))


options(repr.plot.width = 16, repr.plot.height = 10)
dittoHeatmap(sce_miR_ssGSEA, genes = NULL, metas = names(ES.miR.ssGSEA), 
             annot.by = "guide", 
             fontsize = 7, 
             cluster_cols = TRUE,
             heatmap.colors = colors(50))


options(repr.plot.width = 16, repr.plot.height = 10)
dittoHeatmap(sce_miR_UCell, genes = NULL, metas = names(ES.miR.UCell), 
             annot.by = "guide", 
             fontsize = 7, 
             cluster_cols = TRUE,
             heatmap.colors = colors(50))















