{
 "cells": [
  {
   "cell_type": "code",
   "execution_count": 28,
   "metadata": {
    "vscode": {
     "languageId": "r"
    }
   },
   "outputs": [],
   "source": [
    "## Notebook env: R_all_purpose_env (R kernel)\n",
    "## this noteebook is a followup of PC_scores_cell_guide_linear_model_rotated_varimax_consolidated_families_comparison_to_controls_only.nbconvert.ipynb\n",
    "suppressMessages(library(mygene))\n",
    "suppressMessages(library(Seurat))"
   ]
  },
  {
   "cell_type": "code",
   "execution_count": 3,
   "metadata": {
    "vscode": {
     "languageId": "r"
    }
   },
   "outputs": [
    {
     "data": {
      "text/html": [
       "<table class=\"dataframe\">\n",
       "<caption>A data.frame: 6 × 11</caption>\n",
       "<thead>\n",
       "\t<tr><th></th><th scope=col>miR.Family</th><th scope=col>Gene.ID</th><th scope=col>Gene.Symbol</th><th scope=col>Transcript.ID</th><th scope=col>Species.ID</th><th scope=col>UTR.start</th><th scope=col>UTR.end</th><th scope=col>MSA.start</th><th scope=col>MSA.end</th><th scope=col>Seed.match</th><th scope=col>PCT</th></tr>\n",
       "\t<tr><th></th><th scope=col>&lt;chr&gt;</th><th scope=col>&lt;chr&gt;</th><th scope=col>&lt;chr&gt;</th><th scope=col>&lt;chr&gt;</th><th scope=col>&lt;int&gt;</th><th scope=col>&lt;int&gt;</th><th scope=col>&lt;int&gt;</th><th scope=col>&lt;int&gt;</th><th scope=col>&lt;int&gt;</th><th scope=col>&lt;chr&gt;</th><th scope=col>&lt;chr&gt;</th></tr>\n",
       "</thead>\n",
       "<tbody>\n",
       "\t<tr><th scope=row>1</th><td>miR-23-3p                                 </td><td>ENSG00000121410.7 </td><td>A1BG</td><td>ENST00000263100.3</td><td>9606</td><td> 143</td><td> 150</td><td>  219</td><td>  231</td><td>8mer   </td><td>0.00</td></tr>\n",
       "\t<tr><th scope=row>2</th><td>miR-23                                    </td><td>ENSG00000121410.7 </td><td>A1BG</td><td>ENST00000263100.3</td><td>9598</td><td> 143</td><td> 150</td><td>  219</td><td>  231</td><td>8mer   </td><td>0.00</td></tr>\n",
       "\t<tr><th scope=row>3</th><td>miR-23-3p                                 </td><td>ENSG00000121410.7 </td><td>A1BG</td><td>ENST00000263100.3</td><td>9544</td><td> 142</td><td> 149</td><td>  219</td><td>  231</td><td>8mer   </td><td>0.00</td></tr>\n",
       "\t<tr><th scope=row>4</th><td>miR-23                                    </td><td>ENSG00000121410.7 </td><td>A1BG</td><td>ENST00000263100.3</td><td>9615</td><td> 141</td><td> 148</td><td>  219</td><td>  231</td><td>8mer   </td><td>0.00</td></tr>\n",
       "\t<tr><th scope=row>5</th><td>miR-302-3p/372-3p/373/518-3p/519-3p/520-3p</td><td>ENSG00000148584.10</td><td>A1CF</td><td>ENST00000374001.2</td><td>9544</td><td>6998</td><td>7005</td><td>14069</td><td>14077</td><td>8mer   </td><td>0.82</td></tr>\n",
       "\t<tr><th scope=row>6</th><td>miR-302c-3p.2/520-3p                      </td><td>ENSG00000148584.10</td><td>A1CF</td><td>ENST00000374001.2</td><td>9606</td><td>7071</td><td>7077</td><td>14068</td><td>14075</td><td>7mer-m8</td><td>0.87</td></tr>\n",
       "</tbody>\n",
       "</table>\n"
      ],
      "text/latex": [
       "A data.frame: 6 × 11\n",
       "\\begin{tabular}{r|lllllllllll}\n",
       "  & miR.Family & Gene.ID & Gene.Symbol & Transcript.ID & Species.ID & UTR.start & UTR.end & MSA.start & MSA.end & Seed.match & PCT\\\\\n",
       "  & <chr> & <chr> & <chr> & <chr> & <int> & <int> & <int> & <int> & <int> & <chr> & <chr>\\\\\n",
       "\\hline\n",
       "\t1 & miR-23-3p                                  & ENSG00000121410.7  & A1BG & ENST00000263100.3 & 9606 &  143 &  150 &   219 &   231 & 8mer    & 0.00\\\\\n",
       "\t2 & miR-23                                     & ENSG00000121410.7  & A1BG & ENST00000263100.3 & 9598 &  143 &  150 &   219 &   231 & 8mer    & 0.00\\\\\n",
       "\t3 & miR-23-3p                                  & ENSG00000121410.7  & A1BG & ENST00000263100.3 & 9544 &  142 &  149 &   219 &   231 & 8mer    & 0.00\\\\\n",
       "\t4 & miR-23                                     & ENSG00000121410.7  & A1BG & ENST00000263100.3 & 9615 &  141 &  148 &   219 &   231 & 8mer    & 0.00\\\\\n",
       "\t5 & miR-302-3p/372-3p/373/518-3p/519-3p/520-3p & ENSG00000148584.10 & A1CF & ENST00000374001.2 & 9544 & 6998 & 7005 & 14069 & 14077 & 8mer    & 0.82\\\\\n",
       "\t6 & miR-302c-3p.2/520-3p                       & ENSG00000148584.10 & A1CF & ENST00000374001.2 & 9606 & 7071 & 7077 & 14068 & 14075 & 7mer-m8 & 0.87\\\\\n",
       "\\end{tabular}\n"
      ],
      "text/markdown": [
       "\n",
       "A data.frame: 6 × 11\n",
       "\n",
       "| <!--/--> | miR.Family &lt;chr&gt; | Gene.ID &lt;chr&gt; | Gene.Symbol &lt;chr&gt; | Transcript.ID &lt;chr&gt; | Species.ID &lt;int&gt; | UTR.start &lt;int&gt; | UTR.end &lt;int&gt; | MSA.start &lt;int&gt; | MSA.end &lt;int&gt; | Seed.match &lt;chr&gt; | PCT &lt;chr&gt; |\n",
       "|---|---|---|---|---|---|---|---|---|---|---|---|\n",
       "| 1 | miR-23-3p                                  | ENSG00000121410.7  | A1BG | ENST00000263100.3 | 9606 |  143 |  150 |   219 |   231 | 8mer    | 0.00 |\n",
       "| 2 | miR-23                                     | ENSG00000121410.7  | A1BG | ENST00000263100.3 | 9598 |  143 |  150 |   219 |   231 | 8mer    | 0.00 |\n",
       "| 3 | miR-23-3p                                  | ENSG00000121410.7  | A1BG | ENST00000263100.3 | 9544 |  142 |  149 |   219 |   231 | 8mer    | 0.00 |\n",
       "| 4 | miR-23                                     | ENSG00000121410.7  | A1BG | ENST00000263100.3 | 9615 |  141 |  148 |   219 |   231 | 8mer    | 0.00 |\n",
       "| 5 | miR-302-3p/372-3p/373/518-3p/519-3p/520-3p | ENSG00000148584.10 | A1CF | ENST00000374001.2 | 9544 | 6998 | 7005 | 14069 | 14077 | 8mer    | 0.82 |\n",
       "| 6 | miR-302c-3p.2/520-3p                       | ENSG00000148584.10 | A1CF | ENST00000374001.2 | 9606 | 7071 | 7077 | 14068 | 14075 | 7mer-m8 | 0.87 |\n",
       "\n"
      ],
      "text/plain": [
       "  miR.Family                                 Gene.ID            Gene.Symbol\n",
       "1 miR-23-3p                                  ENSG00000121410.7  A1BG       \n",
       "2 miR-23                                     ENSG00000121410.7  A1BG       \n",
       "3 miR-23-3p                                  ENSG00000121410.7  A1BG       \n",
       "4 miR-23                                     ENSG00000121410.7  A1BG       \n",
       "5 miR-302-3p/372-3p/373/518-3p/519-3p/520-3p ENSG00000148584.10 A1CF       \n",
       "6 miR-302c-3p.2/520-3p                       ENSG00000148584.10 A1CF       \n",
       "  Transcript.ID     Species.ID UTR.start UTR.end MSA.start MSA.end Seed.match\n",
       "1 ENST00000263100.3 9606        143       150      219       231   8mer      \n",
       "2 ENST00000263100.3 9598        143       150      219       231   8mer      \n",
       "3 ENST00000263100.3 9544        142       149      219       231   8mer      \n",
       "4 ENST00000263100.3 9615        141       148      219       231   8mer      \n",
       "5 ENST00000374001.2 9544       6998      7005    14069     14077   8mer      \n",
       "6 ENST00000374001.2 9606       7071      7077    14068     14075   7mer-m8   \n",
       "  PCT \n",
       "1 0.00\n",
       "2 0.00\n",
       "3 0.00\n",
       "4 0.00\n",
       "5 0.82\n",
       "6 0.87"
      ]
     },
     "metadata": {},
     "output_type": "display_data"
    }
   ],
   "source": [
    "miR_targets = read.csv('/home/ssobti/projects/mir_tud/uploaded_data/Predicted_Targets_Info.default_predictions.txt', sep = '\\t', header = T)\n",
    "head(miR_targets)"
   ]
  },
  {
   "cell_type": "code",
   "execution_count": 4,
   "metadata": {
    "vscode": {
     "languageId": "r"
    }
   },
   "outputs": [
    {
     "data": {
      "text/html": [
       "'miR-130-3p/301-3p/454-3p'"
      ],
      "text/latex": [
       "'miR-130-3p/301-3p/454-3p'"
      ],
      "text/markdown": [
       "'miR-130-3p/301-3p/454-3p'"
      ],
      "text/plain": [
       "[1] \"miR-130-3p/301-3p/454-3p\""
      ]
     },
     "metadata": {},
     "output_type": "display_data"
    }
   ],
   "source": [
    "grep('miR-130-3p/301-3p/454-3p', unique(miR_targets$miR.Family), value = T)"
   ]
  },
  {
   "cell_type": "code",
   "execution_count": 15,
   "metadata": {
    "vscode": {
     "languageId": "r"
    }
   },
   "outputs": [
    {
     "name": "stderr",
     "output_type": "stream",
     "text": [
      "Querying chunk 1\n",
      "\n",
      "Querying chunk 2\n",
      "\n",
      "Querying chunk 3\n",
      "\n"
     ]
    },
    {
     "name": "stdout",
     "output_type": "stream",
     "text": [
      "Finished\n",
      "Pass returnall=TRUE to return lists of duplicate or missing query terms.\n"
     ]
    }
   ],
   "source": [
    "## genes in predicted targets of miR-34/449-5p\n",
    "\n",
    "## miR-34/449-5p glucose\n",
    "## miR-139-5p cholesterol and sterol\n",
    "\n",
    "## miR-146-5p SCF and extravasation (positive) and ubiquitin\n",
    "## miR−130−3p/301−3p/454−3p SCF and extravasation (negative), migration, and ubiquitin\n",
    "\n",
    "miR = 'miR-34/449-5p'\n",
    "#miR = 'miR-139-5p'\n",
    "#miR = 'miR-629-3p'\n",
    "#miR = 'miR-551'\n",
    "miR = 'miR-146-5p'\n",
    "miR = 'miR-130-3p/301-3p/454-3p'\n",
    "#miR = 'miR-192-5p/215-5p'\n",
    "\n",
    "genes = miR_targets[miR_targets$miR.Family == miR,]$Gene.Symbol\n",
    "res <- queryMany(genes, scopes='symbol', fields=c('entrezgene', 'go'), species='human')\n",
    "terms = lapply(res[,'go.BP'], function(x) x$term)\n",
    "terms_unlisted = unlist(terms)"
   ]
  },
  {
   "cell_type": "code",
   "execution_count": null,
   "metadata": {
    "vscode": {
     "languageId": "r"
    }
   },
   "outputs": [],
   "source": [
    "## searching pathways of interest that we found from unbiased associated with those gene (predicted targets)\n",
    "## TOI is term of interest (eg. extravasation)\n",
    "TOI = 'migration'\n",
    "grep(TOI, terms_unlisted, value = T)\n",
    "idx = lapply(terms, function(x) grepl(TOI, x))\n",
    "idx = lapply(idx, function(x) any(x))\n",
    "list_idx_containing_term = unlist(idx)\n",
    "genes[which(list_idx_containing_term)]"
   ]
  },
  {
   "cell_type": "code",
   "execution_count": 19,
   "metadata": {
    "vscode": {
     "languageId": "r"
    }
   },
   "outputs": [
    {
     "name": "stderr",
     "output_type": "stream",
     "text": [
      "Querying chunk 1\n",
      "\n",
      "Querying chunk 2\n",
      "\n"
     ]
    },
    {
     "name": "stdout",
     "output_type": "stream",
     "text": [
      "Finished\n",
      "Pass returnall=TRUE to return lists of duplicate or missing query terms.\n"
     ]
    },
    {
     "data": {
      "text/html": [
       "<style>\n",
       ".list-inline {list-style: none; margin:0; padding: 0}\n",
       ".list-inline>li {display: inline-block}\n",
       ".list-inline>li:not(:last-child)::after {content: \"\\00b7\"; padding: 0 .5ex}\n",
       "</style>\n",
       "<ol class=list-inline><li>'positive regulation of T cell migration'</li><li>'positive regulation of T cell migration'</li><li>'positive regulation of T cell migration'</li><li>'positive regulation of T cell migration'</li><li>'positive regulation of T cell migration'</li><li>'positive regulation of T cell migration'</li><li>'regulation of fibroblast migration'</li><li>'regulation of fibroblast migration'</li><li>'regulation of fibroblast migration'</li><li>'negative regulation of smooth muscle cell migration'</li><li>'negative regulation of smooth muscle cell migration'</li><li>'negative regulation of cell migration involved in sprouting angiogenesis'</li><li>'negative regulation of cell migration involved in sprouting angiogenesis'</li><li>'neuron migration'</li><li>'cell migration'</li><li>'positive regulation of glial cell migration'</li><li>'regulation of T cell migration'</li><li>'neuron migration'</li><li>'neuron migration'</li><li>'neuron migration'</li><li>'neural crest cell migration'</li><li>'neuroblast migration'</li><li>'neural crest cell migration'</li><li>'neuroblast migration'</li><li>'neural crest cell migration'</li><li>'neuroblast migration'</li><li>'neural crest cell migration'</li><li>'neuroblast migration'</li><li>'neural crest cell migration'</li><li>'cell migration'</li><li>'regulation of cell migration'</li><li>'neural crest cell migration'</li><li>'cell migration'</li><li>'regulation of cell migration'</li><li>'neural crest cell migration'</li><li>'cell migration'</li><li>'regulation of cell migration'</li><li>'neural crest cell migration'</li><li>'cell migration'</li><li>'regulation of cell migration'</li><li>'cerebral cortex radially oriented cell migration'</li><li>'neuroblast migration'</li><li>'neural crest cell migration'</li><li>'neural crest cell migration'</li><li>'neural crest cell migration'</li><li>'neural crest cell migration'</li><li>'neural crest cell migration'</li><li>'neural crest cell migration'</li><li>'negative regulation of cell migration involved in sprouting angiogenesis'</li><li>'negative regulation of cell migration involved in sprouting angiogenesis'</li><li>'negative regulation of cell migration involved in sprouting angiogenesis'</li><li>'negative regulation of cell migration involved in sprouting angiogenesis'</li><li>'lymphatic endothelial cell migration'</li><li>'regulation of neuron migration'</li><li>'positive regulation of cell migration'</li><li>'positive regulation of cell migration'</li><li>'positive regulation of cell migration'</li><li>'positive regulation of cell migration'</li><li>'positive regulation of cell migration'</li><li>'positive regulation of cell migration'</li><li>'neuron migration'</li><li>'neuron migration'</li><li>'neuron migration'</li><li>'negative regulation of cell migration'</li><li>'negative regulation of cell migration'</li><li>'negative regulation of cell migration'</li><li>'cell migration'</li><li>'cell migration'</li><li>'cell migration involved in endocardial cushion formation'</li><li>'positive regulation of cell migration'</li><li>'negative regulation of cell migration involved in sprouting angiogenesis'</li><li>'positive regulation of endothelial cell migration'</li><li>'gonadotrophin-releasing hormone neuronal migration to the hypothalamus'</li><li>'ventral trunk neural crest cell migration'</li><li>'neural crest cell migration involved in autonomic nervous system development'</li><li>'positive regulation of endothelial cell migration'</li><li>'gonadotrophin-releasing hormone neuronal migration to the hypothalamus'</li><li>'ventral trunk neural crest cell migration'</li><li>'neural crest cell migration involved in autonomic nervous system development'</li><li>'positive regulation of endothelial cell migration'</li><li>'gonadotrophin-releasing hormone neuronal migration to the hypothalamus'</li><li>'ventral trunk neural crest cell migration'</li><li>'neural crest cell migration involved in autonomic nervous system development'</li><li>'positive regulation of endothelial cell migration'</li><li>'gonadotrophin-releasing hormone neuronal migration to the hypothalamus'</li><li>'ventral trunk neural crest cell migration'</li><li>'neural crest cell migration involved in autonomic nervous system development'</li><li>'positive regulation of cell migration'</li><li>'positive regulation of cell migration'</li><li>'positive regulation of cell migration'</li><li>'positive regulation of cell migration'</li><li>'positive regulation of cell migration'</li><li>'positive regulation of cell migration'</li><li>'positive regulation of cell migration'</li><li>'positive regulation of cell migration'</li><li>'regulation of cell migration'</li><li>'regulation of cell migration'</li><li>'neuron migration'</li><li>'hindbrain tangential cell migration'</li><li>'motor neuron migration'</li><li>'neural crest cell migration involved in autonomic nervous system development'</li><li>'neuron migration'</li><li>'hindbrain tangential cell migration'</li><li>'motor neuron migration'</li><li>'neural crest cell migration involved in autonomic nervous system development'</li><li>'neuron migration'</li><li>'hindbrain tangential cell migration'</li><li>'motor neuron migration'</li><li>'neural crest cell migration involved in autonomic nervous system development'</li><li>'neuron migration'</li><li>'hindbrain tangential cell migration'</li><li>'motor neuron migration'</li><li>'neural crest cell migration involved in autonomic nervous system development'</li><li>'neuron migration'</li><li>'hindbrain tangential cell migration'</li><li>'motor neuron migration'</li><li>'neural crest cell migration involved in autonomic nervous system development'</li><li>'positive regulation of endothelial cell migration'</li><li>'cell migration'</li><li>'cell migration'</li><li>'positive regulation of endothelial cell migration'</li><li>'cell migration'</li><li>'cell migration'</li><li>'positive regulation of endothelial cell migration'</li><li>'cell migration'</li><li>'cell migration'</li><li>'positive regulation of endothelial cell migration'</li><li>'cell migration'</li><li>'cell migration'</li><li>'cerebral cortex radially oriented cell migration'</li><li>'cerebral cortex radially oriented cell migration'</li><li>'cerebral cortex radially oriented cell migration'</li><li>'cerebral cortex radially oriented cell migration'</li><li>'regulation of blood vessel endothelial cell migration'</li><li>'regulation of blood vessel endothelial cell migration'</li><li>'regulation of blood vessel endothelial cell migration'</li><li>'regulation of blood vessel endothelial cell migration'</li><li>'neuron migration'</li><li>'cerebral cortex cell migration'</li><li>'neuron migration'</li><li>'cerebral cortex cell migration'</li><li>'cell migration involved in sprouting angiogenesis'</li><li>'chemorepulsion involved in postnatal olfactory bulb interneuron migration'</li><li>'negative regulation of cell migration'</li><li>'cell migration involved in sprouting angiogenesis'</li><li>'chemorepulsion involved in postnatal olfactory bulb interneuron migration'</li><li>'negative regulation of cell migration'</li><li>'cell migration involved in sprouting angiogenesis'</li><li>'chemorepulsion involved in postnatal olfactory bulb interneuron migration'</li><li>'negative regulation of cell migration'</li><li>'cell migration involved in sprouting angiogenesis'</li><li>'chemorepulsion involved in postnatal olfactory bulb interneuron migration'</li><li>'negative regulation of cell migration'</li><li>'cell migration involved in sprouting angiogenesis'</li><li>'chemorepulsion involved in postnatal olfactory bulb interneuron migration'</li><li>'negative regulation of cell migration'</li><li>'cell migration involved in sprouting angiogenesis'</li><li>'chemorepulsion involved in postnatal olfactory bulb interneuron migration'</li><li>'negative regulation of cell migration'</li><li>'neural crest cell migration'</li><li>'positive regulation of cell migration'</li><li>'neural crest cell migration'</li><li>'positive regulation of cell migration'</li><li>'neural crest cell migration'</li><li>'positive regulation of cell migration'</li><li>'neural crest cell migration'</li><li>'positive regulation of cell migration'</li><li>'negative regulation of neutrophil migration'</li><li>'negative regulation of neutrophil migration'</li><li>'epithelial cell migration'</li><li>'epithelial cell migration'</li><li>'epithelial cell migration'</li><li>'epithelial cell migration'</li><li>'negative regulation of endothelial cell migration'</li><li>'negative regulation of cell migration'</li><li>'negative regulation of endothelial cell migration'</li><li>'negative regulation of cell migration'</li><li>'negative regulation of endothelial cell migration'</li><li>'negative regulation of cell migration'</li><li>'negative regulation of endothelial cell migration'</li><li>'negative regulation of cell migration'</li><li>'regulation of neuron migration'</li><li>'ameboidal-type cell migration'</li><li>'ameboidal-type cell migration'</li><li>'ameboidal-type cell migration'</li><li>'ameboidal-type cell migration'</li><li>'cell migration'</li><li>'cell migration'</li></ol>\n"
      ],
      "text/latex": [
       "\\begin{enumerate*}\n",
       "\\item 'positive regulation of T cell migration'\n",
       "\\item 'positive regulation of T cell migration'\n",
       "\\item 'positive regulation of T cell migration'\n",
       "\\item 'positive regulation of T cell migration'\n",
       "\\item 'positive regulation of T cell migration'\n",
       "\\item 'positive regulation of T cell migration'\n",
       "\\item 'regulation of fibroblast migration'\n",
       "\\item 'regulation of fibroblast migration'\n",
       "\\item 'regulation of fibroblast migration'\n",
       "\\item 'negative regulation of smooth muscle cell migration'\n",
       "\\item 'negative regulation of smooth muscle cell migration'\n",
       "\\item 'negative regulation of cell migration involved in sprouting angiogenesis'\n",
       "\\item 'negative regulation of cell migration involved in sprouting angiogenesis'\n",
       "\\item 'neuron migration'\n",
       "\\item 'cell migration'\n",
       "\\item 'positive regulation of glial cell migration'\n",
       "\\item 'regulation of T cell migration'\n",
       "\\item 'neuron migration'\n",
       "\\item 'neuron migration'\n",
       "\\item 'neuron migration'\n",
       "\\item 'neural crest cell migration'\n",
       "\\item 'neuroblast migration'\n",
       "\\item 'neural crest cell migration'\n",
       "\\item 'neuroblast migration'\n",
       "\\item 'neural crest cell migration'\n",
       "\\item 'neuroblast migration'\n",
       "\\item 'neural crest cell migration'\n",
       "\\item 'neuroblast migration'\n",
       "\\item 'neural crest cell migration'\n",
       "\\item 'cell migration'\n",
       "\\item 'regulation of cell migration'\n",
       "\\item 'neural crest cell migration'\n",
       "\\item 'cell migration'\n",
       "\\item 'regulation of cell migration'\n",
       "\\item 'neural crest cell migration'\n",
       "\\item 'cell migration'\n",
       "\\item 'regulation of cell migration'\n",
       "\\item 'neural crest cell migration'\n",
       "\\item 'cell migration'\n",
       "\\item 'regulation of cell migration'\n",
       "\\item 'cerebral cortex radially oriented cell migration'\n",
       "\\item 'neuroblast migration'\n",
       "\\item 'neural crest cell migration'\n",
       "\\item 'neural crest cell migration'\n",
       "\\item 'neural crest cell migration'\n",
       "\\item 'neural crest cell migration'\n",
       "\\item 'neural crest cell migration'\n",
       "\\item 'neural crest cell migration'\n",
       "\\item 'negative regulation of cell migration involved in sprouting angiogenesis'\n",
       "\\item 'negative regulation of cell migration involved in sprouting angiogenesis'\n",
       "\\item 'negative regulation of cell migration involved in sprouting angiogenesis'\n",
       "\\item 'negative regulation of cell migration involved in sprouting angiogenesis'\n",
       "\\item 'lymphatic endothelial cell migration'\n",
       "\\item 'regulation of neuron migration'\n",
       "\\item 'positive regulation of cell migration'\n",
       "\\item 'positive regulation of cell migration'\n",
       "\\item 'positive regulation of cell migration'\n",
       "\\item 'positive regulation of cell migration'\n",
       "\\item 'positive regulation of cell migration'\n",
       "\\item 'positive regulation of cell migration'\n",
       "\\item 'neuron migration'\n",
       "\\item 'neuron migration'\n",
       "\\item 'neuron migration'\n",
       "\\item 'negative regulation of cell migration'\n",
       "\\item 'negative regulation of cell migration'\n",
       "\\item 'negative regulation of cell migration'\n",
       "\\item 'cell migration'\n",
       "\\item 'cell migration'\n",
       "\\item 'cell migration involved in endocardial cushion formation'\n",
       "\\item 'positive regulation of cell migration'\n",
       "\\item 'negative regulation of cell migration involved in sprouting angiogenesis'\n",
       "\\item 'positive regulation of endothelial cell migration'\n",
       "\\item 'gonadotrophin-releasing hormone neuronal migration to the hypothalamus'\n",
       "\\item 'ventral trunk neural crest cell migration'\n",
       "\\item 'neural crest cell migration involved in autonomic nervous system development'\n",
       "\\item 'positive regulation of endothelial cell migration'\n",
       "\\item 'gonadotrophin-releasing hormone neuronal migration to the hypothalamus'\n",
       "\\item 'ventral trunk neural crest cell migration'\n",
       "\\item 'neural crest cell migration involved in autonomic nervous system development'\n",
       "\\item 'positive regulation of endothelial cell migration'\n",
       "\\item 'gonadotrophin-releasing hormone neuronal migration to the hypothalamus'\n",
       "\\item 'ventral trunk neural crest cell migration'\n",
       "\\item 'neural crest cell migration involved in autonomic nervous system development'\n",
       "\\item 'positive regulation of endothelial cell migration'\n",
       "\\item 'gonadotrophin-releasing hormone neuronal migration to the hypothalamus'\n",
       "\\item 'ventral trunk neural crest cell migration'\n",
       "\\item 'neural crest cell migration involved in autonomic nervous system development'\n",
       "\\item 'positive regulation of cell migration'\n",
       "\\item 'positive regulation of cell migration'\n",
       "\\item 'positive regulation of cell migration'\n",
       "\\item 'positive regulation of cell migration'\n",
       "\\item 'positive regulation of cell migration'\n",
       "\\item 'positive regulation of cell migration'\n",
       "\\item 'positive regulation of cell migration'\n",
       "\\item 'positive regulation of cell migration'\n",
       "\\item 'regulation of cell migration'\n",
       "\\item 'regulation of cell migration'\n",
       "\\item 'neuron migration'\n",
       "\\item 'hindbrain tangential cell migration'\n",
       "\\item 'motor neuron migration'\n",
       "\\item 'neural crest cell migration involved in autonomic nervous system development'\n",
       "\\item 'neuron migration'\n",
       "\\item 'hindbrain tangential cell migration'\n",
       "\\item 'motor neuron migration'\n",
       "\\item 'neural crest cell migration involved in autonomic nervous system development'\n",
       "\\item 'neuron migration'\n",
       "\\item 'hindbrain tangential cell migration'\n",
       "\\item 'motor neuron migration'\n",
       "\\item 'neural crest cell migration involved in autonomic nervous system development'\n",
       "\\item 'neuron migration'\n",
       "\\item 'hindbrain tangential cell migration'\n",
       "\\item 'motor neuron migration'\n",
       "\\item 'neural crest cell migration involved in autonomic nervous system development'\n",
       "\\item 'neuron migration'\n",
       "\\item 'hindbrain tangential cell migration'\n",
       "\\item 'motor neuron migration'\n",
       "\\item 'neural crest cell migration involved in autonomic nervous system development'\n",
       "\\item 'positive regulation of endothelial cell migration'\n",
       "\\item 'cell migration'\n",
       "\\item 'cell migration'\n",
       "\\item 'positive regulation of endothelial cell migration'\n",
       "\\item 'cell migration'\n",
       "\\item 'cell migration'\n",
       "\\item 'positive regulation of endothelial cell migration'\n",
       "\\item 'cell migration'\n",
       "\\item 'cell migration'\n",
       "\\item 'positive regulation of endothelial cell migration'\n",
       "\\item 'cell migration'\n",
       "\\item 'cell migration'\n",
       "\\item 'cerebral cortex radially oriented cell migration'\n",
       "\\item 'cerebral cortex radially oriented cell migration'\n",
       "\\item 'cerebral cortex radially oriented cell migration'\n",
       "\\item 'cerebral cortex radially oriented cell migration'\n",
       "\\item 'regulation of blood vessel endothelial cell migration'\n",
       "\\item 'regulation of blood vessel endothelial cell migration'\n",
       "\\item 'regulation of blood vessel endothelial cell migration'\n",
       "\\item 'regulation of blood vessel endothelial cell migration'\n",
       "\\item 'neuron migration'\n",
       "\\item 'cerebral cortex cell migration'\n",
       "\\item 'neuron migration'\n",
       "\\item 'cerebral cortex cell migration'\n",
       "\\item 'cell migration involved in sprouting angiogenesis'\n",
       "\\item 'chemorepulsion involved in postnatal olfactory bulb interneuron migration'\n",
       "\\item 'negative regulation of cell migration'\n",
       "\\item 'cell migration involved in sprouting angiogenesis'\n",
       "\\item 'chemorepulsion involved in postnatal olfactory bulb interneuron migration'\n",
       "\\item 'negative regulation of cell migration'\n",
       "\\item 'cell migration involved in sprouting angiogenesis'\n",
       "\\item 'chemorepulsion involved in postnatal olfactory bulb interneuron migration'\n",
       "\\item 'negative regulation of cell migration'\n",
       "\\item 'cell migration involved in sprouting angiogenesis'\n",
       "\\item 'chemorepulsion involved in postnatal olfactory bulb interneuron migration'\n",
       "\\item 'negative regulation of cell migration'\n",
       "\\item 'cell migration involved in sprouting angiogenesis'\n",
       "\\item 'chemorepulsion involved in postnatal olfactory bulb interneuron migration'\n",
       "\\item 'negative regulation of cell migration'\n",
       "\\item 'cell migration involved in sprouting angiogenesis'\n",
       "\\item 'chemorepulsion involved in postnatal olfactory bulb interneuron migration'\n",
       "\\item 'negative regulation of cell migration'\n",
       "\\item 'neural crest cell migration'\n",
       "\\item 'positive regulation of cell migration'\n",
       "\\item 'neural crest cell migration'\n",
       "\\item 'positive regulation of cell migration'\n",
       "\\item 'neural crest cell migration'\n",
       "\\item 'positive regulation of cell migration'\n",
       "\\item 'neural crest cell migration'\n",
       "\\item 'positive regulation of cell migration'\n",
       "\\item 'negative regulation of neutrophil migration'\n",
       "\\item 'negative regulation of neutrophil migration'\n",
       "\\item 'epithelial cell migration'\n",
       "\\item 'epithelial cell migration'\n",
       "\\item 'epithelial cell migration'\n",
       "\\item 'epithelial cell migration'\n",
       "\\item 'negative regulation of endothelial cell migration'\n",
       "\\item 'negative regulation of cell migration'\n",
       "\\item 'negative regulation of endothelial cell migration'\n",
       "\\item 'negative regulation of cell migration'\n",
       "\\item 'negative regulation of endothelial cell migration'\n",
       "\\item 'negative regulation of cell migration'\n",
       "\\item 'negative regulation of endothelial cell migration'\n",
       "\\item 'negative regulation of cell migration'\n",
       "\\item 'regulation of neuron migration'\n",
       "\\item 'ameboidal-type cell migration'\n",
       "\\item 'ameboidal-type cell migration'\n",
       "\\item 'ameboidal-type cell migration'\n",
       "\\item 'ameboidal-type cell migration'\n",
       "\\item 'cell migration'\n",
       "\\item 'cell migration'\n",
       "\\end{enumerate*}\n"
      ],
      "text/markdown": [
       "1. 'positive regulation of T cell migration'\n",
       "2. 'positive regulation of T cell migration'\n",
       "3. 'positive regulation of T cell migration'\n",
       "4. 'positive regulation of T cell migration'\n",
       "5. 'positive regulation of T cell migration'\n",
       "6. 'positive regulation of T cell migration'\n",
       "7. 'regulation of fibroblast migration'\n",
       "8. 'regulation of fibroblast migration'\n",
       "9. 'regulation of fibroblast migration'\n",
       "10. 'negative regulation of smooth muscle cell migration'\n",
       "11. 'negative regulation of smooth muscle cell migration'\n",
       "12. 'negative regulation of cell migration involved in sprouting angiogenesis'\n",
       "13. 'negative regulation of cell migration involved in sprouting angiogenesis'\n",
       "14. 'neuron migration'\n",
       "15. 'cell migration'\n",
       "16. 'positive regulation of glial cell migration'\n",
       "17. 'regulation of T cell migration'\n",
       "18. 'neuron migration'\n",
       "19. 'neuron migration'\n",
       "20. 'neuron migration'\n",
       "21. 'neural crest cell migration'\n",
       "22. 'neuroblast migration'\n",
       "23. 'neural crest cell migration'\n",
       "24. 'neuroblast migration'\n",
       "25. 'neural crest cell migration'\n",
       "26. 'neuroblast migration'\n",
       "27. 'neural crest cell migration'\n",
       "28. 'neuroblast migration'\n",
       "29. 'neural crest cell migration'\n",
       "30. 'cell migration'\n",
       "31. 'regulation of cell migration'\n",
       "32. 'neural crest cell migration'\n",
       "33. 'cell migration'\n",
       "34. 'regulation of cell migration'\n",
       "35. 'neural crest cell migration'\n",
       "36. 'cell migration'\n",
       "37. 'regulation of cell migration'\n",
       "38. 'neural crest cell migration'\n",
       "39. 'cell migration'\n",
       "40. 'regulation of cell migration'\n",
       "41. 'cerebral cortex radially oriented cell migration'\n",
       "42. 'neuroblast migration'\n",
       "43. 'neural crest cell migration'\n",
       "44. 'neural crest cell migration'\n",
       "45. 'neural crest cell migration'\n",
       "46. 'neural crest cell migration'\n",
       "47. 'neural crest cell migration'\n",
       "48. 'neural crest cell migration'\n",
       "49. 'negative regulation of cell migration involved in sprouting angiogenesis'\n",
       "50. 'negative regulation of cell migration involved in sprouting angiogenesis'\n",
       "51. 'negative regulation of cell migration involved in sprouting angiogenesis'\n",
       "52. 'negative regulation of cell migration involved in sprouting angiogenesis'\n",
       "53. 'lymphatic endothelial cell migration'\n",
       "54. 'regulation of neuron migration'\n",
       "55. 'positive regulation of cell migration'\n",
       "56. 'positive regulation of cell migration'\n",
       "57. 'positive regulation of cell migration'\n",
       "58. 'positive regulation of cell migration'\n",
       "59. 'positive regulation of cell migration'\n",
       "60. 'positive regulation of cell migration'\n",
       "61. 'neuron migration'\n",
       "62. 'neuron migration'\n",
       "63. 'neuron migration'\n",
       "64. 'negative regulation of cell migration'\n",
       "65. 'negative regulation of cell migration'\n",
       "66. 'negative regulation of cell migration'\n",
       "67. 'cell migration'\n",
       "68. 'cell migration'\n",
       "69. 'cell migration involved in endocardial cushion formation'\n",
       "70. 'positive regulation of cell migration'\n",
       "71. 'negative regulation of cell migration involved in sprouting angiogenesis'\n",
       "72. 'positive regulation of endothelial cell migration'\n",
       "73. 'gonadotrophin-releasing hormone neuronal migration to the hypothalamus'\n",
       "74. 'ventral trunk neural crest cell migration'\n",
       "75. 'neural crest cell migration involved in autonomic nervous system development'\n",
       "76. 'positive regulation of endothelial cell migration'\n",
       "77. 'gonadotrophin-releasing hormone neuronal migration to the hypothalamus'\n",
       "78. 'ventral trunk neural crest cell migration'\n",
       "79. 'neural crest cell migration involved in autonomic nervous system development'\n",
       "80. 'positive regulation of endothelial cell migration'\n",
       "81. 'gonadotrophin-releasing hormone neuronal migration to the hypothalamus'\n",
       "82. 'ventral trunk neural crest cell migration'\n",
       "83. 'neural crest cell migration involved in autonomic nervous system development'\n",
       "84. 'positive regulation of endothelial cell migration'\n",
       "85. 'gonadotrophin-releasing hormone neuronal migration to the hypothalamus'\n",
       "86. 'ventral trunk neural crest cell migration'\n",
       "87. 'neural crest cell migration involved in autonomic nervous system development'\n",
       "88. 'positive regulation of cell migration'\n",
       "89. 'positive regulation of cell migration'\n",
       "90. 'positive regulation of cell migration'\n",
       "91. 'positive regulation of cell migration'\n",
       "92. 'positive regulation of cell migration'\n",
       "93. 'positive regulation of cell migration'\n",
       "94. 'positive regulation of cell migration'\n",
       "95. 'positive regulation of cell migration'\n",
       "96. 'regulation of cell migration'\n",
       "97. 'regulation of cell migration'\n",
       "98. 'neuron migration'\n",
       "99. 'hindbrain tangential cell migration'\n",
       "100. 'motor neuron migration'\n",
       "101. 'neural crest cell migration involved in autonomic nervous system development'\n",
       "102. 'neuron migration'\n",
       "103. 'hindbrain tangential cell migration'\n",
       "104. 'motor neuron migration'\n",
       "105. 'neural crest cell migration involved in autonomic nervous system development'\n",
       "106. 'neuron migration'\n",
       "107. 'hindbrain tangential cell migration'\n",
       "108. 'motor neuron migration'\n",
       "109. 'neural crest cell migration involved in autonomic nervous system development'\n",
       "110. 'neuron migration'\n",
       "111. 'hindbrain tangential cell migration'\n",
       "112. 'motor neuron migration'\n",
       "113. 'neural crest cell migration involved in autonomic nervous system development'\n",
       "114. 'neuron migration'\n",
       "115. 'hindbrain tangential cell migration'\n",
       "116. 'motor neuron migration'\n",
       "117. 'neural crest cell migration involved in autonomic nervous system development'\n",
       "118. 'positive regulation of endothelial cell migration'\n",
       "119. 'cell migration'\n",
       "120. 'cell migration'\n",
       "121. 'positive regulation of endothelial cell migration'\n",
       "122. 'cell migration'\n",
       "123. 'cell migration'\n",
       "124. 'positive regulation of endothelial cell migration'\n",
       "125. 'cell migration'\n",
       "126. 'cell migration'\n",
       "127. 'positive regulation of endothelial cell migration'\n",
       "128. 'cell migration'\n",
       "129. 'cell migration'\n",
       "130. 'cerebral cortex radially oriented cell migration'\n",
       "131. 'cerebral cortex radially oriented cell migration'\n",
       "132. 'cerebral cortex radially oriented cell migration'\n",
       "133. 'cerebral cortex radially oriented cell migration'\n",
       "134. 'regulation of blood vessel endothelial cell migration'\n",
       "135. 'regulation of blood vessel endothelial cell migration'\n",
       "136. 'regulation of blood vessel endothelial cell migration'\n",
       "137. 'regulation of blood vessel endothelial cell migration'\n",
       "138. 'neuron migration'\n",
       "139. 'cerebral cortex cell migration'\n",
       "140. 'neuron migration'\n",
       "141. 'cerebral cortex cell migration'\n",
       "142. 'cell migration involved in sprouting angiogenesis'\n",
       "143. 'chemorepulsion involved in postnatal olfactory bulb interneuron migration'\n",
       "144. 'negative regulation of cell migration'\n",
       "145. 'cell migration involved in sprouting angiogenesis'\n",
       "146. 'chemorepulsion involved in postnatal olfactory bulb interneuron migration'\n",
       "147. 'negative regulation of cell migration'\n",
       "148. 'cell migration involved in sprouting angiogenesis'\n",
       "149. 'chemorepulsion involved in postnatal olfactory bulb interneuron migration'\n",
       "150. 'negative regulation of cell migration'\n",
       "151. 'cell migration involved in sprouting angiogenesis'\n",
       "152. 'chemorepulsion involved in postnatal olfactory bulb interneuron migration'\n",
       "153. 'negative regulation of cell migration'\n",
       "154. 'cell migration involved in sprouting angiogenesis'\n",
       "155. 'chemorepulsion involved in postnatal olfactory bulb interneuron migration'\n",
       "156. 'negative regulation of cell migration'\n",
       "157. 'cell migration involved in sprouting angiogenesis'\n",
       "158. 'chemorepulsion involved in postnatal olfactory bulb interneuron migration'\n",
       "159. 'negative regulation of cell migration'\n",
       "160. 'neural crest cell migration'\n",
       "161. 'positive regulation of cell migration'\n",
       "162. 'neural crest cell migration'\n",
       "163. 'positive regulation of cell migration'\n",
       "164. 'neural crest cell migration'\n",
       "165. 'positive regulation of cell migration'\n",
       "166. 'neural crest cell migration'\n",
       "167. 'positive regulation of cell migration'\n",
       "168. 'negative regulation of neutrophil migration'\n",
       "169. 'negative regulation of neutrophil migration'\n",
       "170. 'epithelial cell migration'\n",
       "171. 'epithelial cell migration'\n",
       "172. 'epithelial cell migration'\n",
       "173. 'epithelial cell migration'\n",
       "174. 'negative regulation of endothelial cell migration'\n",
       "175. 'negative regulation of cell migration'\n",
       "176. 'negative regulation of endothelial cell migration'\n",
       "177. 'negative regulation of cell migration'\n",
       "178. 'negative regulation of endothelial cell migration'\n",
       "179. 'negative regulation of cell migration'\n",
       "180. 'negative regulation of endothelial cell migration'\n",
       "181. 'negative regulation of cell migration'\n",
       "182. 'regulation of neuron migration'\n",
       "183. 'ameboidal-type cell migration'\n",
       "184. 'ameboidal-type cell migration'\n",
       "185. 'ameboidal-type cell migration'\n",
       "186. 'ameboidal-type cell migration'\n",
       "187. 'cell migration'\n",
       "188. 'cell migration'\n",
       "\n",
       "\n"
      ],
      "text/plain": [
       "  [1] \"positive regulation of T cell migration\"                                     \n",
       "  [2] \"positive regulation of T cell migration\"                                     \n",
       "  [3] \"positive regulation of T cell migration\"                                     \n",
       "  [4] \"positive regulation of T cell migration\"                                     \n",
       "  [5] \"positive regulation of T cell migration\"                                     \n",
       "  [6] \"positive regulation of T cell migration\"                                     \n",
       "  [7] \"regulation of fibroblast migration\"                                          \n",
       "  [8] \"regulation of fibroblast migration\"                                          \n",
       "  [9] \"regulation of fibroblast migration\"                                          \n",
       " [10] \"negative regulation of smooth muscle cell migration\"                         \n",
       " [11] \"negative regulation of smooth muscle cell migration\"                         \n",
       " [12] \"negative regulation of cell migration involved in sprouting angiogenesis\"    \n",
       " [13] \"negative regulation of cell migration involved in sprouting angiogenesis\"    \n",
       " [14] \"neuron migration\"                                                            \n",
       " [15] \"cell migration\"                                                              \n",
       " [16] \"positive regulation of glial cell migration\"                                 \n",
       " [17] \"regulation of T cell migration\"                                              \n",
       " [18] \"neuron migration\"                                                            \n",
       " [19] \"neuron migration\"                                                            \n",
       " [20] \"neuron migration\"                                                            \n",
       " [21] \"neural crest cell migration\"                                                 \n",
       " [22] \"neuroblast migration\"                                                        \n",
       " [23] \"neural crest cell migration\"                                                 \n",
       " [24] \"neuroblast migration\"                                                        \n",
       " [25] \"neural crest cell migration\"                                                 \n",
       " [26] \"neuroblast migration\"                                                        \n",
       " [27] \"neural crest cell migration\"                                                 \n",
       " [28] \"neuroblast migration\"                                                        \n",
       " [29] \"neural crest cell migration\"                                                 \n",
       " [30] \"cell migration\"                                                              \n",
       " [31] \"regulation of cell migration\"                                                \n",
       " [32] \"neural crest cell migration\"                                                 \n",
       " [33] \"cell migration\"                                                              \n",
       " [34] \"regulation of cell migration\"                                                \n",
       " [35] \"neural crest cell migration\"                                                 \n",
       " [36] \"cell migration\"                                                              \n",
       " [37] \"regulation of cell migration\"                                                \n",
       " [38] \"neural crest cell migration\"                                                 \n",
       " [39] \"cell migration\"                                                              \n",
       " [40] \"regulation of cell migration\"                                                \n",
       " [41] \"cerebral cortex radially oriented cell migration\"                            \n",
       " [42] \"neuroblast migration\"                                                        \n",
       " [43] \"neural crest cell migration\"                                                 \n",
       " [44] \"neural crest cell migration\"                                                 \n",
       " [45] \"neural crest cell migration\"                                                 \n",
       " [46] \"neural crest cell migration\"                                                 \n",
       " [47] \"neural crest cell migration\"                                                 \n",
       " [48] \"neural crest cell migration\"                                                 \n",
       " [49] \"negative regulation of cell migration involved in sprouting angiogenesis\"    \n",
       " [50] \"negative regulation of cell migration involved in sprouting angiogenesis\"    \n",
       " [51] \"negative regulation of cell migration involved in sprouting angiogenesis\"    \n",
       " [52] \"negative regulation of cell migration involved in sprouting angiogenesis\"    \n",
       " [53] \"lymphatic endothelial cell migration\"                                        \n",
       " [54] \"regulation of neuron migration\"                                              \n",
       " [55] \"positive regulation of cell migration\"                                       \n",
       " [56] \"positive regulation of cell migration\"                                       \n",
       " [57] \"positive regulation of cell migration\"                                       \n",
       " [58] \"positive regulation of cell migration\"                                       \n",
       " [59] \"positive regulation of cell migration\"                                       \n",
       " [60] \"positive regulation of cell migration\"                                       \n",
       " [61] \"neuron migration\"                                                            \n",
       " [62] \"neuron migration\"                                                            \n",
       " [63] \"neuron migration\"                                                            \n",
       " [64] \"negative regulation of cell migration\"                                       \n",
       " [65] \"negative regulation of cell migration\"                                       \n",
       " [66] \"negative regulation of cell migration\"                                       \n",
       " [67] \"cell migration\"                                                              \n",
       " [68] \"cell migration\"                                                              \n",
       " [69] \"cell migration involved in endocardial cushion formation\"                    \n",
       " [70] \"positive regulation of cell migration\"                                       \n",
       " [71] \"negative regulation of cell migration involved in sprouting angiogenesis\"    \n",
       " [72] \"positive regulation of endothelial cell migration\"                           \n",
       " [73] \"gonadotrophin-releasing hormone neuronal migration to the hypothalamus\"      \n",
       " [74] \"ventral trunk neural crest cell migration\"                                   \n",
       " [75] \"neural crest cell migration involved in autonomic nervous system development\"\n",
       " [76] \"positive regulation of endothelial cell migration\"                           \n",
       " [77] \"gonadotrophin-releasing hormone neuronal migration to the hypothalamus\"      \n",
       " [78] \"ventral trunk neural crest cell migration\"                                   \n",
       " [79] \"neural crest cell migration involved in autonomic nervous system development\"\n",
       " [80] \"positive regulation of endothelial cell migration\"                           \n",
       " [81] \"gonadotrophin-releasing hormone neuronal migration to the hypothalamus\"      \n",
       " [82] \"ventral trunk neural crest cell migration\"                                   \n",
       " [83] \"neural crest cell migration involved in autonomic nervous system development\"\n",
       " [84] \"positive regulation of endothelial cell migration\"                           \n",
       " [85] \"gonadotrophin-releasing hormone neuronal migration to the hypothalamus\"      \n",
       " [86] \"ventral trunk neural crest cell migration\"                                   \n",
       " [87] \"neural crest cell migration involved in autonomic nervous system development\"\n",
       " [88] \"positive regulation of cell migration\"                                       \n",
       " [89] \"positive regulation of cell migration\"                                       \n",
       " [90] \"positive regulation of cell migration\"                                       \n",
       " [91] \"positive regulation of cell migration\"                                       \n",
       " [92] \"positive regulation of cell migration\"                                       \n",
       " [93] \"positive regulation of cell migration\"                                       \n",
       " [94] \"positive regulation of cell migration\"                                       \n",
       " [95] \"positive regulation of cell migration\"                                       \n",
       " [96] \"regulation of cell migration\"                                                \n",
       " [97] \"regulation of cell migration\"                                                \n",
       " [98] \"neuron migration\"                                                            \n",
       " [99] \"hindbrain tangential cell migration\"                                         \n",
       "[100] \"motor neuron migration\"                                                      \n",
       "[101] \"neural crest cell migration involved in autonomic nervous system development\"\n",
       "[102] \"neuron migration\"                                                            \n",
       "[103] \"hindbrain tangential cell migration\"                                         \n",
       "[104] \"motor neuron migration\"                                                      \n",
       "[105] \"neural crest cell migration involved in autonomic nervous system development\"\n",
       "[106] \"neuron migration\"                                                            \n",
       "[107] \"hindbrain tangential cell migration\"                                         \n",
       "[108] \"motor neuron migration\"                                                      \n",
       "[109] \"neural crest cell migration involved in autonomic nervous system development\"\n",
       "[110] \"neuron migration\"                                                            \n",
       "[111] \"hindbrain tangential cell migration\"                                         \n",
       "[112] \"motor neuron migration\"                                                      \n",
       "[113] \"neural crest cell migration involved in autonomic nervous system development\"\n",
       "[114] \"neuron migration\"                                                            \n",
       "[115] \"hindbrain tangential cell migration\"                                         \n",
       "[116] \"motor neuron migration\"                                                      \n",
       "[117] \"neural crest cell migration involved in autonomic nervous system development\"\n",
       "[118] \"positive regulation of endothelial cell migration\"                           \n",
       "[119] \"cell migration\"                                                              \n",
       "[120] \"cell migration\"                                                              \n",
       "[121] \"positive regulation of endothelial cell migration\"                           \n",
       "[122] \"cell migration\"                                                              \n",
       "[123] \"cell migration\"                                                              \n",
       "[124] \"positive regulation of endothelial cell migration\"                           \n",
       "[125] \"cell migration\"                                                              \n",
       "[126] \"cell migration\"                                                              \n",
       "[127] \"positive regulation of endothelial cell migration\"                           \n",
       "[128] \"cell migration\"                                                              \n",
       "[129] \"cell migration\"                                                              \n",
       "[130] \"cerebral cortex radially oriented cell migration\"                            \n",
       "[131] \"cerebral cortex radially oriented cell migration\"                            \n",
       "[132] \"cerebral cortex radially oriented cell migration\"                            \n",
       "[133] \"cerebral cortex radially oriented cell migration\"                            \n",
       "[134] \"regulation of blood vessel endothelial cell migration\"                       \n",
       "[135] \"regulation of blood vessel endothelial cell migration\"                       \n",
       "[136] \"regulation of blood vessel endothelial cell migration\"                       \n",
       "[137] \"regulation of blood vessel endothelial cell migration\"                       \n",
       "[138] \"neuron migration\"                                                            \n",
       "[139] \"cerebral cortex cell migration\"                                              \n",
       "[140] \"neuron migration\"                                                            \n",
       "[141] \"cerebral cortex cell migration\"                                              \n",
       "[142] \"cell migration involved in sprouting angiogenesis\"                           \n",
       "[143] \"chemorepulsion involved in postnatal olfactory bulb interneuron migration\"   \n",
       "[144] \"negative regulation of cell migration\"                                       \n",
       "[145] \"cell migration involved in sprouting angiogenesis\"                           \n",
       "[146] \"chemorepulsion involved in postnatal olfactory bulb interneuron migration\"   \n",
       "[147] \"negative regulation of cell migration\"                                       \n",
       "[148] \"cell migration involved in sprouting angiogenesis\"                           \n",
       "[149] \"chemorepulsion involved in postnatal olfactory bulb interneuron migration\"   \n",
       "[150] \"negative regulation of cell migration\"                                       \n",
       "[151] \"cell migration involved in sprouting angiogenesis\"                           \n",
       "[152] \"chemorepulsion involved in postnatal olfactory bulb interneuron migration\"   \n",
       "[153] \"negative regulation of cell migration\"                                       \n",
       "[154] \"cell migration involved in sprouting angiogenesis\"                           \n",
       "[155] \"chemorepulsion involved in postnatal olfactory bulb interneuron migration\"   \n",
       "[156] \"negative regulation of cell migration\"                                       \n",
       "[157] \"cell migration involved in sprouting angiogenesis\"                           \n",
       "[158] \"chemorepulsion involved in postnatal olfactory bulb interneuron migration\"   \n",
       "[159] \"negative regulation of cell migration\"                                       \n",
       "[160] \"neural crest cell migration\"                                                 \n",
       "[161] \"positive regulation of cell migration\"                                       \n",
       "[162] \"neural crest cell migration\"                                                 \n",
       "[163] \"positive regulation of cell migration\"                                       \n",
       "[164] \"neural crest cell migration\"                                                 \n",
       "[165] \"positive regulation of cell migration\"                                       \n",
       "[166] \"neural crest cell migration\"                                                 \n",
       "[167] \"positive regulation of cell migration\"                                       \n",
       "[168] \"negative regulation of neutrophil migration\"                                 \n",
       "[169] \"negative regulation of neutrophil migration\"                                 \n",
       "[170] \"epithelial cell migration\"                                                   \n",
       "[171] \"epithelial cell migration\"                                                   \n",
       "[172] \"epithelial cell migration\"                                                   \n",
       "[173] \"epithelial cell migration\"                                                   \n",
       "[174] \"negative regulation of endothelial cell migration\"                           \n",
       "[175] \"negative regulation of cell migration\"                                       \n",
       "[176] \"negative regulation of endothelial cell migration\"                           \n",
       "[177] \"negative regulation of cell migration\"                                       \n",
       "[178] \"negative regulation of endothelial cell migration\"                           \n",
       "[179] \"negative regulation of cell migration\"                                       \n",
       "[180] \"negative regulation of endothelial cell migration\"                           \n",
       "[181] \"negative regulation of cell migration\"                                       \n",
       "[182] \"regulation of neuron migration\"                                              \n",
       "[183] \"ameboidal-type cell migration\"                                               \n",
       "[184] \"ameboidal-type cell migration\"                                               \n",
       "[185] \"ameboidal-type cell migration\"                                               \n",
       "[186] \"ameboidal-type cell migration\"                                               \n",
       "[187] \"cell migration\"                                                              \n",
       "[188] \"cell migration\"                                                              "
      ]
     },
     "metadata": {},
     "output_type": "display_data"
    }
   ],
   "source": [
    "## miR-miR-146-5p\n",
    "miR = 'miR-146-5p'\n",
    "genes = miR_targets[miR_targets$miR.Family == miR,]$Gene.Symbol\n",
    "res <- queryMany(genes, scopes='symbol', fields=c('entrezgene', 'go'), species='human')\n",
    "terms = lapply(res[,'go.BP'], function(x) x$term)\n",
    "terms_unlisted = unlist(terms)\n",
    "\n",
    "## searching pathways of interest that we found from unbiased associated with those gene (predicted targets)\n",
    "## TOI is term of interest (eg. extravasation)\n",
    "TOI = 'migration'\n",
    "grep(TOI, terms_unlisted, value = T)\n",
    "idx = lapply(terms, function(x) grepl(TOI, x))\n",
    "idx = lapply(idx, function(x) any(x))\n",
    "list_idx_containing_term = unlist(idx)\n",
    "mir146_genes = genes[which(list_idx_containing_term)]\n",
    "\n",
    "## miR-130-3p/301-3p/454-3p\n",
    "miR = 'miR-130-3p/301-3p/454-3p'\n",
    "genes = miR_targets[miR_targets$miR.Family == miR,]$Gene.Symbol\n",
    "res <- queryMany(genes, scopes='symbol', fields=c('entrezgene', 'go'), species='human')\n",
    "terms = lapply(res[,'go.BP'], function(x) x$term)\n",
    "terms_unlisted = unlist(terms)\n",
    "\n",
    "## searching pathways of interest that we found from unbiased associated with those gene (predicted targets)\n",
    "## TOI is term of interest (eg. extravasation)\n",
    "TOI = 'migration'\n",
    "grep(TOI, terms_unlisted, value = T)\n",
    "idx = lapply(terms, function(x) grepl(TOI, x))\n",
    "idx = lapply(idx, function(x) any(x))\n",
    "list_idx_containing_term = unlist(idx)\n",
    "miR_130_301_454_genes = genes[which(list_idx_containing_term)]\n",
    "\n",
    "# make df of migration_genes for the two sets of miRs and intersected genes too\n",
    "intersected_genes = intersect(mir146_genes, miR_130_301_454_genes)\n",
    "# Finding maximum length \n",
    "max_ln <- max(c(length(mir146_genes), length(miR_130_301_454_genes), length(intersected_genes))) \n",
    "miR_146_130_301_454_migration_genes_df <- data.frame(mir146 = c(mir146_genes, rep(NA, max_ln - length(mir146_genes))), \n",
    "                      miR_130_301_454 = c(miR_130_301_454_genes, rep(NA, max_ln - length(miR_130_301_454_genes))),\n",
    "                      intersected = c(intersected_genes, rep(NA, max_ln - length(intersected_genes)))) \n",
    "\n",
    "write.csv(miR_146_130_301_454_migration_genes_df, file = '/home/ssobti/projects/mir_tud/notebooks/miR_basic_analysis/miR_146_130_301_454_migration_genes_df.csv', row.names = F)"
   ]
  },
  {
   "cell_type": "code",
   "execution_count": null,
   "metadata": {
    "vscode": {
     "languageId": "r"
    }
   },
   "outputs": [],
   "source": []
  },
  {
   "cell_type": "code",
   "execution_count": null,
   "metadata": {
    "vscode": {
     "languageId": "r"
    }
   },
   "outputs": [],
   "source": [
    "## make a chart like Enrichr GSEA does \n"
   ]
  },
  {
   "cell_type": "code",
   "execution_count": null,
   "metadata": {
    "vscode": {
     "languageId": "r"
    }
   },
   "outputs": [],
   "source": [
    "## glucose\n",
    "\n",
    "## cholesterol"
   ]
  },
  {
   "cell_type": "code",
   "execution_count": 8,
   "metadata": {
    "vscode": {
     "languageId": "r"
    }
   },
   "outputs": [],
   "source": [
    "adata.miR = readRDS('/home/ssobti/projects/mir_tud/101423_filtered_data/miR_normalized_integrated_seurat.rds')"
   ]
  },
  {
   "cell_type": "code",
   "execution_count": 9,
   "metadata": {
    "vscode": {
     "languageId": "r"
    }
   },
   "outputs": [
    {
     "data": {
      "text/html": [
       "<table class=\"dataframe\">\n",
       "<caption>A data.frame: 6 × 21</caption>\n",
       "<thead>\n",
       "\t<tr><th></th><th scope=col>nCount_RNA</th><th scope=col>nFeature_RNA</th><th scope=col>orig.ident</th><th scope=col>sample</th><th scope=col>barcode</th><th scope=col>guide</th><th scope=col>lor</th><th scope=col>pvalue</th><th scope=col>adj_pvalue</th><th scope=col>max_umi</th><th scope=col>⋯</th><th scope=col>m_umi</th><th scope=col>v_umi</th><th scope=col>log_max_umi</th><th scope=col>log_n_umi</th><th scope=col>log_m_umi</th><th scope=col>percent.mt</th><th scope=col>integrated_snn_res.0.5</th><th scope=col>seurat_clusters</th><th scope=col>guide_group</th><th scope=col>miR.family</th></tr>\n",
       "\t<tr><th></th><th scope=col>&lt;dbl&gt;</th><th scope=col>&lt;int&gt;</th><th scope=col>&lt;chr&gt;</th><th scope=col>&lt;chr&gt;</th><th scope=col>&lt;chr&gt;</th><th scope=col>&lt;chr&gt;</th><th scope=col>&lt;dbl&gt;</th><th scope=col>&lt;dbl&gt;</th><th scope=col>&lt;dbl&gt;</th><th scope=col>&lt;dbl&gt;</th><th scope=col>⋯</th><th scope=col>&lt;dbl&gt;</th><th scope=col>&lt;dbl&gt;</th><th scope=col>&lt;dbl&gt;</th><th scope=col>&lt;dbl&gt;</th><th scope=col>&lt;dbl&gt;</th><th scope=col>&lt;dbl&gt;</th><th scope=col>&lt;fct&gt;</th><th scope=col>&lt;chr&gt;</th><th scope=col>&lt;chr&gt;</th><th scope=col>&lt;chr&gt;</th></tr>\n",
       "</thead>\n",
       "<tbody>\n",
       "\t<tr><th scope=row>miR_1:AAACCCAAGGAGAGGC-1</th><td>33954</td><td>5998</td><td>miR</td><td>miR_1</td><td>AAACCCAAGGAGAGGC</td><td>hsa-miR-203a-3p</td><td>5.453121</td><td>2.983000e-159</td><td>3.010603e-152</td><td>67</td><td>⋯</td><td>0.1964736</td><td>11.324937</td><td>1.826075</td><td>1.892095</td><td>-0.7066959</td><td> 8.576309</td><td>1</td><td>T1     </td><td>target </td><td>miR-203a-3p.1           </td></tr>\n",
       "\t<tr><th scope=row>miR_1:AAACCCAAGGTAAACT-1</th><td>31928</td><td>6868</td><td>miR</td><td>miR_1</td><td>AAACCCAAGGTAAACT</td><td>hsa-miR-93-3p  </td><td>6.012001</td><td>3.907611e-225</td><td>3.943769e-218</td><td>97</td><td>⋯</td><td>0.2720403</td><td>23.713686</td><td>1.986772</td><td>2.033424</td><td>-0.5653668</td><td> 6.549110</td><td>0</td><td>T0     </td><td>target </td><td>miR-93-3p               </td></tr>\n",
       "\t<tr><th scope=row>miR_1:AAACCCACAACGATCT-1</th><td>42785</td><td>7447</td><td>miR</td><td>miR_1</td><td>AAACCCACAACGATCT</td><td>hsa-miR-130b-3p</td><td>5.864701</td><td>3.299362e-202</td><td>3.329893e-195</td><td>89</td><td>⋯</td><td>0.2846348</td><td>19.981910</td><td>1.949390</td><td>2.053078</td><td>-0.5457121</td><td> 8.844221</td><td>0</td><td>T0     </td><td>target </td><td>miR-130-3p/301-3p/454-3p</td></tr>\n",
       "\t<tr><th scope=row>miR_1:AAACCCACACGATTCA-1</th><td>58537</td><td>8039</td><td>miR</td><td>miR_1</td><td>AAACCCACACGATTCA</td><td>TuD_NC_18      </td><td>5.859895</td><td>2.574602e-201</td><td>2.598426e-194</td><td>96</td><td>⋯</td><td>0.2871537</td><td>23.235516</td><td>1.982271</td><td>2.056905</td><td>-0.5418857</td><td>10.072262</td><td>5</td><td>control</td><td>control</td><td>NA                      </td></tr>\n",
       "\t<tr><th scope=row>miR_1:AAACCCACAGTCAACT-1</th><td>31579</td><td>6580</td><td>miR</td><td>miR_1</td><td>AAACCCACAGTCAACT</td><td>hsa-miR-147b-5p</td><td>5.632808</td><td>3.564463e-178</td><td>3.597446e-171</td><td>71</td><td>⋯</td><td>0.2166247</td><td>12.725683</td><td>1.851258</td><td>1.934498</td><td>-0.6642921</td><td> 7.698154</td><td>9</td><td>T9     </td><td>target </td><td>miR-147b                </td></tr>\n",
       "\t<tr><th scope=row>miR_1:AAACCCACATCTCATT-1</th><td>20694</td><td>5353</td><td>miR</td><td>miR_1</td><td>AAACCCACATCTCATT</td><td>hsa-miR-501-5p </td><td>5.261722</td><td>7.493882e-143</td><td>7.563226e-136</td><td>58</td><td>⋯</td><td>0.1612091</td><td> 8.484047</td><td>1.763428</td><td>1.806180</td><td>-0.7926105</td><td> 5.533005</td><td>7</td><td>T7     </td><td>target </td><td>miR-501-5p              </td></tr>\n",
       "</tbody>\n",
       "</table>\n"
      ],
      "text/latex": [
       "A data.frame: 6 × 21\n",
       "\\begin{tabular}{r|lllllllllllllllllllll}\n",
       "  & nCount\\_RNA & nFeature\\_RNA & orig.ident & sample & barcode & guide & lor & pvalue & adj\\_pvalue & max\\_umi & ⋯ & m\\_umi & v\\_umi & log\\_max\\_umi & log\\_n\\_umi & log\\_m\\_umi & percent.mt & integrated\\_snn\\_res.0.5 & seurat\\_clusters & guide\\_group & miR.family\\\\\n",
       "  & <dbl> & <int> & <chr> & <chr> & <chr> & <chr> & <dbl> & <dbl> & <dbl> & <dbl> & ⋯ & <dbl> & <dbl> & <dbl> & <dbl> & <dbl> & <dbl> & <fct> & <chr> & <chr> & <chr>\\\\\n",
       "\\hline\n",
       "\tmiR\\_1:AAACCCAAGGAGAGGC-1 & 33954 & 5998 & miR & miR\\_1 & AAACCCAAGGAGAGGC & hsa-miR-203a-3p & 5.453121 & 2.983000e-159 & 3.010603e-152 & 67 & ⋯ & 0.1964736 & 11.324937 & 1.826075 & 1.892095 & -0.7066959 &  8.576309 & 1 & T1      & target  & miR-203a-3p.1           \\\\\n",
       "\tmiR\\_1:AAACCCAAGGTAAACT-1 & 31928 & 6868 & miR & miR\\_1 & AAACCCAAGGTAAACT & hsa-miR-93-3p   & 6.012001 & 3.907611e-225 & 3.943769e-218 & 97 & ⋯ & 0.2720403 & 23.713686 & 1.986772 & 2.033424 & -0.5653668 &  6.549110 & 0 & T0      & target  & miR-93-3p               \\\\\n",
       "\tmiR\\_1:AAACCCACAACGATCT-1 & 42785 & 7447 & miR & miR\\_1 & AAACCCACAACGATCT & hsa-miR-130b-3p & 5.864701 & 3.299362e-202 & 3.329893e-195 & 89 & ⋯ & 0.2846348 & 19.981910 & 1.949390 & 2.053078 & -0.5457121 &  8.844221 & 0 & T0      & target  & miR-130-3p/301-3p/454-3p\\\\\n",
       "\tmiR\\_1:AAACCCACACGATTCA-1 & 58537 & 8039 & miR & miR\\_1 & AAACCCACACGATTCA & TuD\\_NC\\_18       & 5.859895 & 2.574602e-201 & 2.598426e-194 & 96 & ⋯ & 0.2871537 & 23.235516 & 1.982271 & 2.056905 & -0.5418857 & 10.072262 & 5 & control & control & NA                      \\\\\n",
       "\tmiR\\_1:AAACCCACAGTCAACT-1 & 31579 & 6580 & miR & miR\\_1 & AAACCCACAGTCAACT & hsa-miR-147b-5p & 5.632808 & 3.564463e-178 & 3.597446e-171 & 71 & ⋯ & 0.2166247 & 12.725683 & 1.851258 & 1.934498 & -0.6642921 &  7.698154 & 9 & T9      & target  & miR-147b                \\\\\n",
       "\tmiR\\_1:AAACCCACATCTCATT-1 & 20694 & 5353 & miR & miR\\_1 & AAACCCACATCTCATT & hsa-miR-501-5p  & 5.261722 & 7.493882e-143 & 7.563226e-136 & 58 & ⋯ & 0.1612091 &  8.484047 & 1.763428 & 1.806180 & -0.7926105 &  5.533005 & 7 & T7      & target  & miR-501-5p              \\\\\n",
       "\\end{tabular}\n"
      ],
      "text/markdown": [
       "\n",
       "A data.frame: 6 × 21\n",
       "\n",
       "| <!--/--> | nCount_RNA &lt;dbl&gt; | nFeature_RNA &lt;int&gt; | orig.ident &lt;chr&gt; | sample &lt;chr&gt; | barcode &lt;chr&gt; | guide &lt;chr&gt; | lor &lt;dbl&gt; | pvalue &lt;dbl&gt; | adj_pvalue &lt;dbl&gt; | max_umi &lt;dbl&gt; | ⋯ ⋯ | m_umi &lt;dbl&gt; | v_umi &lt;dbl&gt; | log_max_umi &lt;dbl&gt; | log_n_umi &lt;dbl&gt; | log_m_umi &lt;dbl&gt; | percent.mt &lt;dbl&gt; | integrated_snn_res.0.5 &lt;fct&gt; | seurat_clusters &lt;chr&gt; | guide_group &lt;chr&gt; | miR.family &lt;chr&gt; |\n",
       "|---|---|---|---|---|---|---|---|---|---|---|---|---|---|---|---|---|---|---|---|---|---|\n",
       "| miR_1:AAACCCAAGGAGAGGC-1 | 33954 | 5998 | miR | miR_1 | AAACCCAAGGAGAGGC | hsa-miR-203a-3p | 5.453121 | 2.983000e-159 | 3.010603e-152 | 67 | ⋯ | 0.1964736 | 11.324937 | 1.826075 | 1.892095 | -0.7066959 |  8.576309 | 1 | T1      | target  | miR-203a-3p.1            |\n",
       "| miR_1:AAACCCAAGGTAAACT-1 | 31928 | 6868 | miR | miR_1 | AAACCCAAGGTAAACT | hsa-miR-93-3p   | 6.012001 | 3.907611e-225 | 3.943769e-218 | 97 | ⋯ | 0.2720403 | 23.713686 | 1.986772 | 2.033424 | -0.5653668 |  6.549110 | 0 | T0      | target  | miR-93-3p                |\n",
       "| miR_1:AAACCCACAACGATCT-1 | 42785 | 7447 | miR | miR_1 | AAACCCACAACGATCT | hsa-miR-130b-3p | 5.864701 | 3.299362e-202 | 3.329893e-195 | 89 | ⋯ | 0.2846348 | 19.981910 | 1.949390 | 2.053078 | -0.5457121 |  8.844221 | 0 | T0      | target  | miR-130-3p/301-3p/454-3p |\n",
       "| miR_1:AAACCCACACGATTCA-1 | 58537 | 8039 | miR | miR_1 | AAACCCACACGATTCA | TuD_NC_18       | 5.859895 | 2.574602e-201 | 2.598426e-194 | 96 | ⋯ | 0.2871537 | 23.235516 | 1.982271 | 2.056905 | -0.5418857 | 10.072262 | 5 | control | control | NA                       |\n",
       "| miR_1:AAACCCACAGTCAACT-1 | 31579 | 6580 | miR | miR_1 | AAACCCACAGTCAACT | hsa-miR-147b-5p | 5.632808 | 3.564463e-178 | 3.597446e-171 | 71 | ⋯ | 0.2166247 | 12.725683 | 1.851258 | 1.934498 | -0.6642921 |  7.698154 | 9 | T9      | target  | miR-147b                 |\n",
       "| miR_1:AAACCCACATCTCATT-1 | 20694 | 5353 | miR | miR_1 | AAACCCACATCTCATT | hsa-miR-501-5p  | 5.261722 | 7.493882e-143 | 7.563226e-136 | 58 | ⋯ | 0.1612091 |  8.484047 | 1.763428 | 1.806180 | -0.7926105 |  5.533005 | 7 | T7      | target  | miR-501-5p               |\n",
       "\n"
      ],
      "text/plain": [
       "                         nCount_RNA nFeature_RNA orig.ident sample\n",
       "miR_1:AAACCCAAGGAGAGGC-1 33954      5998         miR        miR_1 \n",
       "miR_1:AAACCCAAGGTAAACT-1 31928      6868         miR        miR_1 \n",
       "miR_1:AAACCCACAACGATCT-1 42785      7447         miR        miR_1 \n",
       "miR_1:AAACCCACACGATTCA-1 58537      8039         miR        miR_1 \n",
       "miR_1:AAACCCACAGTCAACT-1 31579      6580         miR        miR_1 \n",
       "miR_1:AAACCCACATCTCATT-1 20694      5353         miR        miR_1 \n",
       "                         barcode          guide           lor     \n",
       "miR_1:AAACCCAAGGAGAGGC-1 AAACCCAAGGAGAGGC hsa-miR-203a-3p 5.453121\n",
       "miR_1:AAACCCAAGGTAAACT-1 AAACCCAAGGTAAACT hsa-miR-93-3p   6.012001\n",
       "miR_1:AAACCCACAACGATCT-1 AAACCCACAACGATCT hsa-miR-130b-3p 5.864701\n",
       "miR_1:AAACCCACACGATTCA-1 AAACCCACACGATTCA TuD_NC_18       5.859895\n",
       "miR_1:AAACCCACAGTCAACT-1 AAACCCACAGTCAACT hsa-miR-147b-5p 5.632808\n",
       "miR_1:AAACCCACATCTCATT-1 AAACCCACATCTCATT hsa-miR-501-5p  5.261722\n",
       "                         pvalue        adj_pvalue    max_umi ⋯ m_umi    \n",
       "miR_1:AAACCCAAGGAGAGGC-1 2.983000e-159 3.010603e-152 67      ⋯ 0.1964736\n",
       "miR_1:AAACCCAAGGTAAACT-1 3.907611e-225 3.943769e-218 97      ⋯ 0.2720403\n",
       "miR_1:AAACCCACAACGATCT-1 3.299362e-202 3.329893e-195 89      ⋯ 0.2846348\n",
       "miR_1:AAACCCACACGATTCA-1 2.574602e-201 2.598426e-194 96      ⋯ 0.2871537\n",
       "miR_1:AAACCCACAGTCAACT-1 3.564463e-178 3.597446e-171 71      ⋯ 0.2166247\n",
       "miR_1:AAACCCACATCTCATT-1 7.493882e-143 7.563226e-136 58      ⋯ 0.1612091\n",
       "                         v_umi     log_max_umi log_n_umi log_m_umi  percent.mt\n",
       "miR_1:AAACCCAAGGAGAGGC-1 11.324937 1.826075    1.892095  -0.7066959  8.576309 \n",
       "miR_1:AAACCCAAGGTAAACT-1 23.713686 1.986772    2.033424  -0.5653668  6.549110 \n",
       "miR_1:AAACCCACAACGATCT-1 19.981910 1.949390    2.053078  -0.5457121  8.844221 \n",
       "miR_1:AAACCCACACGATTCA-1 23.235516 1.982271    2.056905  -0.5418857 10.072262 \n",
       "miR_1:AAACCCACAGTCAACT-1 12.725683 1.851258    1.934498  -0.6642921  7.698154 \n",
       "miR_1:AAACCCACATCTCATT-1  8.484047 1.763428    1.806180  -0.7926105  5.533005 \n",
       "                         integrated_snn_res.0.5 seurat_clusters guide_group\n",
       "miR_1:AAACCCAAGGAGAGGC-1 1                      T1              target     \n",
       "miR_1:AAACCCAAGGTAAACT-1 0                      T0              target     \n",
       "miR_1:AAACCCACAACGATCT-1 0                      T0              target     \n",
       "miR_1:AAACCCACACGATTCA-1 5                      control         control    \n",
       "miR_1:AAACCCACAGTCAACT-1 9                      T9              target     \n",
       "miR_1:AAACCCACATCTCATT-1 7                      T7              target     \n",
       "                         miR.family              \n",
       "miR_1:AAACCCAAGGAGAGGC-1 miR-203a-3p.1           \n",
       "miR_1:AAACCCAAGGTAAACT-1 miR-93-3p               \n",
       "miR_1:AAACCCACAACGATCT-1 miR-130-3p/301-3p/454-3p\n",
       "miR_1:AAACCCACACGATTCA-1 NA                      \n",
       "miR_1:AAACCCACAGTCAACT-1 miR-147b                \n",
       "miR_1:AAACCCACATCTCATT-1 miR-501-5p              "
      ]
     },
     "metadata": {},
     "output_type": "display_data"
    }
   ],
   "source": [
    "head(adata.miR@meta.data)"
   ]
  },
  {
   "cell_type": "code",
   "execution_count": 10,
   "metadata": {
    "vscode": {
     "languageId": "r"
    }
   },
   "outputs": [],
   "source": [
    "meta = adata.miR@meta.data"
   ]
  },
  {
   "cell_type": "code",
   "execution_count": 21,
   "metadata": {
    "vscode": {
     "languageId": "r"
    }
   },
   "outputs": [
    {
     "data": {
      "text/html": [
       "FALSE"
      ],
      "text/latex": [
       "FALSE"
      ],
      "text/markdown": [
       "FALSE"
      ],
      "text/plain": [
       "[1] FALSE"
      ]
     },
     "metadata": {},
     "output_type": "display_data"
    }
   ],
   "source": [
    "'LDHA' %in% rownames(adata.miR)"
   ]
  },
  {
   "cell_type": "code",
   "execution_count": 20,
   "metadata": {
    "vscode": {
     "languageId": "r"
    }
   },
   "outputs": [
    {
     "data": {
      "text/html": [],
      "text/latex": [],
      "text/markdown": [],
      "text/plain": [
       "character(0)"
      ]
     },
     "metadata": {},
     "output_type": "display_data"
    }
   ],
   "source": [
    "grep('LDHA', rownames(adata.miR), value = T)"
   ]
  },
  {
   "cell_type": "code",
   "execution_count": null,
   "metadata": {
    "vscode": {
     "languageId": "r"
    }
   },
   "outputs": [],
   "source": []
  },
  {
   "cell_type": "code",
   "execution_count": null,
   "metadata": {
    "vscode": {
     "languageId": "r"
    }
   },
   "outputs": [],
   "source": []
  }
 ],
 "metadata": {
  "kernelspec": {
   "display_name": "R",
   "language": "R",
   "name": "ir"
  },
  "language_info": {
   "codemirror_mode": "r",
   "file_extension": ".r",
   "mimetype": "text/x-r-source",
   "name": "R",
   "pygments_lexer": "r",
   "version": "4.3.3"
  }
 },
 "nbformat": 4,
 "nbformat_minor": 2
}
