{
 "cells": [
  {
   "cell_type": "code",
   "execution_count": 1,
   "metadata": {
    "vscode": {
     "languageId": "r"
    }
   },
   "outputs": [],
   "source": [
    "## Notebook env: mirtud_env (R kernel)"
   ]
  },
  {
   "cell_type": "code",
   "execution_count": 2,
   "metadata": {
    "vscode": {
     "languageId": "r"
    }
   },
   "outputs": [
    {
     "name": "stderr",
     "output_type": "stream",
     "text": [
      "The legacy packages maptools, rgdal, and rgeos, underpinning this package\n",
      "will retire shortly. Please refer to R-spatial evolution reports on\n",
      "https://r-spatial.org/r/2023/05/15/evolution4.html for details.\n",
      "This package is now running under evolution status 0 \n",
      "\n",
      "Attaching SeuratObject\n",
      "\n"
     ]
    }
   ],
   "source": [
    "library(Seurat)"
   ]
  },
  {
   "cell_type": "code",
   "execution_count": 3,
   "metadata": {
    "vscode": {
     "languageId": "r"
    }
   },
   "outputs": [],
   "source": [
    "adata.R = readRDS('/home/ssobti/projects/mir_tud/010523_filtered_data/miR_normalized_integrated_seurat.rds')\n",
    "## build a lookup table\n",
    "meta = adata.R@meta.data\n",
    "lookup = data.frame(guide = meta$guide, family = meta$miR.family)\n",
    "lookup$family[lookup$family == 'NA'] = 'TuD_NC'\n",
    "lookup = lookup[!duplicated(lookup),]"
   ]
  },
  {
   "cell_type": "code",
   "execution_count": 4,
   "metadata": {
    "vscode": {
     "languageId": "r"
    }
   },
   "outputs": [
    {
     "data": {
      "text/html": [
       "<table class=\"dataframe\">\n",
       "<caption>A data.frame: 6 × 2</caption>\n",
       "<thead>\n",
       "\t<tr><th></th><th scope=col>guide</th><th scope=col>family</th></tr>\n",
       "\t<tr><th></th><th scope=col>&lt;chr&gt;</th><th scope=col>&lt;chr&gt;</th></tr>\n",
       "</thead>\n",
       "<tbody>\n",
       "\t<tr><th scope=row>1</th><td>hsa-miR-203a-3p</td><td>miR-203a-3p.1           </td></tr>\n",
       "\t<tr><th scope=row>2</th><td>hsa-miR-93-3p  </td><td>miR-93-3p               </td></tr>\n",
       "\t<tr><th scope=row>3</th><td>hsa-miR-130b-3p</td><td>miR-130-3p/301-3p/454-3p</td></tr>\n",
       "\t<tr><th scope=row>4</th><td>TuD_NC_18      </td><td>TuD_NC                  </td></tr>\n",
       "\t<tr><th scope=row>5</th><td>hsa-miR-147b-5p</td><td>miR-147b                </td></tr>\n",
       "\t<tr><th scope=row>6</th><td>hsa-miR-501-5p </td><td>miR-501-5p              </td></tr>\n",
       "</tbody>\n",
       "</table>\n"
      ],
      "text/latex": [
       "A data.frame: 6 × 2\n",
       "\\begin{tabular}{r|ll}\n",
       "  & guide & family\\\\\n",
       "  & <chr> & <chr>\\\\\n",
       "\\hline\n",
       "\t1 & hsa-miR-203a-3p & miR-203a-3p.1           \\\\\n",
       "\t2 & hsa-miR-93-3p   & miR-93-3p               \\\\\n",
       "\t3 & hsa-miR-130b-3p & miR-130-3p/301-3p/454-3p\\\\\n",
       "\t4 & TuD\\_NC\\_18       & TuD\\_NC                  \\\\\n",
       "\t5 & hsa-miR-147b-5p & miR-147b                \\\\\n",
       "\t6 & hsa-miR-501-5p  & miR-501-5p              \\\\\n",
       "\\end{tabular}\n"
      ],
      "text/markdown": [
       "\n",
       "A data.frame: 6 × 2\n",
       "\n",
       "| <!--/--> | guide &lt;chr&gt; | family &lt;chr&gt; |\n",
       "|---|---|---|\n",
       "| 1 | hsa-miR-203a-3p | miR-203a-3p.1            |\n",
       "| 2 | hsa-miR-93-3p   | miR-93-3p                |\n",
       "| 3 | hsa-miR-130b-3p | miR-130-3p/301-3p/454-3p |\n",
       "| 4 | TuD_NC_18       | TuD_NC                   |\n",
       "| 5 | hsa-miR-147b-5p | miR-147b                 |\n",
       "| 6 | hsa-miR-501-5p  | miR-501-5p               |\n",
       "\n"
      ],
      "text/plain": [
       "  guide           family                  \n",
       "1 hsa-miR-203a-3p miR-203a-3p.1           \n",
       "2 hsa-miR-93-3p   miR-93-3p               \n",
       "3 hsa-miR-130b-3p miR-130-3p/301-3p/454-3p\n",
       "4 TuD_NC_18       TuD_NC                  \n",
       "5 hsa-miR-147b-5p miR-147b                \n",
       "6 hsa-miR-501-5p  miR-501-5p              "
      ]
     },
     "metadata": {},
     "output_type": "display_data"
    }
   ],
   "source": [
    "head(lookup)"
   ]
  },
  {
   "cell_type": "code",
   "execution_count": 5,
   "metadata": {
    "vscode": {
     "languageId": "r"
    }
   },
   "outputs": [
    {
     "data": {
      "text/html": [
       "<table class=\"dataframe\">\n",
       "<caption>A data.frame: 7 × 2</caption>\n",
       "<thead>\n",
       "\t<tr><th scope=col>guide</th><th scope=col>family</th></tr>\n",
       "\t<tr><th scope=col>&lt;chr&gt;</th><th scope=col>&lt;chr&gt;</th></tr>\n",
       "</thead>\n",
       "<tbody>\n",
       "\t<tr><td>hsa-miR-1910-5p</td><td>miR-1910-5p      </td></tr>\n",
       "\t<tr><td>hsa-miR-551b-5p</td><td>miR-551b-5p      </td></tr>\n",
       "\t<tr><td>hsa-miR-651-5p </td><td>miR-651-5p       </td></tr>\n",
       "\t<tr><td>hsa-miR-139-5p </td><td>miR-139-5p       </td></tr>\n",
       "\t<tr><td>hsa-miR-484    </td><td>miR-484/3155     </td></tr>\n",
       "\t<tr><td>hsa-miR-423-3p </td><td>miR-423-3p       </td></tr>\n",
       "\t<tr><td>hsa-miR-192-5p </td><td>miR-192-5p/215-5p</td></tr>\n",
       "</tbody>\n",
       "</table>\n"
      ],
      "text/latex": [
       "A data.frame: 7 × 2\n",
       "\\begin{tabular}{ll}\n",
       " guide & family\\\\\n",
       " <chr> & <chr>\\\\\n",
       "\\hline\n",
       "\t hsa-miR-1910-5p & miR-1910-5p      \\\\\n",
       "\t hsa-miR-551b-5p & miR-551b-5p      \\\\\n",
       "\t hsa-miR-651-5p  & miR-651-5p       \\\\\n",
       "\t hsa-miR-139-5p  & miR-139-5p       \\\\\n",
       "\t hsa-miR-484     & miR-484/3155     \\\\\n",
       "\t hsa-miR-423-3p  & miR-423-3p       \\\\\n",
       "\t hsa-miR-192-5p  & miR-192-5p/215-5p\\\\\n",
       "\\end{tabular}\n"
      ],
      "text/markdown": [
       "\n",
       "A data.frame: 7 × 2\n",
       "\n",
       "| guide &lt;chr&gt; | family &lt;chr&gt; |\n",
       "|---|---|\n",
       "| hsa-miR-1910-5p | miR-1910-5p       |\n",
       "| hsa-miR-551b-5p | miR-551b-5p       |\n",
       "| hsa-miR-651-5p  | miR-651-5p        |\n",
       "| hsa-miR-139-5p  | miR-139-5p        |\n",
       "| hsa-miR-484     | miR-484/3155      |\n",
       "| hsa-miR-423-3p  | miR-423-3p        |\n",
       "| hsa-miR-192-5p  | miR-192-5p/215-5p |\n",
       "\n"
      ],
      "text/plain": [
       "  guide           family           \n",
       "1 hsa-miR-1910-5p miR-1910-5p      \n",
       "2 hsa-miR-551b-5p miR-551b-5p      \n",
       "3 hsa-miR-651-5p  miR-651-5p       \n",
       "4 hsa-miR-139-5p  miR-139-5p       \n",
       "5 hsa-miR-484     miR-484/3155     \n",
       "6 hsa-miR-423-3p  miR-423-3p       \n",
       "7 hsa-miR-192-5p  miR-192-5p/215-5p"
      ]
     },
     "metadata": {},
     "output_type": "display_data"
    },
    {
     "data": {
      "text/html": [
       "<table class=\"dataframe\">\n",
       "<caption>A data.frame: 4 × 2</caption>\n",
       "<thead>\n",
       "\t<tr><th scope=col>guide</th><th scope=col>family</th></tr>\n",
       "\t<tr><th scope=col>&lt;chr&gt;</th><th scope=col>&lt;chr&gt;</th></tr>\n",
       "</thead>\n",
       "<tbody>\n",
       "\t<tr><td>hsa-miR-34a-5p</td><td>miR-34-5p/449-5p</td></tr>\n",
       "\t<tr><td>hsa-miR-34c-5p</td><td>miR-34-5p/449-5p</td></tr>\n",
       "\t<tr><td>hsa-miR-449a  </td><td>miR-34-5p/449-5p</td></tr>\n",
       "\t<tr><td>hsa-miR-629-3p</td><td>miR-629-3p      </td></tr>\n",
       "</tbody>\n",
       "</table>\n"
      ],
      "text/latex": [
       "A data.frame: 4 × 2\n",
       "\\begin{tabular}{ll}\n",
       " guide & family\\\\\n",
       " <chr> & <chr>\\\\\n",
       "\\hline\n",
       "\t hsa-miR-34a-5p & miR-34-5p/449-5p\\\\\n",
       "\t hsa-miR-34c-5p & miR-34-5p/449-5p\\\\\n",
       "\t hsa-miR-449a   & miR-34-5p/449-5p\\\\\n",
       "\t hsa-miR-629-3p & miR-629-3p      \\\\\n",
       "\\end{tabular}\n"
      ],
      "text/markdown": [
       "\n",
       "A data.frame: 4 × 2\n",
       "\n",
       "| guide &lt;chr&gt; | family &lt;chr&gt; |\n",
       "|---|---|\n",
       "| hsa-miR-34a-5p | miR-34-5p/449-5p |\n",
       "| hsa-miR-34c-5p | miR-34-5p/449-5p |\n",
       "| hsa-miR-449a   | miR-34-5p/449-5p |\n",
       "| hsa-miR-629-3p | miR-629-3p       |\n",
       "\n"
      ],
      "text/plain": [
       "  guide          family          \n",
       "1 hsa-miR-34a-5p miR-34-5p/449-5p\n",
       "2 hsa-miR-34c-5p miR-34-5p/449-5p\n",
       "3 hsa-miR-449a   miR-34-5p/449-5p\n",
       "4 hsa-miR-629-3p miR-629-3p      "
      ]
     },
     "metadata": {},
     "output_type": "display_data"
    }
   ],
   "source": [
    "## lookup specific TuDs from selected miR families from PC_scores_cell_guide_linear_model_rotated_varimax_consolidated_families_comparison_to_controls_only.ipynb\n",
    "## selected by visual thresholding\n",
    "selected = c('miR-192-5p/215-5p', 'miR-1910-5p', 'miR-484/3155', 'miR-651-5p', 'miR-423-3p', 'miR-139-5p', 'miR-551b-5p')\n",
    "visual_thresh_selected_lookup = lookup[lookup$family %in% selected,]\n",
    "rownames(visual_thresh_selected_lookup) = NULL\n",
    "visual_thresh_selected_lookup\n",
    "\n",
    "## based on interesting pathways\n",
    "selected = c('miR-34-5p/449-5p', 'miR-629-3p')\n",
    "pathway_selected_lookup = lookup[lookup$family %in% selected,]\n",
    "rownames(pathway_selected_lookup) = NULL\n",
    "pathway_selected_lookup"
   ]
  },
  {
   "cell_type": "code",
   "execution_count": null,
   "metadata": {
    "vscode": {
     "languageId": "r"
    }
   },
   "outputs": [],
   "source": []
  }
 ],
 "metadata": {
  "kernelspec": {
   "display_name": "R",
   "language": "R",
   "name": "ir"
  },
  "language_info": {
   "codemirror_mode": "r",
   "file_extension": ".r",
   "mimetype": "text/x-r-source",
   "name": "R",
   "pygments_lexer": "r",
   "version": "4.2.3"
  }
 },
 "nbformat": 4,
 "nbformat_minor": 2
}
