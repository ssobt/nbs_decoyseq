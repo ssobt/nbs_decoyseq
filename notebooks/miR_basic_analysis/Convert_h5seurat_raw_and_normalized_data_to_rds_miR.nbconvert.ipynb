{
 "cells": [
  {
   "cell_type": "code",
   "execution_count": 1,
   "id": "bf29757a",
   "metadata": {
    "execution": {
     "iopub.execute_input": "2024-02-01T19:34:58.241381Z",
     "iopub.status.busy": "2024-02-01T19:34:58.238754Z",
     "iopub.status.idle": "2024-02-01T19:34:58.275832Z",
     "shell.execute_reply": "2024-02-01T19:34:58.265232Z"
    },
    "vscode": {
     "languageId": "r"
    }
   },
   "outputs": [],
   "source": [
    "## Notebook env: seuratdisk (R kernel)\n",
    "## this notebook converts the data output in .h5seurat from preprocessing to .rds"
   ]
  },
  {
   "cell_type": "code",
   "execution_count": 2,
   "id": "08487940",
   "metadata": {
    "execution": {
     "iopub.execute_input": "2024-02-01T19:34:58.362474Z",
     "iopub.status.busy": "2024-02-01T19:34:58.285629Z",
     "iopub.status.idle": "2024-02-01T19:35:06.201894Z",
     "shell.execute_reply": "2024-02-01T19:35:06.198208Z"
    },
    "vscode": {
     "languageId": "r"
    }
   },
   "outputs": [
    {
     "name": "stderr",
     "output_type": "stream",
     "text": [
      "Registered S3 method overwritten by 'SeuratDisk':\n",
      "  method            from  \n",
      "  as.sparse.H5Group Seurat\n",
      "\n"
     ]
    }
   ],
   "source": [
    "library(SeuratDisk)"
   ]
  },
  {
   "cell_type": "markdown",
   "id": "3df475e2",
   "metadata": {},
   "source": [
    "## For old data from 01.05.23"
   ]
  },
  {
   "cell_type": "code",
   "execution_count": 3,
   "id": "dcdb92df",
   "metadata": {
    "execution": {
     "iopub.execute_input": "2024-02-01T19:35:06.214803Z",
     "iopub.status.busy": "2024-02-01T19:35:06.211224Z",
     "iopub.status.idle": "2024-02-01T19:35:06.234503Z",
     "shell.execute_reply": "2024-02-01T19:35:06.231324Z"
    },
    "vscode": {
     "languageId": "r"
    }
   },
   "outputs": [],
   "source": [
    "# miR_normalized_seurat <- LoadH5Seurat('~/projects/mir_tud/010523_filtered_data/miR.integrated.qc_norm_scaled.dimred.clustered.gex.guide_assigned.h5seurat')"
   ]
  },
  {
   "cell_type": "code",
   "execution_count": 4,
   "id": "e1ec538d",
   "metadata": {
    "execution": {
     "iopub.execute_input": "2024-02-01T19:35:06.244798Z",
     "iopub.status.busy": "2024-02-01T19:35:06.241032Z",
     "iopub.status.idle": "2024-02-01T19:35:06.263149Z",
     "shell.execute_reply": "2024-02-01T19:35:06.259889Z"
    },
    "vscode": {
     "languageId": "r"
    }
   },
   "outputs": [],
   "source": [
    "# saveRDS(miR_normalized_seurat, '~/projects/mir_tud/010523_filtered_data/miR_normalized_integrated_seurat.rds')"
   ]
  },
  {
   "cell_type": "code",
   "execution_count": 5,
   "id": "4fb135a4",
   "metadata": {
    "execution": {
     "iopub.execute_input": "2024-02-01T19:35:06.273545Z",
     "iopub.status.busy": "2024-02-01T19:35:06.269860Z",
     "iopub.status.idle": "2024-02-01T19:35:06.291744Z",
     "shell.execute_reply": "2024-02-01T19:35:06.288458Z"
    },
    "vscode": {
     "languageId": "r"
    }
   },
   "outputs": [],
   "source": [
    "# rm(miR_normalized_seurat)"
   ]
  },
  {
   "cell_type": "code",
   "execution_count": 6,
   "id": "52c7aeb8",
   "metadata": {
    "execution": {
     "iopub.execute_input": "2024-02-01T19:35:06.302092Z",
     "iopub.status.busy": "2024-02-01T19:35:06.298457Z",
     "iopub.status.idle": "2024-02-01T19:35:06.320204Z",
     "shell.execute_reply": "2024-02-01T19:35:06.316960Z"
    },
    "vscode": {
     "languageId": "r"
    }
   },
   "outputs": [],
   "source": [
    "# miR_raw_seurat <- LoadH5Seurat('~/projects/mir_tud/010523_filtered_data/miR.concat.raw.adata_gex.guide_assigned.h5seurat')"
   ]
  },
  {
   "cell_type": "code",
   "execution_count": 7,
   "id": "443795b5",
   "metadata": {
    "execution": {
     "iopub.execute_input": "2024-02-01T19:35:06.330528Z",
     "iopub.status.busy": "2024-02-01T19:35:06.326911Z",
     "iopub.status.idle": "2024-02-01T19:35:06.348941Z",
     "shell.execute_reply": "2024-02-01T19:35:06.345625Z"
    },
    "vscode": {
     "languageId": "r"
    }
   },
   "outputs": [],
   "source": [
    "# saveRDS(miR_raw_seurat, '~/projects/mir_tud/010523_filtered_data/miR_raw_seurat.rds')"
   ]
  },
  {
   "cell_type": "markdown",
   "id": "bdac9f2d",
   "metadata": {},
   "source": [
    "## For new data from 10.14.23"
   ]
  },
  {
   "cell_type": "code",
   "execution_count": 8,
   "id": "73116396",
   "metadata": {
    "execution": {
     "iopub.execute_input": "2024-02-01T19:35:06.359335Z",
     "iopub.status.busy": "2024-02-01T19:35:06.355757Z",
     "iopub.status.idle": "2024-02-01T19:39:15.189731Z",
     "shell.execute_reply": "2024-02-01T19:39:15.185946Z"
    },
    "vscode": {
     "languageId": "r"
    }
   },
   "outputs": [
    {
     "name": "stderr",
     "output_type": "stream",
     "text": [
      "Validating h5Seurat file\n",
      "\n",
      "Initializing RNA with data\n",
      "\n",
      "Adding counts for RNA\n",
      "\n",
      "Adding miscellaneous information for RNA\n",
      "\n",
      "Initializing integrated with data\n",
      "\n",
      "Adding scale.data for integrated\n",
      "\n",
      "Adding variable feature information for integrated\n",
      "\n",
      "Adding reduction pca\n",
      "\n",
      "Adding cell embeddings for pca\n",
      "\n",
      "Adding feature loadings for pca\n",
      "\n",
      "Adding miscellaneous information for pca\n",
      "\n",
      "Adding reduction umap\n",
      "\n",
      "Adding cell embeddings for umap\n",
      "\n",
      "Adding miscellaneous information for umap\n",
      "\n",
      "Adding graph integrated_nn\n",
      "\n",
      "Adding graph integrated_snn\n",
      "\n",
      "Adding command information\n",
      "\n",
      "Adding cell-level metadata\n",
      "\n",
      "Adding miscellaneous information\n",
      "\n",
      "Adding tool-specific results\n",
      "\n",
      "Adding data that was not associated with an assay\n",
      "\n",
      "Warning message:\n",
      "“Adding a command log without an assay associated with it”\n"
     ]
    }
   ],
   "source": [
    "miR_normalized_seurat <- LoadH5Seurat('~/projects/mir_tud/101423_filtered_data/miR.integrated.qc_norm_scaled.dimred.clustered.gex.guide_assigned.h5seurat')"
   ]
  },
  {
   "cell_type": "code",
   "execution_count": 9,
   "id": "9ec8ef9a",
   "metadata": {
    "execution": {
     "iopub.execute_input": "2024-02-01T19:39:15.238708Z",
     "iopub.status.busy": "2024-02-01T19:39:15.235984Z",
     "iopub.status.idle": "2024-02-01T19:48:08.084503Z",
     "shell.execute_reply": "2024-02-01T19:48:08.077866Z"
    },
    "vscode": {
     "languageId": "r"
    }
   },
   "outputs": [],
   "source": [
    "saveRDS(miR_normalized_seurat, '~/projects/mir_tud/101423_filtered_data/miR_normalized_integrated_seurat.rds')"
   ]
  },
  {
   "cell_type": "code",
   "execution_count": 10,
   "id": "3d383178",
   "metadata": {
    "execution": {
     "iopub.execute_input": "2024-02-01T19:48:08.195513Z",
     "iopub.status.busy": "2024-02-01T19:48:08.192049Z",
     "iopub.status.idle": "2024-02-01T19:48:08.223251Z",
     "shell.execute_reply": "2024-02-01T19:48:08.219543Z"
    },
    "vscode": {
     "languageId": "r"
    }
   },
   "outputs": [],
   "source": [
    "rm(miR_normalized_seurat)"
   ]
  },
  {
   "cell_type": "code",
   "execution_count": null,
   "id": "47f8930a",
   "metadata": {
    "vscode": {
     "languageId": "r"
    }
   },
   "outputs": [],
   "source": []
  }
 ],
 "metadata": {
  "kernelspec": {
   "display_name": "R",
   "language": "R",
   "name": "ir"
  },
  "language_info": {
   "codemirror_mode": "r",
   "file_extension": ".r",
   "mimetype": "text/x-r-source",
   "name": "R",
   "pygments_lexer": "r",
   "version": "4.0.5"
  }
 },
 "nbformat": 4,
 "nbformat_minor": 5
}
