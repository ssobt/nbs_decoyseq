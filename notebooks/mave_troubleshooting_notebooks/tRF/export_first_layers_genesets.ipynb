{
 "cells": [
  {
   "cell_type": "code",
   "execution_count": null,
   "metadata": {
    "vscode": {
     "languageId": "r"
    }
   },
   "outputs": [],
   "source": [
    "## Notebook env: mirtud_env (R kernel)\n",
    "## export first layers genesets to csv"
   ]
  },
  {
   "cell_type": "code",
   "execution_count": 1,
   "metadata": {
    "vscode": {
     "languageId": "r"
    }
   },
   "outputs": [],
   "source": [
    "library(msigdbr)"
   ]
  },
  {
   "cell_type": "code",
   "execution_count": 3,
   "metadata": {
    "vscode": {
     "languageId": "r"
    }
   },
   "outputs": [
    {
     "data": {
      "text/html": [
       "<table class=\"dataframe\">\n",
       "<caption>A tibble: 6 × 15</caption>\n",
       "<thead>\n",
       "\t<tr><th scope=col>gs_cat</th><th scope=col>gs_subcat</th><th scope=col>gs_name</th><th scope=col>gene_symbol</th><th scope=col>entrez_gene</th><th scope=col>ensembl_gene</th><th scope=col>human_gene_symbol</th><th scope=col>human_entrez_gene</th><th scope=col>human_ensembl_gene</th><th scope=col>gs_id</th><th scope=col>gs_pmid</th><th scope=col>gs_geoid</th><th scope=col>gs_exact_source</th><th scope=col>gs_url</th><th scope=col>gs_description</th></tr>\n",
       "\t<tr><th scope=col>&lt;chr&gt;</th><th scope=col>&lt;chr&gt;</th><th scope=col>&lt;chr&gt;</th><th scope=col>&lt;chr&gt;</th><th scope=col>&lt;int&gt;</th><th scope=col>&lt;chr&gt;</th><th scope=col>&lt;chr&gt;</th><th scope=col>&lt;int&gt;</th><th scope=col>&lt;chr&gt;</th><th scope=col>&lt;chr&gt;</th><th scope=col>&lt;chr&gt;</th><th scope=col>&lt;chr&gt;</th><th scope=col>&lt;chr&gt;</th><th scope=col>&lt;chr&gt;</th><th scope=col>&lt;chr&gt;</th></tr>\n",
       "</thead>\n",
       "<tbody>\n",
       "\t<tr><td>C2</td><td>CP:KEGG</td><td>KEGG_ABC_TRANSPORTERS</td><td>ABCA1 </td><td>    19</td><td>ENSG00000165029</td><td>ABCA1 </td><td>    19</td><td>ENSG00000165029</td><td>M11911</td><td></td><td></td><td>hsa02010</td><td>http://www.genome.jp/kegg/pathway/hsa/hsa02010.html</td><td>ABC transporters</td></tr>\n",
       "\t<tr><td>C2</td><td>CP:KEGG</td><td>KEGG_ABC_TRANSPORTERS</td><td>ABCA10</td><td> 10349</td><td>ENSG00000154263</td><td>ABCA10</td><td> 10349</td><td>ENSG00000154263</td><td>M11911</td><td></td><td></td><td>hsa02010</td><td>http://www.genome.jp/kegg/pathway/hsa/hsa02010.html</td><td>ABC transporters</td></tr>\n",
       "\t<tr><td>C2</td><td>CP:KEGG</td><td>KEGG_ABC_TRANSPORTERS</td><td>ABCA12</td><td> 26154</td><td>ENSG00000144452</td><td>ABCA12</td><td> 26154</td><td>ENSG00000144452</td><td>M11911</td><td></td><td></td><td>hsa02010</td><td>http://www.genome.jp/kegg/pathway/hsa/hsa02010.html</td><td>ABC transporters</td></tr>\n",
       "\t<tr><td>C2</td><td>CP:KEGG</td><td>KEGG_ABC_TRANSPORTERS</td><td>ABCA13</td><td>154664</td><td>ENSG00000179869</td><td>ABCA13</td><td>154664</td><td>ENSG00000179869</td><td>M11911</td><td></td><td></td><td>hsa02010</td><td>http://www.genome.jp/kegg/pathway/hsa/hsa02010.html</td><td>ABC transporters</td></tr>\n",
       "\t<tr><td>C2</td><td>CP:KEGG</td><td>KEGG_ABC_TRANSPORTERS</td><td>ABCA2 </td><td>    20</td><td>ENSG00000107331</td><td>ABCA2 </td><td>    20</td><td>ENSG00000107331</td><td>M11911</td><td></td><td></td><td>hsa02010</td><td>http://www.genome.jp/kegg/pathway/hsa/hsa02010.html</td><td>ABC transporters</td></tr>\n",
       "\t<tr><td>C2</td><td>CP:KEGG</td><td>KEGG_ABC_TRANSPORTERS</td><td>ABCA3 </td><td>    21</td><td>ENSG00000167972</td><td>ABCA3 </td><td>    21</td><td>ENSG00000167972</td><td>M11911</td><td></td><td></td><td>hsa02010</td><td>http://www.genome.jp/kegg/pathway/hsa/hsa02010.html</td><td>ABC transporters</td></tr>\n",
       "</tbody>\n",
       "</table>\n"
      ],
      "text/latex": [
       "A tibble: 6 × 15\n",
       "\\begin{tabular}{lllllllllllllll}\n",
       " gs\\_cat & gs\\_subcat & gs\\_name & gene\\_symbol & entrez\\_gene & ensembl\\_gene & human\\_gene\\_symbol & human\\_entrez\\_gene & human\\_ensembl\\_gene & gs\\_id & gs\\_pmid & gs\\_geoid & gs\\_exact\\_source & gs\\_url & gs\\_description\\\\\n",
       " <chr> & <chr> & <chr> & <chr> & <int> & <chr> & <chr> & <int> & <chr> & <chr> & <chr> & <chr> & <chr> & <chr> & <chr>\\\\\n",
       "\\hline\n",
       "\t C2 & CP:KEGG & KEGG\\_ABC\\_TRANSPORTERS & ABCA1  &     19 & ENSG00000165029 & ABCA1  &     19 & ENSG00000165029 & M11911 &  &  & hsa02010 & http://www.genome.jp/kegg/pathway/hsa/hsa02010.html & ABC transporters\\\\\n",
       "\t C2 & CP:KEGG & KEGG\\_ABC\\_TRANSPORTERS & ABCA10 &  10349 & ENSG00000154263 & ABCA10 &  10349 & ENSG00000154263 & M11911 &  &  & hsa02010 & http://www.genome.jp/kegg/pathway/hsa/hsa02010.html & ABC transporters\\\\\n",
       "\t C2 & CP:KEGG & KEGG\\_ABC\\_TRANSPORTERS & ABCA12 &  26154 & ENSG00000144452 & ABCA12 &  26154 & ENSG00000144452 & M11911 &  &  & hsa02010 & http://www.genome.jp/kegg/pathway/hsa/hsa02010.html & ABC transporters\\\\\n",
       "\t C2 & CP:KEGG & KEGG\\_ABC\\_TRANSPORTERS & ABCA13 & 154664 & ENSG00000179869 & ABCA13 & 154664 & ENSG00000179869 & M11911 &  &  & hsa02010 & http://www.genome.jp/kegg/pathway/hsa/hsa02010.html & ABC transporters\\\\\n",
       "\t C2 & CP:KEGG & KEGG\\_ABC\\_TRANSPORTERS & ABCA2  &     20 & ENSG00000107331 & ABCA2  &     20 & ENSG00000107331 & M11911 &  &  & hsa02010 & http://www.genome.jp/kegg/pathway/hsa/hsa02010.html & ABC transporters\\\\\n",
       "\t C2 & CP:KEGG & KEGG\\_ABC\\_TRANSPORTERS & ABCA3  &     21 & ENSG00000167972 & ABCA3  &     21 & ENSG00000167972 & M11911 &  &  & hsa02010 & http://www.genome.jp/kegg/pathway/hsa/hsa02010.html & ABC transporters\\\\\n",
       "\\end{tabular}\n"
      ],
      "text/markdown": [
       "\n",
       "A tibble: 6 × 15\n",
       "\n",
       "| gs_cat &lt;chr&gt; | gs_subcat &lt;chr&gt; | gs_name &lt;chr&gt; | gene_symbol &lt;chr&gt; | entrez_gene &lt;int&gt; | ensembl_gene &lt;chr&gt; | human_gene_symbol &lt;chr&gt; | human_entrez_gene &lt;int&gt; | human_ensembl_gene &lt;chr&gt; | gs_id &lt;chr&gt; | gs_pmid &lt;chr&gt; | gs_geoid &lt;chr&gt; | gs_exact_source &lt;chr&gt; | gs_url &lt;chr&gt; | gs_description &lt;chr&gt; |\n",
       "|---|---|---|---|---|---|---|---|---|---|---|---|---|---|---|\n",
       "| C2 | CP:KEGG | KEGG_ABC_TRANSPORTERS | ABCA1  |     19 | ENSG00000165029 | ABCA1  |     19 | ENSG00000165029 | M11911 | <!----> | <!----> | hsa02010 | http://www.genome.jp/kegg/pathway/hsa/hsa02010.html | ABC transporters |\n",
       "| C2 | CP:KEGG | KEGG_ABC_TRANSPORTERS | ABCA10 |  10349 | ENSG00000154263 | ABCA10 |  10349 | ENSG00000154263 | M11911 | <!----> | <!----> | hsa02010 | http://www.genome.jp/kegg/pathway/hsa/hsa02010.html | ABC transporters |\n",
       "| C2 | CP:KEGG | KEGG_ABC_TRANSPORTERS | ABCA12 |  26154 | ENSG00000144452 | ABCA12 |  26154 | ENSG00000144452 | M11911 | <!----> | <!----> | hsa02010 | http://www.genome.jp/kegg/pathway/hsa/hsa02010.html | ABC transporters |\n",
       "| C2 | CP:KEGG | KEGG_ABC_TRANSPORTERS | ABCA13 | 154664 | ENSG00000179869 | ABCA13 | 154664 | ENSG00000179869 | M11911 | <!----> | <!----> | hsa02010 | http://www.genome.jp/kegg/pathway/hsa/hsa02010.html | ABC transporters |\n",
       "| C2 | CP:KEGG | KEGG_ABC_TRANSPORTERS | ABCA2  |     20 | ENSG00000107331 | ABCA2  |     20 | ENSG00000107331 | M11911 | <!----> | <!----> | hsa02010 | http://www.genome.jp/kegg/pathway/hsa/hsa02010.html | ABC transporters |\n",
       "| C2 | CP:KEGG | KEGG_ABC_TRANSPORTERS | ABCA3  |     21 | ENSG00000167972 | ABCA3  |     21 | ENSG00000167972 | M11911 | <!----> | <!----> | hsa02010 | http://www.genome.jp/kegg/pathway/hsa/hsa02010.html | ABC transporters |\n",
       "\n"
      ],
      "text/plain": [
       "  gs_cat gs_subcat gs_name               gene_symbol entrez_gene\n",
       "1 C2     CP:KEGG   KEGG_ABC_TRANSPORTERS ABCA1           19     \n",
       "2 C2     CP:KEGG   KEGG_ABC_TRANSPORTERS ABCA10       10349     \n",
       "3 C2     CP:KEGG   KEGG_ABC_TRANSPORTERS ABCA12       26154     \n",
       "4 C2     CP:KEGG   KEGG_ABC_TRANSPORTERS ABCA13      154664     \n",
       "5 C2     CP:KEGG   KEGG_ABC_TRANSPORTERS ABCA2           20     \n",
       "6 C2     CP:KEGG   KEGG_ABC_TRANSPORTERS ABCA3           21     \n",
       "  ensembl_gene    human_gene_symbol human_entrez_gene human_ensembl_gene gs_id \n",
       "1 ENSG00000165029 ABCA1                 19            ENSG00000165029    M11911\n",
       "2 ENSG00000154263 ABCA10             10349            ENSG00000154263    M11911\n",
       "3 ENSG00000144452 ABCA12             26154            ENSG00000144452    M11911\n",
       "4 ENSG00000179869 ABCA13            154664            ENSG00000179869    M11911\n",
       "5 ENSG00000107331 ABCA2                 20            ENSG00000107331    M11911\n",
       "6 ENSG00000167972 ABCA3                 21            ENSG00000167972    M11911\n",
       "  gs_pmid gs_geoid gs_exact_source\n",
       "1                  hsa02010       \n",
       "2                  hsa02010       \n",
       "3                  hsa02010       \n",
       "4                  hsa02010       \n",
       "5                  hsa02010       \n",
       "6                  hsa02010       \n",
       "  gs_url                                              gs_description  \n",
       "1 http://www.genome.jp/kegg/pathway/hsa/hsa02010.html ABC transporters\n",
       "2 http://www.genome.jp/kegg/pathway/hsa/hsa02010.html ABC transporters\n",
       "3 http://www.genome.jp/kegg/pathway/hsa/hsa02010.html ABC transporters\n",
       "4 http://www.genome.jp/kegg/pathway/hsa/hsa02010.html ABC transporters\n",
       "5 http://www.genome.jp/kegg/pathway/hsa/hsa02010.html ABC transporters\n",
       "6 http://www.genome.jp/kegg/pathway/hsa/hsa02010.html ABC transporters"
      ]
     },
     "metadata": {},
     "output_type": "display_data"
    }
   ],
   "source": [
    "kegg_gene_sets = msigdbr(species = \"human\", category = \"C2\", subcategory = \"CP:KEGG\")\n",
    "head(kegg_gene_sets)"
   ]
  },
  {
   "cell_type": "code",
   "execution_count": 5,
   "metadata": {
    "vscode": {
     "languageId": "r"
    }
   },
   "outputs": [],
   "source": [
    "kegg_gene_sets = kegg_gene_sets[, c(\"gs_name\", \"gene_symbol\")]\n",
    "write.csv(kegg_gene_sets, file = \"/home/ssobti/projects/mir_tud/uploaded_data/tRF_mave_genesets/kegg_gene_sets.csv\", row.names = FALSE, quote = FALSE)"
   ]
  },
  {
   "cell_type": "code",
   "execution_count": null,
   "metadata": {
    "vscode": {
     "languageId": "r"
    }
   },
   "outputs": [],
   "source": []
  }
 ],
 "metadata": {
  "kernelspec": {
   "display_name": "R",
   "language": "R",
   "name": "ir"
  },
  "language_info": {
   "codemirror_mode": "r",
   "file_extension": ".r",
   "mimetype": "text/x-r-source",
   "name": "R",
   "pygments_lexer": "r",
   "version": "4.2.3"
  }
 },
 "nbformat": 4,
 "nbformat_minor": 2
}
